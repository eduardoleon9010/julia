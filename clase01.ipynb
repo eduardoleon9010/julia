{
 "cells": [
  {
   "cell_type": "markdown",
   "id": "c976e252-9fe1-44bb-9c37-3ac92bf35acf",
   "metadata": {},
   "source": [
    "# Clase 01\n",
    "\n",
    "**Autor:** Ing. Leon  \n",
    "**Fecha:** 25 de junio de 2024  \n",
    "\n",
    "---\n",
    "\n",
    "## Descripción\n",
    "\n",
    "En este notebook se exploran conceptos básicos de ecuaciones matemáticas utilizando sintaxis LaTeX en Jupyter Notebook con Julia.\n",
    "\n",
    "---\n",
    "\n",
    "## Contenido\n",
    "\n",
    "1. **Introducción**\n",
    "   - Breve introducción al uso de Jupyter Notebook con Julia.\n",
    "   - Explicación sobre la escritura de ecuaciones matemáticas usando LaTeX.\n",
    "\n",
    "2. **Ejemplo de ecuación matemática**\n",
    "   - Ejemplo práctico de cómo escribir una ecuación matemática utilizando LaTeX.\n",
    "   - Código en Julia para calcular y graficar la ecuación.\n",
    "\n",
    "3. **Conclusiones**\n",
    "   - Resumen de lo aprendido sobre la escritura de ecuaciones en Jupyter Notebook con Julia.\n",
    "   - Reflexión sobre la utilidad de utilizar LaTeX para ecuaciones matemáticas en el contexto de la programación en Julia.\n",
    "\n",
    "\n",
    "\n",
    "--- "
   ]
  },
  {
   "cell_type": "markdown",
   "id": "bc9ac605-2ce3-4d09-b00b-35f739c4d457",
   "metadata": {},
   "source": [
    "Es posible escribir ecuaciones utilizando sintaxis Latex\n",
    "\n",
    "$$ \n",
    "A = \\sum_{k=1}^{\\infty} \\frac{1}{x^k} \n",
    "$$\n"
   ]
  },
  {
   "cell_type": "code",
   "execution_count": 4,
   "id": "c5260178-dbca-4df9-8144-f3c3a537620b",
   "metadata": {},
   "outputs": [
    {
     "name": "stdout",
     "output_type": "stream",
     "text": [
      "Como te llamas?\n"
     ]
    },
    {
     "name": "stdin",
     "output_type": "stream",
     "text": [
      "stdin>  Ing. Leon\n"
     ]
    },
    {
     "name": "stdout",
     "output_type": "stream",
     "text": [
      "Hola\n",
      "Ing. Leon\n"
     ]
    }
   ],
   "source": [
    "println(\"Como te llamas?\")\n",
    "name = readline()\n",
    "println(\"Hola\")\n",
    "println(name)"
   ]
  },
  {
   "cell_type": "code",
   "execution_count": 1,
   "id": "11981a59-da5c-4c28-9986-430cabb5034c",
   "metadata": {},
   "outputs": [
    {
     "name": "stdout",
     "output_type": "stream",
     "text": [
      "54\n"
     ]
    }
   ],
   "source": [
    "x = 9 * 6\n",
    "println(x)"
   ]
  },
  {
   "cell_type": "code",
   "execution_count": 3,
   "id": "8fe92dff-4220-4176-b39c-6fec9f7b96e7",
   "metadata": {},
   "outputs": [
    {
     "name": "stdout",
     "output_type": "stream",
     "text": [
      "19\n"
     ]
    }
   ],
   "source": [
    "z = 10 + 9\n",
    "println(z)"
   ]
  },
  {
   "cell_type": "markdown",
   "id": "e53260ab-2658-4310-86cb-ee0034913928",
   "metadata": {},
   "source": [
    "## Masa reducida\n",
    "\n",
    "En este notebook exploraremos la definición de la masa reducida de dos masas \\( m_1 \\) y \\( m_2 \\).\n",
    "\n",
    "Recordando que la masa reducida se define como:\n",
    "\n",
    "$$\n",
    "\\mu = \\frac{m_1 m_2}{m_1 + m_2}\n",
    "$$\n",
    "\n"
   ]
  },
  {
   "cell_type": "code",
   "execution_count": 10,
   "id": "991fd302-539c-4933-aa4a-5ede67351bc7",
   "metadata": {},
   "outputs": [
    {
     "name": "stdout",
     "output_type": "stream",
     "text": [
      "Dame la primera masa\n"
     ]
    },
    {
     "name": "stdin",
     "output_type": "stream",
     "text": [
      "stdin>  6\n"
     ]
    },
    {
     "name": "stdout",
     "output_type": "stream",
     "text": [
      "Dame la segunda masa\n"
     ]
    },
    {
     "name": "stdin",
     "output_type": "stream",
     "text": [
      "stdin>  1\n"
     ]
    },
    {
     "name": "stdout",
     "output_type": "stream",
     "text": [
      "La masa reducida es: 0.8571428571428571\n"
     ]
    }
   ],
   "source": [
    "println(\"Dame la primera masa\")\n",
    "m_1 = parse(Float64, readline())\n",
    "println(\"Dame la segunda masa\")\n",
    "m_2 = parse(Float64, readline())\n",
    "\n",
    "c = m_1 * m_2\n",
    "d = m_1 + m_2\n",
    "mu = c / d  # Aquí calculamos la masa reducida, no my como estaba en el original\n",
    "\n",
    "println(\"La masa reducida es: \", mu)  # Imprimimos mu, no my como estaba en el original\n"
   ]
  },
  {
   "cell_type": "code",
   "execution_count": 11,
   "id": "04e39bb0-94cb-4e8a-874a-659099663111",
   "metadata": {},
   "outputs": [
    {
     "data": {
      "text/plain": [
       "0.8571428571428571"
      ]
     },
     "execution_count": 11,
     "metadata": {},
     "output_type": "execute_result"
    }
   ],
   "source": [
    "6/7"
   ]
  },
  {
   "cell_type": "markdown",
   "id": "06fdc599-5a32-42ce-8ea7-0479905e6459",
   "metadata": {},
   "source": [
    "## Conclusiones\n",
    "\n",
    "En este notebook hemos explorado cómo utilizar Jupyter Notebook junto con Julia para realizar cálculos matemáticos y escribir ecuaciones utilizando sintaxis LaTeX. Hemos aprendido que LaTeX ofrece una forma poderosa y elegante de presentar ecuaciones matemáticas, lo cual es especialmente útil en el contexto de la programación científica y computacional.\n",
    "\n",
    "Utilizar Jupyter Notebook con Julia nos permite combinar código ejecutable, resultados numéricos y visualizaciones en un mismo documento interactivo, facilitando el análisis y la comunicación de resultados.\n",
    "\n",
    "LaTeX y Jupyter Notebook son herramientas fundamentales para cualquier científico o programador que necesite trabajar con matemáticas y datos de manera eficiente y profesional.\n"
   ]
  },
  {
   "cell_type": "code",
   "execution_count": null,
   "id": "125127a9-d958-4a23-968f-a2ce0cbbfcdc",
   "metadata": {},
   "outputs": [],
   "source": []
  }
 ],
 "metadata": {
  "kernelspec": {
   "display_name": "Julia 1.10.4",
   "language": "julia",
   "name": "julia-1.10"
  },
  "language_info": {
   "file_extension": ".jl",
   "mimetype": "application/julia",
   "name": "julia",
   "version": "1.10.4"
  }
 },
 "nbformat": 4,
 "nbformat_minor": 5
}
