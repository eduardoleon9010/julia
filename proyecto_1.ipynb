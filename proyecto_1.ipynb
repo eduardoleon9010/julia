{
 "cells": [
  {
   "cell_type": "markdown",
   "id": "fd9082dd-ab62-48bd-aa68-1e51f98c1a43",
   "metadata": {},
   "source": [
    "# Exploración Interactiva de Conceptos Físicos con Julia y Jupyter Notebook\n",
    "\n",
    "**Introducción**\n",
    "\n",
    "En este notebook, exploraremos la aplicación de widgets interactivos en Julia para simular conceptos físicos fundamentales. Utilizaremos Jupyter Notebook junto con los paquetes WebIO y Interact en Julia para crear interfaces gráficas que permitan la interacción con modelos físicos en tiempo real.\n",
    "\n",
    "**Objetivos**\n",
    "\n",
    "El objetivo principal de este proyecto es demostrar cómo se pueden implementar widgets interactivos en un entorno de Jupyter Notebook utilizando Julia. Específicamente, nos enfocaremos en tres principios físicos:\n",
    "\n",
    "- Movimiento Rectilíneo Uniforme (MRU): Simularemos cómo cambia la distancia recorrida con el tiempo y la velocidad constante.\n",
    "\n",
    "- Segunda Ley de Newton: Exploraremos la relación entre la masa de un objeto, la aceleración aplicada sobre él y la fuerza resultante según la segunda ley de Newton.\n",
    "\n",
    "- Ley de Hooke: Investigaremos la fuerza elástica aplicada a un resorte en función de su constante elástica y la deformación.\n",
    "\n",
    "\n",
    "Autor\n",
    "\n",
    "Este notebook ha sido creado por **Ing. Leon**.\n",
    "\n",
    "\n",
    "**Estructura del Notebook**\n",
    "\n",
    "1. Instalación de Paquetes Necesarios: Aquí se detallará cómo instalar los paquetes WebIO e Interact en Julia, si no están previamente instalados.\n",
    "\n",
    "2. Creación del Notebook en Jupyter: Instrucciones para abrir y crear un nuevo notebook de Julia en Jupyter.\n",
    "\n",
    "3. Implementación de Widgets Interactivos:\n",
    "\n",
    "Widget 1: Movimiento Rectilíneo Uniforme (MRU): Descripción y código para simular el MRU.\n",
    "\n",
    "Widget 2: Ley de Newton del Movimiento: Descripción y código para aplicar la segunda ley de Newton.\n",
    "\n",
    "Widget 3: Ley de Hooke (Fuerza Elástica): Descripción y código para calcular la fuerza elástica según la ley de Hooke.\n",
    "\n",
    "\n",
    "4. Ejecución y Visualización: Instrucciones para ejecutar las celdas del notebook y cómo interactuar con los sliders para observar los cambios en los resultados físicos simulados."
   ]
  },
  {
   "cell_type": "markdown",
   "id": "2e1d1090-a7ac-4ad3-b72e-1ede6008ef3b",
   "metadata": {},
   "source": [
    "### 1. Instalación de paquetes necesarios)\r\n"
   ]
  },
  {
   "cell_type": "code",
   "execution_count": 1,
   "id": "9f718ee5-e156-43ec-aa1f-da9e592e8914",
   "metadata": {},
   "outputs": [
    {
     "data": {
      "application/vnd.webio.node+json": {
       "children": [],
       "instanceArgs": {
        "namespace": "html",
        "tag": "div"
       },
       "nodeType": "DOM",
       "props": {},
       "type": "node"
      },
      "text/html": [
       "<div style=\"padding: 1em; background-color: #f8d6da; border: 1px solid #f5c6cb; font-weight: bold;\">\n",
       "<p>The WebIO Jupyter extension was not detected. See the\n",
       "<a href=\"https://juliagizmos.github.io/WebIO.jl/latest/providers/ijulia/\" target=\"_blank\">\n",
       "    WebIO Jupyter integration documentation\n",
       "</a>\n",
       "for more information.\n",
       "</div>\n"
      ],
      "text/plain": [
       "WebIO._IJuliaInit()"
      ]
     },
     "metadata": {
      "@webio": {
       "kernelId": "e45a16e9-16de-496e-8779-f2304b3311e3"
      }
     },
     "output_type": "display_data"
    }
   ],
   "source": [
    "using Pkg\n",
    "Pkg.add(\"WebIO\")\n",
    "Pkg.add(\"Interact\")\n",
    "\n",
    "\n",
    "using WebIO\n",
    "using Interact\n",
    "using Printf"
   ]
  },
  {
   "cell_type": "markdown",
   "id": "2bf10097-d3bc-423e-8dcd-ff3eaae6e77a",
   "metadata": {},
   "source": [
    "### 2. Implementación de Widgets Interactivos\n"
   ]
  },
  {
   "cell_type": "markdown",
   "id": "57ee9ac9-9735-40b6-ad8b-fd9278476b87",
   "metadata": {},
   "source": [
    "#### Widget 1. Movimiento Rectilíneo Uniforme (MRU)"
   ]
  },
  {
   "cell_type": "code",
   "execution_count": 5,
   "id": "d2246898-68cb-479f-9f99-1e58973ff420",
   "metadata": {},
   "outputs": [
    {
     "data": {
      "text/markdown": [
       "## Movimiento Rectilíneo Uniforme (MRU)\n",
       "\n",
       "  * **Velocidad**: 10.0 m/s\n",
       "  * **Tiempo**: 10.0 s\n",
       "  * **Distancia Recorrida**: 100.00 m\n"
      ],
      "text/plain": [
       "\u001b[1m  Movimiento Rectilíneo Uniforme (MRU)\u001b[22m\n",
       "\u001b[1m  ====================================\u001b[22m\n",
       "\n",
       "    •  \u001b[1mVelocidad\u001b[22m: 10.0 m/s\n",
       "\n",
       "    •  \u001b[1mTiempo\u001b[22m: 10.0 s\n",
       "\n",
       "    •  \u001b[1mDistancia Recorrida\u001b[22m: 100.00 m"
      ]
     },
     "metadata": {},
     "output_type": "display_data"
    },
    {
     "data": {
      "application/vnd.webio.node+json": {
       "children": [
        {
         "children": [
          {
           "children": [
            {
             "children": [
              {
               "children": [
                {
                 "children": [
                  "Velocidad (m/s)"
                 ],
                 "instanceArgs": {
                  "namespace": "html",
                  "tag": "label"
                 },
                 "nodeType": "DOM",
                 "props": {
                  "className": "interact ",
                  "style": {
                   "padding": "5px 10px 0px 10px"
                  }
                 },
                 "type": "node"
                }
               ],
               "instanceArgs": {
                "namespace": "html",
                "tag": "div"
               },
               "nodeType": "DOM",
               "props": {
                "className": "interact-flex-row-left"
               },
               "type": "node"
              },
              {
               "children": [
                {
                 "children": [],
                 "instanceArgs": {
                  "namespace": "html",
                  "tag": "input"
                 },
                 "nodeType": "DOM",
                 "props": {
                  "attributes": {
                   "data-bind": "numericValue: index, valueUpdate: 'input', event: {change: function (){this.changes(this.changes()+1)}}",
                   "orient": "horizontal",
                   "type": "range"
                  },
                  "className": "slider slider is-fullwidth",
                  "max": 201,
                  "min": 1,
                  "step": 1,
                  "style": {}
                 },
                 "type": "node"
                }
               ],
               "instanceArgs": {
                "namespace": "html",
                "tag": "div"
               },
               "nodeType": "DOM",
               "props": {
                "className": "interact-flex-row-center"
               },
               "type": "node"
              },
              {
               "children": [
                {
                 "children": [],
                 "instanceArgs": {
                  "namespace": "html",
                  "tag": "p"
                 },
                 "nodeType": "DOM",
                 "props": {
                  "attributes": {
                   "data-bind": "text: formatted_val"
                  }
                 },
                 "type": "node"
                }
               ],
               "instanceArgs": {
                "namespace": "html",
                "tag": "div"
               },
               "nodeType": "DOM",
               "props": {
                "className": "interact-flex-row-right"
               },
               "type": "node"
              }
             ],
             "instanceArgs": {
              "namespace": "html",
              "tag": "div"
             },
             "nodeType": "DOM",
             "props": {
              "className": "interact-flex-row interact-widget"
             },
             "type": "node"
            }
           ],
           "instanceArgs": {
            "handlers": {
             "changes": [
              "(function (val){return (val!=this.model[\"changes\"]()) ? (this.valueFromJulia[\"changes\"]=true, this.model[\"changes\"](val)) : undefined})"
             ],
             "index": [
              "(function (val){return (val!=this.model[\"index\"]()) ? (this.valueFromJulia[\"index\"]=true, this.model[\"index\"](val)) : undefined})"
             ]
            },
            "id": "3173315123",
            "imports": {
             "data": [
              {
               "name": "knockout",
               "type": "js",
               "url": "/assetserver/0a8f371627acb0fbab7e7ff03e6794a95ee37ef5-knockout.js"
              },
              {
               "name": "knockout_punches",
               "type": "js",
               "url": "/assetserver/9b3c694ae2b8b2559483df0ee4657f1f62c8c408-knockout_punches.js"
              },
              {
               "name": null,
               "type": "js",
               "url": "/assetserver/f88515f2eab9a880f440f4a02ad6bec39eab20f3-all.js"
              },
              {
               "name": null,
               "type": "css",
               "url": "/assetserver/1ca4083aec9453427e6ec123862050a8bb53b266-style.css"
              },
              {
               "name": null,
               "type": "css",
               "url": "/assetserver/9a1b433d0e3cd69e6f57207ad94f565eba9960c8-bulma_confined.min.css"
              }
             ],
             "type": "async_block"
            },
            "mount_callbacks": [
             "function () {\n    var handler = (function (ko, koPunches) {\n    ko.punches.enableAll();\n    ko.bindingHandlers.numericValue = {\n        init: function(element, valueAccessor, allBindings, data, context) {\n            var stringified = ko.observable(ko.unwrap(valueAccessor()));\n            stringified.subscribe(function(value) {\n                var val = parseFloat(value);\n                if (!isNaN(val)) {\n                    valueAccessor()(val);\n                }\n            });\n            valueAccessor().subscribe(function(value) {\n                var str = JSON.stringify(value);\n                if ((str == \"0\") && ([\"-0\", \"-0.\"].indexOf(stringified()) >= 0))\n                     return;\n                 if ([\"null\", \"\"].indexOf(str) >= 0)\n                     return;\n                stringified(str);\n            });\n            ko.applyBindingsToNode(\n                element,\n                {\n                    value: stringified,\n                    valueUpdate: allBindings.get('valueUpdate'),\n                },\n                context,\n            );\n        }\n    };\n    var json_data = {\"index\":WebIO.getval({\"id\":\"8\",\"name\":\"index\",\"type\":\"observable\",\"scope\":\"3173315123\"}),\"changes\":WebIO.getval({\"id\":\"9\",\"name\":\"changes\",\"type\":\"observable\",\"scope\":\"3173315123\"}),\"formatted_vals\":[\"0.0\",\"0.1\",\"0.2\",\"0.3\",\"0.4\",\"0.5\",\"0.6\",\"0.7\",\"0.8\",\"0.9\",\"1.0\",\"1.1\",\"1.2\",\"1.3\",\"1.4\",\"1.5\",\"1.6\",\"1.7\",\"1.8\",\"1.9\",\"2.0\",\"2.1\",\"2.2\",\"2.3\",\"2.4\",\"2.5\",\"2.6\",\"2.7\",\"2.8\",\"2.9\",\"3.0\",\"3.1\",\"3.2\",\"3.3\",\"3.4\",\"3.5\",\"3.6\",\"3.7\",\"3.8\",\"3.9\",\"4.0\",\"4.1\",\"4.2\",\"4.3\",\"4.4\",\"4.5\",\"4.6\",\"4.7\",\"4.8\",\"4.9\",\"5.0\",\"5.1\",\"5.2\",\"5.3\",\"5.4\",\"5.5\",\"5.6\",\"5.7\",\"5.8\",\"5.9\",\"6.0\",\"6.1\",\"6.2\",\"6.3\",\"6.4\",\"6.5\",\"6.6\",\"6.7\",\"6.8\",\"6.9\",\"7.0\",\"7.1\",\"7.2\",\"7.3\",\"7.4\",\"7.5\",\"7.6\",\"7.7\",\"7.8\",\"7.9\",\"8.0\",\"8.1\",\"8.2\",\"8.3\",\"8.4\",\"8.5\",\"8.6\",\"8.7\",\"8.8\",\"8.9\",\"9.0\",\"9.1\",\"9.2\",\"9.3\",\"9.4\",\"9.5\",\"9.6\",\"9.7\",\"9.8\",\"9.9\",\"10.0\",\"10.1\",\"10.2\",\"10.3\",\"10.4\",\"10.5\",\"10.6\",\"10.7\",\"10.8\",\"10.9\",\"11.0\",\"11.1\",\"11.2\",\"11.3\",\"11.4\",\"11.5\",\"11.6\",\"11.7\",\"11.8\",\"11.9\",\"12.0\",\"12.1\",\"12.2\",\"12.3\",\"12.4\",\"12.5\",\"12.6\",\"12.7\",\"12.8\",\"12.9\",\"13.0\",\"13.1\",\"13.2\",\"13.3\",\"13.4\",\"13.5\",\"13.6\",\"13.7\",\"13.8\",\"13.9\",\"14.0\",\"14.1\",\"14.2\",\"14.3\",\"14.4\",\"14.5\",\"14.6\",\"14.7\",\"14.8\",\"14.9\",\"15.0\",\"15.1\",\"15.2\",\"15.3\",\"15.4\",\"15.5\",\"15.6\",\"15.7\",\"15.8\",\"15.9\",\"16.0\",\"16.1\",\"16.2\",\"16.3\",\"16.4\",\"16.5\",\"16.6\",\"16.7\",\"16.8\",\"16.9\",\"17.0\",\"17.1\",\"17.2\",\"17.3\",\"17.4\",\"17.5\",\"17.6\",\"17.7\",\"17.8\",\"17.9\",\"18.0\",\"18.1\",\"18.2\",\"18.3\",\"18.4\",\"18.5\",\"18.6\",\"18.7\",\"18.8\",\"18.9\",\"19.0\",\"19.1\",\"19.2\",\"19.3\",\"19.4\",\"19.5\",\"19.6\",\"19.7\",\"19.8\",\"19.9\",\"20.0\"]};\n    var self = this;\n    function AppViewModel() {\n        for (var key in json_data) {\n            var el = json_data[key];\n            this[key] = Array.isArray(el) ? ko.observableArray(el) : ko.observable(el);\n        }\n        \n        [this[\"formatted_val\"]=ko.computed(    function(){\n        return this.formatted_vals()[parseInt(this.index())-(1)];\n    }\n,this)]\n        [this[\"index\"].subscribe((function (val){!(this.valueFromJulia[\"index\"]) ? (WebIO.setval({\"id\":\"8\",\"name\":\"index\",\"type\":\"observable\",\"scope\":\"3173315123\"},val)) : undefined; return this.valueFromJulia[\"index\"]=false}),self),this[\"changes\"].subscribe((function (val){!(this.valueFromJulia[\"changes\"]) ? (WebIO.setval({\"id\":\"9\",\"name\":\"changes\",\"type\":\"observable\",\"scope\":\"3173315123\"},val)) : undefined; return this.valueFromJulia[\"changes\"]=false}),self)]\n        \n    }\n    self.model = new AppViewModel();\n    self.valueFromJulia = {};\n    for (var key in json_data) {\n        self.valueFromJulia[key] = false;\n    }\n    ko.applyBindings(self.model, self.dom);\n}\n);\n    (WebIO.importBlock({\"data\":[{\"url\":\"/assetserver/0a8f371627acb0fbab7e7ff03e6794a95ee37ef5-knockout.js\",\"name\":\"knockout\",\"type\":\"js\"},{\"url\":\"/assetserver/9b3c694ae2b8b2559483df0ee4657f1f62c8c408-knockout_punches.js\",\"name\":\"knockout_punches\",\"type\":\"js\"}],\"type\":\"async_block\"})).then((imports) => handler.apply(this, imports));\n}\n"
            ],
            "observables": {
             "changes": {
              "id": "9",
              "sync": false,
              "value": 0
             },
             "index": {
              "id": "8",
              "sync": true,
              "value": 101
             }
            },
            "systemjs_options": null
           },
           "nodeType": "Scope",
           "props": {},
           "type": "node"
          }
         ],
         "instanceArgs": {
          "namespace": "html",
          "tag": "div"
         },
         "nodeType": "DOM",
         "props": {
          "className": "field interact-widget"
         },
         "type": "node"
        },
        {
         "children": [
          {
           "children": [
            {
             "children": [
              {
               "children": [
                {
                 "children": [
                  "Tiempo (s)"
                 ],
                 "instanceArgs": {
                  "namespace": "html",
                  "tag": "label"
                 },
                 "nodeType": "DOM",
                 "props": {
                  "className": "interact ",
                  "style": {
                   "padding": "5px 10px 0px 10px"
                  }
                 },
                 "type": "node"
                }
               ],
               "instanceArgs": {
                "namespace": "html",
                "tag": "div"
               },
               "nodeType": "DOM",
               "props": {
                "className": "interact-flex-row-left"
               },
               "type": "node"
              },
              {
               "children": [
                {
                 "children": [],
                 "instanceArgs": {
                  "namespace": "html",
                  "tag": "input"
                 },
                 "nodeType": "DOM",
                 "props": {
                  "attributes": {
                   "data-bind": "numericValue: index, valueUpdate: 'input', event: {change: function (){this.changes(this.changes()+1)}}",
                   "orient": "horizontal",
                   "type": "range"
                  },
                  "className": "slider slider is-fullwidth",
                  "max": 1001,
                  "min": 1,
                  "step": 1,
                  "style": {}
                 },
                 "type": "node"
                }
               ],
               "instanceArgs": {
                "namespace": "html",
                "tag": "div"
               },
               "nodeType": "DOM",
               "props": {
                "className": "interact-flex-row-center"
               },
               "type": "node"
              },
              {
               "children": [
                {
                 "children": [],
                 "instanceArgs": {
                  "namespace": "html",
                  "tag": "p"
                 },
                 "nodeType": "DOM",
                 "props": {
                  "attributes": {
                   "data-bind": "text: formatted_val"
                  }
                 },
                 "type": "node"
                }
               ],
               "instanceArgs": {
                "namespace": "html",
                "tag": "div"
               },
               "nodeType": "DOM",
               "props": {
                "className": "interact-flex-row-right"
               },
               "type": "node"
              }
             ],
             "instanceArgs": {
              "namespace": "html",
              "tag": "div"
             },
             "nodeType": "DOM",
             "props": {
              "className": "interact-flex-row interact-widget"
             },
             "type": "node"
            }
           ],
           "instanceArgs": {
            "handlers": {
             "changes": [
              "(function (val){return (val!=this.model[\"changes\"]()) ? (this.valueFromJulia[\"changes\"]=true, this.model[\"changes\"](val)) : undefined})"
             ],
             "index": [
              "(function (val){return (val!=this.model[\"index\"]()) ? (this.valueFromJulia[\"index\"]=true, this.model[\"index\"](val)) : undefined})"
             ]
            },
            "id": "3905665195",
            "imports": {
             "data": [
              {
               "name": "knockout",
               "type": "js",
               "url": "/assetserver/0a8f371627acb0fbab7e7ff03e6794a95ee37ef5-knockout.js"
              },
              {
               "name": "knockout_punches",
               "type": "js",
               "url": "/assetserver/9b3c694ae2b8b2559483df0ee4657f1f62c8c408-knockout_punches.js"
              },
              {
               "name": null,
               "type": "js",
               "url": "/assetserver/f88515f2eab9a880f440f4a02ad6bec39eab20f3-all.js"
              },
              {
               "name": null,
               "type": "css",
               "url": "/assetserver/1ca4083aec9453427e6ec123862050a8bb53b266-style.css"
              },
              {
               "name": null,
               "type": "css",
               "url": "/assetserver/9a1b433d0e3cd69e6f57207ad94f565eba9960c8-bulma_confined.min.css"
              }
             ],
             "type": "async_block"
            },
            "mount_callbacks": [
             "function () {\n    var handler = (function (ko, koPunches) {\n    ko.punches.enableAll();\n    ko.bindingHandlers.numericValue = {\n        init: function(element, valueAccessor, allBindings, data, context) {\n            var stringified = ko.observable(ko.unwrap(valueAccessor()));\n            stringified.subscribe(function(value) {\n                var val = parseFloat(value);\n                if (!isNaN(val)) {\n                    valueAccessor()(val);\n                }\n            });\n            valueAccessor().subscribe(function(value) {\n                var str = JSON.stringify(value);\n                if ((str == \"0\") && ([\"-0\", \"-0.\"].indexOf(stringified()) >= 0))\n                     return;\n                 if ([\"null\", \"\"].indexOf(str) >= 0)\n                     return;\n                stringified(str);\n            });\n            ko.applyBindingsToNode(\n                element,\n                {\n                    value: stringified,\n                    valueUpdate: allBindings.get('valueUpdate'),\n                },\n                context,\n            );\n        }\n    };\n    var json_data = {\"index\":WebIO.getval({\"id\":\"11\",\"name\":\"index\",\"type\":\"observable\",\"scope\":\"3905665195\"}),\"changes\":WebIO.getval({\"id\":\"12\",\"name\":\"changes\",\"type\":\"observable\",\"scope\":\"3905665195\"}),\"formatted_vals\":[\"0.0\",\"0.1\",\"0.2\",\"0.3\",\"0.4\",\"0.5\",\"0.6\",\"0.7\",\"0.8\",\"0.9\",\"1.0\",\"1.1\",\"1.2\",\"1.3\",\"1.4\",\"1.5\",\"1.6\",\"1.7\",\"1.8\",\"1.9\",\"2.0\",\"2.1\",\"2.2\",\"2.3\",\"2.4\",\"2.5\",\"2.6\",\"2.7\",\"2.8\",\"2.9\",\"3.0\",\"3.1\",\"3.2\",\"3.3\",\"3.4\",\"3.5\",\"3.6\",\"3.7\",\"3.8\",\"3.9\",\"4.0\",\"4.1\",\"4.2\",\"4.3\",\"4.4\",\"4.5\",\"4.6\",\"4.7\",\"4.8\",\"4.9\",\"5.0\",\"5.1\",\"5.2\",\"5.3\",\"5.4\",\"5.5\",\"5.6\",\"5.7\",\"5.8\",\"5.9\",\"6.0\",\"6.1\",\"6.2\",\"6.3\",\"6.4\",\"6.5\",\"6.6\",\"6.7\",\"6.8\",\"6.9\",\"7.0\",\"7.1\",\"7.2\",\"7.3\",\"7.4\",\"7.5\",\"7.6\",\"7.7\",\"7.8\",\"7.9\",\"8.0\",\"8.1\",\"8.2\",\"8.3\",\"8.4\",\"8.5\",\"8.6\",\"8.7\",\"8.8\",\"8.9\",\"9.0\",\"9.1\",\"9.2\",\"9.3\",\"9.4\",\"9.5\",\"9.6\",\"9.7\",\"9.8\",\"9.9\",\"10.0\",\"10.1\",\"10.2\",\"10.3\",\"10.4\",\"10.5\",\"10.6\",\"10.7\",\"10.8\",\"10.9\",\"11.0\",\"11.1\",\"11.2\",\"11.3\",\"11.4\",\"11.5\",\"11.6\",\"11.7\",\"11.8\",\"11.9\",\"12.0\",\"12.1\",\"12.2\",\"12.3\",\"12.4\",\"12.5\",\"12.6\",\"12.7\",\"12.8\",\"12.9\",\"13.0\",\"13.1\",\"13.2\",\"13.3\",\"13.4\",\"13.5\",\"13.6\",\"13.7\",\"13.8\",\"13.9\",\"14.0\",\"14.1\",\"14.2\",\"14.3\",\"14.4\",\"14.5\",\"14.6\",\"14.7\",\"14.8\",\"14.9\",\"15.0\",\"15.1\",\"15.2\",\"15.3\",\"15.4\",\"15.5\",\"15.6\",\"15.7\",\"15.8\",\"15.9\",\"16.0\",\"16.1\",\"16.2\",\"16.3\",\"16.4\",\"16.5\",\"16.6\",\"16.7\",\"16.8\",\"16.9\",\"17.0\",\"17.1\",\"17.2\",\"17.3\",\"17.4\",\"17.5\",\"17.6\",\"17.7\",\"17.8\",\"17.9\",\"18.0\",\"18.1\",\"18.2\",\"18.3\",\"18.4\",\"18.5\",\"18.6\",\"18.7\",\"18.8\",\"18.9\",\"19.0\",\"19.1\",\"19.2\",\"19.3\",\"19.4\",\"19.5\",\"19.6\",\"19.7\",\"19.8\",\"19.9\",\"20.0\",\"20.1\",\"20.2\",\"20.3\",\"20.4\",\"20.5\",\"20.6\",\"20.7\",\"20.8\",\"20.9\",\"21.0\",\"21.1\",\"21.2\",\"21.3\",\"21.4\",\"21.5\",\"21.6\",\"21.7\",\"21.8\",\"21.9\",\"22.0\",\"22.1\",\"22.2\",\"22.3\",\"22.4\",\"22.5\",\"22.6\",\"22.7\",\"22.8\",\"22.9\",\"23.0\",\"23.1\",\"23.2\",\"23.3\",\"23.4\",\"23.5\",\"23.6\",\"23.7\",\"23.8\",\"23.9\",\"24.0\",\"24.1\",\"24.2\",\"24.3\",\"24.4\",\"24.5\",\"24.6\",\"24.7\",\"24.8\",\"24.9\",\"25.0\",\"25.1\",\"25.2\",\"25.3\",\"25.4\",\"25.5\",\"25.6\",\"25.7\",\"25.8\",\"25.9\",\"26.0\",\"26.1\",\"26.2\",\"26.3\",\"26.4\",\"26.5\",\"26.6\",\"26.7\",\"26.8\",\"26.9\",\"27.0\",\"27.1\",\"27.2\",\"27.3\",\"27.4\",\"27.5\",\"27.6\",\"27.7\",\"27.8\",\"27.9\",\"28.0\",\"28.1\",\"28.2\",\"28.3\",\"28.4\",\"28.5\",\"28.6\",\"28.7\",\"28.8\",\"28.9\",\"29.0\",\"29.1\",\"29.2\",\"29.3\",\"29.4\",\"29.5\",\"29.6\",\"29.7\",\"29.8\",\"29.9\",\"30.0\",\"30.1\",\"30.2\",\"30.3\",\"30.4\",\"30.5\",\"30.6\",\"30.7\",\"30.8\",\"30.9\",\"31.0\",\"31.1\",\"31.2\",\"31.3\",\"31.4\",\"31.5\",\"31.6\",\"31.7\",\"31.8\",\"31.9\",\"32.0\",\"32.1\",\"32.2\",\"32.3\",\"32.4\",\"32.5\",\"32.6\",\"32.7\",\"32.8\",\"32.9\",\"33.0\",\"33.1\",\"33.2\",\"33.3\",\"33.4\",\"33.5\",\"33.6\",\"33.7\",\"33.8\",\"33.9\",\"34.0\",\"34.1\",\"34.2\",\"34.3\",\"34.4\",\"34.5\",\"34.6\",\"34.7\",\"34.8\",\"34.9\",\"35.0\",\"35.1\",\"35.2\",\"35.3\",\"35.4\",\"35.5\",\"35.6\",\"35.7\",\"35.8\",\"35.9\",\"36.0\",\"36.1\",\"36.2\",\"36.3\",\"36.4\",\"36.5\",\"36.6\",\"36.7\",\"36.8\",\"36.9\",\"37.0\",\"37.1\",\"37.2\",\"37.3\",\"37.4\",\"37.5\",\"37.6\",\"37.7\",\"37.8\",\"37.9\",\"38.0\",\"38.1\",\"38.2\",\"38.3\",\"38.4\",\"38.5\",\"38.6\",\"38.7\",\"38.8\",\"38.9\",\"39.0\",\"39.1\",\"39.2\",\"39.3\",\"39.4\",\"39.5\",\"39.6\",\"39.7\",\"39.8\",\"39.9\",\"40.0\",\"40.1\",\"40.2\",\"40.3\",\"40.4\",\"40.5\",\"40.6\",\"40.7\",\"40.8\",\"40.9\",\"41.0\",\"41.1\",\"41.2\",\"41.3\",\"41.4\",\"41.5\",\"41.6\",\"41.7\",\"41.8\",\"41.9\",\"42.0\",\"42.1\",\"42.2\",\"42.3\",\"42.4\",\"42.5\",\"42.6\",\"42.7\",\"42.8\",\"42.9\",\"43.0\",\"43.1\",\"43.2\",\"43.3\",\"43.4\",\"43.5\",\"43.6\",\"43.7\",\"43.8\",\"43.9\",\"44.0\",\"44.1\",\"44.2\",\"44.3\",\"44.4\",\"44.5\",\"44.6\",\"44.7\",\"44.8\",\"44.9\",\"45.0\",\"45.1\",\"45.2\",\"45.3\",\"45.4\",\"45.5\",\"45.6\",\"45.7\",\"45.8\",\"45.9\",\"46.0\",\"46.1\",\"46.2\",\"46.3\",\"46.4\",\"46.5\",\"46.6\",\"46.7\",\"46.8\",\"46.9\",\"47.0\",\"47.1\",\"47.2\",\"47.3\",\"47.4\",\"47.5\",\"47.6\",\"47.7\",\"47.8\",\"47.9\",\"48.0\",\"48.1\",\"48.2\",\"48.3\",\"48.4\",\"48.5\",\"48.6\",\"48.7\",\"48.8\",\"48.9\",\"49.0\",\"49.1\",\"49.2\",\"49.3\",\"49.4\",\"49.5\",\"49.6\",\"49.7\",\"49.8\",\"49.9\",\"50.0\",\"50.1\",\"50.2\",\"50.3\",\"50.4\",\"50.5\",\"50.6\",\"50.7\",\"50.8\",\"50.9\",\"51.0\",\"51.1\",\"51.2\",\"51.3\",\"51.4\",\"51.5\",\"51.6\",\"51.7\",\"51.8\",\"51.9\",\"52.0\",\"52.1\",\"52.2\",\"52.3\",\"52.4\",\"52.5\",\"52.6\",\"52.7\",\"52.8\",\"52.9\",\"53.0\",\"53.1\",\"53.2\",\"53.3\",\"53.4\",\"53.5\",\"53.6\",\"53.7\",\"53.8\",\"53.9\",\"54.0\",\"54.1\",\"54.2\",\"54.3\",\"54.4\",\"54.5\",\"54.6\",\"54.7\",\"54.8\",\"54.9\",\"55.0\",\"55.1\",\"55.2\",\"55.3\",\"55.4\",\"55.5\",\"55.6\",\"55.7\",\"55.8\",\"55.9\",\"56.0\",\"56.1\",\"56.2\",\"56.3\",\"56.4\",\"56.5\",\"56.6\",\"56.7\",\"56.8\",\"56.9\",\"57.0\",\"57.1\",\"57.2\",\"57.3\",\"57.4\",\"57.5\",\"57.6\",\"57.7\",\"57.8\",\"57.9\",\"58.0\",\"58.1\",\"58.2\",\"58.3\",\"58.4\",\"58.5\",\"58.6\",\"58.7\",\"58.8\",\"58.9\",\"59.0\",\"59.1\",\"59.2\",\"59.3\",\"59.4\",\"59.5\",\"59.6\",\"59.7\",\"59.8\",\"59.9\",\"60.0\",\"60.1\",\"60.2\",\"60.3\",\"60.4\",\"60.5\",\"60.6\",\"60.7\",\"60.8\",\"60.9\",\"61.0\",\"61.1\",\"61.2\",\"61.3\",\"61.4\",\"61.5\",\"61.6\",\"61.7\",\"61.8\",\"61.9\",\"62.0\",\"62.1\",\"62.2\",\"62.3\",\"62.4\",\"62.5\",\"62.6\",\"62.7\",\"62.8\",\"62.9\",\"63.0\",\"63.1\",\"63.2\",\"63.3\",\"63.4\",\"63.5\",\"63.6\",\"63.7\",\"63.8\",\"63.9\",\"64.0\",\"64.1\",\"64.2\",\"64.3\",\"64.4\",\"64.5\",\"64.6\",\"64.7\",\"64.8\",\"64.9\",\"65.0\",\"65.1\",\"65.2\",\"65.3\",\"65.4\",\"65.5\",\"65.6\",\"65.7\",\"65.8\",\"65.9\",\"66.0\",\"66.1\",\"66.2\",\"66.3\",\"66.4\",\"66.5\",\"66.6\",\"66.7\",\"66.8\",\"66.9\",\"67.0\",\"67.1\",\"67.2\",\"67.3\",\"67.4\",\"67.5\",\"67.6\",\"67.7\",\"67.8\",\"67.9\",\"68.0\",\"68.1\",\"68.2\",\"68.3\",\"68.4\",\"68.5\",\"68.6\",\"68.7\",\"68.8\",\"68.9\",\"69.0\",\"69.1\",\"69.2\",\"69.3\",\"69.4\",\"69.5\",\"69.6\",\"69.7\",\"69.8\",\"69.9\",\"70.0\",\"70.1\",\"70.2\",\"70.3\",\"70.4\",\"70.5\",\"70.6\",\"70.7\",\"70.8\",\"70.9\",\"71.0\",\"71.1\",\"71.2\",\"71.3\",\"71.4\",\"71.5\",\"71.6\",\"71.7\",\"71.8\",\"71.9\",\"72.0\",\"72.1\",\"72.2\",\"72.3\",\"72.4\",\"72.5\",\"72.6\",\"72.7\",\"72.8\",\"72.9\",\"73.0\",\"73.1\",\"73.2\",\"73.3\",\"73.4\",\"73.5\",\"73.6\",\"73.7\",\"73.8\",\"73.9\",\"74.0\",\"74.1\",\"74.2\",\"74.3\",\"74.4\",\"74.5\",\"74.6\",\"74.7\",\"74.8\",\"74.9\",\"75.0\",\"75.1\",\"75.2\",\"75.3\",\"75.4\",\"75.5\",\"75.6\",\"75.7\",\"75.8\",\"75.9\",\"76.0\",\"76.1\",\"76.2\",\"76.3\",\"76.4\",\"76.5\",\"76.6\",\"76.7\",\"76.8\",\"76.9\",\"77.0\",\"77.1\",\"77.2\",\"77.3\",\"77.4\",\"77.5\",\"77.6\",\"77.7\",\"77.8\",\"77.9\",\"78.0\",\"78.1\",\"78.2\",\"78.3\",\"78.4\",\"78.5\",\"78.6\",\"78.7\",\"78.8\",\"78.9\",\"79.0\",\"79.1\",\"79.2\",\"79.3\",\"79.4\",\"79.5\",\"79.6\",\"79.7\",\"79.8\",\"79.9\",\"80.0\",\"80.1\",\"80.2\",\"80.3\",\"80.4\",\"80.5\",\"80.6\",\"80.7\",\"80.8\",\"80.9\",\"81.0\",\"81.1\",\"81.2\",\"81.3\",\"81.4\",\"81.5\",\"81.6\",\"81.7\",\"81.8\",\"81.9\",\"82.0\",\"82.1\",\"82.2\",\"82.3\",\"82.4\",\"82.5\",\"82.6\",\"82.7\",\"82.8\",\"82.9\",\"83.0\",\"83.1\",\"83.2\",\"83.3\",\"83.4\",\"83.5\",\"83.6\",\"83.7\",\"83.8\",\"83.9\",\"84.0\",\"84.1\",\"84.2\",\"84.3\",\"84.4\",\"84.5\",\"84.6\",\"84.7\",\"84.8\",\"84.9\",\"85.0\",\"85.1\",\"85.2\",\"85.3\",\"85.4\",\"85.5\",\"85.6\",\"85.7\",\"85.8\",\"85.9\",\"86.0\",\"86.1\",\"86.2\",\"86.3\",\"86.4\",\"86.5\",\"86.6\",\"86.7\",\"86.8\",\"86.9\",\"87.0\",\"87.1\",\"87.2\",\"87.3\",\"87.4\",\"87.5\",\"87.6\",\"87.7\",\"87.8\",\"87.9\",\"88.0\",\"88.1\",\"88.2\",\"88.3\",\"88.4\",\"88.5\",\"88.6\",\"88.7\",\"88.8\",\"88.9\",\"89.0\",\"89.1\",\"89.2\",\"89.3\",\"89.4\",\"89.5\",\"89.6\",\"89.7\",\"89.8\",\"89.9\",\"90.0\",\"90.1\",\"90.2\",\"90.3\",\"90.4\",\"90.5\",\"90.6\",\"90.7\",\"90.8\",\"90.9\",\"91.0\",\"91.1\",\"91.2\",\"91.3\",\"91.4\",\"91.5\",\"91.6\",\"91.7\",\"91.8\",\"91.9\",\"92.0\",\"92.1\",\"92.2\",\"92.3\",\"92.4\",\"92.5\",\"92.6\",\"92.7\",\"92.8\",\"92.9\",\"93.0\",\"93.1\",\"93.2\",\"93.3\",\"93.4\",\"93.5\",\"93.6\",\"93.7\",\"93.8\",\"93.9\",\"94.0\",\"94.1\",\"94.2\",\"94.3\",\"94.4\",\"94.5\",\"94.6\",\"94.7\",\"94.8\",\"94.9\",\"95.0\",\"95.1\",\"95.2\",\"95.3\",\"95.4\",\"95.5\",\"95.6\",\"95.7\",\"95.8\",\"95.9\",\"96.0\",\"96.1\",\"96.2\",\"96.3\",\"96.4\",\"96.5\",\"96.6\",\"96.7\",\"96.8\",\"96.9\",\"97.0\",\"97.1\",\"97.2\",\"97.3\",\"97.4\",\"97.5\",\"97.6\",\"97.7\",\"97.8\",\"97.9\",\"98.0\",\"98.1\",\"98.2\",\"98.3\",\"98.4\",\"98.5\",\"98.6\",\"98.7\",\"98.8\",\"98.9\",\"99.0\",\"99.1\",\"99.2\",\"99.3\",\"99.4\",\"99.5\",\"99.6\",\"99.7\",\"99.8\",\"99.9\",\"100.0\"]};\n    var self = this;\n    function AppViewModel() {\n        for (var key in json_data) {\n            var el = json_data[key];\n            this[key] = Array.isArray(el) ? ko.observableArray(el) : ko.observable(el);\n        }\n        \n        [this[\"formatted_val\"]=ko.computed(    function(){\n        return this.formatted_vals()[parseInt(this.index())-(1)];\n    }\n,this)]\n        [this[\"index\"].subscribe((function (val){!(this.valueFromJulia[\"index\"]) ? (WebIO.setval({\"id\":\"11\",\"name\":\"index\",\"type\":\"observable\",\"scope\":\"3905665195\"},val)) : undefined; return this.valueFromJulia[\"index\"]=false}),self),this[\"changes\"].subscribe((function (val){!(this.valueFromJulia[\"changes\"]) ? (WebIO.setval({\"id\":\"12\",\"name\":\"changes\",\"type\":\"observable\",\"scope\":\"3905665195\"},val)) : undefined; return this.valueFromJulia[\"changes\"]=false}),self)]\n        \n    }\n    self.model = new AppViewModel();\n    self.valueFromJulia = {};\n    for (var key in json_data) {\n        self.valueFromJulia[key] = false;\n    }\n    ko.applyBindings(self.model, self.dom);\n}\n);\n    (WebIO.importBlock({\"data\":[{\"url\":\"/assetserver/0a8f371627acb0fbab7e7ff03e6794a95ee37ef5-knockout.js\",\"name\":\"knockout\",\"type\":\"js\"},{\"url\":\"/assetserver/9b3c694ae2b8b2559483df0ee4657f1f62c8c408-knockout_punches.js\",\"name\":\"knockout_punches\",\"type\":\"js\"}],\"type\":\"async_block\"})).then((imports) => handler.apply(this, imports));\n}\n"
            ],
            "observables": {
             "changes": {
              "id": "12",
              "sync": false,
              "value": 0
             },
             "index": {
              "id": "11",
              "sync": true,
              "value": 101
             }
            },
            "systemjs_options": null
           },
           "nodeType": "Scope",
           "props": {},
           "type": "node"
          }
         ],
         "instanceArgs": {
          "namespace": "html",
          "tag": "div"
         },
         "nodeType": "DOM",
         "props": {
          "className": "field interact-widget"
         },
         "type": "node"
        },
        {
         "children": [
          {
           "children": [],
           "instanceArgs": {
            "id": "18",
            "name": "obs-node"
           },
           "nodeType": "ObservableNode",
           "props": {},
           "type": "node"
          }
         ],
         "instanceArgs": {
          "handlers": {},
          "id": "574396710",
          "imports": {
           "data": [],
           "type": "async_block"
          },
          "mount_callbacks": [],
          "observables": {
           "obs-node": {
            "id": "18",
            "sync": false,
            "value": {
             "children": [
              ""
             ],
             "instanceArgs": {
              "namespace": "html",
              "tag": "div"
             },
             "nodeType": "DOM",
             "props": {
              "className": "interact-flex-row interact-widget"
             },
             "type": "node"
            }
           }
          },
          "systemjs_options": null
         },
         "nodeType": "Scope",
         "props": {},
         "type": "node"
        }
       ],
       "instanceArgs": {
        "namespace": "html",
        "tag": "div"
       },
       "nodeType": "DOM",
       "props": {},
       "type": "node"
      },
      "text/html": [
       "<div\n",
       "    class=\"webio-mountpoint\"\n",
       "    data-webio-mountpoint=\"14357564964350263503\"\n",
       ">\n",
       "    <script>\n",
       "    (function(){\n",
       "    // Some integrations (namely, IJulia/Jupyter) use an alternate render pathway than\n",
       "    // just putting the html on the page. If WebIO isn't defined, then it's pretty likely\n",
       "    // that we're in one of those situations and the integration just isn't installed\n",
       "    // correctly.\n",
       "    if (typeof window.WebIO === \"undefined\") {\n",
       "        document\n",
       "            .querySelector('[data-webio-mountpoint=\"14357564964350263503\"]')\n",
       "            .innerHTML = (\n",
       "                '<div style=\"padding: 1em; background-color: #f8d6da; border: 1px solid #f5c6cb; font-weight: bold;\">' +\n",
       "                '<p><strong>WebIO not detected.</strong></p>' +\n",
       "                '<p>Please read ' +\n",
       "                '<a href=\"https://juliagizmos.github.io/WebIO.jl/latest/troubleshooting/not-detected/\" target=\"_blank\">the troubleshooting guide</a> ' +\n",
       "                'for more information on how to resolve this issue.</p>' +\n",
       "                '<p><a href=\"https://juliagizmos.github.io/WebIO.jl/latest/troubleshooting/not-detected/\" target=\"_blank\">https://juliagizmos.github.io/WebIO.jl/latest/troubleshooting/not-detected/</a></p>' +\n",
       "                '</div>'\n",
       "            );\n",
       "        return;\n",
       "    }\n",
       "    WebIO.mount(\n",
       "        document.querySelector('[data-webio-mountpoint=\"14357564964350263503\"]'),\n",
       "        {\"props\":{},\"nodeType\":\"DOM\",\"instanceArgs\":{\"namespace\":\"html\",\"tag\":\"div\"},\"type\":\"node\",\"children\":[{\"props\":{\"className\":\"field interact-widget\"},\"nodeType\":\"DOM\",\"instanceArgs\":{\"namespace\":\"html\",\"tag\":\"div\"},\"type\":\"node\",\"children\":[{\"props\":{},\"nodeType\":\"Scope\",\"instanceArgs\":{\"id\":\"3173315123\",\"systemjs_options\":null,\"mount_callbacks\":[\"function () {\\n    var handler = (function (ko, koPunches) {\\n    ko.punches.enableAll();\\n    ko.bindingHandlers.numericValue = {\\n        init: function(element, valueAccessor, allBindings, data, context) {\\n            var stringified = ko.observable(ko.unwrap(valueAccessor()));\\n            stringified.subscribe(function(value) {\\n                var val = parseFloat(value);\\n                if (!isNaN(val)) {\\n                    valueAccessor()(val);\\n                }\\n            });\\n            valueAccessor().subscribe(function(value) {\\n                var str = JSON.stringify(value);\\n                if ((str == \\\"0\\\") && ([\\\"-0\\\", \\\"-0.\\\"].indexOf(stringified()) >= 0))\\n                     return;\\n                 if ([\\\"null\\\", \\\"\\\"].indexOf(str) >= 0)\\n                     return;\\n                stringified(str);\\n            });\\n            ko.applyBindingsToNode(\\n                element,\\n                {\\n                    value: stringified,\\n                    valueUpdate: allBindings.get('valueUpdate'),\\n                },\\n                context,\\n            );\\n        }\\n    };\\n    var json_data = {\\\"index\\\":WebIO.getval({\\\"id\\\":\\\"8\\\",\\\"name\\\":\\\"index\\\",\\\"type\\\":\\\"observable\\\",\\\"scope\\\":\\\"3173315123\\\"}),\\\"changes\\\":WebIO.getval({\\\"id\\\":\\\"9\\\",\\\"name\\\":\\\"changes\\\",\\\"type\\\":\\\"observable\\\",\\\"scope\\\":\\\"3173315123\\\"}),\\\"formatted_vals\\\":[\\\"0.0\\\",\\\"0.1\\\",\\\"0.2\\\",\\\"0.3\\\",\\\"0.4\\\",\\\"0.5\\\",\\\"0.6\\\",\\\"0.7\\\",\\\"0.8\\\",\\\"0.9\\\",\\\"1.0\\\",\\\"1.1\\\",\\\"1.2\\\",\\\"1.3\\\",\\\"1.4\\\",\\\"1.5\\\",\\\"1.6\\\",\\\"1.7\\\",\\\"1.8\\\",\\\"1.9\\\",\\\"2.0\\\",\\\"2.1\\\",\\\"2.2\\\",\\\"2.3\\\",\\\"2.4\\\",\\\"2.5\\\",\\\"2.6\\\",\\\"2.7\\\",\\\"2.8\\\",\\\"2.9\\\",\\\"3.0\\\",\\\"3.1\\\",\\\"3.2\\\",\\\"3.3\\\",\\\"3.4\\\",\\\"3.5\\\",\\\"3.6\\\",\\\"3.7\\\",\\\"3.8\\\",\\\"3.9\\\",\\\"4.0\\\",\\\"4.1\\\",\\\"4.2\\\",\\\"4.3\\\",\\\"4.4\\\",\\\"4.5\\\",\\\"4.6\\\",\\\"4.7\\\",\\\"4.8\\\",\\\"4.9\\\",\\\"5.0\\\",\\\"5.1\\\",\\\"5.2\\\",\\\"5.3\\\",\\\"5.4\\\",\\\"5.5\\\",\\\"5.6\\\",\\\"5.7\\\",\\\"5.8\\\",\\\"5.9\\\",\\\"6.0\\\",\\\"6.1\\\",\\\"6.2\\\",\\\"6.3\\\",\\\"6.4\\\",\\\"6.5\\\",\\\"6.6\\\",\\\"6.7\\\",\\\"6.8\\\",\\\"6.9\\\",\\\"7.0\\\",\\\"7.1\\\",\\\"7.2\\\",\\\"7.3\\\",\\\"7.4\\\",\\\"7.5\\\",\\\"7.6\\\",\\\"7.7\\\",\\\"7.8\\\",\\\"7.9\\\",\\\"8.0\\\",\\\"8.1\\\",\\\"8.2\\\",\\\"8.3\\\",\\\"8.4\\\",\\\"8.5\\\",\\\"8.6\\\",\\\"8.7\\\",\\\"8.8\\\",\\\"8.9\\\",\\\"9.0\\\",\\\"9.1\\\",\\\"9.2\\\",\\\"9.3\\\",\\\"9.4\\\",\\\"9.5\\\",\\\"9.6\\\",\\\"9.7\\\",\\\"9.8\\\",\\\"9.9\\\",\\\"10.0\\\",\\\"10.1\\\",\\\"10.2\\\",\\\"10.3\\\",\\\"10.4\\\",\\\"10.5\\\",\\\"10.6\\\",\\\"10.7\\\",\\\"10.8\\\",\\\"10.9\\\",\\\"11.0\\\",\\\"11.1\\\",\\\"11.2\\\",\\\"11.3\\\",\\\"11.4\\\",\\\"11.5\\\",\\\"11.6\\\",\\\"11.7\\\",\\\"11.8\\\",\\\"11.9\\\",\\\"12.0\\\",\\\"12.1\\\",\\\"12.2\\\",\\\"12.3\\\",\\\"12.4\\\",\\\"12.5\\\",\\\"12.6\\\",\\\"12.7\\\",\\\"12.8\\\",\\\"12.9\\\",\\\"13.0\\\",\\\"13.1\\\",\\\"13.2\\\",\\\"13.3\\\",\\\"13.4\\\",\\\"13.5\\\",\\\"13.6\\\",\\\"13.7\\\",\\\"13.8\\\",\\\"13.9\\\",\\\"14.0\\\",\\\"14.1\\\",\\\"14.2\\\",\\\"14.3\\\",\\\"14.4\\\",\\\"14.5\\\",\\\"14.6\\\",\\\"14.7\\\",\\\"14.8\\\",\\\"14.9\\\",\\\"15.0\\\",\\\"15.1\\\",\\\"15.2\\\",\\\"15.3\\\",\\\"15.4\\\",\\\"15.5\\\",\\\"15.6\\\",\\\"15.7\\\",\\\"15.8\\\",\\\"15.9\\\",\\\"16.0\\\",\\\"16.1\\\",\\\"16.2\\\",\\\"16.3\\\",\\\"16.4\\\",\\\"16.5\\\",\\\"16.6\\\",\\\"16.7\\\",\\\"16.8\\\",\\\"16.9\\\",\\\"17.0\\\",\\\"17.1\\\",\\\"17.2\\\",\\\"17.3\\\",\\\"17.4\\\",\\\"17.5\\\",\\\"17.6\\\",\\\"17.7\\\",\\\"17.8\\\",\\\"17.9\\\",\\\"18.0\\\",\\\"18.1\\\",\\\"18.2\\\",\\\"18.3\\\",\\\"18.4\\\",\\\"18.5\\\",\\\"18.6\\\",\\\"18.7\\\",\\\"18.8\\\",\\\"18.9\\\",\\\"19.0\\\",\\\"19.1\\\",\\\"19.2\\\",\\\"19.3\\\",\\\"19.4\\\",\\\"19.5\\\",\\\"19.6\\\",\\\"19.7\\\",\\\"19.8\\\",\\\"19.9\\\",\\\"20.0\\\"]};\\n    var self = this;\\n    function AppViewModel() {\\n        for (var key in json_data) {\\n            var el = json_data[key];\\n            this[key] = Array.isArray(el) ? ko.observableArray(el) : ko.observable(el);\\n        }\\n        \\n        [this[\\\"formatted_val\\\"]=ko.computed(    function(){\\n        return this.formatted_vals()[parseInt(this.index())-(1)];\\n    }\\n,this)]\\n        [this[\\\"index\\\"].subscribe((function (val){!(this.valueFromJulia[\\\"index\\\"]) ? (WebIO.setval({\\\"id\\\":\\\"8\\\",\\\"name\\\":\\\"index\\\",\\\"type\\\":\\\"observable\\\",\\\"scope\\\":\\\"3173315123\\\"},val)) : undefined; return this.valueFromJulia[\\\"index\\\"]=false}),self),this[\\\"changes\\\"].subscribe((function (val){!(this.valueFromJulia[\\\"changes\\\"]) ? (WebIO.setval({\\\"id\\\":\\\"9\\\",\\\"name\\\":\\\"changes\\\",\\\"type\\\":\\\"observable\\\",\\\"scope\\\":\\\"3173315123\\\"},val)) : undefined; return this.valueFromJulia[\\\"changes\\\"]=false}),self)]\\n        \\n    }\\n    self.model = new AppViewModel();\\n    self.valueFromJulia = {};\\n    for (var key in json_data) {\\n        self.valueFromJulia[key] = false;\\n    }\\n    ko.applyBindings(self.model, self.dom);\\n}\\n);\\n    (WebIO.importBlock({\\\"data\\\":[{\\\"url\\\":\\\"\\/assetserver\\/0a8f371627acb0fbab7e7ff03e6794a95ee37ef5-knockout.js\\\",\\\"name\\\":\\\"knockout\\\",\\\"type\\\":\\\"js\\\"},{\\\"url\\\":\\\"\\/assetserver\\/9b3c694ae2b8b2559483df0ee4657f1f62c8c408-knockout_punches.js\\\",\\\"name\\\":\\\"knockout_punches\\\",\\\"type\\\":\\\"js\\\"}],\\\"type\\\":\\\"async_block\\\"})).then((imports) => handler.apply(this, imports));\\n}\\n\"],\"handlers\":{\"index\":[\"(function (val){return (val!=this.model[\\\"index\\\"]()) ? (this.valueFromJulia[\\\"index\\\"]=true, this.model[\\\"index\\\"](val)) : undefined})\"],\"changes\":[\"(function (val){return (val!=this.model[\\\"changes\\\"]()) ? (this.valueFromJulia[\\\"changes\\\"]=true, this.model[\\\"changes\\\"](val)) : undefined})\"]},\"observables\":{\"index\":{\"id\":\"8\",\"value\":101,\"sync\":true},\"changes\":{\"id\":\"9\",\"value\":0,\"sync\":false}},\"imports\":{\"data\":[{\"url\":\"\\/assetserver\\/0a8f371627acb0fbab7e7ff03e6794a95ee37ef5-knockout.js\",\"name\":\"knockout\",\"type\":\"js\"},{\"url\":\"\\/assetserver\\/9b3c694ae2b8b2559483df0ee4657f1f62c8c408-knockout_punches.js\",\"name\":\"knockout_punches\",\"type\":\"js\"},{\"url\":\"\\/assetserver\\/f88515f2eab9a880f440f4a02ad6bec39eab20f3-all.js\",\"name\":null,\"type\":\"js\"},{\"url\":\"\\/assetserver\\/1ca4083aec9453427e6ec123862050a8bb53b266-style.css\",\"name\":null,\"type\":\"css\"},{\"url\":\"\\/assetserver\\/9a1b433d0e3cd69e6f57207ad94f565eba9960c8-bulma_confined.min.css\",\"name\":null,\"type\":\"css\"}],\"type\":\"async_block\"}},\"type\":\"node\",\"children\":[{\"props\":{\"className\":\"interact-flex-row interact-widget\"},\"nodeType\":\"DOM\",\"instanceArgs\":{\"namespace\":\"html\",\"tag\":\"div\"},\"type\":\"node\",\"children\":[{\"props\":{\"className\":\"interact-flex-row-left\"},\"nodeType\":\"DOM\",\"instanceArgs\":{\"namespace\":\"html\",\"tag\":\"div\"},\"type\":\"node\",\"children\":[{\"props\":{\"style\":{\"padding\":\"5px 10px 0px 10px\"},\"className\":\"interact \"},\"nodeType\":\"DOM\",\"instanceArgs\":{\"namespace\":\"html\",\"tag\":\"label\"},\"type\":\"node\",\"children\":[\"Velocidad (m\\/s)\"]}]},{\"props\":{\"className\":\"interact-flex-row-center\"},\"nodeType\":\"DOM\",\"instanceArgs\":{\"namespace\":\"html\",\"tag\":\"div\"},\"type\":\"node\",\"children\":[{\"props\":{\"style\":{},\"className\":\"slider slider is-fullwidth\",\"max\":201,\"attributes\":{\"orient\":\"horizontal\",\"data-bind\":\"numericValue: index, valueUpdate: 'input', event: {change: function (){this.changes(this.changes()+1)}}\",\"type\":\"range\"},\"step\":1,\"min\":1},\"nodeType\":\"DOM\",\"instanceArgs\":{\"namespace\":\"html\",\"tag\":\"input\"},\"type\":\"node\",\"children\":[]}]},{\"props\":{\"className\":\"interact-flex-row-right\"},\"nodeType\":\"DOM\",\"instanceArgs\":{\"namespace\":\"html\",\"tag\":\"div\"},\"type\":\"node\",\"children\":[{\"props\":{\"attributes\":{\"data-bind\":\"text: formatted_val\"}},\"nodeType\":\"DOM\",\"instanceArgs\":{\"namespace\":\"html\",\"tag\":\"p\"},\"type\":\"node\",\"children\":[]}]}]}]}]},{\"props\":{\"className\":\"field interact-widget\"},\"nodeType\":\"DOM\",\"instanceArgs\":{\"namespace\":\"html\",\"tag\":\"div\"},\"type\":\"node\",\"children\":[{\"props\":{},\"nodeType\":\"Scope\",\"instanceArgs\":{\"id\":\"3905665195\",\"systemjs_options\":null,\"mount_callbacks\":[\"function () {\\n    var handler = (function (ko, koPunches) {\\n    ko.punches.enableAll();\\n    ko.bindingHandlers.numericValue = {\\n        init: function(element, valueAccessor, allBindings, data, context) {\\n            var stringified = ko.observable(ko.unwrap(valueAccessor()));\\n            stringified.subscribe(function(value) {\\n                var val = parseFloat(value);\\n                if (!isNaN(val)) {\\n                    valueAccessor()(val);\\n                }\\n            });\\n            valueAccessor().subscribe(function(value) {\\n                var str = JSON.stringify(value);\\n                if ((str == \\\"0\\\") && ([\\\"-0\\\", \\\"-0.\\\"].indexOf(stringified()) >= 0))\\n                     return;\\n                 if ([\\\"null\\\", \\\"\\\"].indexOf(str) >= 0)\\n                     return;\\n                stringified(str);\\n            });\\n            ko.applyBindingsToNode(\\n                element,\\n                {\\n                    value: stringified,\\n                    valueUpdate: allBindings.get('valueUpdate'),\\n                },\\n                context,\\n            );\\n        }\\n    };\\n    var json_data = {\\\"index\\\":WebIO.getval({\\\"id\\\":\\\"11\\\",\\\"name\\\":\\\"index\\\",\\\"type\\\":\\\"observable\\\",\\\"scope\\\":\\\"3905665195\\\"}),\\\"changes\\\":WebIO.getval({\\\"id\\\":\\\"12\\\",\\\"name\\\":\\\"changes\\\",\\\"type\\\":\\\"observable\\\",\\\"scope\\\":\\\"3905665195\\\"}),\\\"formatted_vals\\\":[\\\"0.0\\\",\\\"0.1\\\",\\\"0.2\\\",\\\"0.3\\\",\\\"0.4\\\",\\\"0.5\\\",\\\"0.6\\\",\\\"0.7\\\",\\\"0.8\\\",\\\"0.9\\\",\\\"1.0\\\",\\\"1.1\\\",\\\"1.2\\\",\\\"1.3\\\",\\\"1.4\\\",\\\"1.5\\\",\\\"1.6\\\",\\\"1.7\\\",\\\"1.8\\\",\\\"1.9\\\",\\\"2.0\\\",\\\"2.1\\\",\\\"2.2\\\",\\\"2.3\\\",\\\"2.4\\\",\\\"2.5\\\",\\\"2.6\\\",\\\"2.7\\\",\\\"2.8\\\",\\\"2.9\\\",\\\"3.0\\\",\\\"3.1\\\",\\\"3.2\\\",\\\"3.3\\\",\\\"3.4\\\",\\\"3.5\\\",\\\"3.6\\\",\\\"3.7\\\",\\\"3.8\\\",\\\"3.9\\\",\\\"4.0\\\",\\\"4.1\\\",\\\"4.2\\\",\\\"4.3\\\",\\\"4.4\\\",\\\"4.5\\\",\\\"4.6\\\",\\\"4.7\\\",\\\"4.8\\\",\\\"4.9\\\",\\\"5.0\\\",\\\"5.1\\\",\\\"5.2\\\",\\\"5.3\\\",\\\"5.4\\\",\\\"5.5\\\",\\\"5.6\\\",\\\"5.7\\\",\\\"5.8\\\",\\\"5.9\\\",\\\"6.0\\\",\\\"6.1\\\",\\\"6.2\\\",\\\"6.3\\\",\\\"6.4\\\",\\\"6.5\\\",\\\"6.6\\\",\\\"6.7\\\",\\\"6.8\\\",\\\"6.9\\\",\\\"7.0\\\",\\\"7.1\\\",\\\"7.2\\\",\\\"7.3\\\",\\\"7.4\\\",\\\"7.5\\\",\\\"7.6\\\",\\\"7.7\\\",\\\"7.8\\\",\\\"7.9\\\",\\\"8.0\\\",\\\"8.1\\\",\\\"8.2\\\",\\\"8.3\\\",\\\"8.4\\\",\\\"8.5\\\",\\\"8.6\\\",\\\"8.7\\\",\\\"8.8\\\",\\\"8.9\\\",\\\"9.0\\\",\\\"9.1\\\",\\\"9.2\\\",\\\"9.3\\\",\\\"9.4\\\",\\\"9.5\\\",\\\"9.6\\\",\\\"9.7\\\",\\\"9.8\\\",\\\"9.9\\\",\\\"10.0\\\",\\\"10.1\\\",\\\"10.2\\\",\\\"10.3\\\",\\\"10.4\\\",\\\"10.5\\\",\\\"10.6\\\",\\\"10.7\\\",\\\"10.8\\\",\\\"10.9\\\",\\\"11.0\\\",\\\"11.1\\\",\\\"11.2\\\",\\\"11.3\\\",\\\"11.4\\\",\\\"11.5\\\",\\\"11.6\\\",\\\"11.7\\\",\\\"11.8\\\",\\\"11.9\\\",\\\"12.0\\\",\\\"12.1\\\",\\\"12.2\\\",\\\"12.3\\\",\\\"12.4\\\",\\\"12.5\\\",\\\"12.6\\\",\\\"12.7\\\",\\\"12.8\\\",\\\"12.9\\\",\\\"13.0\\\",\\\"13.1\\\",\\\"13.2\\\",\\\"13.3\\\",\\\"13.4\\\",\\\"13.5\\\",\\\"13.6\\\",\\\"13.7\\\",\\\"13.8\\\",\\\"13.9\\\",\\\"14.0\\\",\\\"14.1\\\",\\\"14.2\\\",\\\"14.3\\\",\\\"14.4\\\",\\\"14.5\\\",\\\"14.6\\\",\\\"14.7\\\",\\\"14.8\\\",\\\"14.9\\\",\\\"15.0\\\",\\\"15.1\\\",\\\"15.2\\\",\\\"15.3\\\",\\\"15.4\\\",\\\"15.5\\\",\\\"15.6\\\",\\\"15.7\\\",\\\"15.8\\\",\\\"15.9\\\",\\\"16.0\\\",\\\"16.1\\\",\\\"16.2\\\",\\\"16.3\\\",\\\"16.4\\\",\\\"16.5\\\",\\\"16.6\\\",\\\"16.7\\\",\\\"16.8\\\",\\\"16.9\\\",\\\"17.0\\\",\\\"17.1\\\",\\\"17.2\\\",\\\"17.3\\\",\\\"17.4\\\",\\\"17.5\\\",\\\"17.6\\\",\\\"17.7\\\",\\\"17.8\\\",\\\"17.9\\\",\\\"18.0\\\",\\\"18.1\\\",\\\"18.2\\\",\\\"18.3\\\",\\\"18.4\\\",\\\"18.5\\\",\\\"18.6\\\",\\\"18.7\\\",\\\"18.8\\\",\\\"18.9\\\",\\\"19.0\\\",\\\"19.1\\\",\\\"19.2\\\",\\\"19.3\\\",\\\"19.4\\\",\\\"19.5\\\",\\\"19.6\\\",\\\"19.7\\\",\\\"19.8\\\",\\\"19.9\\\",\\\"20.0\\\",\\\"20.1\\\",\\\"20.2\\\",\\\"20.3\\\",\\\"20.4\\\",\\\"20.5\\\",\\\"20.6\\\",\\\"20.7\\\",\\\"20.8\\\",\\\"20.9\\\",\\\"21.0\\\",\\\"21.1\\\",\\\"21.2\\\",\\\"21.3\\\",\\\"21.4\\\",\\\"21.5\\\",\\\"21.6\\\",\\\"21.7\\\",\\\"21.8\\\",\\\"21.9\\\",\\\"22.0\\\",\\\"22.1\\\",\\\"22.2\\\",\\\"22.3\\\",\\\"22.4\\\",\\\"22.5\\\",\\\"22.6\\\",\\\"22.7\\\",\\\"22.8\\\",\\\"22.9\\\",\\\"23.0\\\",\\\"23.1\\\",\\\"23.2\\\",\\\"23.3\\\",\\\"23.4\\\",\\\"23.5\\\",\\\"23.6\\\",\\\"23.7\\\",\\\"23.8\\\",\\\"23.9\\\",\\\"24.0\\\",\\\"24.1\\\",\\\"24.2\\\",\\\"24.3\\\",\\\"24.4\\\",\\\"24.5\\\",\\\"24.6\\\",\\\"24.7\\\",\\\"24.8\\\",\\\"24.9\\\",\\\"25.0\\\",\\\"25.1\\\",\\\"25.2\\\",\\\"25.3\\\",\\\"25.4\\\",\\\"25.5\\\",\\\"25.6\\\",\\\"25.7\\\",\\\"25.8\\\",\\\"25.9\\\",\\\"26.0\\\",\\\"26.1\\\",\\\"26.2\\\",\\\"26.3\\\",\\\"26.4\\\",\\\"26.5\\\",\\\"26.6\\\",\\\"26.7\\\",\\\"26.8\\\",\\\"26.9\\\",\\\"27.0\\\",\\\"27.1\\\",\\\"27.2\\\",\\\"27.3\\\",\\\"27.4\\\",\\\"27.5\\\",\\\"27.6\\\",\\\"27.7\\\",\\\"27.8\\\",\\\"27.9\\\",\\\"28.0\\\",\\\"28.1\\\",\\\"28.2\\\",\\\"28.3\\\",\\\"28.4\\\",\\\"28.5\\\",\\\"28.6\\\",\\\"28.7\\\",\\\"28.8\\\",\\\"28.9\\\",\\\"29.0\\\",\\\"29.1\\\",\\\"29.2\\\",\\\"29.3\\\",\\\"29.4\\\",\\\"29.5\\\",\\\"29.6\\\",\\\"29.7\\\",\\\"29.8\\\",\\\"29.9\\\",\\\"30.0\\\",\\\"30.1\\\",\\\"30.2\\\",\\\"30.3\\\",\\\"30.4\\\",\\\"30.5\\\",\\\"30.6\\\",\\\"30.7\\\",\\\"30.8\\\",\\\"30.9\\\",\\\"31.0\\\",\\\"31.1\\\",\\\"31.2\\\",\\\"31.3\\\",\\\"31.4\\\",\\\"31.5\\\",\\\"31.6\\\",\\\"31.7\\\",\\\"31.8\\\",\\\"31.9\\\",\\\"32.0\\\",\\\"32.1\\\",\\\"32.2\\\",\\\"32.3\\\",\\\"32.4\\\",\\\"32.5\\\",\\\"32.6\\\",\\\"32.7\\\",\\\"32.8\\\",\\\"32.9\\\",\\\"33.0\\\",\\\"33.1\\\",\\\"33.2\\\",\\\"33.3\\\",\\\"33.4\\\",\\\"33.5\\\",\\\"33.6\\\",\\\"33.7\\\",\\\"33.8\\\",\\\"33.9\\\",\\\"34.0\\\",\\\"34.1\\\",\\\"34.2\\\",\\\"34.3\\\",\\\"34.4\\\",\\\"34.5\\\",\\\"34.6\\\",\\\"34.7\\\",\\\"34.8\\\",\\\"34.9\\\",\\\"35.0\\\",\\\"35.1\\\",\\\"35.2\\\",\\\"35.3\\\",\\\"35.4\\\",\\\"35.5\\\",\\\"35.6\\\",\\\"35.7\\\",\\\"35.8\\\",\\\"35.9\\\",\\\"36.0\\\",\\\"36.1\\\",\\\"36.2\\\",\\\"36.3\\\",\\\"36.4\\\",\\\"36.5\\\",\\\"36.6\\\",\\\"36.7\\\",\\\"36.8\\\",\\\"36.9\\\",\\\"37.0\\\",\\\"37.1\\\",\\\"37.2\\\",\\\"37.3\\\",\\\"37.4\\\",\\\"37.5\\\",\\\"37.6\\\",\\\"37.7\\\",\\\"37.8\\\",\\\"37.9\\\",\\\"38.0\\\",\\\"38.1\\\",\\\"38.2\\\",\\\"38.3\\\",\\\"38.4\\\",\\\"38.5\\\",\\\"38.6\\\",\\\"38.7\\\",\\\"38.8\\\",\\\"38.9\\\",\\\"39.0\\\",\\\"39.1\\\",\\\"39.2\\\",\\\"39.3\\\",\\\"39.4\\\",\\\"39.5\\\",\\\"39.6\\\",\\\"39.7\\\",\\\"39.8\\\",\\\"39.9\\\",\\\"40.0\\\",\\\"40.1\\\",\\\"40.2\\\",\\\"40.3\\\",\\\"40.4\\\",\\\"40.5\\\",\\\"40.6\\\",\\\"40.7\\\",\\\"40.8\\\",\\\"40.9\\\",\\\"41.0\\\",\\\"41.1\\\",\\\"41.2\\\",\\\"41.3\\\",\\\"41.4\\\",\\\"41.5\\\",\\\"41.6\\\",\\\"41.7\\\",\\\"41.8\\\",\\\"41.9\\\",\\\"42.0\\\",\\\"42.1\\\",\\\"42.2\\\",\\\"42.3\\\",\\\"42.4\\\",\\\"42.5\\\",\\\"42.6\\\",\\\"42.7\\\",\\\"42.8\\\",\\\"42.9\\\",\\\"43.0\\\",\\\"43.1\\\",\\\"43.2\\\",\\\"43.3\\\",\\\"43.4\\\",\\\"43.5\\\",\\\"43.6\\\",\\\"43.7\\\",\\\"43.8\\\",\\\"43.9\\\",\\\"44.0\\\",\\\"44.1\\\",\\\"44.2\\\",\\\"44.3\\\",\\\"44.4\\\",\\\"44.5\\\",\\\"44.6\\\",\\\"44.7\\\",\\\"44.8\\\",\\\"44.9\\\",\\\"45.0\\\",\\\"45.1\\\",\\\"45.2\\\",\\\"45.3\\\",\\\"45.4\\\",\\\"45.5\\\",\\\"45.6\\\",\\\"45.7\\\",\\\"45.8\\\",\\\"45.9\\\",\\\"46.0\\\",\\\"46.1\\\",\\\"46.2\\\",\\\"46.3\\\",\\\"46.4\\\",\\\"46.5\\\",\\\"46.6\\\",\\\"46.7\\\",\\\"46.8\\\",\\\"46.9\\\",\\\"47.0\\\",\\\"47.1\\\",\\\"47.2\\\",\\\"47.3\\\",\\\"47.4\\\",\\\"47.5\\\",\\\"47.6\\\",\\\"47.7\\\",\\\"47.8\\\",\\\"47.9\\\",\\\"48.0\\\",\\\"48.1\\\",\\\"48.2\\\",\\\"48.3\\\",\\\"48.4\\\",\\\"48.5\\\",\\\"48.6\\\",\\\"48.7\\\",\\\"48.8\\\",\\\"48.9\\\",\\\"49.0\\\",\\\"49.1\\\",\\\"49.2\\\",\\\"49.3\\\",\\\"49.4\\\",\\\"49.5\\\",\\\"49.6\\\",\\\"49.7\\\",\\\"49.8\\\",\\\"49.9\\\",\\\"50.0\\\",\\\"50.1\\\",\\\"50.2\\\",\\\"50.3\\\",\\\"50.4\\\",\\\"50.5\\\",\\\"50.6\\\",\\\"50.7\\\",\\\"50.8\\\",\\\"50.9\\\",\\\"51.0\\\",\\\"51.1\\\",\\\"51.2\\\",\\\"51.3\\\",\\\"51.4\\\",\\\"51.5\\\",\\\"51.6\\\",\\\"51.7\\\",\\\"51.8\\\",\\\"51.9\\\",\\\"52.0\\\",\\\"52.1\\\",\\\"52.2\\\",\\\"52.3\\\",\\\"52.4\\\",\\\"52.5\\\",\\\"52.6\\\",\\\"52.7\\\",\\\"52.8\\\",\\\"52.9\\\",\\\"53.0\\\",\\\"53.1\\\",\\\"53.2\\\",\\\"53.3\\\",\\\"53.4\\\",\\\"53.5\\\",\\\"53.6\\\",\\\"53.7\\\",\\\"53.8\\\",\\\"53.9\\\",\\\"54.0\\\",\\\"54.1\\\",\\\"54.2\\\",\\\"54.3\\\",\\\"54.4\\\",\\\"54.5\\\",\\\"54.6\\\",\\\"54.7\\\",\\\"54.8\\\",\\\"54.9\\\",\\\"55.0\\\",\\\"55.1\\\",\\\"55.2\\\",\\\"55.3\\\",\\\"55.4\\\",\\\"55.5\\\",\\\"55.6\\\",\\\"55.7\\\",\\\"55.8\\\",\\\"55.9\\\",\\\"56.0\\\",\\\"56.1\\\",\\\"56.2\\\",\\\"56.3\\\",\\\"56.4\\\",\\\"56.5\\\",\\\"56.6\\\",\\\"56.7\\\",\\\"56.8\\\",\\\"56.9\\\",\\\"57.0\\\",\\\"57.1\\\",\\\"57.2\\\",\\\"57.3\\\",\\\"57.4\\\",\\\"57.5\\\",\\\"57.6\\\",\\\"57.7\\\",\\\"57.8\\\",\\\"57.9\\\",\\\"58.0\\\",\\\"58.1\\\",\\\"58.2\\\",\\\"58.3\\\",\\\"58.4\\\",\\\"58.5\\\",\\\"58.6\\\",\\\"58.7\\\",\\\"58.8\\\",\\\"58.9\\\",\\\"59.0\\\",\\\"59.1\\\",\\\"59.2\\\",\\\"59.3\\\",\\\"59.4\\\",\\\"59.5\\\",\\\"59.6\\\",\\\"59.7\\\",\\\"59.8\\\",\\\"59.9\\\",\\\"60.0\\\",\\\"60.1\\\",\\\"60.2\\\",\\\"60.3\\\",\\\"60.4\\\",\\\"60.5\\\",\\\"60.6\\\",\\\"60.7\\\",\\\"60.8\\\",\\\"60.9\\\",\\\"61.0\\\",\\\"61.1\\\",\\\"61.2\\\",\\\"61.3\\\",\\\"61.4\\\",\\\"61.5\\\",\\\"61.6\\\",\\\"61.7\\\",\\\"61.8\\\",\\\"61.9\\\",\\\"62.0\\\",\\\"62.1\\\",\\\"62.2\\\",\\\"62.3\\\",\\\"62.4\\\",\\\"62.5\\\",\\\"62.6\\\",\\\"62.7\\\",\\\"62.8\\\",\\\"62.9\\\",\\\"63.0\\\",\\\"63.1\\\",\\\"63.2\\\",\\\"63.3\\\",\\\"63.4\\\",\\\"63.5\\\",\\\"63.6\\\",\\\"63.7\\\",\\\"63.8\\\",\\\"63.9\\\",\\\"64.0\\\",\\\"64.1\\\",\\\"64.2\\\",\\\"64.3\\\",\\\"64.4\\\",\\\"64.5\\\",\\\"64.6\\\",\\\"64.7\\\",\\\"64.8\\\",\\\"64.9\\\",\\\"65.0\\\",\\\"65.1\\\",\\\"65.2\\\",\\\"65.3\\\",\\\"65.4\\\",\\\"65.5\\\",\\\"65.6\\\",\\\"65.7\\\",\\\"65.8\\\",\\\"65.9\\\",\\\"66.0\\\",\\\"66.1\\\",\\\"66.2\\\",\\\"66.3\\\",\\\"66.4\\\",\\\"66.5\\\",\\\"66.6\\\",\\\"66.7\\\",\\\"66.8\\\",\\\"66.9\\\",\\\"67.0\\\",\\\"67.1\\\",\\\"67.2\\\",\\\"67.3\\\",\\\"67.4\\\",\\\"67.5\\\",\\\"67.6\\\",\\\"67.7\\\",\\\"67.8\\\",\\\"67.9\\\",\\\"68.0\\\",\\\"68.1\\\",\\\"68.2\\\",\\\"68.3\\\",\\\"68.4\\\",\\\"68.5\\\",\\\"68.6\\\",\\\"68.7\\\",\\\"68.8\\\",\\\"68.9\\\",\\\"69.0\\\",\\\"69.1\\\",\\\"69.2\\\",\\\"69.3\\\",\\\"69.4\\\",\\\"69.5\\\",\\\"69.6\\\",\\\"69.7\\\",\\\"69.8\\\",\\\"69.9\\\",\\\"70.0\\\",\\\"70.1\\\",\\\"70.2\\\",\\\"70.3\\\",\\\"70.4\\\",\\\"70.5\\\",\\\"70.6\\\",\\\"70.7\\\",\\\"70.8\\\",\\\"70.9\\\",\\\"71.0\\\",\\\"71.1\\\",\\\"71.2\\\",\\\"71.3\\\",\\\"71.4\\\",\\\"71.5\\\",\\\"71.6\\\",\\\"71.7\\\",\\\"71.8\\\",\\\"71.9\\\",\\\"72.0\\\",\\\"72.1\\\",\\\"72.2\\\",\\\"72.3\\\",\\\"72.4\\\",\\\"72.5\\\",\\\"72.6\\\",\\\"72.7\\\",\\\"72.8\\\",\\\"72.9\\\",\\\"73.0\\\",\\\"73.1\\\",\\\"73.2\\\",\\\"73.3\\\",\\\"73.4\\\",\\\"73.5\\\",\\\"73.6\\\",\\\"73.7\\\",\\\"73.8\\\",\\\"73.9\\\",\\\"74.0\\\",\\\"74.1\\\",\\\"74.2\\\",\\\"74.3\\\",\\\"74.4\\\",\\\"74.5\\\",\\\"74.6\\\",\\\"74.7\\\",\\\"74.8\\\",\\\"74.9\\\",\\\"75.0\\\",\\\"75.1\\\",\\\"75.2\\\",\\\"75.3\\\",\\\"75.4\\\",\\\"75.5\\\",\\\"75.6\\\",\\\"75.7\\\",\\\"75.8\\\",\\\"75.9\\\",\\\"76.0\\\",\\\"76.1\\\",\\\"76.2\\\",\\\"76.3\\\",\\\"76.4\\\",\\\"76.5\\\",\\\"76.6\\\",\\\"76.7\\\",\\\"76.8\\\",\\\"76.9\\\",\\\"77.0\\\",\\\"77.1\\\",\\\"77.2\\\",\\\"77.3\\\",\\\"77.4\\\",\\\"77.5\\\",\\\"77.6\\\",\\\"77.7\\\",\\\"77.8\\\",\\\"77.9\\\",\\\"78.0\\\",\\\"78.1\\\",\\\"78.2\\\",\\\"78.3\\\",\\\"78.4\\\",\\\"78.5\\\",\\\"78.6\\\",\\\"78.7\\\",\\\"78.8\\\",\\\"78.9\\\",\\\"79.0\\\",\\\"79.1\\\",\\\"79.2\\\",\\\"79.3\\\",\\\"79.4\\\",\\\"79.5\\\",\\\"79.6\\\",\\\"79.7\\\",\\\"79.8\\\",\\\"79.9\\\",\\\"80.0\\\",\\\"80.1\\\",\\\"80.2\\\",\\\"80.3\\\",\\\"80.4\\\",\\\"80.5\\\",\\\"80.6\\\",\\\"80.7\\\",\\\"80.8\\\",\\\"80.9\\\",\\\"81.0\\\",\\\"81.1\\\",\\\"81.2\\\",\\\"81.3\\\",\\\"81.4\\\",\\\"81.5\\\",\\\"81.6\\\",\\\"81.7\\\",\\\"81.8\\\",\\\"81.9\\\",\\\"82.0\\\",\\\"82.1\\\",\\\"82.2\\\",\\\"82.3\\\",\\\"82.4\\\",\\\"82.5\\\",\\\"82.6\\\",\\\"82.7\\\",\\\"82.8\\\",\\\"82.9\\\",\\\"83.0\\\",\\\"83.1\\\",\\\"83.2\\\",\\\"83.3\\\",\\\"83.4\\\",\\\"83.5\\\",\\\"83.6\\\",\\\"83.7\\\",\\\"83.8\\\",\\\"83.9\\\",\\\"84.0\\\",\\\"84.1\\\",\\\"84.2\\\",\\\"84.3\\\",\\\"84.4\\\",\\\"84.5\\\",\\\"84.6\\\",\\\"84.7\\\",\\\"84.8\\\",\\\"84.9\\\",\\\"85.0\\\",\\\"85.1\\\",\\\"85.2\\\",\\\"85.3\\\",\\\"85.4\\\",\\\"85.5\\\",\\\"85.6\\\",\\\"85.7\\\",\\\"85.8\\\",\\\"85.9\\\",\\\"86.0\\\",\\\"86.1\\\",\\\"86.2\\\",\\\"86.3\\\",\\\"86.4\\\",\\\"86.5\\\",\\\"86.6\\\",\\\"86.7\\\",\\\"86.8\\\",\\\"86.9\\\",\\\"87.0\\\",\\\"87.1\\\",\\\"87.2\\\",\\\"87.3\\\",\\\"87.4\\\",\\\"87.5\\\",\\\"87.6\\\",\\\"87.7\\\",\\\"87.8\\\",\\\"87.9\\\",\\\"88.0\\\",\\\"88.1\\\",\\\"88.2\\\",\\\"88.3\\\",\\\"88.4\\\",\\\"88.5\\\",\\\"88.6\\\",\\\"88.7\\\",\\\"88.8\\\",\\\"88.9\\\",\\\"89.0\\\",\\\"89.1\\\",\\\"89.2\\\",\\\"89.3\\\",\\\"89.4\\\",\\\"89.5\\\",\\\"89.6\\\",\\\"89.7\\\",\\\"89.8\\\",\\\"89.9\\\",\\\"90.0\\\",\\\"90.1\\\",\\\"90.2\\\",\\\"90.3\\\",\\\"90.4\\\",\\\"90.5\\\",\\\"90.6\\\",\\\"90.7\\\",\\\"90.8\\\",\\\"90.9\\\",\\\"91.0\\\",\\\"91.1\\\",\\\"91.2\\\",\\\"91.3\\\",\\\"91.4\\\",\\\"91.5\\\",\\\"91.6\\\",\\\"91.7\\\",\\\"91.8\\\",\\\"91.9\\\",\\\"92.0\\\",\\\"92.1\\\",\\\"92.2\\\",\\\"92.3\\\",\\\"92.4\\\",\\\"92.5\\\",\\\"92.6\\\",\\\"92.7\\\",\\\"92.8\\\",\\\"92.9\\\",\\\"93.0\\\",\\\"93.1\\\",\\\"93.2\\\",\\\"93.3\\\",\\\"93.4\\\",\\\"93.5\\\",\\\"93.6\\\",\\\"93.7\\\",\\\"93.8\\\",\\\"93.9\\\",\\\"94.0\\\",\\\"94.1\\\",\\\"94.2\\\",\\\"94.3\\\",\\\"94.4\\\",\\\"94.5\\\",\\\"94.6\\\",\\\"94.7\\\",\\\"94.8\\\",\\\"94.9\\\",\\\"95.0\\\",\\\"95.1\\\",\\\"95.2\\\",\\\"95.3\\\",\\\"95.4\\\",\\\"95.5\\\",\\\"95.6\\\",\\\"95.7\\\",\\\"95.8\\\",\\\"95.9\\\",\\\"96.0\\\",\\\"96.1\\\",\\\"96.2\\\",\\\"96.3\\\",\\\"96.4\\\",\\\"96.5\\\",\\\"96.6\\\",\\\"96.7\\\",\\\"96.8\\\",\\\"96.9\\\",\\\"97.0\\\",\\\"97.1\\\",\\\"97.2\\\",\\\"97.3\\\",\\\"97.4\\\",\\\"97.5\\\",\\\"97.6\\\",\\\"97.7\\\",\\\"97.8\\\",\\\"97.9\\\",\\\"98.0\\\",\\\"98.1\\\",\\\"98.2\\\",\\\"98.3\\\",\\\"98.4\\\",\\\"98.5\\\",\\\"98.6\\\",\\\"98.7\\\",\\\"98.8\\\",\\\"98.9\\\",\\\"99.0\\\",\\\"99.1\\\",\\\"99.2\\\",\\\"99.3\\\",\\\"99.4\\\",\\\"99.5\\\",\\\"99.6\\\",\\\"99.7\\\",\\\"99.8\\\",\\\"99.9\\\",\\\"100.0\\\"]};\\n    var self = this;\\n    function AppViewModel() {\\n        for (var key in json_data) {\\n            var el = json_data[key];\\n            this[key] = Array.isArray(el) ? ko.observableArray(el) : ko.observable(el);\\n        }\\n        \\n        [this[\\\"formatted_val\\\"]=ko.computed(    function(){\\n        return this.formatted_vals()[parseInt(this.index())-(1)];\\n    }\\n,this)]\\n        [this[\\\"index\\\"].subscribe((function (val){!(this.valueFromJulia[\\\"index\\\"]) ? (WebIO.setval({\\\"id\\\":\\\"11\\\",\\\"name\\\":\\\"index\\\",\\\"type\\\":\\\"observable\\\",\\\"scope\\\":\\\"3905665195\\\"},val)) : undefined; return this.valueFromJulia[\\\"index\\\"]=false}),self),this[\\\"changes\\\"].subscribe((function (val){!(this.valueFromJulia[\\\"changes\\\"]) ? (WebIO.setval({\\\"id\\\":\\\"12\\\",\\\"name\\\":\\\"changes\\\",\\\"type\\\":\\\"observable\\\",\\\"scope\\\":\\\"3905665195\\\"},val)) : undefined; return this.valueFromJulia[\\\"changes\\\"]=false}),self)]\\n        \\n    }\\n    self.model = new AppViewModel();\\n    self.valueFromJulia = {};\\n    for (var key in json_data) {\\n        self.valueFromJulia[key] = false;\\n    }\\n    ko.applyBindings(self.model, self.dom);\\n}\\n);\\n    (WebIO.importBlock({\\\"data\\\":[{\\\"url\\\":\\\"\\/assetserver\\/0a8f371627acb0fbab7e7ff03e6794a95ee37ef5-knockout.js\\\",\\\"name\\\":\\\"knockout\\\",\\\"type\\\":\\\"js\\\"},{\\\"url\\\":\\\"\\/assetserver\\/9b3c694ae2b8b2559483df0ee4657f1f62c8c408-knockout_punches.js\\\",\\\"name\\\":\\\"knockout_punches\\\",\\\"type\\\":\\\"js\\\"}],\\\"type\\\":\\\"async_block\\\"})).then((imports) => handler.apply(this, imports));\\n}\\n\"],\"handlers\":{\"index\":[\"(function (val){return (val!=this.model[\\\"index\\\"]()) ? (this.valueFromJulia[\\\"index\\\"]=true, this.model[\\\"index\\\"](val)) : undefined})\"],\"changes\":[\"(function (val){return (val!=this.model[\\\"changes\\\"]()) ? (this.valueFromJulia[\\\"changes\\\"]=true, this.model[\\\"changes\\\"](val)) : undefined})\"]},\"observables\":{\"index\":{\"id\":\"11\",\"value\":101,\"sync\":true},\"changes\":{\"id\":\"12\",\"value\":0,\"sync\":false}},\"imports\":{\"data\":[{\"url\":\"\\/assetserver\\/0a8f371627acb0fbab7e7ff03e6794a95ee37ef5-knockout.js\",\"name\":\"knockout\",\"type\":\"js\"},{\"url\":\"\\/assetserver\\/9b3c694ae2b8b2559483df0ee4657f1f62c8c408-knockout_punches.js\",\"name\":\"knockout_punches\",\"type\":\"js\"},{\"url\":\"\\/assetserver\\/f88515f2eab9a880f440f4a02ad6bec39eab20f3-all.js\",\"name\":null,\"type\":\"js\"},{\"url\":\"\\/assetserver\\/1ca4083aec9453427e6ec123862050a8bb53b266-style.css\",\"name\":null,\"type\":\"css\"},{\"url\":\"\\/assetserver\\/9a1b433d0e3cd69e6f57207ad94f565eba9960c8-bulma_confined.min.css\",\"name\":null,\"type\":\"css\"}],\"type\":\"async_block\"}},\"type\":\"node\",\"children\":[{\"props\":{\"className\":\"interact-flex-row interact-widget\"},\"nodeType\":\"DOM\",\"instanceArgs\":{\"namespace\":\"html\",\"tag\":\"div\"},\"type\":\"node\",\"children\":[{\"props\":{\"className\":\"interact-flex-row-left\"},\"nodeType\":\"DOM\",\"instanceArgs\":{\"namespace\":\"html\",\"tag\":\"div\"},\"type\":\"node\",\"children\":[{\"props\":{\"style\":{\"padding\":\"5px 10px 0px 10px\"},\"className\":\"interact \"},\"nodeType\":\"DOM\",\"instanceArgs\":{\"namespace\":\"html\",\"tag\":\"label\"},\"type\":\"node\",\"children\":[\"Tiempo (s)\"]}]},{\"props\":{\"className\":\"interact-flex-row-center\"},\"nodeType\":\"DOM\",\"instanceArgs\":{\"namespace\":\"html\",\"tag\":\"div\"},\"type\":\"node\",\"children\":[{\"props\":{\"style\":{},\"className\":\"slider slider is-fullwidth\",\"max\":1001,\"attributes\":{\"orient\":\"horizontal\",\"data-bind\":\"numericValue: index, valueUpdate: 'input', event: {change: function (){this.changes(this.changes()+1)}}\",\"type\":\"range\"},\"step\":1,\"min\":1},\"nodeType\":\"DOM\",\"instanceArgs\":{\"namespace\":\"html\",\"tag\":\"input\"},\"type\":\"node\",\"children\":[]}]},{\"props\":{\"className\":\"interact-flex-row-right\"},\"nodeType\":\"DOM\",\"instanceArgs\":{\"namespace\":\"html\",\"tag\":\"div\"},\"type\":\"node\",\"children\":[{\"props\":{\"attributes\":{\"data-bind\":\"text: formatted_val\"}},\"nodeType\":\"DOM\",\"instanceArgs\":{\"namespace\":\"html\",\"tag\":\"p\"},\"type\":\"node\",\"children\":[]}]}]}]}]},{\"props\":{},\"nodeType\":\"Scope\",\"instanceArgs\":{\"id\":\"587224606\",\"systemjs_options\":null,\"mount_callbacks\":[],\"handlers\":{},\"observables\":{\"obs-node\":{\"id\":\"16\",\"value\":{\"props\":{\"className\":\"interact-flex-row interact-widget\"},\"nodeType\":\"DOM\",\"instanceArgs\":{\"namespace\":\"html\",\"tag\":\"div\"},\"type\":\"node\",\"children\":[\"\"]},\"sync\":false}},\"imports\":{\"data\":[],\"type\":\"async_block\"}},\"type\":\"node\",\"children\":[{\"props\":{},\"nodeType\":\"ObservableNode\",\"instanceArgs\":{\"id\":\"16\",\"name\":\"obs-node\"},\"type\":\"node\",\"children\":[]}]}]},\n",
       "        window,\n",
       "    );\n",
       "    })()\n",
       "    </script>\n",
       "</div>\n"
      ],
      "text/plain": [
       "Node{WebIO.DOM}(WebIO.DOM(:html, :div), Any[Node{WebIO.DOM}(WebIO.DOM(:html, :div), Any[Scope(Node{WebIO.DOM}(WebIO.DOM(:html, :div), Any[Node{WebIO.DOM}(WebIO.DOM(:html, :div), Any[Node{WebIO.DOM}(WebIO.DOM(:html, :label), Any[\"Velocidad (m/s)\"], Dict{Symbol, Any}(:style => Dict{Any, Any}(:padding => \"5px 10px 0px 10px\"), :className => \"interact \"))], Dict{Symbol, Any}(:className => \"interact-flex-row-left\")), Node{WebIO.DOM}(WebIO.DOM(:html, :div), Any[Node{WebIO.DOM}(WebIO.DOM(:html, :input), Any[], Dict{Symbol, Any}(:style => Dict{Any, Any}(), :className => \"slider slider is-fullwidth\", :max => 201, :attributes => Dict{Any, Any}(\"orient\" => \"horizontal\", Symbol(\"data-bind\") => \"numericValue: index, valueUpdate: 'input', event: {change: function (){this.changes(this.changes()+1)}}\", :type => \"range\"), :step => 1, :min => 1))], Dict{Symbol, Any}(:className => \"interact-flex-row-center\")), Node{WebIO.DOM}(WebIO.DOM(:html, :div), Any[Node{WebIO.DOM}(WebIO.DOM(:html, :p), Any[], Dict{Symbol, Any}(:attributes => Dict(\"data-bind\" => \"text: formatted_val\")))], Dict{Symbol, Any}(:className => \"interact-flex-row-right\"))], Dict{Symbol, Any}(:className => \"interact-flex-row interact-widget\")), Dict{String, Tuple{AbstractObservable, Union{Nothing, Bool}}}(\"index\" => (Observable{Any}(101), nothing), \"changes\" => (Observable(0), nothing)), Set{String}(), nothing, Asset[Asset(\"js\", \"knockout\", \"C:\\\\Users\\\\Work\\\\.julia\\\\packages\\\\Knockout\\\\HReiN\\\\src\\\\..\\\\assets\\\\knockout.js\"), Asset(\"js\", \"knockout_punches\", \"C:\\\\Users\\\\Work\\\\.julia\\\\packages\\\\Knockout\\\\HReiN\\\\src\\\\..\\\\assets\\\\knockout_punches.js\"), Asset(\"js\", nothing, \"C:\\\\Users\\\\Work\\\\.julia\\\\packages\\\\InteractBase\\\\LJXv3\\\\src\\\\..\\\\assets\\\\all.js\"), Asset(\"css\", nothing, \"C:\\\\Users\\\\Work\\\\.julia\\\\packages\\\\InteractBase\\\\LJXv3\\\\src\\\\..\\\\assets\\\\style.css\"), Asset(\"css\", nothing, \"C:\\\\Users\\\\Work\\\\.julia\\\\packages\\\\Interact\\\\PENUy\\\\src\\\\..\\\\assets\\\\bulma_confined.min.css\")], Dict{Any, Any}(\"index\" => Any[WebIO.JSString(\"(function (val){return (val!=this.model[\\\"index\\\"]()) ? (this.valueFromJulia[\\\"index\\\"]=true, this.model[\\\"index\\\"](val)) : undefined})\")], \"changes\" => Any[WebIO.JSString(\"(function (val){return (val!=this.model[\\\"changes\\\"]()) ? (this.valueFromJulia[\\\"changes\\\"]=true, this.model[\\\"changes\\\"](val)) : undefined})\")]), WebIO.ConnectionPool(Channel{Any}(32), Set{AbstractConnection}(), Base.GenericCondition{ReentrantLock}(Base.IntrusiveLinkedList{Task}(Task (runnable) @0x27e50f80, Task (runnable) @0x27e50f80), ReentrantLock(nothing, 0x00000000, 0x00, Base.GenericCondition{Base.Threads.SpinLock}(Base.IntrusiveLinkedList{Task}(nothing, nothing), Base.Threads.SpinLock(0)), (8, 0)))), WebIO.JSString[WebIO.JSString(\"function () {\\n    var handler = (function (ko, koPunches) {\\n    ko.punches.enableAll();\\n    ko.bindingHandlers.numericValue = {\\n        init: function(element, valueAccessor, allBindings, data, context) {\\n            var stringified = ko.observable(ko.unwrap(valueAccessor()));\\n            stringified.subscribe(function(value) {\\n                var val = parseFloat(value);\\n                if (!isNaN(val)) {\\n                    valueAccessor()(val);\\n                }\\n            });\\n            valueAccessor().subscribe(function(value) {\\n                var str = JSON.stringify(value);\\n                if ((str == \\\"0\\\") && ([\\\"-0\\\", \\\"-0.\\\"].indexOf(stringified()) >= 0))\\n                     return;\\n                 if ([\\\"null\\\", \\\"\\\"].indexOf(str) >= 0)\\n                     return;\\n                stringified(str);\\n            });\\n            ko.applyBindingsToNode(\\n                element,\\n                {\\n                    value: stringified,\\n                    valueUpdate: allBindings.get('valueUpdate'),\\n                },\\n                context,\\n            );\\n        }\\n    };\\n    var json_data = {\\\"index\\\":WebIO.getval({\\\"id\\\":\\\"8\\\",\\\"name\\\":\\\"index\\\",\\\"type\\\":\\\"observable\\\",\\\"scope\\\":\\\"3173315123\\\"}),\\\"changes\\\":WebIO.getval({\\\"id\\\":\\\"9\\\",\\\"name\\\":\\\"changes\\\",\\\"type\\\":\\\"observable\\\",\\\"scope\\\":\\\"3173315123\\\"}),\\\"formatted_vals\\\":[\\\"0.0\\\",\\\"0.1\\\",\\\"0.2\\\",\\\"0.3\\\",\\\"0.4\\\",\\\"0.5\\\",\\\"0.6\\\",\\\"0.7\\\",\\\"0.8\\\",\\\"0.9\\\",\\\"1.0\\\",\\\"1.1\\\",\\\"1.2\\\",\\\"1.3\\\",\\\"1.4\\\",\\\"1.5\\\",\\\"1.6\\\",\\\"1.7\\\",\\\"1.8\\\",\\\"1.9\\\",\\\"2.0\\\",\\\"2.1\\\",\\\"2.2\\\",\\\"2.3\\\",\\\"2.4\\\",\\\"2.5\\\",\\\"2.6\\\",\\\"2.7\\\",\\\"2.8\\\",\\\"2.9\\\",\\\"3.0\\\",\\\"3.1\\\",\\\"3.2\\\",\\\"3.3\\\",\\\"3.4\\\",\\\"3.5\\\",\\\"3.6\\\",\\\"3.7\\\",\\\"3.8\\\",\\\"3.9\\\",\\\"4.0\\\",\\\"4.1\\\",\\\"4.2\\\",\\\"4.3\\\",\\\"4.4\\\",\\\"4.5\\\",\\\"4.6\\\",\\\"4.7\\\",\\\"4.8\\\",\\\"4.9\\\",\\\"5.0\\\",\\\"5.1\\\",\\\"5.2\\\",\\\"5.3\\\",\\\"5.4\\\",\\\"5.5\\\",\\\"5.6\\\",\\\"5.7\\\",\\\"5.8\\\",\\\"5.9\\\",\\\"6.0\\\",\\\"6.1\\\",\\\"6.2\\\",\\\"6.3\\\",\\\"6.4\\\",\\\"6.5\\\",\\\"6.6\\\",\\\"6.7\\\",\\\"6.8\\\",\\\"6.9\\\",\\\"7.0\\\",\\\"7.1\\\",\\\"7.2\\\",\\\"7.3\\\",\\\"7.4\\\",\\\"7.5\\\",\\\"7.6\\\",\\\"7.7\\\",\\\"7.8\\\",\\\"7.9\\\",\\\"8.0\\\",\\\"8.1\\\",\\\"8.2\\\",\\\"8.3\\\",\\\"8.4\\\",\\\"8.5\\\",\\\"8.6\\\",\\\"8.7\\\",\\\"8.8\\\",\\\"8.9\\\",\\\"9.0\\\",\\\"9.1\\\",\\\"9.2\\\",\\\"9.3\\\",\\\"9.4\\\",\\\"9.5\\\",\\\"9.6\\\",\\\"9.7\\\",\\\"9.8\\\",\\\"9.9\\\",\\\"10.0\\\",\\\"10.1\\\",\\\"10.2\\\",\\\"10.3\\\",\\\"10.4\\\",\\\"10.5\\\",\\\"10.6\\\",\\\"10.7\\\",\\\"10.8\\\",\\\"10.9\\\",\\\"11.0\\\",\\\"11.1\\\",\\\"11.2\\\",\\\"11.3\\\",\\\"11.4\\\",\\\"11.5\\\",\\\"11.6\\\",\\\"11.7\\\",\\\"11.8\\\",\\\"11.9\\\",\\\"12.0\\\",\\\"12.1\\\",\\\"12.2\\\",\\\"12.3\\\",\\\"12.4\\\",\\\"12.5\\\",\\\"12.6\\\",\\\"12.7\\\",\\\"12.8\\\",\\\"12.9\\\",\\\"13.0\\\",\\\"13.1\\\",\\\"13.2\\\",\\\"13.3\\\",\\\"13.4\\\",\\\"13.5\\\",\\\"13.6\\\",\\\"13.7\\\",\\\"13.8\\\",\\\"13.9\\\",\\\"14.0\\\",\\\"14.1\\\",\\\"14.2\\\",\\\"14.3\\\",\\\"14.4\\\",\\\"14.5\\\",\\\"14.6\\\",\\\"14.7\\\",\\\"14.8\\\",\\\"14.9\\\",\\\"15.0\\\",\\\"15.1\\\",\\\"15.2\\\",\\\"15.3\\\",\\\"15.4\\\",\\\"15.5\\\",\\\"15.6\\\",\\\"15.7\\\",\\\"15.8\\\",\\\"15.9\\\",\\\"16.0\\\",\\\"16.1\\\",\\\"16.2\\\",\\\"16.3\\\",\\\"16.4\\\",\\\"16.5\\\",\\\"16.6\\\",\\\"16.7\\\",\\\"16.8\\\",\\\"16.9\\\",\\\"17.0\\\",\\\"17.1\\\",\\\"17.2\\\",\\\"17.3\\\",\\\"17.4\\\",\\\"17.5\\\",\\\"17.6\\\",\\\"17.7\\\",\\\"17.8\\\",\\\"17.9\\\",\\\"18.0\\\",\\\"18.1\\\",\\\"18.2\\\",\\\"18.3\\\",\\\"18.4\\\",\\\"18.5\\\",\\\"18.6\\\",\\\"18.7\\\",\\\"18.8\\\",\\\"18.9\\\",\\\"19.0\\\",\\\"19.1\\\",\\\"19.2\\\",\\\"19.3\\\",\\\"19.4\\\",\\\"19.5\\\",\\\"19.6\\\",\\\"19.7\\\",\\\"19.8\\\",\\\"19.9\\\",\\\"20.0\\\"]};\\n    var self = this;\\n    function AppViewModel() {\\n        for (var key in json_data) {\\n            var el = json_data[key];\\n            this[key] = Array.isArray(el) ? ko.observableArray(el) : ko.observable(el);\\n        }\\n        \\n        [this[\\\"formatted_val\\\"]=ko.computed(    function(){\\n        return this.formatted_vals()[parseInt(this.index())-(1)];\\n    }\\n,this)]\\n        [this[\\\"index\\\"].subscribe((function (val){!(this.valueFromJulia[\\\"index\\\"]) ? (WebIO.setval({\\\"id\\\":\\\"8\\\",\\\"name\\\":\\\"index\\\",\\\"type\\\":\\\"observable\\\",\\\"scope\\\":\\\"3173315123\\\"},val)) : undefined; return this.valueFromJulia[\\\"index\\\"]=false}),self),this[\\\"changes\\\"].subscribe((function (val){!(this.valueFromJulia[\\\"changes\\\"]) ? (WebIO.setval({\\\"id\\\":\\\"9\\\",\\\"name\\\":\\\"changes\\\",\\\"type\\\":\\\"observable\\\",\\\"scope\\\":\\\"3173315123\\\"},val)) : undefined; return this.valueFromJulia[\\\"changes\\\"]=false}),self)]\\n        \\n    }\\n    self.model = new AppViewModel();\\n    self.valueFromJulia = {};\\n    for (var key in json_data) {\\n        self.valueFromJulia[key] = false;\\n    }\\n    ko.applyBindings(self.model, self.dom);\\n}\\n);\\n    (WebIO.importBlock({\\\"data\\\":[{\\\"url\\\":\\\"/assetserver/0a8f371627acb0fbab7e7ff03e6794a95ee37ef5-knockout.js\\\",\\\"name\\\":\\\"knockout\\\",\\\"type\\\":\\\"js\\\"},{\\\"url\\\":\\\"/assetserver/9b3c694ae2b8b2559483df0ee4657f1f62c8c408-knockout_punches.js\\\",\\\"name\\\":\\\"knockout_punches\\\",\\\"type\\\":\\\"js\\\"}],\\\"type\\\":\\\"async_block\\\"})).then((imports) => handler.apply(this, imports));\\n}\\n\")])], Dict{Symbol, Any}(:className => \"field interact-widget\")), Node{WebIO.DOM}(WebIO.DOM(:html, :div), Any[Scope(Node{WebIO.DOM}(WebIO.DOM(:html, :div), Any[Node{WebIO.DOM}(WebIO.DOM(:html, :div), Any[Node{WebIO.DOM}(WebIO.DOM(:html, :label), Any[\"Tiempo (s)\"], Dict{Symbol, Any}(:style => Dict{Any, Any}(:padding => \"5px 10px 0px 10px\"), :className => \"interact \"))], Dict{Symbol, Any}(:className => \"interact-flex-row-left\")), Node{WebIO.DOM}(WebIO.DOM(:html, :div), Any[Node{WebIO.DOM}(WebIO.DOM(:html, :input), Any[], Dict{Symbol, Any}(:style => Dict{Any, Any}(), :className => \"slider slider is-fullwidth\", :max => 1001, :attributes => Dict{Any, Any}(\"orient\" => \"horizontal\", Symbol(\"data-bind\") => \"numericValue: index, valueUpdate: 'input', event: {change: function (){this.changes(this.changes()+1)}}\", :type => \"range\"), :step => 1, :min => 1))], Dict{Symbol, Any}(:className => \"interact-flex-row-center\")), Node{WebIO.DOM}(WebIO.DOM(:html, :div), Any[Node{WebIO.DOM}(WebIO.DOM(:html, :p), Any[], Dict{Symbol, Any}(:attributes => Dict(\"data-bind\" => \"text: formatted_val\")))], Dict{Symbol, Any}(:className => \"interact-flex-row-right\"))], Dict{Symbol, Any}(:className => \"interact-flex-row interact-widget\")), Dict{String, Tuple{AbstractObservable, Union{Nothing, Bool}}}(\"index\" => (Observable{Any}(101), nothing), \"changes\" => (Observable(0), nothing)), Set{String}(), nothing, Asset[Asset(\"js\", \"knockout\", \"C:\\\\Users\\\\Work\\\\.julia\\\\packages\\\\Knockout\\\\HReiN\\\\src\\\\..\\\\assets\\\\knockout.js\"), Asset(\"js\", \"knockout_punches\", \"C:\\\\Users\\\\Work\\\\.julia\\\\packages\\\\Knockout\\\\HReiN\\\\src\\\\..\\\\assets\\\\knockout_punches.js\"), Asset(\"js\", nothing, \"C:\\\\Users\\\\Work\\\\.julia\\\\packages\\\\InteractBase\\\\LJXv3\\\\src\\\\..\\\\assets\\\\all.js\"), Asset(\"css\", nothing, \"C:\\\\Users\\\\Work\\\\.julia\\\\packages\\\\InteractBase\\\\LJXv3\\\\src\\\\..\\\\assets\\\\style.css\"), Asset(\"css\", nothing, \"C:\\\\Users\\\\Work\\\\.julia\\\\packages\\\\Interact\\\\PENUy\\\\src\\\\..\\\\assets\\\\bulma_confined.min.css\")], Dict{Any, Any}(\"index\" => Any[WebIO.JSString(\"(function (val){return (val!=this.model[\\\"index\\\"]()) ? (this.valueFromJulia[\\\"index\\\"]=true, this.model[\\\"index\\\"](val)) : undefined})\")], \"changes\" => Any[WebIO.JSString(\"(function (val){return (val!=this.model[\\\"changes\\\"]()) ? (this.valueFromJulia[\\\"changes\\\"]=true, this.model[\\\"changes\\\"](val)) : undefined})\")]), WebIO.ConnectionPool(Channel{Any}(32), Set{AbstractConnection}(), Base.GenericCondition{ReentrantLock}(Base.IntrusiveLinkedList{Task}(Task (runnable) @0x27e51050, Task (runnable) @0x27e51050), ReentrantLock(nothing, 0x00000000, 0x00, Base.GenericCondition{Base.Threads.SpinLock}(Base.IntrusiveLinkedList{Task}(nothing, nothing), Base.Threads.SpinLock(0)), (1, 165997892)))), WebIO.JSString[WebIO.JSString(\"function () {\\n    var handler = (function (ko, koPunches) {\\n    ko.punches.enableAll();\\n    ko.bindingHandlers.numericValue = {\\n        init: function(element, valueAccessor, allBindings, data, context) {\\n            var stringified = ko.observable(ko.unwrap(valueAccessor()));\\n            stringified.subscribe(function(value) {\\n                var val = parseFloat(value);\\n                if (!isNaN(val)) {\\n                    valueAccessor()(val);\\n                }\\n            });\\n            valueAccessor().subscribe(function(value) {\\n                var str = JSON.stringify(value);\\n                if ((str == \\\"0\\\") && ([\\\"-0\\\", \\\"-0.\\\"].indexOf(stringified()) >= 0))\\n                     return;\\n                 if ([\\\"null\\\", \\\"\\\"].indexOf(str) >= 0)\\n                     return;\\n                stringified(str);\\n            });\\n            ko.applyBindingsToNode(\\n                element,\\n                {\\n                    value: stringified,\\n                    valueUpdate: allBindings.get('valueUpdate'),\\n                },\\n                context,\\n            );\\n        }\\n    };\\n    var json_data = {\\\"index\\\":WebIO.getval({\\\"id\\\":\\\"11\\\",\\\"name\\\":\\\"index\\\",\\\"type\\\":\\\"observable\\\",\\\"scope\\\":\\\"3905665195\\\"}),\\\"changes\\\":WebIO.getval({\\\"id\\\":\\\"12\\\",\\\"name\\\":\\\"changes\\\",\\\"type\\\":\\\"observable\\\",\\\"scope\\\":\\\"3905665195\\\"}),\\\"formatted_vals\\\":[\\\"0.0\\\",\\\"0.1\\\",\\\"0.2\\\",\\\"0.3\\\",\\\"0.4\\\",\\\"0.5\\\",\\\"0.6\\\",\\\"0.7\\\",\\\"0.8\\\",\\\"0.9\\\",\\\"1.0\\\",\\\"1.1\\\",\\\"1.2\\\",\\\"1.3\\\",\\\"1.4\\\",\\\"1.5\\\",\\\"1.6\\\",\\\"1.7\\\",\\\"1.8\\\",\\\"1.9\\\",\\\"2.0\\\",\\\"2.1\\\",\\\"2.2\\\",\\\"2.3\\\",\\\"2.4\\\",\\\"2.5\\\",\\\"2.6\\\",\\\"2.7\\\",\\\"2.8\\\",\\\"2.9\\\",\\\"3.0\\\",\\\"3.1\\\",\\\"3.2\\\",\\\"3.3\\\",\\\"3.4\\\",\\\"3.5\\\",\\\"3.6\\\",\\\"3.7\\\",\\\"3.8\\\",\\\"3.9\\\",\\\"4.0\\\",\\\"4.1\\\",\\\"4.2\\\",\\\"4.3\\\",\\\"4.4\\\",\\\"4.5\\\",\\\"4.6\\\",\\\"4.7\\\",\\\"4.8\\\",\\\"4.9\\\",\\\"5.0\\\",\\\"5.1\\\",\\\"5.2\\\",\\\"5.3\\\",\\\"5.4\\\",\\\"5.5\\\",\\\"5.6\\\",\\\"5.7\\\",\\\"5.8\\\",\\\"5.9\\\",\\\"6.0\\\",\\\"6.1\\\",\\\"6.2\\\",\\\"6.3\\\",\\\"6.4\\\",\\\"6.5\\\",\\\"6.6\\\",\\\"6.7\\\",\\\"6.8\\\",\\\"6.9\\\",\\\"7.0\\\",\\\"7.1\\\",\\\"7.2\\\",\\\"7.3\\\",\\\"7.4\\\",\\\"7.5\\\",\\\"7.6\\\",\\\"7.7\\\",\\\"7.8\\\",\\\"7.9\\\",\\\"8.0\\\",\\\"8.1\\\",\\\"8.2\\\",\\\"8.3\\\",\\\"8.4\\\",\\\"8.5\\\",\\\"8.6\\\",\\\"8.7\\\",\\\"8.8\\\",\\\"8.9\\\",\\\"9.0\\\",\\\"9.1\\\",\\\"9.2\\\",\\\"9.3\\\",\\\"9.4\\\",\\\"9.5\\\",\\\"9.6\\\",\\\"9.7\\\",\\\"9.8\\\",\\\"9.9\\\",\\\"10.0\\\",\\\"10.1\\\",\\\"10.2\\\",\\\"10.3\\\",\\\"10.4\\\",\\\"10.5\\\",\\\"10.6\\\",\\\"10.7\\\",\\\"10.8\\\",\\\"10.9\\\",\\\"11.0\\\",\\\"11.1\\\",\\\"11.2\\\",\\\"11.3\\\",\\\"11.4\\\",\\\"11.5\\\",\\\"11.6\\\",\\\"11.7\\\",\\\"11.8\\\",\\\"11.9\\\",\\\"12.0\\\",\\\"12.1\\\",\\\"12.2\\\",\\\"12.3\\\",\\\"12.4\\\",\\\"12.5\\\",\\\"12.6\\\",\\\"12.7\\\",\\\"12.8\\\",\\\"12.9\\\",\\\"13.0\\\",\\\"13.1\\\",\\\"13.2\\\",\\\"13.3\\\",\\\"13.4\\\",\\\"13.5\\\",\\\"13.6\\\",\\\"13.7\\\",\\\"13.8\\\",\\\"13.9\\\",\\\"14.0\\\",\\\"14.1\\\",\\\"14.2\\\",\\\"14.3\\\",\\\"14.4\\\",\\\"14.5\\\",\\\"14.6\\\",\\\"14.7\\\",\\\"14.8\\\",\\\"14.9\\\",\\\"15.0\\\",\\\"15.1\\\",\\\"15.2\\\",\\\"15.3\\\",\\\"15.4\\\",\\\"15.5\\\",\\\"15.6\\\",\\\"15.7\\\",\\\"15.8\\\",\\\"15.9\\\",\\\"16.0\\\",\\\"16.1\\\",\\\"16.2\\\",\\\"16.3\\\",\\\"16.4\\\",\\\"16.5\\\",\\\"16.6\\\",\\\"16.7\\\",\\\"16.8\\\",\\\"16.9\\\",\\\"17.0\\\",\\\"17.1\\\",\\\"17.2\\\",\\\"17.3\\\",\\\"17.4\\\",\\\"17.5\\\",\\\"17.6\\\",\\\"17.7\\\",\\\"17.8\\\",\\\"17.9\\\",\\\"18.0\\\",\\\"18.1\\\",\\\"18.2\\\",\\\"18.3\\\",\\\"18.4\\\",\\\"18.5\\\",\\\"18.6\\\",\\\"18.7\\\",\\\"18.8\\\",\\\"18.9\\\",\\\"19.0\\\",\\\"19.1\\\",\\\"19.2\\\",\\\"19.3\\\",\\\"19.4\\\",\\\"19.5\\\",\\\"19.6\\\",\\\"19.7\\\",\\\"19.8\\\",\\\"19.9\\\",\\\"20.0\\\",\\\"20.1\\\",\\\"20.2\\\",\\\"20.3\\\",\\\"20.4\\\",\\\"20.5\\\",\\\"20.6\\\",\\\"20.7\\\",\\\"20.8\\\",\\\"20.9\\\",\\\"21.0\\\",\\\"21.1\\\",\\\"21.2\\\",\\\"21.3\\\",\\\"21.4\\\",\\\"21.5\\\",\\\"21.6\\\",\\\"21.7\\\",\\\"21.8\\\",\\\"21.9\\\",\\\"22.0\\\",\\\"22.1\\\",\\\"22.2\\\",\\\"22.3\\\",\\\"22.4\\\",\\\"22.5\\\",\\\"22.6\\\",\\\"22.7\\\",\\\"22.8\\\",\\\"22.9\\\",\\\"23.0\\\",\\\"23.1\\\",\\\"23.2\\\",\\\"23.3\\\",\\\"23.4\\\",\\\"23.5\\\",\\\"23.6\\\",\\\"23.7\\\",\\\"23.8\\\",\\\"23.9\\\",\\\"24.0\\\",\\\"24.1\\\",\\\"24.2\\\",\\\"24.3\\\",\\\"24.4\\\",\\\"24.5\\\",\\\"24.6\\\",\\\"24.7\\\",\\\"24.8\\\",\\\"24.9\\\",\\\"25.0\\\",\\\"25.1\\\",\\\"25.2\\\",\\\"25.3\\\",\\\"25.4\\\",\\\"25.5\\\",\\\"25.6\\\",\\\"25.7\\\",\\\"25.8\\\",\\\"25.9\\\",\\\"26.0\\\",\\\"26.1\\\",\\\"26.2\\\",\\\"26.3\\\",\\\"26.4\\\",\\\"26.5\\\",\\\"26.6\\\",\\\"26.7\\\",\\\"26.8\\\",\\\"26.9\\\",\\\"27.0\\\",\\\"27.1\\\",\\\"27.2\\\",\\\"27.3\\\",\\\"27.4\\\",\\\"27.5\\\",\\\"27.6\\\",\\\"27.7\\\",\\\"27.8\\\",\\\"27.9\\\",\\\"28.0\\\",\\\"28.1\\\",\\\"28.2\\\",\\\"28.3\\\",\\\"28.4\\\",\\\"28.5\\\",\\\"28.6\\\",\\\"28.7\\\",\\\"28.8\\\",\\\"28.9\\\",\\\"29.0\\\",\\\"29.1\\\",\\\"29.2\\\",\\\"29.3\\\",\\\"29.4\\\",\\\"29.5\\\",\\\"29.6\\\",\\\"29.7\\\",\\\"29.8\\\",\\\"29.9\\\",\\\"30.0\\\",\\\"30.1\\\",\\\"30.2\\\",\\\"30.3\\\",\\\"30.4\\\",\\\"30.5\\\",\\\"30.6\\\",\\\"30.7\\\",\\\"30.8\\\",\\\"30.9\\\",\\\"31.0\\\",\\\"31.1\\\",\\\"31.2\\\",\\\"31.3\\\",\\\"31.4\\\",\\\"31.5\\\",\\\"31.6\\\",\\\"31.7\\\",\\\"31.8\\\",\\\"31.9\\\",\\\"32.0\\\",\\\"32.1\\\",\\\"32.2\\\",\\\"32.3\\\",\\\"32.4\\\",\\\"32.5\\\",\\\"32.6\\\",\\\"32.7\\\",\\\"32.8\\\",\\\"32.9\\\",\\\"33.0\\\",\\\"33.1\\\",\\\"33.2\\\",\\\"33.3\\\",\\\"33.4\\\",\\\"33.5\\\",\\\"33.6\\\",\\\"33.7\\\",\\\"33.8\\\",\\\"33.9\\\",\\\"34.0\\\",\\\"34.1\\\",\\\"34.2\\\",\\\"34.3\\\",\\\"34.4\\\",\\\"34.5\\\",\\\"34.6\\\",\\\"34.7\\\",\\\"34.8\\\",\\\"34.9\\\",\\\"35.0\\\",\\\"35.1\\\",\\\"35.2\\\",\\\"35.3\\\",\\\"35.4\\\",\\\"35.5\\\",\\\"35.6\\\",\\\"35.7\\\",\\\"35.8\\\",\\\"35.9\\\",\\\"36.0\\\",\\\"36.1\\\",\\\"36.2\\\",\\\"36.3\\\",\\\"36.4\\\",\\\"36.5\\\",\\\"36.6\\\",\\\"36.7\\\",\\\"36.8\\\",\\\"36.9\\\",\\\"37.0\\\",\\\"37.1\\\",\\\"37.2\\\",\\\"37.3\\\",\\\"37.4\\\",\\\"37.5\\\",\\\"37.6\\\",\\\"37.7\\\",\\\"37.8\\\",\\\"37.9\\\",\\\"38.0\\\",\\\"38.1\\\",\\\"38.2\\\",\\\"38.3\\\",\\\"38.4\\\",\\\"38.5\\\",\\\"38.6\\\",\\\"38.7\\\",\\\"38.8\\\",\\\"38.9\\\",\\\"39.0\\\",\\\"39.1\\\",\\\"39.2\\\",\\\"39.3\\\",\\\"39.4\\\",\\\"39.5\\\",\\\"39.6\\\",\\\"39.7\\\",\\\"39.8\\\",\\\"39.9\\\",\\\"40.0\\\",\\\"40.1\\\",\\\"40.2\\\",\\\"40.3\\\",\\\"40.4\\\",\\\"40.5\\\",\\\"40.6\\\",\\\"40.7\\\",\\\"40.8\\\",\\\"40.9\\\",\\\"41.0\\\",\\\"41.1\\\",\\\"41.2\\\",\\\"41.3\\\",\\\"41.4\\\",\\\"41.5\\\",\\\"41.6\\\",\\\"41.7\\\",\\\"41.8\\\",\\\"41.9\\\",\\\"42.0\\\",\\\"42.1\\\",\\\"42.2\\\",\\\"42.3\\\",\\\"42.4\\\",\\\"42.5\\\",\\\"42.6\\\",\\\"42.7\\\",\\\"42.8\\\",\\\"42.9\\\",\\\"43.0\\\",\\\"43.1\\\",\\\"43.2\\\",\\\"43.3\\\",\\\"43.4\\\",\\\"43.5\\\",\\\"43.6\\\",\\\"43.7\\\",\\\"43.8\\\",\\\"43.9\\\",\\\"44.0\\\",\\\"44.1\\\",\\\"44.2\\\",\\\"44.3\\\",\\\"44.4\\\",\\\"44.5\\\",\\\"44.6\\\",\\\"44.7\\\",\\\"44.8\\\",\\\"44.9\\\",\\\"45.0\\\",\\\"45.1\\\",\\\"45.2\\\",\\\"45.3\\\",\\\"45.4\\\",\\\"45.5\\\",\\\"45.6\\\",\\\"45.7\\\",\\\"45.8\\\",\\\"45.9\\\",\\\"46.0\\\",\\\"46.1\\\",\\\"46.2\\\",\\\"46.3\\\",\\\"46.4\\\",\\\"46.5\\\",\\\"46.6\\\",\\\"46.7\\\",\\\"46.8\\\",\\\"46.9\\\",\\\"47.0\\\",\\\"47.1\\\",\\\"47.2\\\",\\\"47.3\\\",\\\"47.4\\\",\\\"47.5\\\",\\\"47.6\\\",\\\"47.7\\\",\\\"47.8\\\",\\\"47.9\\\",\\\"48.0\\\",\\\"48.1\\\",\\\"48.2\\\",\\\"48.3\\\",\\\"48.4\\\",\\\"48.5\\\",\\\"48.6\\\",\\\"48.7\\\",\\\"48.8\\\",\\\"48.9\\\",\\\"49.0\\\",\\\"49.1\\\",\\\"49.2\\\",\\\"49.3\\\",\\\"49.4\\\",\\\"49.5\\\",\\\"49.6\\\",\\\"49.7\\\",\\\"49.8\\\",\\\"49.9\\\",\\\"50.0\\\",\\\"50.1\\\",\\\"50.2\\\",\\\"50.3\\\",\\\"50.4\\\",\\\"50.5\\\",\\\"50.6\\\",\\\"50.7\\\",\\\"50.8\\\",\\\"50.9\\\",\\\"51.0\\\",\\\"51.1\\\",\\\"51.2\\\",\\\"51.3\\\",\\\"51.4\\\",\\\"51.5\\\",\\\"51.6\\\",\\\"51.7\\\",\\\"51.8\\\",\\\"51.9\\\",\\\"52.0\\\",\\\"52.1\\\",\\\"52.2\\\",\\\"52.3\\\",\\\"52.4\\\",\\\"52.5\\\",\\\"52.6\\\",\\\"52.7\\\",\\\"52.8\\\",\\\"52.9\\\",\\\"53.0\\\",\\\"53.1\\\",\\\"53.2\\\",\\\"53.3\\\",\\\"53.4\\\",\\\"53.5\\\",\\\"53.6\\\",\\\"53.7\\\",\\\"53.8\\\",\\\"53.9\\\",\\\"54.0\\\",\\\"54.1\\\",\\\"54.2\\\",\\\"54.3\\\",\\\"54.4\\\",\\\"54.5\\\",\\\"54.6\\\",\\\"54.7\\\",\\\"54.8\\\",\\\"54.9\\\",\\\"55.0\\\",\\\"55.1\\\",\\\"55.2\\\",\\\"55.3\\\",\\\"55.4\\\",\\\"55.5\\\",\\\"55.6\\\",\\\"55.7\\\",\\\"55.8\\\",\\\"55.9\\\",\\\"56.0\\\",\\\"56.1\\\",\\\"56.2\\\",\\\"56.3\\\",\\\"56.4\\\",\\\"56.5\\\",\\\"56.6\\\",\\\"56.7\\\",\\\"56.8\\\",\\\"56.9\\\",\\\"57.0\\\",\\\"57.1\\\",\\\"57.2\\\",\\\"57.3\\\",\\\"57.4\\\",\\\"57.5\\\",\\\"57.6\\\",\\\"57.7\\\",\\\"57.8\\\",\\\"57.9\\\",\\\"58.0\\\",\\\"58.1\\\",\\\"58.2\\\",\\\"58.3\\\",\\\"58.4\\\",\\\"58.5\\\",\\\"58.6\\\",\\\"58.7\\\",\\\"58.8\\\",\\\"58.9\\\",\\\"59.0\\\",\\\"59.1\\\",\\\"59.2\\\",\\\"59.3\\\",\\\"59.4\\\",\\\"59.5\\\",\\\"59.6\\\",\\\"59.7\\\",\\\"59.8\\\",\\\"59.9\\\",\\\"60.0\\\",\\\"60.1\\\",\\\"60.2\\\",\\\"60.3\\\",\\\"60.4\\\",\\\"60.5\\\",\\\"60.6\\\",\\\"60.7\\\",\\\"60.8\\\",\\\"60.9\\\",\\\"61.0\\\",\\\"61.1\\\",\\\"61.2\\\",\\\"61.3\\\",\\\"61.4\\\",\\\"61.5\\\",\\\"61.6\\\",\\\"61.7\\\",\\\"61.8\\\",\\\"61.9\\\",\\\"62.0\\\",\\\"62.1\\\",\\\"62.2\\\",\\\"62.3\\\",\\\"62.4\\\",\\\"62.5\\\",\\\"62.6\\\",\\\"62.7\\\",\\\"62.8\\\",\\\"62.9\\\",\\\"63.0\\\",\\\"63.1\\\",\\\"63.2\\\",\\\"63.3\\\",\\\"63.4\\\",\\\"63.5\\\",\\\"63.6\\\",\\\"63.7\\\",\\\"63.8\\\",\\\"63.9\\\",\\\"64.0\\\",\\\"64.1\\\",\\\"64.2\\\",\\\"64.3\\\",\\\"64.4\\\",\\\"64.5\\\",\\\"64.6\\\",\\\"64.7\\\",\\\"64.8\\\",\\\"64.9\\\",\\\"65.0\\\",\\\"65.1\\\",\\\"65.2\\\",\\\"65.3\\\",\\\"65.4\\\",\\\"65.5\\\",\\\"65.6\\\",\\\"65.7\\\",\\\"65.8\\\",\\\"65.9\\\",\\\"66.0\\\",\\\"66.1\\\",\\\"66.2\\\",\\\"66.3\\\",\\\"66.4\\\",\\\"66.5\\\",\\\"66.6\\\",\\\"66.7\\\",\\\"66.8\\\",\\\"66.9\\\",\\\"67.0\\\",\\\"67.1\\\",\\\"67.2\\\",\\\"67.3\\\",\\\"67.4\\\",\\\"67.5\\\",\\\"67.6\\\",\\\"67.7\\\",\\\"67.8\\\",\\\"67.9\\\",\\\"68.0\\\",\\\"68.1\\\",\\\"68.2\\\",\\\"68.3\\\",\\\"68.4\\\",\\\"68.5\\\",\\\"68.6\\\",\\\"68.7\\\",\\\"68.8\\\",\\\"68.9\\\",\\\"69.0\\\",\\\"69.1\\\",\\\"69.2\\\",\\\"69.3\\\",\\\"69.4\\\",\\\"69.5\\\",\\\"69.6\\\",\\\"69.7\\\",\\\"69.8\\\",\\\"69.9\\\",\\\"70.0\\\",\\\"70.1\\\",\\\"70.2\\\",\\\"70.3\\\",\\\"70.4\\\",\\\"70.5\\\",\\\"70.6\\\",\\\"70.7\\\",\\\"70.8\\\",\\\"70.9\\\",\\\"71.0\\\",\\\"71.1\\\",\\\"71.2\\\",\\\"71.3\\\",\\\"71.4\\\",\\\"71.5\\\",\\\"71.6\\\",\\\"71.7\\\",\\\"71.8\\\",\\\"71.9\\\",\\\"72.0\\\",\\\"72.1\\\",\\\"72.2\\\",\\\"72.3\\\",\\\"72.4\\\",\\\"72.5\\\",\\\"72.6\\\",\\\"72.7\\\",\\\"72.8\\\",\\\"72.9\\\",\\\"73.0\\\",\\\"73.1\\\",\\\"73.2\\\",\\\"73.3\\\",\\\"73.4\\\",\\\"73.5\\\",\\\"73.6\\\",\\\"73.7\\\",\\\"73.8\\\",\\\"73.9\\\",\\\"74.0\\\",\\\"74.1\\\",\\\"74.2\\\",\\\"74.3\\\",\\\"74.4\\\",\\\"74.5\\\",\\\"74.6\\\",\\\"74.7\\\",\\\"74.8\\\",\\\"74.9\\\",\\\"75.0\\\",\\\"75.1\\\",\\\"75.2\\\",\\\"75.3\\\",\\\"75.4\\\",\\\"75.5\\\",\\\"75.6\\\",\\\"75.7\\\",\\\"75.8\\\",\\\"75.9\\\",\\\"76.0\\\",\\\"76.1\\\",\\\"76.2\\\",\\\"76.3\\\",\\\"76.4\\\",\\\"76.5\\\",\\\"76.6\\\",\\\"76.7\\\",\\\"76.8\\\",\\\"76.9\\\",\\\"77.0\\\",\\\"77.1\\\",\\\"77.2\\\",\\\"77.3\\\",\\\"77.4\\\",\\\"77.5\\\",\\\"77.6\\\",\\\"77.7\\\",\\\"77.8\\\",\\\"77.9\\\",\\\"78.0\\\",\\\"78.1\\\",\\\"78.2\\\",\\\"78.3\\\",\\\"78.4\\\",\\\"78.5\\\",\\\"78.6\\\",\\\"78.7\\\",\\\"78.8\\\",\\\"78.9\\\",\\\"79.0\\\",\\\"79.1\\\",\\\"79.2\\\",\\\"79.3\\\",\\\"79.4\\\",\\\"79.5\\\",\\\"79.6\\\",\\\"79.7\\\",\\\"79.8\\\",\\\"79.9\\\",\\\"80.0\\\",\\\"80.1\\\",\\\"80.2\\\",\\\"80.3\\\",\\\"80.4\\\",\\\"80.5\\\",\\\"80.6\\\",\\\"80.7\\\",\\\"80.8\\\",\\\"80.9\\\",\\\"81.0\\\",\\\"81.1\\\",\\\"81.2\\\",\\\"81.3\\\",\\\"81.4\\\",\\\"81.5\\\",\\\"81.6\\\",\\\"81.7\\\",\\\"81.8\\\",\\\"81.9\\\",\\\"82.0\\\",\\\"82.1\\\",\\\"82.2\\\",\\\"82.3\\\",\\\"82.4\\\",\\\"82.5\\\",\\\"82.6\\\",\\\"82.7\\\",\\\"82.8\\\",\\\"82.9\\\",\\\"83.0\\\",\\\"83.1\\\",\\\"83.2\\\",\\\"83.3\\\",\\\"83.4\\\",\\\"83.5\\\",\\\"83.6\\\",\\\"83.7\\\",\\\"83.8\\\",\\\"83.9\\\",\\\"84.0\\\",\\\"84.1\\\",\\\"84.2\\\",\\\"84.3\\\",\\\"84.4\\\",\\\"84.5\\\",\\\"84.6\\\",\\\"84.7\\\",\\\"84.8\\\",\\\"84.9\\\",\\\"85.0\\\",\\\"85.1\\\",\\\"85.2\\\",\\\"85.3\\\",\\\"85.4\\\",\\\"85.5\\\",\\\"85.6\\\",\\\"85.7\\\",\\\"85.8\\\",\\\"85.9\\\",\\\"86.0\\\",\\\"86.1\\\",\\\"86.2\\\",\\\"86.3\\\",\\\"86.4\\\",\\\"86.5\\\",\\\"86.6\\\",\\\"86.7\\\",\\\"86.8\\\",\\\"86.9\\\",\\\"87.0\\\",\\\"87.1\\\",\\\"87.2\\\",\\\"87.3\\\",\\\"87.4\\\",\\\"87.5\\\",\\\"87.6\\\",\\\"87.7\\\",\\\"87.8\\\",\\\"87.9\\\",\\\"88.0\\\",\\\"88.1\\\",\\\"88.2\\\",\\\"88.3\\\",\\\"88.4\\\",\\\"88.5\\\",\\\"88.6\\\",\\\"88.7\\\",\\\"88.8\\\",\\\"88.9\\\",\\\"89.0\\\",\\\"89.1\\\",\\\"89.2\\\",\\\"89.3\\\",\\\"89.4\\\",\\\"89.5\\\",\\\"89.6\\\",\\\"89.7\\\",\\\"89.8\\\",\\\"89.9\\\",\\\"90.0\\\",\\\"90.1\\\",\\\"90.2\\\",\\\"90.3\\\",\\\"90.4\\\",\\\"90.5\\\",\\\"90.6\\\",\\\"90.7\\\",\\\"90.8\\\",\\\"90.9\\\",\\\"91.0\\\",\\\"91.1\\\",\\\"91.2\\\",\\\"91.3\\\",\\\"91.4\\\",\\\"91.5\\\",\\\"91.6\\\",\\\"91.7\\\",\\\"91.8\\\",\\\"91.9\\\",\\\"92.0\\\",\\\"92.1\\\",\\\"92.2\\\",\\\"92.3\\\",\\\"92.4\\\",\\\"92.5\\\",\\\"92.6\\\",\\\"92.7\\\",\\\"92.8\\\",\\\"92.9\\\",\\\"93.0\\\",\\\"93.1\\\",\\\"93.2\\\",\\\"93.3\\\",\\\"93.4\\\",\\\"93.5\\\",\\\"93.6\\\",\\\"93.7\\\",\\\"93.8\\\",\\\"93.9\\\",\\\"94.0\\\",\\\"94.1\\\",\\\"94.2\\\",\\\"94.3\\\",\\\"94.4\\\",\\\"94.5\\\",\\\"94.6\\\",\\\"94.7\\\",\\\"94.8\\\",\\\"94.9\\\",\\\"95.0\\\",\\\"95.1\\\",\\\"95.2\\\",\\\"95.3\\\",\\\"95.4\\\",\\\"95.5\\\",\\\"95.6\\\",\\\"95.7\\\",\\\"95.8\\\",\\\"95.9\\\",\\\"96.0\\\",\\\"96.1\\\",\\\"96.2\\\",\\\"96.3\\\",\\\"96.4\\\",\\\"96.5\\\",\\\"96.6\\\",\\\"96.7\\\",\\\"96.8\\\",\\\"96.9\\\",\\\"97.0\\\",\\\"97.1\\\",\\\"97.2\\\",\\\"97.3\\\",\\\"97.4\\\",\\\"97.5\\\",\\\"97.6\\\",\\\"97.7\\\",\\\"97.8\\\",\\\"97.9\\\",\\\"98.0\\\",\\\"98.1\\\",\\\"98.2\\\",\\\"98.3\\\",\\\"98.4\\\",\\\"98.5\\\",\\\"98.6\\\",\\\"98.7\\\",\\\"98.8\\\",\\\"98.9\\\",\\\"99.0\\\",\\\"99.1\\\",\\\"99.2\\\",\\\"99.3\\\",\\\"99.4\\\",\\\"99.5\\\",\\\"99.6\\\",\\\"99.7\\\",\\\"99.8\\\",\\\"99.9\\\",\\\"100.0\\\"]};\\n    var self = this;\\n    function AppViewModel() {\\n        for (var key in json_data) {\\n            var el = json_data[key];\\n            this[key] = Array.isArray(el) ? ko.observableArray(el) : ko.observable(el);\\n        }\\n        \\n        [this[\\\"formatted_val\\\"]=ko.computed(    function(){\\n        return this.formatted_vals()[parseInt(this.index())-(1)];\\n    }\\n,this)]\\n        [this[\\\"index\\\"].subscribe((function (val){!(this.valueFromJulia[\\\"index\\\"]) ? (WebIO.setval({\\\"id\\\":\\\"11\\\",\\\"name\\\":\\\"index\\\",\\\"type\\\":\\\"observable\\\",\\\"scope\\\":\\\"3905665195\\\"},val)) : undefined; return this.valueFromJulia[\\\"index\\\"]=false}),self),this[\\\"changes\\\"].subscribe((function (val){!(this.valueFromJulia[\\\"changes\\\"]) ? (WebIO.setval({\\\"id\\\":\\\"12\\\",\\\"name\\\":\\\"changes\\\",\\\"type\\\":\\\"observable\\\",\\\"scope\\\":\\\"3905665195\\\"},val)) : undefined; return this.valueFromJulia[\\\"changes\\\"]=false}),self)]\\n        \\n    }\\n    self.model = new AppViewModel();\\n    self.valueFromJulia = {};\\n    for (var key in json_data) {\\n        self.valueFromJulia[key] = false;\\n    }\\n    ko.applyBindings(self.model, self.dom);\\n}\\n);\\n    (WebIO.importBlock({\\\"data\\\":[{\\\"url\\\":\\\"/assetserver/0a8f371627acb0fbab7e7ff03e6794a95ee37ef5-knockout.js\\\",\\\"name\\\":\\\"knockout\\\",\\\"type\\\":\\\"js\\\"},{\\\"url\\\":\\\"/assetserver/9b3c694ae2b8b2559483df0ee4657f1f62c8c408-knockout_punches.js\\\",\\\"name\\\":\\\"knockout_punches\\\",\\\"type\\\":\\\"js\\\"}],\\\"type\\\":\\\"async_block\\\"})).then((imports) => handler.apply(this, imports));\\n}\\n\")])], Dict{Symbol, Any}(:className => \"field interact-widget\")), Observable(Node{WebIO.DOM}(WebIO.DOM(:html, :div), Any[nothing], Dict{Symbol, Any}(:className => \"interact-flex-row interact-widget\")))], Dict{Symbol, Any}())"
      ]
     },
     "execution_count": 5,
     "metadata": {
      "@webio": {
       "kernelId": "e45a16e9-16de-496e-8779-f2304b3311e3"
      }
     },
     "output_type": "execute_result"
    }
   ],
   "source": [
    "# Slider para la velocidad (m/s)\n",
    "velocidad = slider(0:0.1:20, value=10, label=\"Velocidad (m/s)\")\n",
    "\n",
    "# Slider para el tiempo (s)\n",
    "tiempo = slider(0:0.1:100, value=10, label=\"Tiempo (s)\")\n",
    "\n",
    "# Función para calcular la distancia\n",
    "distancia(v, t) = v * t\n",
    "\n",
    "# Layout de los widgets\n",
    "@manipulate for v in velocidad, t in tiempo\n",
    "    display(md\"\"\"\n",
    "    ## Movimiento Rectilíneo Uniforme (MRU)\n",
    "    - **Velocidad**: $v m/s\n",
    "    - **Tiempo**: $t s\n",
    "    - **Distancia recorrida**: $(@sprintf(\"%.2f\", distancia(v, t))) m\n",
    "    \"\"\")\n",
    "end\n"
   ]
  },
  {
   "cell_type": "markdown",
   "id": "0b2fe815-99cd-4109-9f27-55783e293515",
   "metadata": {},
   "source": [
    "#### Widget 2. Ley de Newton del Movimiento\n"
   ]
  },
  {
   "cell_type": "code",
   "execution_count": 7,
   "id": "4478be4d-c592-4903-a14d-97feb2288a63",
   "metadata": {},
   "outputs": [
    {
     "data": {
      "text/markdown": [
       "## Segunda Ley de Newton\n",
       "\n",
       "  * **Masa**: 10.0 kg\n",
       "  * **Aceleración**: 0.0 m/s²\n",
       "  * **Fuerza**: 0.00 N\n"
      ],
      "text/plain": [
       "\u001b[1m  Segunda Ley de Newton\u001b[22m\n",
       "\u001b[1m  =====================\u001b[22m\n",
       "\n",
       "    •  \u001b[1mMasa\u001b[22m: 10.0 kg\n",
       "\n",
       "    •  \u001b[1mAceleración\u001b[22m: 0.0 m/s²\n",
       "\n",
       "    •  \u001b[1mFuerza\u001b[22m: 0.00 N"
      ]
     },
     "metadata": {},
     "output_type": "display_data"
    },
    {
     "data": {
      "application/vnd.webio.node+json": {
       "children": [
        {
         "children": [
          {
           "children": [
            {
             "children": [
              {
               "children": [
                {
                 "children": [
                  "Masa (kg)"
                 ],
                 "instanceArgs": {
                  "namespace": "html",
                  "tag": "label"
                 },
                 "nodeType": "DOM",
                 "props": {
                  "className": "interact ",
                  "style": {
                   "padding": "5px 10px 0px 10px"
                  }
                 },
                 "type": "node"
                }
               ],
               "instanceArgs": {
                "namespace": "html",
                "tag": "div"
               },
               "nodeType": "DOM",
               "props": {
                "className": "interact-flex-row-left"
               },
               "type": "node"
              },
              {
               "children": [
                {
                 "children": [],
                 "instanceArgs": {
                  "namespace": "html",
                  "tag": "input"
                 },
                 "nodeType": "DOM",
                 "props": {
                  "attributes": {
                   "data-bind": "numericValue: index, valueUpdate: 'input', event: {change: function (){this.changes(this.changes()+1)}}",
                   "orient": "horizontal",
                   "type": "range"
                  },
                  "className": "slider slider is-fullwidth",
                  "max": 991,
                  "min": 1,
                  "step": 1,
                  "style": {}
                 },
                 "type": "node"
                }
               ],
               "instanceArgs": {
                "namespace": "html",
                "tag": "div"
               },
               "nodeType": "DOM",
               "props": {
                "className": "interact-flex-row-center"
               },
               "type": "node"
              },
              {
               "children": [
                {
                 "children": [],
                 "instanceArgs": {
                  "namespace": "html",
                  "tag": "p"
                 },
                 "nodeType": "DOM",
                 "props": {
                  "attributes": {
                   "data-bind": "text: formatted_val"
                  }
                 },
                 "type": "node"
                }
               ],
               "instanceArgs": {
                "namespace": "html",
                "tag": "div"
               },
               "nodeType": "DOM",
               "props": {
                "className": "interact-flex-row-right"
               },
               "type": "node"
              }
             ],
             "instanceArgs": {
              "namespace": "html",
              "tag": "div"
             },
             "nodeType": "DOM",
             "props": {
              "className": "interact-flex-row interact-widget"
             },
             "type": "node"
            }
           ],
           "instanceArgs": {
            "handlers": {
             "changes": [
              "(function (val){return (val!=this.model[\"changes\"]()) ? (this.valueFromJulia[\"changes\"]=true, this.model[\"changes\"](val)) : undefined})"
             ],
             "index": [
              "(function (val){return (val!=this.model[\"index\"]()) ? (this.valueFromJulia[\"index\"]=true, this.model[\"index\"](val)) : undefined})"
             ]
            },
            "id": "829123856",
            "imports": {
             "data": [
              {
               "name": "knockout",
               "type": "js",
               "url": "/assetserver/0a8f371627acb0fbab7e7ff03e6794a95ee37ef5-knockout.js"
              },
              {
               "name": "knockout_punches",
               "type": "js",
               "url": "/assetserver/9b3c694ae2b8b2559483df0ee4657f1f62c8c408-knockout_punches.js"
              },
              {
               "name": null,
               "type": "js",
               "url": "/assetserver/f88515f2eab9a880f440f4a02ad6bec39eab20f3-all.js"
              },
              {
               "name": null,
               "type": "css",
               "url": "/assetserver/1ca4083aec9453427e6ec123862050a8bb53b266-style.css"
              },
              {
               "name": null,
               "type": "css",
               "url": "/assetserver/9a1b433d0e3cd69e6f57207ad94f565eba9960c8-bulma_confined.min.css"
              }
             ],
             "type": "async_block"
            },
            "mount_callbacks": [
             "function () {\n    var handler = (function (ko, koPunches) {\n    ko.punches.enableAll();\n    ko.bindingHandlers.numericValue = {\n        init: function(element, valueAccessor, allBindings, data, context) {\n            var stringified = ko.observable(ko.unwrap(valueAccessor()));\n            stringified.subscribe(function(value) {\n                var val = parseFloat(value);\n                if (!isNaN(val)) {\n                    valueAccessor()(val);\n                }\n            });\n            valueAccessor().subscribe(function(value) {\n                var str = JSON.stringify(value);\n                if ((str == \"0\") && ([\"-0\", \"-0.\"].indexOf(stringified()) >= 0))\n                     return;\n                 if ([\"null\", \"\"].indexOf(str) >= 0)\n                     return;\n                stringified(str);\n            });\n            ko.applyBindingsToNode(\n                element,\n                {\n                    value: stringified,\n                    valueUpdate: allBindings.get('valueUpdate'),\n                },\n                context,\n            );\n        }\n    };\n    var json_data = {\"index\":WebIO.getval({\"id\":\"32\",\"name\":\"index\",\"type\":\"observable\",\"scope\":\"829123856\"}),\"changes\":WebIO.getval({\"id\":\"33\",\"name\":\"changes\",\"type\":\"observable\",\"scope\":\"829123856\"}),\"formatted_vals\":[\"1.0\",\"1.1\",\"1.2\",\"1.3\",\"1.4\",\"1.5\",\"1.6\",\"1.7\",\"1.8\",\"1.9\",\"2.0\",\"2.1\",\"2.2\",\"2.3\",\"2.4\",\"2.5\",\"2.6\",\"2.7\",\"2.8\",\"2.9\",\"3.0\",\"3.1\",\"3.2\",\"3.3\",\"3.4\",\"3.5\",\"3.6\",\"3.7\",\"3.8\",\"3.9\",\"4.0\",\"4.1\",\"4.2\",\"4.3\",\"4.4\",\"4.5\",\"4.6\",\"4.7\",\"4.8\",\"4.9\",\"5.0\",\"5.1\",\"5.2\",\"5.3\",\"5.4\",\"5.5\",\"5.6\",\"5.7\",\"5.8\",\"5.9\",\"6.0\",\"6.1\",\"6.2\",\"6.3\",\"6.4\",\"6.5\",\"6.6\",\"6.7\",\"6.8\",\"6.9\",\"7.0\",\"7.1\",\"7.2\",\"7.3\",\"7.4\",\"7.5\",\"7.6\",\"7.7\",\"7.8\",\"7.9\",\"8.0\",\"8.1\",\"8.2\",\"8.3\",\"8.4\",\"8.5\",\"8.6\",\"8.7\",\"8.8\",\"8.9\",\"9.0\",\"9.1\",\"9.2\",\"9.3\",\"9.4\",\"9.5\",\"9.6\",\"9.7\",\"9.8\",\"9.9\",\"10.0\",\"10.1\",\"10.2\",\"10.3\",\"10.4\",\"10.5\",\"10.6\",\"10.7\",\"10.8\",\"10.9\",\"11.0\",\"11.1\",\"11.2\",\"11.3\",\"11.4\",\"11.5\",\"11.6\",\"11.7\",\"11.8\",\"11.9\",\"12.0\",\"12.1\",\"12.2\",\"12.3\",\"12.4\",\"12.5\",\"12.6\",\"12.7\",\"12.8\",\"12.9\",\"13.0\",\"13.1\",\"13.2\",\"13.3\",\"13.4\",\"13.5\",\"13.6\",\"13.7\",\"13.8\",\"13.9\",\"14.0\",\"14.1\",\"14.2\",\"14.3\",\"14.4\",\"14.5\",\"14.6\",\"14.7\",\"14.8\",\"14.9\",\"15.0\",\"15.1\",\"15.2\",\"15.3\",\"15.4\",\"15.5\",\"15.6\",\"15.7\",\"15.8\",\"15.9\",\"16.0\",\"16.1\",\"16.2\",\"16.3\",\"16.4\",\"16.5\",\"16.6\",\"16.7\",\"16.8\",\"16.9\",\"17.0\",\"17.1\",\"17.2\",\"17.3\",\"17.4\",\"17.5\",\"17.6\",\"17.7\",\"17.8\",\"17.9\",\"18.0\",\"18.1\",\"18.2\",\"18.3\",\"18.4\",\"18.5\",\"18.6\",\"18.7\",\"18.8\",\"18.9\",\"19.0\",\"19.1\",\"19.2\",\"19.3\",\"19.4\",\"19.5\",\"19.6\",\"19.7\",\"19.8\",\"19.9\",\"20.0\",\"20.1\",\"20.2\",\"20.3\",\"20.4\",\"20.5\",\"20.6\",\"20.7\",\"20.8\",\"20.9\",\"21.0\",\"21.1\",\"21.2\",\"21.3\",\"21.4\",\"21.5\",\"21.6\",\"21.7\",\"21.8\",\"21.9\",\"22.0\",\"22.1\",\"22.2\",\"22.3\",\"22.4\",\"22.5\",\"22.6\",\"22.7\",\"22.8\",\"22.9\",\"23.0\",\"23.1\",\"23.2\",\"23.3\",\"23.4\",\"23.5\",\"23.6\",\"23.7\",\"23.8\",\"23.9\",\"24.0\",\"24.1\",\"24.2\",\"24.3\",\"24.4\",\"24.5\",\"24.6\",\"24.7\",\"24.8\",\"24.9\",\"25.0\",\"25.1\",\"25.2\",\"25.3\",\"25.4\",\"25.5\",\"25.6\",\"25.7\",\"25.8\",\"25.9\",\"26.0\",\"26.1\",\"26.2\",\"26.3\",\"26.4\",\"26.5\",\"26.6\",\"26.7\",\"26.8\",\"26.9\",\"27.0\",\"27.1\",\"27.2\",\"27.3\",\"27.4\",\"27.5\",\"27.6\",\"27.7\",\"27.8\",\"27.9\",\"28.0\",\"28.1\",\"28.2\",\"28.3\",\"28.4\",\"28.5\",\"28.6\",\"28.7\",\"28.8\",\"28.9\",\"29.0\",\"29.1\",\"29.2\",\"29.3\",\"29.4\",\"29.5\",\"29.6\",\"29.7\",\"29.8\",\"29.9\",\"30.0\",\"30.1\",\"30.2\",\"30.3\",\"30.4\",\"30.5\",\"30.6\",\"30.7\",\"30.8\",\"30.9\",\"31.0\",\"31.1\",\"31.2\",\"31.3\",\"31.4\",\"31.5\",\"31.6\",\"31.7\",\"31.8\",\"31.9\",\"32.0\",\"32.1\",\"32.2\",\"32.3\",\"32.4\",\"32.5\",\"32.6\",\"32.7\",\"32.8\",\"32.9\",\"33.0\",\"33.1\",\"33.2\",\"33.3\",\"33.4\",\"33.5\",\"33.6\",\"33.7\",\"33.8\",\"33.9\",\"34.0\",\"34.1\",\"34.2\",\"34.3\",\"34.4\",\"34.5\",\"34.6\",\"34.7\",\"34.8\",\"34.9\",\"35.0\",\"35.1\",\"35.2\",\"35.3\",\"35.4\",\"35.5\",\"35.6\",\"35.7\",\"35.8\",\"35.9\",\"36.0\",\"36.1\",\"36.2\",\"36.3\",\"36.4\",\"36.5\",\"36.6\",\"36.7\",\"36.8\",\"36.9\",\"37.0\",\"37.1\",\"37.2\",\"37.3\",\"37.4\",\"37.5\",\"37.6\",\"37.7\",\"37.8\",\"37.9\",\"38.0\",\"38.1\",\"38.2\",\"38.3\",\"38.4\",\"38.5\",\"38.6\",\"38.7\",\"38.8\",\"38.9\",\"39.0\",\"39.1\",\"39.2\",\"39.3\",\"39.4\",\"39.5\",\"39.6\",\"39.7\",\"39.8\",\"39.9\",\"40.0\",\"40.1\",\"40.2\",\"40.3\",\"40.4\",\"40.5\",\"40.6\",\"40.7\",\"40.8\",\"40.9\",\"41.0\",\"41.1\",\"41.2\",\"41.3\",\"41.4\",\"41.5\",\"41.6\",\"41.7\",\"41.8\",\"41.9\",\"42.0\",\"42.1\",\"42.2\",\"42.3\",\"42.4\",\"42.5\",\"42.6\",\"42.7\",\"42.8\",\"42.9\",\"43.0\",\"43.1\",\"43.2\",\"43.3\",\"43.4\",\"43.5\",\"43.6\",\"43.7\",\"43.8\",\"43.9\",\"44.0\",\"44.1\",\"44.2\",\"44.3\",\"44.4\",\"44.5\",\"44.6\",\"44.7\",\"44.8\",\"44.9\",\"45.0\",\"45.1\",\"45.2\",\"45.3\",\"45.4\",\"45.5\",\"45.6\",\"45.7\",\"45.8\",\"45.9\",\"46.0\",\"46.1\",\"46.2\",\"46.3\",\"46.4\",\"46.5\",\"46.6\",\"46.7\",\"46.8\",\"46.9\",\"47.0\",\"47.1\",\"47.2\",\"47.3\",\"47.4\",\"47.5\",\"47.6\",\"47.7\",\"47.8\",\"47.9\",\"48.0\",\"48.1\",\"48.2\",\"48.3\",\"48.4\",\"48.5\",\"48.6\",\"48.7\",\"48.8\",\"48.9\",\"49.0\",\"49.1\",\"49.2\",\"49.3\",\"49.4\",\"49.5\",\"49.6\",\"49.7\",\"49.8\",\"49.9\",\"50.0\",\"50.1\",\"50.2\",\"50.3\",\"50.4\",\"50.5\",\"50.6\",\"50.7\",\"50.8\",\"50.9\",\"51.0\",\"51.1\",\"51.2\",\"51.3\",\"51.4\",\"51.5\",\"51.6\",\"51.7\",\"51.8\",\"51.9\",\"52.0\",\"52.1\",\"52.2\",\"52.3\",\"52.4\",\"52.5\",\"52.6\",\"52.7\",\"52.8\",\"52.9\",\"53.0\",\"53.1\",\"53.2\",\"53.3\",\"53.4\",\"53.5\",\"53.6\",\"53.7\",\"53.8\",\"53.9\",\"54.0\",\"54.1\",\"54.2\",\"54.3\",\"54.4\",\"54.5\",\"54.6\",\"54.7\",\"54.8\",\"54.9\",\"55.0\",\"55.1\",\"55.2\",\"55.3\",\"55.4\",\"55.5\",\"55.6\",\"55.7\",\"55.8\",\"55.9\",\"56.0\",\"56.1\",\"56.2\",\"56.3\",\"56.4\",\"56.5\",\"56.6\",\"56.7\",\"56.8\",\"56.9\",\"57.0\",\"57.1\",\"57.2\",\"57.3\",\"57.4\",\"57.5\",\"57.6\",\"57.7\",\"57.8\",\"57.9\",\"58.0\",\"58.1\",\"58.2\",\"58.3\",\"58.4\",\"58.5\",\"58.6\",\"58.7\",\"58.8\",\"58.9\",\"59.0\",\"59.1\",\"59.2\",\"59.3\",\"59.4\",\"59.5\",\"59.6\",\"59.7\",\"59.8\",\"59.9\",\"60.0\",\"60.1\",\"60.2\",\"60.3\",\"60.4\",\"60.5\",\"60.6\",\"60.7\",\"60.8\",\"60.9\",\"61.0\",\"61.1\",\"61.2\",\"61.3\",\"61.4\",\"61.5\",\"61.6\",\"61.7\",\"61.8\",\"61.9\",\"62.0\",\"62.1\",\"62.2\",\"62.3\",\"62.4\",\"62.5\",\"62.6\",\"62.7\",\"62.8\",\"62.9\",\"63.0\",\"63.1\",\"63.2\",\"63.3\",\"63.4\",\"63.5\",\"63.6\",\"63.7\",\"63.8\",\"63.9\",\"64.0\",\"64.1\",\"64.2\",\"64.3\",\"64.4\",\"64.5\",\"64.6\",\"64.7\",\"64.8\",\"64.9\",\"65.0\",\"65.1\",\"65.2\",\"65.3\",\"65.4\",\"65.5\",\"65.6\",\"65.7\",\"65.8\",\"65.9\",\"66.0\",\"66.1\",\"66.2\",\"66.3\",\"66.4\",\"66.5\",\"66.6\",\"66.7\",\"66.8\",\"66.9\",\"67.0\",\"67.1\",\"67.2\",\"67.3\",\"67.4\",\"67.5\",\"67.6\",\"67.7\",\"67.8\",\"67.9\",\"68.0\",\"68.1\",\"68.2\",\"68.3\",\"68.4\",\"68.5\",\"68.6\",\"68.7\",\"68.8\",\"68.9\",\"69.0\",\"69.1\",\"69.2\",\"69.3\",\"69.4\",\"69.5\",\"69.6\",\"69.7\",\"69.8\",\"69.9\",\"70.0\",\"70.1\",\"70.2\",\"70.3\",\"70.4\",\"70.5\",\"70.6\",\"70.7\",\"70.8\",\"70.9\",\"71.0\",\"71.1\",\"71.2\",\"71.3\",\"71.4\",\"71.5\",\"71.6\",\"71.7\",\"71.8\",\"71.9\",\"72.0\",\"72.1\",\"72.2\",\"72.3\",\"72.4\",\"72.5\",\"72.6\",\"72.7\",\"72.8\",\"72.9\",\"73.0\",\"73.1\",\"73.2\",\"73.3\",\"73.4\",\"73.5\",\"73.6\",\"73.7\",\"73.8\",\"73.9\",\"74.0\",\"74.1\",\"74.2\",\"74.3\",\"74.4\",\"74.5\",\"74.6\",\"74.7\",\"74.8\",\"74.9\",\"75.0\",\"75.1\",\"75.2\",\"75.3\",\"75.4\",\"75.5\",\"75.6\",\"75.7\",\"75.8\",\"75.9\",\"76.0\",\"76.1\",\"76.2\",\"76.3\",\"76.4\",\"76.5\",\"76.6\",\"76.7\",\"76.8\",\"76.9\",\"77.0\",\"77.1\",\"77.2\",\"77.3\",\"77.4\",\"77.5\",\"77.6\",\"77.7\",\"77.8\",\"77.9\",\"78.0\",\"78.1\",\"78.2\",\"78.3\",\"78.4\",\"78.5\",\"78.6\",\"78.7\",\"78.8\",\"78.9\",\"79.0\",\"79.1\",\"79.2\",\"79.3\",\"79.4\",\"79.5\",\"79.6\",\"79.7\",\"79.8\",\"79.9\",\"80.0\",\"80.1\",\"80.2\",\"80.3\",\"80.4\",\"80.5\",\"80.6\",\"80.7\",\"80.8\",\"80.9\",\"81.0\",\"81.1\",\"81.2\",\"81.3\",\"81.4\",\"81.5\",\"81.6\",\"81.7\",\"81.8\",\"81.9\",\"82.0\",\"82.1\",\"82.2\",\"82.3\",\"82.4\",\"82.5\",\"82.6\",\"82.7\",\"82.8\",\"82.9\",\"83.0\",\"83.1\",\"83.2\",\"83.3\",\"83.4\",\"83.5\",\"83.6\",\"83.7\",\"83.8\",\"83.9\",\"84.0\",\"84.1\",\"84.2\",\"84.3\",\"84.4\",\"84.5\",\"84.6\",\"84.7\",\"84.8\",\"84.9\",\"85.0\",\"85.1\",\"85.2\",\"85.3\",\"85.4\",\"85.5\",\"85.6\",\"85.7\",\"85.8\",\"85.9\",\"86.0\",\"86.1\",\"86.2\",\"86.3\",\"86.4\",\"86.5\",\"86.6\",\"86.7\",\"86.8\",\"86.9\",\"87.0\",\"87.1\",\"87.2\",\"87.3\",\"87.4\",\"87.5\",\"87.6\",\"87.7\",\"87.8\",\"87.9\",\"88.0\",\"88.1\",\"88.2\",\"88.3\",\"88.4\",\"88.5\",\"88.6\",\"88.7\",\"88.8\",\"88.9\",\"89.0\",\"89.1\",\"89.2\",\"89.3\",\"89.4\",\"89.5\",\"89.6\",\"89.7\",\"89.8\",\"89.9\",\"90.0\",\"90.1\",\"90.2\",\"90.3\",\"90.4\",\"90.5\",\"90.6\",\"90.7\",\"90.8\",\"90.9\",\"91.0\",\"91.1\",\"91.2\",\"91.3\",\"91.4\",\"91.5\",\"91.6\",\"91.7\",\"91.8\",\"91.9\",\"92.0\",\"92.1\",\"92.2\",\"92.3\",\"92.4\",\"92.5\",\"92.6\",\"92.7\",\"92.8\",\"92.9\",\"93.0\",\"93.1\",\"93.2\",\"93.3\",\"93.4\",\"93.5\",\"93.6\",\"93.7\",\"93.8\",\"93.9\",\"94.0\",\"94.1\",\"94.2\",\"94.3\",\"94.4\",\"94.5\",\"94.6\",\"94.7\",\"94.8\",\"94.9\",\"95.0\",\"95.1\",\"95.2\",\"95.3\",\"95.4\",\"95.5\",\"95.6\",\"95.7\",\"95.8\",\"95.9\",\"96.0\",\"96.1\",\"96.2\",\"96.3\",\"96.4\",\"96.5\",\"96.6\",\"96.7\",\"96.8\",\"96.9\",\"97.0\",\"97.1\",\"97.2\",\"97.3\",\"97.4\",\"97.5\",\"97.6\",\"97.7\",\"97.8\",\"97.9\",\"98.0\",\"98.1\",\"98.2\",\"98.3\",\"98.4\",\"98.5\",\"98.6\",\"98.7\",\"98.8\",\"98.9\",\"99.0\",\"99.1\",\"99.2\",\"99.3\",\"99.4\",\"99.5\",\"99.6\",\"99.7\",\"99.8\",\"99.9\",\"100.0\"]};\n    var self = this;\n    function AppViewModel() {\n        for (var key in json_data) {\n            var el = json_data[key];\n            this[key] = Array.isArray(el) ? ko.observableArray(el) : ko.observable(el);\n        }\n        \n        [this[\"formatted_val\"]=ko.computed(    function(){\n        return this.formatted_vals()[parseInt(this.index())-(1)];\n    }\n,this)]\n        [this[\"index\"].subscribe((function (val){!(this.valueFromJulia[\"index\"]) ? (WebIO.setval({\"id\":\"32\",\"name\":\"index\",\"type\":\"observable\",\"scope\":\"829123856\"},val)) : undefined; return this.valueFromJulia[\"index\"]=false}),self),this[\"changes\"].subscribe((function (val){!(this.valueFromJulia[\"changes\"]) ? (WebIO.setval({\"id\":\"33\",\"name\":\"changes\",\"type\":\"observable\",\"scope\":\"829123856\"},val)) : undefined; return this.valueFromJulia[\"changes\"]=false}),self)]\n        \n    }\n    self.model = new AppViewModel();\n    self.valueFromJulia = {};\n    for (var key in json_data) {\n        self.valueFromJulia[key] = false;\n    }\n    ko.applyBindings(self.model, self.dom);\n}\n);\n    (WebIO.importBlock({\"data\":[{\"url\":\"/assetserver/0a8f371627acb0fbab7e7ff03e6794a95ee37ef5-knockout.js\",\"name\":\"knockout\",\"type\":\"js\"},{\"url\":\"/assetserver/9b3c694ae2b8b2559483df0ee4657f1f62c8c408-knockout_punches.js\",\"name\":\"knockout_punches\",\"type\":\"js\"}],\"type\":\"async_block\"})).then((imports) => handler.apply(this, imports));\n}\n"
            ],
            "observables": {
             "changes": {
              "id": "33",
              "sync": false,
              "value": 0
             },
             "index": {
              "id": "32",
              "sync": true,
              "value": 91
             }
            },
            "systemjs_options": null
           },
           "nodeType": "Scope",
           "props": {},
           "type": "node"
          }
         ],
         "instanceArgs": {
          "namespace": "html",
          "tag": "div"
         },
         "nodeType": "DOM",
         "props": {
          "className": "field interact-widget"
         },
         "type": "node"
        },
        {
         "children": [
          {
           "children": [
            {
             "children": [
              {
               "children": [
                {
                 "children": [
                  "Aceleración (m/s²)"
                 ],
                 "instanceArgs": {
                  "namespace": "html",
                  "tag": "label"
                 },
                 "nodeType": "DOM",
                 "props": {
                  "className": "interact ",
                  "style": {
                   "padding": "5px 10px 0px 10px"
                  }
                 },
                 "type": "node"
                }
               ],
               "instanceArgs": {
                "namespace": "html",
                "tag": "div"
               },
               "nodeType": "DOM",
               "props": {
                "className": "interact-flex-row-left"
               },
               "type": "node"
              },
              {
               "children": [
                {
                 "children": [],
                 "instanceArgs": {
                  "namespace": "html",
                  "tag": "input"
                 },
                 "nodeType": "DOM",
                 "props": {
                  "attributes": {
                   "data-bind": "numericValue: index, valueUpdate: 'input', event: {change: function (){this.changes(this.changes()+1)}}",
                   "orient": "horizontal",
                   "type": "range"
                  },
                  "className": "slider slider is-fullwidth",
                  "max": 401,
                  "min": 1,
                  "step": 1,
                  "style": {}
                 },
                 "type": "node"
                }
               ],
               "instanceArgs": {
                "namespace": "html",
                "tag": "div"
               },
               "nodeType": "DOM",
               "props": {
                "className": "interact-flex-row-center"
               },
               "type": "node"
              },
              {
               "children": [
                {
                 "children": [],
                 "instanceArgs": {
                  "namespace": "html",
                  "tag": "p"
                 },
                 "nodeType": "DOM",
                 "props": {
                  "attributes": {
                   "data-bind": "text: formatted_val"
                  }
                 },
                 "type": "node"
                }
               ],
               "instanceArgs": {
                "namespace": "html",
                "tag": "div"
               },
               "nodeType": "DOM",
               "props": {
                "className": "interact-flex-row-right"
               },
               "type": "node"
              }
             ],
             "instanceArgs": {
              "namespace": "html",
              "tag": "div"
             },
             "nodeType": "DOM",
             "props": {
              "className": "interact-flex-row interact-widget"
             },
             "type": "node"
            }
           ],
           "instanceArgs": {
            "handlers": {
             "changes": [
              "(function (val){return (val!=this.model[\"changes\"]()) ? (this.valueFromJulia[\"changes\"]=true, this.model[\"changes\"](val)) : undefined})"
             ],
             "index": [
              "(function (val){return (val!=this.model[\"index\"]()) ? (this.valueFromJulia[\"index\"]=true, this.model[\"index\"](val)) : undefined})"
             ]
            },
            "id": "3444383680",
            "imports": {
             "data": [
              {
               "name": "knockout",
               "type": "js",
               "url": "/assetserver/0a8f371627acb0fbab7e7ff03e6794a95ee37ef5-knockout.js"
              },
              {
               "name": "knockout_punches",
               "type": "js",
               "url": "/assetserver/9b3c694ae2b8b2559483df0ee4657f1f62c8c408-knockout_punches.js"
              },
              {
               "name": null,
               "type": "js",
               "url": "/assetserver/f88515f2eab9a880f440f4a02ad6bec39eab20f3-all.js"
              },
              {
               "name": null,
               "type": "css",
               "url": "/assetserver/1ca4083aec9453427e6ec123862050a8bb53b266-style.css"
              },
              {
               "name": null,
               "type": "css",
               "url": "/assetserver/9a1b433d0e3cd69e6f57207ad94f565eba9960c8-bulma_confined.min.css"
              }
             ],
             "type": "async_block"
            },
            "mount_callbacks": [
             "function () {\n    var handler = (function (ko, koPunches) {\n    ko.punches.enableAll();\n    ko.bindingHandlers.numericValue = {\n        init: function(element, valueAccessor, allBindings, data, context) {\n            var stringified = ko.observable(ko.unwrap(valueAccessor()));\n            stringified.subscribe(function(value) {\n                var val = parseFloat(value);\n                if (!isNaN(val)) {\n                    valueAccessor()(val);\n                }\n            });\n            valueAccessor().subscribe(function(value) {\n                var str = JSON.stringify(value);\n                if ((str == \"0\") && ([\"-0\", \"-0.\"].indexOf(stringified()) >= 0))\n                     return;\n                 if ([\"null\", \"\"].indexOf(str) >= 0)\n                     return;\n                stringified(str);\n            });\n            ko.applyBindingsToNode(\n                element,\n                {\n                    value: stringified,\n                    valueUpdate: allBindings.get('valueUpdate'),\n                },\n                context,\n            );\n        }\n    };\n    var json_data = {\"index\":WebIO.getval({\"id\":\"35\",\"name\":\"index\",\"type\":\"observable\",\"scope\":\"3444383680\"}),\"changes\":WebIO.getval({\"id\":\"36\",\"name\":\"changes\",\"type\":\"observable\",\"scope\":\"3444383680\"}),\"formatted_vals\":[\"-20.0\",\"-19.9\",\"-19.8\",\"-19.7\",\"-19.6\",\"-19.5\",\"-19.4\",\"-19.3\",\"-19.2\",\"-19.1\",\"-19.0\",\"-18.9\",\"-18.8\",\"-18.7\",\"-18.6\",\"-18.5\",\"-18.4\",\"-18.3\",\"-18.2\",\"-18.1\",\"-18.0\",\"-17.9\",\"-17.8\",\"-17.7\",\"-17.6\",\"-17.5\",\"-17.4\",\"-17.3\",\"-17.2\",\"-17.1\",\"-17.0\",\"-16.9\",\"-16.8\",\"-16.7\",\"-16.6\",\"-16.5\",\"-16.4\",\"-16.3\",\"-16.2\",\"-16.1\",\"-16.0\",\"-15.9\",\"-15.8\",\"-15.7\",\"-15.6\",\"-15.5\",\"-15.4\",\"-15.3\",\"-15.2\",\"-15.1\",\"-15.0\",\"-14.9\",\"-14.8\",\"-14.7\",\"-14.6\",\"-14.5\",\"-14.4\",\"-14.3\",\"-14.2\",\"-14.1\",\"-14.0\",\"-13.9\",\"-13.8\",\"-13.7\",\"-13.6\",\"-13.5\",\"-13.4\",\"-13.3\",\"-13.2\",\"-13.1\",\"-13.0\",\"-12.9\",\"-12.8\",\"-12.7\",\"-12.6\",\"-12.5\",\"-12.4\",\"-12.3\",\"-12.2\",\"-12.1\",\"-12.0\",\"-11.9\",\"-11.8\",\"-11.7\",\"-11.6\",\"-11.5\",\"-11.4\",\"-11.3\",\"-11.2\",\"-11.1\",\"-11.0\",\"-10.9\",\"-10.8\",\"-10.7\",\"-10.6\",\"-10.5\",\"-10.4\",\"-10.3\",\"-10.2\",\"-10.1\",\"-10.0\",\"-9.9\",\"-9.8\",\"-9.7\",\"-9.6\",\"-9.5\",\"-9.4\",\"-9.3\",\"-9.2\",\"-9.1\",\"-9.0\",\"-8.9\",\"-8.8\",\"-8.7\",\"-8.6\",\"-8.5\",\"-8.4\",\"-8.3\",\"-8.2\",\"-8.1\",\"-8.0\",\"-7.9\",\"-7.8\",\"-7.7\",\"-7.6\",\"-7.5\",\"-7.4\",\"-7.3\",\"-7.2\",\"-7.1\",\"-7.0\",\"-6.9\",\"-6.8\",\"-6.7\",\"-6.6\",\"-6.5\",\"-6.4\",\"-6.3\",\"-6.2\",\"-6.1\",\"-6.0\",\"-5.9\",\"-5.8\",\"-5.7\",\"-5.6\",\"-5.5\",\"-5.4\",\"-5.3\",\"-5.2\",\"-5.1\",\"-5.0\",\"-4.9\",\"-4.8\",\"-4.7\",\"-4.6\",\"-4.5\",\"-4.4\",\"-4.3\",\"-4.2\",\"-4.1\",\"-4.0\",\"-3.9\",\"-3.8\",\"-3.7\",\"-3.6\",\"-3.5\",\"-3.4\",\"-3.3\",\"-3.2\",\"-3.1\",\"-3.0\",\"-2.9\",\"-2.8\",\"-2.7\",\"-2.6\",\"-2.5\",\"-2.4\",\"-2.3\",\"-2.2\",\"-2.1\",\"-2.0\",\"-1.9\",\"-1.8\",\"-1.7\",\"-1.6\",\"-1.5\",\"-1.4\",\"-1.3\",\"-1.2\",\"-1.1\",\"-1.0\",\"-0.9\",\"-0.8\",\"-0.7\",\"-0.6\",\"-0.5\",\"-0.4\",\"-0.3\",\"-0.2\",\"-0.1\",\"0.0\",\"0.1\",\"0.2\",\"0.3\",\"0.4\",\"0.5\",\"0.6\",\"0.7\",\"0.8\",\"0.9\",\"1.0\",\"1.1\",\"1.2\",\"1.3\",\"1.4\",\"1.5\",\"1.6\",\"1.7\",\"1.8\",\"1.9\",\"2.0\",\"2.1\",\"2.2\",\"2.3\",\"2.4\",\"2.5\",\"2.6\",\"2.7\",\"2.8\",\"2.9\",\"3.0\",\"3.1\",\"3.2\",\"3.3\",\"3.4\",\"3.5\",\"3.6\",\"3.7\",\"3.8\",\"3.9\",\"4.0\",\"4.1\",\"4.2\",\"4.3\",\"4.4\",\"4.5\",\"4.6\",\"4.7\",\"4.8\",\"4.9\",\"5.0\",\"5.1\",\"5.2\",\"5.3\",\"5.4\",\"5.5\",\"5.6\",\"5.7\",\"5.8\",\"5.9\",\"6.0\",\"6.1\",\"6.2\",\"6.3\",\"6.4\",\"6.5\",\"6.6\",\"6.7\",\"6.8\",\"6.9\",\"7.0\",\"7.1\",\"7.2\",\"7.3\",\"7.4\",\"7.5\",\"7.6\",\"7.7\",\"7.8\",\"7.9\",\"8.0\",\"8.1\",\"8.2\",\"8.3\",\"8.4\",\"8.5\",\"8.6\",\"8.7\",\"8.8\",\"8.9\",\"9.0\",\"9.1\",\"9.2\",\"9.3\",\"9.4\",\"9.5\",\"9.6\",\"9.7\",\"9.8\",\"9.9\",\"10.0\",\"10.1\",\"10.2\",\"10.3\",\"10.4\",\"10.5\",\"10.6\",\"10.7\",\"10.8\",\"10.9\",\"11.0\",\"11.1\",\"11.2\",\"11.3\",\"11.4\",\"11.5\",\"11.6\",\"11.7\",\"11.8\",\"11.9\",\"12.0\",\"12.1\",\"12.2\",\"12.3\",\"12.4\",\"12.5\",\"12.6\",\"12.7\",\"12.8\",\"12.9\",\"13.0\",\"13.1\",\"13.2\",\"13.3\",\"13.4\",\"13.5\",\"13.6\",\"13.7\",\"13.8\",\"13.9\",\"14.0\",\"14.1\",\"14.2\",\"14.3\",\"14.4\",\"14.5\",\"14.6\",\"14.7\",\"14.8\",\"14.9\",\"15.0\",\"15.1\",\"15.2\",\"15.3\",\"15.4\",\"15.5\",\"15.6\",\"15.7\",\"15.8\",\"15.9\",\"16.0\",\"16.1\",\"16.2\",\"16.3\",\"16.4\",\"16.5\",\"16.6\",\"16.7\",\"16.8\",\"16.9\",\"17.0\",\"17.1\",\"17.2\",\"17.3\",\"17.4\",\"17.5\",\"17.6\",\"17.7\",\"17.8\",\"17.9\",\"18.0\",\"18.1\",\"18.2\",\"18.3\",\"18.4\",\"18.5\",\"18.6\",\"18.7\",\"18.8\",\"18.9\",\"19.0\",\"19.1\",\"19.2\",\"19.3\",\"19.4\",\"19.5\",\"19.6\",\"19.7\",\"19.8\",\"19.9\",\"20.0\"]};\n    var self = this;\n    function AppViewModel() {\n        for (var key in json_data) {\n            var el = json_data[key];\n            this[key] = Array.isArray(el) ? ko.observableArray(el) : ko.observable(el);\n        }\n        \n        [this[\"formatted_val\"]=ko.computed(    function(){\n        return this.formatted_vals()[parseInt(this.index())-(1)];\n    }\n,this)]\n        [this[\"index\"].subscribe((function (val){!(this.valueFromJulia[\"index\"]) ? (WebIO.setval({\"id\":\"35\",\"name\":\"index\",\"type\":\"observable\",\"scope\":\"3444383680\"},val)) : undefined; return this.valueFromJulia[\"index\"]=false}),self),this[\"changes\"].subscribe((function (val){!(this.valueFromJulia[\"changes\"]) ? (WebIO.setval({\"id\":\"36\",\"name\":\"changes\",\"type\":\"observable\",\"scope\":\"3444383680\"},val)) : undefined; return this.valueFromJulia[\"changes\"]=false}),self)]\n        \n    }\n    self.model = new AppViewModel();\n    self.valueFromJulia = {};\n    for (var key in json_data) {\n        self.valueFromJulia[key] = false;\n    }\n    ko.applyBindings(self.model, self.dom);\n}\n);\n    (WebIO.importBlock({\"data\":[{\"url\":\"/assetserver/0a8f371627acb0fbab7e7ff03e6794a95ee37ef5-knockout.js\",\"name\":\"knockout\",\"type\":\"js\"},{\"url\":\"/assetserver/9b3c694ae2b8b2559483df0ee4657f1f62c8c408-knockout_punches.js\",\"name\":\"knockout_punches\",\"type\":\"js\"}],\"type\":\"async_block\"})).then((imports) => handler.apply(this, imports));\n}\n"
            ],
            "observables": {
             "changes": {
              "id": "36",
              "sync": false,
              "value": 0
             },
             "index": {
              "id": "35",
              "sync": true,
              "value": 201
             }
            },
            "systemjs_options": null
           },
           "nodeType": "Scope",
           "props": {},
           "type": "node"
          }
         ],
         "instanceArgs": {
          "namespace": "html",
          "tag": "div"
         },
         "nodeType": "DOM",
         "props": {
          "className": "field interact-widget"
         },
         "type": "node"
        },
        {
         "children": [
          {
           "children": [],
           "instanceArgs": {
            "id": "42",
            "name": "obs-node"
           },
           "nodeType": "ObservableNode",
           "props": {},
           "type": "node"
          }
         ],
         "instanceArgs": {
          "handlers": {},
          "id": "3673248120",
          "imports": {
           "data": [],
           "type": "async_block"
          },
          "mount_callbacks": [],
          "observables": {
           "obs-node": {
            "id": "42",
            "sync": false,
            "value": {
             "children": [
              ""
             ],
             "instanceArgs": {
              "namespace": "html",
              "tag": "div"
             },
             "nodeType": "DOM",
             "props": {
              "className": "interact-flex-row interact-widget"
             },
             "type": "node"
            }
           }
          },
          "systemjs_options": null
         },
         "nodeType": "Scope",
         "props": {},
         "type": "node"
        }
       ],
       "instanceArgs": {
        "namespace": "html",
        "tag": "div"
       },
       "nodeType": "DOM",
       "props": {},
       "type": "node"
      },
      "text/html": [
       "<div\n",
       "    class=\"webio-mountpoint\"\n",
       "    data-webio-mountpoint=\"6223661059433787924\"\n",
       ">\n",
       "    <script>\n",
       "    (function(){\n",
       "    // Some integrations (namely, IJulia/Jupyter) use an alternate render pathway than\n",
       "    // just putting the html on the page. If WebIO isn't defined, then it's pretty likely\n",
       "    // that we're in one of those situations and the integration just isn't installed\n",
       "    // correctly.\n",
       "    if (typeof window.WebIO === \"undefined\") {\n",
       "        document\n",
       "            .querySelector('[data-webio-mountpoint=\"6223661059433787924\"]')\n",
       "            .innerHTML = (\n",
       "                '<div style=\"padding: 1em; background-color: #f8d6da; border: 1px solid #f5c6cb; font-weight: bold;\">' +\n",
       "                '<p><strong>WebIO not detected.</strong></p>' +\n",
       "                '<p>Please read ' +\n",
       "                '<a href=\"https://juliagizmos.github.io/WebIO.jl/latest/troubleshooting/not-detected/\" target=\"_blank\">the troubleshooting guide</a> ' +\n",
       "                'for more information on how to resolve this issue.</p>' +\n",
       "                '<p><a href=\"https://juliagizmos.github.io/WebIO.jl/latest/troubleshooting/not-detected/\" target=\"_blank\">https://juliagizmos.github.io/WebIO.jl/latest/troubleshooting/not-detected/</a></p>' +\n",
       "                '</div>'\n",
       "            );\n",
       "        return;\n",
       "    }\n",
       "    WebIO.mount(\n",
       "        document.querySelector('[data-webio-mountpoint=\"6223661059433787924\"]'),\n",
       "        {\"props\":{},\"nodeType\":\"DOM\",\"instanceArgs\":{\"namespace\":\"html\",\"tag\":\"div\"},\"type\":\"node\",\"children\":[{\"props\":{\"className\":\"field interact-widget\"},\"nodeType\":\"DOM\",\"instanceArgs\":{\"namespace\":\"html\",\"tag\":\"div\"},\"type\":\"node\",\"children\":[{\"props\":{},\"nodeType\":\"Scope\",\"instanceArgs\":{\"id\":\"829123856\",\"systemjs_options\":null,\"mount_callbacks\":[\"function () {\\n    var handler = (function (ko, koPunches) {\\n    ko.punches.enableAll();\\n    ko.bindingHandlers.numericValue = {\\n        init: function(element, valueAccessor, allBindings, data, context) {\\n            var stringified = ko.observable(ko.unwrap(valueAccessor()));\\n            stringified.subscribe(function(value) {\\n                var val = parseFloat(value);\\n                if (!isNaN(val)) {\\n                    valueAccessor()(val);\\n                }\\n            });\\n            valueAccessor().subscribe(function(value) {\\n                var str = JSON.stringify(value);\\n                if ((str == \\\"0\\\") && ([\\\"-0\\\", \\\"-0.\\\"].indexOf(stringified()) >= 0))\\n                     return;\\n                 if ([\\\"null\\\", \\\"\\\"].indexOf(str) >= 0)\\n                     return;\\n                stringified(str);\\n            });\\n            ko.applyBindingsToNode(\\n                element,\\n                {\\n                    value: stringified,\\n                    valueUpdate: allBindings.get('valueUpdate'),\\n                },\\n                context,\\n            );\\n        }\\n    };\\n    var json_data = {\\\"index\\\":WebIO.getval({\\\"id\\\":\\\"32\\\",\\\"name\\\":\\\"index\\\",\\\"type\\\":\\\"observable\\\",\\\"scope\\\":\\\"829123856\\\"}),\\\"changes\\\":WebIO.getval({\\\"id\\\":\\\"33\\\",\\\"name\\\":\\\"changes\\\",\\\"type\\\":\\\"observable\\\",\\\"scope\\\":\\\"829123856\\\"}),\\\"formatted_vals\\\":[\\\"1.0\\\",\\\"1.1\\\",\\\"1.2\\\",\\\"1.3\\\",\\\"1.4\\\",\\\"1.5\\\",\\\"1.6\\\",\\\"1.7\\\",\\\"1.8\\\",\\\"1.9\\\",\\\"2.0\\\",\\\"2.1\\\",\\\"2.2\\\",\\\"2.3\\\",\\\"2.4\\\",\\\"2.5\\\",\\\"2.6\\\",\\\"2.7\\\",\\\"2.8\\\",\\\"2.9\\\",\\\"3.0\\\",\\\"3.1\\\",\\\"3.2\\\",\\\"3.3\\\",\\\"3.4\\\",\\\"3.5\\\",\\\"3.6\\\",\\\"3.7\\\",\\\"3.8\\\",\\\"3.9\\\",\\\"4.0\\\",\\\"4.1\\\",\\\"4.2\\\",\\\"4.3\\\",\\\"4.4\\\",\\\"4.5\\\",\\\"4.6\\\",\\\"4.7\\\",\\\"4.8\\\",\\\"4.9\\\",\\\"5.0\\\",\\\"5.1\\\",\\\"5.2\\\",\\\"5.3\\\",\\\"5.4\\\",\\\"5.5\\\",\\\"5.6\\\",\\\"5.7\\\",\\\"5.8\\\",\\\"5.9\\\",\\\"6.0\\\",\\\"6.1\\\",\\\"6.2\\\",\\\"6.3\\\",\\\"6.4\\\",\\\"6.5\\\",\\\"6.6\\\",\\\"6.7\\\",\\\"6.8\\\",\\\"6.9\\\",\\\"7.0\\\",\\\"7.1\\\",\\\"7.2\\\",\\\"7.3\\\",\\\"7.4\\\",\\\"7.5\\\",\\\"7.6\\\",\\\"7.7\\\",\\\"7.8\\\",\\\"7.9\\\",\\\"8.0\\\",\\\"8.1\\\",\\\"8.2\\\",\\\"8.3\\\",\\\"8.4\\\",\\\"8.5\\\",\\\"8.6\\\",\\\"8.7\\\",\\\"8.8\\\",\\\"8.9\\\",\\\"9.0\\\",\\\"9.1\\\",\\\"9.2\\\",\\\"9.3\\\",\\\"9.4\\\",\\\"9.5\\\",\\\"9.6\\\",\\\"9.7\\\",\\\"9.8\\\",\\\"9.9\\\",\\\"10.0\\\",\\\"10.1\\\",\\\"10.2\\\",\\\"10.3\\\",\\\"10.4\\\",\\\"10.5\\\",\\\"10.6\\\",\\\"10.7\\\",\\\"10.8\\\",\\\"10.9\\\",\\\"11.0\\\",\\\"11.1\\\",\\\"11.2\\\",\\\"11.3\\\",\\\"11.4\\\",\\\"11.5\\\",\\\"11.6\\\",\\\"11.7\\\",\\\"11.8\\\",\\\"11.9\\\",\\\"12.0\\\",\\\"12.1\\\",\\\"12.2\\\",\\\"12.3\\\",\\\"12.4\\\",\\\"12.5\\\",\\\"12.6\\\",\\\"12.7\\\",\\\"12.8\\\",\\\"12.9\\\",\\\"13.0\\\",\\\"13.1\\\",\\\"13.2\\\",\\\"13.3\\\",\\\"13.4\\\",\\\"13.5\\\",\\\"13.6\\\",\\\"13.7\\\",\\\"13.8\\\",\\\"13.9\\\",\\\"14.0\\\",\\\"14.1\\\",\\\"14.2\\\",\\\"14.3\\\",\\\"14.4\\\",\\\"14.5\\\",\\\"14.6\\\",\\\"14.7\\\",\\\"14.8\\\",\\\"14.9\\\",\\\"15.0\\\",\\\"15.1\\\",\\\"15.2\\\",\\\"15.3\\\",\\\"15.4\\\",\\\"15.5\\\",\\\"15.6\\\",\\\"15.7\\\",\\\"15.8\\\",\\\"15.9\\\",\\\"16.0\\\",\\\"16.1\\\",\\\"16.2\\\",\\\"16.3\\\",\\\"16.4\\\",\\\"16.5\\\",\\\"16.6\\\",\\\"16.7\\\",\\\"16.8\\\",\\\"16.9\\\",\\\"17.0\\\",\\\"17.1\\\",\\\"17.2\\\",\\\"17.3\\\",\\\"17.4\\\",\\\"17.5\\\",\\\"17.6\\\",\\\"17.7\\\",\\\"17.8\\\",\\\"17.9\\\",\\\"18.0\\\",\\\"18.1\\\",\\\"18.2\\\",\\\"18.3\\\",\\\"18.4\\\",\\\"18.5\\\",\\\"18.6\\\",\\\"18.7\\\",\\\"18.8\\\",\\\"18.9\\\",\\\"19.0\\\",\\\"19.1\\\",\\\"19.2\\\",\\\"19.3\\\",\\\"19.4\\\",\\\"19.5\\\",\\\"19.6\\\",\\\"19.7\\\",\\\"19.8\\\",\\\"19.9\\\",\\\"20.0\\\",\\\"20.1\\\",\\\"20.2\\\",\\\"20.3\\\",\\\"20.4\\\",\\\"20.5\\\",\\\"20.6\\\",\\\"20.7\\\",\\\"20.8\\\",\\\"20.9\\\",\\\"21.0\\\",\\\"21.1\\\",\\\"21.2\\\",\\\"21.3\\\",\\\"21.4\\\",\\\"21.5\\\",\\\"21.6\\\",\\\"21.7\\\",\\\"21.8\\\",\\\"21.9\\\",\\\"22.0\\\",\\\"22.1\\\",\\\"22.2\\\",\\\"22.3\\\",\\\"22.4\\\",\\\"22.5\\\",\\\"22.6\\\",\\\"22.7\\\",\\\"22.8\\\",\\\"22.9\\\",\\\"23.0\\\",\\\"23.1\\\",\\\"23.2\\\",\\\"23.3\\\",\\\"23.4\\\",\\\"23.5\\\",\\\"23.6\\\",\\\"23.7\\\",\\\"23.8\\\",\\\"23.9\\\",\\\"24.0\\\",\\\"24.1\\\",\\\"24.2\\\",\\\"24.3\\\",\\\"24.4\\\",\\\"24.5\\\",\\\"24.6\\\",\\\"24.7\\\",\\\"24.8\\\",\\\"24.9\\\",\\\"25.0\\\",\\\"25.1\\\",\\\"25.2\\\",\\\"25.3\\\",\\\"25.4\\\",\\\"25.5\\\",\\\"25.6\\\",\\\"25.7\\\",\\\"25.8\\\",\\\"25.9\\\",\\\"26.0\\\",\\\"26.1\\\",\\\"26.2\\\",\\\"26.3\\\",\\\"26.4\\\",\\\"26.5\\\",\\\"26.6\\\",\\\"26.7\\\",\\\"26.8\\\",\\\"26.9\\\",\\\"27.0\\\",\\\"27.1\\\",\\\"27.2\\\",\\\"27.3\\\",\\\"27.4\\\",\\\"27.5\\\",\\\"27.6\\\",\\\"27.7\\\",\\\"27.8\\\",\\\"27.9\\\",\\\"28.0\\\",\\\"28.1\\\",\\\"28.2\\\",\\\"28.3\\\",\\\"28.4\\\",\\\"28.5\\\",\\\"28.6\\\",\\\"28.7\\\",\\\"28.8\\\",\\\"28.9\\\",\\\"29.0\\\",\\\"29.1\\\",\\\"29.2\\\",\\\"29.3\\\",\\\"29.4\\\",\\\"29.5\\\",\\\"29.6\\\",\\\"29.7\\\",\\\"29.8\\\",\\\"29.9\\\",\\\"30.0\\\",\\\"30.1\\\",\\\"30.2\\\",\\\"30.3\\\",\\\"30.4\\\",\\\"30.5\\\",\\\"30.6\\\",\\\"30.7\\\",\\\"30.8\\\",\\\"30.9\\\",\\\"31.0\\\",\\\"31.1\\\",\\\"31.2\\\",\\\"31.3\\\",\\\"31.4\\\",\\\"31.5\\\",\\\"31.6\\\",\\\"31.7\\\",\\\"31.8\\\",\\\"31.9\\\",\\\"32.0\\\",\\\"32.1\\\",\\\"32.2\\\",\\\"32.3\\\",\\\"32.4\\\",\\\"32.5\\\",\\\"32.6\\\",\\\"32.7\\\",\\\"32.8\\\",\\\"32.9\\\",\\\"33.0\\\",\\\"33.1\\\",\\\"33.2\\\",\\\"33.3\\\",\\\"33.4\\\",\\\"33.5\\\",\\\"33.6\\\",\\\"33.7\\\",\\\"33.8\\\",\\\"33.9\\\",\\\"34.0\\\",\\\"34.1\\\",\\\"34.2\\\",\\\"34.3\\\",\\\"34.4\\\",\\\"34.5\\\",\\\"34.6\\\",\\\"34.7\\\",\\\"34.8\\\",\\\"34.9\\\",\\\"35.0\\\",\\\"35.1\\\",\\\"35.2\\\",\\\"35.3\\\",\\\"35.4\\\",\\\"35.5\\\",\\\"35.6\\\",\\\"35.7\\\",\\\"35.8\\\",\\\"35.9\\\",\\\"36.0\\\",\\\"36.1\\\",\\\"36.2\\\",\\\"36.3\\\",\\\"36.4\\\",\\\"36.5\\\",\\\"36.6\\\",\\\"36.7\\\",\\\"36.8\\\",\\\"36.9\\\",\\\"37.0\\\",\\\"37.1\\\",\\\"37.2\\\",\\\"37.3\\\",\\\"37.4\\\",\\\"37.5\\\",\\\"37.6\\\",\\\"37.7\\\",\\\"37.8\\\",\\\"37.9\\\",\\\"38.0\\\",\\\"38.1\\\",\\\"38.2\\\",\\\"38.3\\\",\\\"38.4\\\",\\\"38.5\\\",\\\"38.6\\\",\\\"38.7\\\",\\\"38.8\\\",\\\"38.9\\\",\\\"39.0\\\",\\\"39.1\\\",\\\"39.2\\\",\\\"39.3\\\",\\\"39.4\\\",\\\"39.5\\\",\\\"39.6\\\",\\\"39.7\\\",\\\"39.8\\\",\\\"39.9\\\",\\\"40.0\\\",\\\"40.1\\\",\\\"40.2\\\",\\\"40.3\\\",\\\"40.4\\\",\\\"40.5\\\",\\\"40.6\\\",\\\"40.7\\\",\\\"40.8\\\",\\\"40.9\\\",\\\"41.0\\\",\\\"41.1\\\",\\\"41.2\\\",\\\"41.3\\\",\\\"41.4\\\",\\\"41.5\\\",\\\"41.6\\\",\\\"41.7\\\",\\\"41.8\\\",\\\"41.9\\\",\\\"42.0\\\",\\\"42.1\\\",\\\"42.2\\\",\\\"42.3\\\",\\\"42.4\\\",\\\"42.5\\\",\\\"42.6\\\",\\\"42.7\\\",\\\"42.8\\\",\\\"42.9\\\",\\\"43.0\\\",\\\"43.1\\\",\\\"43.2\\\",\\\"43.3\\\",\\\"43.4\\\",\\\"43.5\\\",\\\"43.6\\\",\\\"43.7\\\",\\\"43.8\\\",\\\"43.9\\\",\\\"44.0\\\",\\\"44.1\\\",\\\"44.2\\\",\\\"44.3\\\",\\\"44.4\\\",\\\"44.5\\\",\\\"44.6\\\",\\\"44.7\\\",\\\"44.8\\\",\\\"44.9\\\",\\\"45.0\\\",\\\"45.1\\\",\\\"45.2\\\",\\\"45.3\\\",\\\"45.4\\\",\\\"45.5\\\",\\\"45.6\\\",\\\"45.7\\\",\\\"45.8\\\",\\\"45.9\\\",\\\"46.0\\\",\\\"46.1\\\",\\\"46.2\\\",\\\"46.3\\\",\\\"46.4\\\",\\\"46.5\\\",\\\"46.6\\\",\\\"46.7\\\",\\\"46.8\\\",\\\"46.9\\\",\\\"47.0\\\",\\\"47.1\\\",\\\"47.2\\\",\\\"47.3\\\",\\\"47.4\\\",\\\"47.5\\\",\\\"47.6\\\",\\\"47.7\\\",\\\"47.8\\\",\\\"47.9\\\",\\\"48.0\\\",\\\"48.1\\\",\\\"48.2\\\",\\\"48.3\\\",\\\"48.4\\\",\\\"48.5\\\",\\\"48.6\\\",\\\"48.7\\\",\\\"48.8\\\",\\\"48.9\\\",\\\"49.0\\\",\\\"49.1\\\",\\\"49.2\\\",\\\"49.3\\\",\\\"49.4\\\",\\\"49.5\\\",\\\"49.6\\\",\\\"49.7\\\",\\\"49.8\\\",\\\"49.9\\\",\\\"50.0\\\",\\\"50.1\\\",\\\"50.2\\\",\\\"50.3\\\",\\\"50.4\\\",\\\"50.5\\\",\\\"50.6\\\",\\\"50.7\\\",\\\"50.8\\\",\\\"50.9\\\",\\\"51.0\\\",\\\"51.1\\\",\\\"51.2\\\",\\\"51.3\\\",\\\"51.4\\\",\\\"51.5\\\",\\\"51.6\\\",\\\"51.7\\\",\\\"51.8\\\",\\\"51.9\\\",\\\"52.0\\\",\\\"52.1\\\",\\\"52.2\\\",\\\"52.3\\\",\\\"52.4\\\",\\\"52.5\\\",\\\"52.6\\\",\\\"52.7\\\",\\\"52.8\\\",\\\"52.9\\\",\\\"53.0\\\",\\\"53.1\\\",\\\"53.2\\\",\\\"53.3\\\",\\\"53.4\\\",\\\"53.5\\\",\\\"53.6\\\",\\\"53.7\\\",\\\"53.8\\\",\\\"53.9\\\",\\\"54.0\\\",\\\"54.1\\\",\\\"54.2\\\",\\\"54.3\\\",\\\"54.4\\\",\\\"54.5\\\",\\\"54.6\\\",\\\"54.7\\\",\\\"54.8\\\",\\\"54.9\\\",\\\"55.0\\\",\\\"55.1\\\",\\\"55.2\\\",\\\"55.3\\\",\\\"55.4\\\",\\\"55.5\\\",\\\"55.6\\\",\\\"55.7\\\",\\\"55.8\\\",\\\"55.9\\\",\\\"56.0\\\",\\\"56.1\\\",\\\"56.2\\\",\\\"56.3\\\",\\\"56.4\\\",\\\"56.5\\\",\\\"56.6\\\",\\\"56.7\\\",\\\"56.8\\\",\\\"56.9\\\",\\\"57.0\\\",\\\"57.1\\\",\\\"57.2\\\",\\\"57.3\\\",\\\"57.4\\\",\\\"57.5\\\",\\\"57.6\\\",\\\"57.7\\\",\\\"57.8\\\",\\\"57.9\\\",\\\"58.0\\\",\\\"58.1\\\",\\\"58.2\\\",\\\"58.3\\\",\\\"58.4\\\",\\\"58.5\\\",\\\"58.6\\\",\\\"58.7\\\",\\\"58.8\\\",\\\"58.9\\\",\\\"59.0\\\",\\\"59.1\\\",\\\"59.2\\\",\\\"59.3\\\",\\\"59.4\\\",\\\"59.5\\\",\\\"59.6\\\",\\\"59.7\\\",\\\"59.8\\\",\\\"59.9\\\",\\\"60.0\\\",\\\"60.1\\\",\\\"60.2\\\",\\\"60.3\\\",\\\"60.4\\\",\\\"60.5\\\",\\\"60.6\\\",\\\"60.7\\\",\\\"60.8\\\",\\\"60.9\\\",\\\"61.0\\\",\\\"61.1\\\",\\\"61.2\\\",\\\"61.3\\\",\\\"61.4\\\",\\\"61.5\\\",\\\"61.6\\\",\\\"61.7\\\",\\\"61.8\\\",\\\"61.9\\\",\\\"62.0\\\",\\\"62.1\\\",\\\"62.2\\\",\\\"62.3\\\",\\\"62.4\\\",\\\"62.5\\\",\\\"62.6\\\",\\\"62.7\\\",\\\"62.8\\\",\\\"62.9\\\",\\\"63.0\\\",\\\"63.1\\\",\\\"63.2\\\",\\\"63.3\\\",\\\"63.4\\\",\\\"63.5\\\",\\\"63.6\\\",\\\"63.7\\\",\\\"63.8\\\",\\\"63.9\\\",\\\"64.0\\\",\\\"64.1\\\",\\\"64.2\\\",\\\"64.3\\\",\\\"64.4\\\",\\\"64.5\\\",\\\"64.6\\\",\\\"64.7\\\",\\\"64.8\\\",\\\"64.9\\\",\\\"65.0\\\",\\\"65.1\\\",\\\"65.2\\\",\\\"65.3\\\",\\\"65.4\\\",\\\"65.5\\\",\\\"65.6\\\",\\\"65.7\\\",\\\"65.8\\\",\\\"65.9\\\",\\\"66.0\\\",\\\"66.1\\\",\\\"66.2\\\",\\\"66.3\\\",\\\"66.4\\\",\\\"66.5\\\",\\\"66.6\\\",\\\"66.7\\\",\\\"66.8\\\",\\\"66.9\\\",\\\"67.0\\\",\\\"67.1\\\",\\\"67.2\\\",\\\"67.3\\\",\\\"67.4\\\",\\\"67.5\\\",\\\"67.6\\\",\\\"67.7\\\",\\\"67.8\\\",\\\"67.9\\\",\\\"68.0\\\",\\\"68.1\\\",\\\"68.2\\\",\\\"68.3\\\",\\\"68.4\\\",\\\"68.5\\\",\\\"68.6\\\",\\\"68.7\\\",\\\"68.8\\\",\\\"68.9\\\",\\\"69.0\\\",\\\"69.1\\\",\\\"69.2\\\",\\\"69.3\\\",\\\"69.4\\\",\\\"69.5\\\",\\\"69.6\\\",\\\"69.7\\\",\\\"69.8\\\",\\\"69.9\\\",\\\"70.0\\\",\\\"70.1\\\",\\\"70.2\\\",\\\"70.3\\\",\\\"70.4\\\",\\\"70.5\\\",\\\"70.6\\\",\\\"70.7\\\",\\\"70.8\\\",\\\"70.9\\\",\\\"71.0\\\",\\\"71.1\\\",\\\"71.2\\\",\\\"71.3\\\",\\\"71.4\\\",\\\"71.5\\\",\\\"71.6\\\",\\\"71.7\\\",\\\"71.8\\\",\\\"71.9\\\",\\\"72.0\\\",\\\"72.1\\\",\\\"72.2\\\",\\\"72.3\\\",\\\"72.4\\\",\\\"72.5\\\",\\\"72.6\\\",\\\"72.7\\\",\\\"72.8\\\",\\\"72.9\\\",\\\"73.0\\\",\\\"73.1\\\",\\\"73.2\\\",\\\"73.3\\\",\\\"73.4\\\",\\\"73.5\\\",\\\"73.6\\\",\\\"73.7\\\",\\\"73.8\\\",\\\"73.9\\\",\\\"74.0\\\",\\\"74.1\\\",\\\"74.2\\\",\\\"74.3\\\",\\\"74.4\\\",\\\"74.5\\\",\\\"74.6\\\",\\\"74.7\\\",\\\"74.8\\\",\\\"74.9\\\",\\\"75.0\\\",\\\"75.1\\\",\\\"75.2\\\",\\\"75.3\\\",\\\"75.4\\\",\\\"75.5\\\",\\\"75.6\\\",\\\"75.7\\\",\\\"75.8\\\",\\\"75.9\\\",\\\"76.0\\\",\\\"76.1\\\",\\\"76.2\\\",\\\"76.3\\\",\\\"76.4\\\",\\\"76.5\\\",\\\"76.6\\\",\\\"76.7\\\",\\\"76.8\\\",\\\"76.9\\\",\\\"77.0\\\",\\\"77.1\\\",\\\"77.2\\\",\\\"77.3\\\",\\\"77.4\\\",\\\"77.5\\\",\\\"77.6\\\",\\\"77.7\\\",\\\"77.8\\\",\\\"77.9\\\",\\\"78.0\\\",\\\"78.1\\\",\\\"78.2\\\",\\\"78.3\\\",\\\"78.4\\\",\\\"78.5\\\",\\\"78.6\\\",\\\"78.7\\\",\\\"78.8\\\",\\\"78.9\\\",\\\"79.0\\\",\\\"79.1\\\",\\\"79.2\\\",\\\"79.3\\\",\\\"79.4\\\",\\\"79.5\\\",\\\"79.6\\\",\\\"79.7\\\",\\\"79.8\\\",\\\"79.9\\\",\\\"80.0\\\",\\\"80.1\\\",\\\"80.2\\\",\\\"80.3\\\",\\\"80.4\\\",\\\"80.5\\\",\\\"80.6\\\",\\\"80.7\\\",\\\"80.8\\\",\\\"80.9\\\",\\\"81.0\\\",\\\"81.1\\\",\\\"81.2\\\",\\\"81.3\\\",\\\"81.4\\\",\\\"81.5\\\",\\\"81.6\\\",\\\"81.7\\\",\\\"81.8\\\",\\\"81.9\\\",\\\"82.0\\\",\\\"82.1\\\",\\\"82.2\\\",\\\"82.3\\\",\\\"82.4\\\",\\\"82.5\\\",\\\"82.6\\\",\\\"82.7\\\",\\\"82.8\\\",\\\"82.9\\\",\\\"83.0\\\",\\\"83.1\\\",\\\"83.2\\\",\\\"83.3\\\",\\\"83.4\\\",\\\"83.5\\\",\\\"83.6\\\",\\\"83.7\\\",\\\"83.8\\\",\\\"83.9\\\",\\\"84.0\\\",\\\"84.1\\\",\\\"84.2\\\",\\\"84.3\\\",\\\"84.4\\\",\\\"84.5\\\",\\\"84.6\\\",\\\"84.7\\\",\\\"84.8\\\",\\\"84.9\\\",\\\"85.0\\\",\\\"85.1\\\",\\\"85.2\\\",\\\"85.3\\\",\\\"85.4\\\",\\\"85.5\\\",\\\"85.6\\\",\\\"85.7\\\",\\\"85.8\\\",\\\"85.9\\\",\\\"86.0\\\",\\\"86.1\\\",\\\"86.2\\\",\\\"86.3\\\",\\\"86.4\\\",\\\"86.5\\\",\\\"86.6\\\",\\\"86.7\\\",\\\"86.8\\\",\\\"86.9\\\",\\\"87.0\\\",\\\"87.1\\\",\\\"87.2\\\",\\\"87.3\\\",\\\"87.4\\\",\\\"87.5\\\",\\\"87.6\\\",\\\"87.7\\\",\\\"87.8\\\",\\\"87.9\\\",\\\"88.0\\\",\\\"88.1\\\",\\\"88.2\\\",\\\"88.3\\\",\\\"88.4\\\",\\\"88.5\\\",\\\"88.6\\\",\\\"88.7\\\",\\\"88.8\\\",\\\"88.9\\\",\\\"89.0\\\",\\\"89.1\\\",\\\"89.2\\\",\\\"89.3\\\",\\\"89.4\\\",\\\"89.5\\\",\\\"89.6\\\",\\\"89.7\\\",\\\"89.8\\\",\\\"89.9\\\",\\\"90.0\\\",\\\"90.1\\\",\\\"90.2\\\",\\\"90.3\\\",\\\"90.4\\\",\\\"90.5\\\",\\\"90.6\\\",\\\"90.7\\\",\\\"90.8\\\",\\\"90.9\\\",\\\"91.0\\\",\\\"91.1\\\",\\\"91.2\\\",\\\"91.3\\\",\\\"91.4\\\",\\\"91.5\\\",\\\"91.6\\\",\\\"91.7\\\",\\\"91.8\\\",\\\"91.9\\\",\\\"92.0\\\",\\\"92.1\\\",\\\"92.2\\\",\\\"92.3\\\",\\\"92.4\\\",\\\"92.5\\\",\\\"92.6\\\",\\\"92.7\\\",\\\"92.8\\\",\\\"92.9\\\",\\\"93.0\\\",\\\"93.1\\\",\\\"93.2\\\",\\\"93.3\\\",\\\"93.4\\\",\\\"93.5\\\",\\\"93.6\\\",\\\"93.7\\\",\\\"93.8\\\",\\\"93.9\\\",\\\"94.0\\\",\\\"94.1\\\",\\\"94.2\\\",\\\"94.3\\\",\\\"94.4\\\",\\\"94.5\\\",\\\"94.6\\\",\\\"94.7\\\",\\\"94.8\\\",\\\"94.9\\\",\\\"95.0\\\",\\\"95.1\\\",\\\"95.2\\\",\\\"95.3\\\",\\\"95.4\\\",\\\"95.5\\\",\\\"95.6\\\",\\\"95.7\\\",\\\"95.8\\\",\\\"95.9\\\",\\\"96.0\\\",\\\"96.1\\\",\\\"96.2\\\",\\\"96.3\\\",\\\"96.4\\\",\\\"96.5\\\",\\\"96.6\\\",\\\"96.7\\\",\\\"96.8\\\",\\\"96.9\\\",\\\"97.0\\\",\\\"97.1\\\",\\\"97.2\\\",\\\"97.3\\\",\\\"97.4\\\",\\\"97.5\\\",\\\"97.6\\\",\\\"97.7\\\",\\\"97.8\\\",\\\"97.9\\\",\\\"98.0\\\",\\\"98.1\\\",\\\"98.2\\\",\\\"98.3\\\",\\\"98.4\\\",\\\"98.5\\\",\\\"98.6\\\",\\\"98.7\\\",\\\"98.8\\\",\\\"98.9\\\",\\\"99.0\\\",\\\"99.1\\\",\\\"99.2\\\",\\\"99.3\\\",\\\"99.4\\\",\\\"99.5\\\",\\\"99.6\\\",\\\"99.7\\\",\\\"99.8\\\",\\\"99.9\\\",\\\"100.0\\\"]};\\n    var self = this;\\n    function AppViewModel() {\\n        for (var key in json_data) {\\n            var el = json_data[key];\\n            this[key] = Array.isArray(el) ? ko.observableArray(el) : ko.observable(el);\\n        }\\n        \\n        [this[\\\"formatted_val\\\"]=ko.computed(    function(){\\n        return this.formatted_vals()[parseInt(this.index())-(1)];\\n    }\\n,this)]\\n        [this[\\\"index\\\"].subscribe((function (val){!(this.valueFromJulia[\\\"index\\\"]) ? (WebIO.setval({\\\"id\\\":\\\"32\\\",\\\"name\\\":\\\"index\\\",\\\"type\\\":\\\"observable\\\",\\\"scope\\\":\\\"829123856\\\"},val)) : undefined; return this.valueFromJulia[\\\"index\\\"]=false}),self),this[\\\"changes\\\"].subscribe((function (val){!(this.valueFromJulia[\\\"changes\\\"]) ? (WebIO.setval({\\\"id\\\":\\\"33\\\",\\\"name\\\":\\\"changes\\\",\\\"type\\\":\\\"observable\\\",\\\"scope\\\":\\\"829123856\\\"},val)) : undefined; return this.valueFromJulia[\\\"changes\\\"]=false}),self)]\\n        \\n    }\\n    self.model = new AppViewModel();\\n    self.valueFromJulia = {};\\n    for (var key in json_data) {\\n        self.valueFromJulia[key] = false;\\n    }\\n    ko.applyBindings(self.model, self.dom);\\n}\\n);\\n    (WebIO.importBlock({\\\"data\\\":[{\\\"url\\\":\\\"\\/assetserver\\/0a8f371627acb0fbab7e7ff03e6794a95ee37ef5-knockout.js\\\",\\\"name\\\":\\\"knockout\\\",\\\"type\\\":\\\"js\\\"},{\\\"url\\\":\\\"\\/assetserver\\/9b3c694ae2b8b2559483df0ee4657f1f62c8c408-knockout_punches.js\\\",\\\"name\\\":\\\"knockout_punches\\\",\\\"type\\\":\\\"js\\\"}],\\\"type\\\":\\\"async_block\\\"})).then((imports) => handler.apply(this, imports));\\n}\\n\"],\"handlers\":{\"index\":[\"(function (val){return (val!=this.model[\\\"index\\\"]()) ? (this.valueFromJulia[\\\"index\\\"]=true, this.model[\\\"index\\\"](val)) : undefined})\"],\"changes\":[\"(function (val){return (val!=this.model[\\\"changes\\\"]()) ? (this.valueFromJulia[\\\"changes\\\"]=true, this.model[\\\"changes\\\"](val)) : undefined})\"]},\"observables\":{\"index\":{\"id\":\"32\",\"value\":91,\"sync\":true},\"changes\":{\"id\":\"33\",\"value\":0,\"sync\":false}},\"imports\":{\"data\":[{\"url\":\"\\/assetserver\\/0a8f371627acb0fbab7e7ff03e6794a95ee37ef5-knockout.js\",\"name\":\"knockout\",\"type\":\"js\"},{\"url\":\"\\/assetserver\\/9b3c694ae2b8b2559483df0ee4657f1f62c8c408-knockout_punches.js\",\"name\":\"knockout_punches\",\"type\":\"js\"},{\"url\":\"\\/assetserver\\/f88515f2eab9a880f440f4a02ad6bec39eab20f3-all.js\",\"name\":null,\"type\":\"js\"},{\"url\":\"\\/assetserver\\/1ca4083aec9453427e6ec123862050a8bb53b266-style.css\",\"name\":null,\"type\":\"css\"},{\"url\":\"\\/assetserver\\/9a1b433d0e3cd69e6f57207ad94f565eba9960c8-bulma_confined.min.css\",\"name\":null,\"type\":\"css\"}],\"type\":\"async_block\"}},\"type\":\"node\",\"children\":[{\"props\":{\"className\":\"interact-flex-row interact-widget\"},\"nodeType\":\"DOM\",\"instanceArgs\":{\"namespace\":\"html\",\"tag\":\"div\"},\"type\":\"node\",\"children\":[{\"props\":{\"className\":\"interact-flex-row-left\"},\"nodeType\":\"DOM\",\"instanceArgs\":{\"namespace\":\"html\",\"tag\":\"div\"},\"type\":\"node\",\"children\":[{\"props\":{\"style\":{\"padding\":\"5px 10px 0px 10px\"},\"className\":\"interact \"},\"nodeType\":\"DOM\",\"instanceArgs\":{\"namespace\":\"html\",\"tag\":\"label\"},\"type\":\"node\",\"children\":[\"Masa (kg)\"]}]},{\"props\":{\"className\":\"interact-flex-row-center\"},\"nodeType\":\"DOM\",\"instanceArgs\":{\"namespace\":\"html\",\"tag\":\"div\"},\"type\":\"node\",\"children\":[{\"props\":{\"style\":{},\"className\":\"slider slider is-fullwidth\",\"max\":991,\"attributes\":{\"orient\":\"horizontal\",\"data-bind\":\"numericValue: index, valueUpdate: 'input', event: {change: function (){this.changes(this.changes()+1)}}\",\"type\":\"range\"},\"step\":1,\"min\":1},\"nodeType\":\"DOM\",\"instanceArgs\":{\"namespace\":\"html\",\"tag\":\"input\"},\"type\":\"node\",\"children\":[]}]},{\"props\":{\"className\":\"interact-flex-row-right\"},\"nodeType\":\"DOM\",\"instanceArgs\":{\"namespace\":\"html\",\"tag\":\"div\"},\"type\":\"node\",\"children\":[{\"props\":{\"attributes\":{\"data-bind\":\"text: formatted_val\"}},\"nodeType\":\"DOM\",\"instanceArgs\":{\"namespace\":\"html\",\"tag\":\"p\"},\"type\":\"node\",\"children\":[]}]}]}]}]},{\"props\":{\"className\":\"field interact-widget\"},\"nodeType\":\"DOM\",\"instanceArgs\":{\"namespace\":\"html\",\"tag\":\"div\"},\"type\":\"node\",\"children\":[{\"props\":{},\"nodeType\":\"Scope\",\"instanceArgs\":{\"id\":\"3444383680\",\"systemjs_options\":null,\"mount_callbacks\":[\"function () {\\n    var handler = (function (ko, koPunches) {\\n    ko.punches.enableAll();\\n    ko.bindingHandlers.numericValue = {\\n        init: function(element, valueAccessor, allBindings, data, context) {\\n            var stringified = ko.observable(ko.unwrap(valueAccessor()));\\n            stringified.subscribe(function(value) {\\n                var val = parseFloat(value);\\n                if (!isNaN(val)) {\\n                    valueAccessor()(val);\\n                }\\n            });\\n            valueAccessor().subscribe(function(value) {\\n                var str = JSON.stringify(value);\\n                if ((str == \\\"0\\\") && ([\\\"-0\\\", \\\"-0.\\\"].indexOf(stringified()) >= 0))\\n                     return;\\n                 if ([\\\"null\\\", \\\"\\\"].indexOf(str) >= 0)\\n                     return;\\n                stringified(str);\\n            });\\n            ko.applyBindingsToNode(\\n                element,\\n                {\\n                    value: stringified,\\n                    valueUpdate: allBindings.get('valueUpdate'),\\n                },\\n                context,\\n            );\\n        }\\n    };\\n    var json_data = {\\\"index\\\":WebIO.getval({\\\"id\\\":\\\"35\\\",\\\"name\\\":\\\"index\\\",\\\"type\\\":\\\"observable\\\",\\\"scope\\\":\\\"3444383680\\\"}),\\\"changes\\\":WebIO.getval({\\\"id\\\":\\\"36\\\",\\\"name\\\":\\\"changes\\\",\\\"type\\\":\\\"observable\\\",\\\"scope\\\":\\\"3444383680\\\"}),\\\"formatted_vals\\\":[\\\"-20.0\\\",\\\"-19.9\\\",\\\"-19.8\\\",\\\"-19.7\\\",\\\"-19.6\\\",\\\"-19.5\\\",\\\"-19.4\\\",\\\"-19.3\\\",\\\"-19.2\\\",\\\"-19.1\\\",\\\"-19.0\\\",\\\"-18.9\\\",\\\"-18.8\\\",\\\"-18.7\\\",\\\"-18.6\\\",\\\"-18.5\\\",\\\"-18.4\\\",\\\"-18.3\\\",\\\"-18.2\\\",\\\"-18.1\\\",\\\"-18.0\\\",\\\"-17.9\\\",\\\"-17.8\\\",\\\"-17.7\\\",\\\"-17.6\\\",\\\"-17.5\\\",\\\"-17.4\\\",\\\"-17.3\\\",\\\"-17.2\\\",\\\"-17.1\\\",\\\"-17.0\\\",\\\"-16.9\\\",\\\"-16.8\\\",\\\"-16.7\\\",\\\"-16.6\\\",\\\"-16.5\\\",\\\"-16.4\\\",\\\"-16.3\\\",\\\"-16.2\\\",\\\"-16.1\\\",\\\"-16.0\\\",\\\"-15.9\\\",\\\"-15.8\\\",\\\"-15.7\\\",\\\"-15.6\\\",\\\"-15.5\\\",\\\"-15.4\\\",\\\"-15.3\\\",\\\"-15.2\\\",\\\"-15.1\\\",\\\"-15.0\\\",\\\"-14.9\\\",\\\"-14.8\\\",\\\"-14.7\\\",\\\"-14.6\\\",\\\"-14.5\\\",\\\"-14.4\\\",\\\"-14.3\\\",\\\"-14.2\\\",\\\"-14.1\\\",\\\"-14.0\\\",\\\"-13.9\\\",\\\"-13.8\\\",\\\"-13.7\\\",\\\"-13.6\\\",\\\"-13.5\\\",\\\"-13.4\\\",\\\"-13.3\\\",\\\"-13.2\\\",\\\"-13.1\\\",\\\"-13.0\\\",\\\"-12.9\\\",\\\"-12.8\\\",\\\"-12.7\\\",\\\"-12.6\\\",\\\"-12.5\\\",\\\"-12.4\\\",\\\"-12.3\\\",\\\"-12.2\\\",\\\"-12.1\\\",\\\"-12.0\\\",\\\"-11.9\\\",\\\"-11.8\\\",\\\"-11.7\\\",\\\"-11.6\\\",\\\"-11.5\\\",\\\"-11.4\\\",\\\"-11.3\\\",\\\"-11.2\\\",\\\"-11.1\\\",\\\"-11.0\\\",\\\"-10.9\\\",\\\"-10.8\\\",\\\"-10.7\\\",\\\"-10.6\\\",\\\"-10.5\\\",\\\"-10.4\\\",\\\"-10.3\\\",\\\"-10.2\\\",\\\"-10.1\\\",\\\"-10.0\\\",\\\"-9.9\\\",\\\"-9.8\\\",\\\"-9.7\\\",\\\"-9.6\\\",\\\"-9.5\\\",\\\"-9.4\\\",\\\"-9.3\\\",\\\"-9.2\\\",\\\"-9.1\\\",\\\"-9.0\\\",\\\"-8.9\\\",\\\"-8.8\\\",\\\"-8.7\\\",\\\"-8.6\\\",\\\"-8.5\\\",\\\"-8.4\\\",\\\"-8.3\\\",\\\"-8.2\\\",\\\"-8.1\\\",\\\"-8.0\\\",\\\"-7.9\\\",\\\"-7.8\\\",\\\"-7.7\\\",\\\"-7.6\\\",\\\"-7.5\\\",\\\"-7.4\\\",\\\"-7.3\\\",\\\"-7.2\\\",\\\"-7.1\\\",\\\"-7.0\\\",\\\"-6.9\\\",\\\"-6.8\\\",\\\"-6.7\\\",\\\"-6.6\\\",\\\"-6.5\\\",\\\"-6.4\\\",\\\"-6.3\\\",\\\"-6.2\\\",\\\"-6.1\\\",\\\"-6.0\\\",\\\"-5.9\\\",\\\"-5.8\\\",\\\"-5.7\\\",\\\"-5.6\\\",\\\"-5.5\\\",\\\"-5.4\\\",\\\"-5.3\\\",\\\"-5.2\\\",\\\"-5.1\\\",\\\"-5.0\\\",\\\"-4.9\\\",\\\"-4.8\\\",\\\"-4.7\\\",\\\"-4.6\\\",\\\"-4.5\\\",\\\"-4.4\\\",\\\"-4.3\\\",\\\"-4.2\\\",\\\"-4.1\\\",\\\"-4.0\\\",\\\"-3.9\\\",\\\"-3.8\\\",\\\"-3.7\\\",\\\"-3.6\\\",\\\"-3.5\\\",\\\"-3.4\\\",\\\"-3.3\\\",\\\"-3.2\\\",\\\"-3.1\\\",\\\"-3.0\\\",\\\"-2.9\\\",\\\"-2.8\\\",\\\"-2.7\\\",\\\"-2.6\\\",\\\"-2.5\\\",\\\"-2.4\\\",\\\"-2.3\\\",\\\"-2.2\\\",\\\"-2.1\\\",\\\"-2.0\\\",\\\"-1.9\\\",\\\"-1.8\\\",\\\"-1.7\\\",\\\"-1.6\\\",\\\"-1.5\\\",\\\"-1.4\\\",\\\"-1.3\\\",\\\"-1.2\\\",\\\"-1.1\\\",\\\"-1.0\\\",\\\"-0.9\\\",\\\"-0.8\\\",\\\"-0.7\\\",\\\"-0.6\\\",\\\"-0.5\\\",\\\"-0.4\\\",\\\"-0.3\\\",\\\"-0.2\\\",\\\"-0.1\\\",\\\"0.0\\\",\\\"0.1\\\",\\\"0.2\\\",\\\"0.3\\\",\\\"0.4\\\",\\\"0.5\\\",\\\"0.6\\\",\\\"0.7\\\",\\\"0.8\\\",\\\"0.9\\\",\\\"1.0\\\",\\\"1.1\\\",\\\"1.2\\\",\\\"1.3\\\",\\\"1.4\\\",\\\"1.5\\\",\\\"1.6\\\",\\\"1.7\\\",\\\"1.8\\\",\\\"1.9\\\",\\\"2.0\\\",\\\"2.1\\\",\\\"2.2\\\",\\\"2.3\\\",\\\"2.4\\\",\\\"2.5\\\",\\\"2.6\\\",\\\"2.7\\\",\\\"2.8\\\",\\\"2.9\\\",\\\"3.0\\\",\\\"3.1\\\",\\\"3.2\\\",\\\"3.3\\\",\\\"3.4\\\",\\\"3.5\\\",\\\"3.6\\\",\\\"3.7\\\",\\\"3.8\\\",\\\"3.9\\\",\\\"4.0\\\",\\\"4.1\\\",\\\"4.2\\\",\\\"4.3\\\",\\\"4.4\\\",\\\"4.5\\\",\\\"4.6\\\",\\\"4.7\\\",\\\"4.8\\\",\\\"4.9\\\",\\\"5.0\\\",\\\"5.1\\\",\\\"5.2\\\",\\\"5.3\\\",\\\"5.4\\\",\\\"5.5\\\",\\\"5.6\\\",\\\"5.7\\\",\\\"5.8\\\",\\\"5.9\\\",\\\"6.0\\\",\\\"6.1\\\",\\\"6.2\\\",\\\"6.3\\\",\\\"6.4\\\",\\\"6.5\\\",\\\"6.6\\\",\\\"6.7\\\",\\\"6.8\\\",\\\"6.9\\\",\\\"7.0\\\",\\\"7.1\\\",\\\"7.2\\\",\\\"7.3\\\",\\\"7.4\\\",\\\"7.5\\\",\\\"7.6\\\",\\\"7.7\\\",\\\"7.8\\\",\\\"7.9\\\",\\\"8.0\\\",\\\"8.1\\\",\\\"8.2\\\",\\\"8.3\\\",\\\"8.4\\\",\\\"8.5\\\",\\\"8.6\\\",\\\"8.7\\\",\\\"8.8\\\",\\\"8.9\\\",\\\"9.0\\\",\\\"9.1\\\",\\\"9.2\\\",\\\"9.3\\\",\\\"9.4\\\",\\\"9.5\\\",\\\"9.6\\\",\\\"9.7\\\",\\\"9.8\\\",\\\"9.9\\\",\\\"10.0\\\",\\\"10.1\\\",\\\"10.2\\\",\\\"10.3\\\",\\\"10.4\\\",\\\"10.5\\\",\\\"10.6\\\",\\\"10.7\\\",\\\"10.8\\\",\\\"10.9\\\",\\\"11.0\\\",\\\"11.1\\\",\\\"11.2\\\",\\\"11.3\\\",\\\"11.4\\\",\\\"11.5\\\",\\\"11.6\\\",\\\"11.7\\\",\\\"11.8\\\",\\\"11.9\\\",\\\"12.0\\\",\\\"12.1\\\",\\\"12.2\\\",\\\"12.3\\\",\\\"12.4\\\",\\\"12.5\\\",\\\"12.6\\\",\\\"12.7\\\",\\\"12.8\\\",\\\"12.9\\\",\\\"13.0\\\",\\\"13.1\\\",\\\"13.2\\\",\\\"13.3\\\",\\\"13.4\\\",\\\"13.5\\\",\\\"13.6\\\",\\\"13.7\\\",\\\"13.8\\\",\\\"13.9\\\",\\\"14.0\\\",\\\"14.1\\\",\\\"14.2\\\",\\\"14.3\\\",\\\"14.4\\\",\\\"14.5\\\",\\\"14.6\\\",\\\"14.7\\\",\\\"14.8\\\",\\\"14.9\\\",\\\"15.0\\\",\\\"15.1\\\",\\\"15.2\\\",\\\"15.3\\\",\\\"15.4\\\",\\\"15.5\\\",\\\"15.6\\\",\\\"15.7\\\",\\\"15.8\\\",\\\"15.9\\\",\\\"16.0\\\",\\\"16.1\\\",\\\"16.2\\\",\\\"16.3\\\",\\\"16.4\\\",\\\"16.5\\\",\\\"16.6\\\",\\\"16.7\\\",\\\"16.8\\\",\\\"16.9\\\",\\\"17.0\\\",\\\"17.1\\\",\\\"17.2\\\",\\\"17.3\\\",\\\"17.4\\\",\\\"17.5\\\",\\\"17.6\\\",\\\"17.7\\\",\\\"17.8\\\",\\\"17.9\\\",\\\"18.0\\\",\\\"18.1\\\",\\\"18.2\\\",\\\"18.3\\\",\\\"18.4\\\",\\\"18.5\\\",\\\"18.6\\\",\\\"18.7\\\",\\\"18.8\\\",\\\"18.9\\\",\\\"19.0\\\",\\\"19.1\\\",\\\"19.2\\\",\\\"19.3\\\",\\\"19.4\\\",\\\"19.5\\\",\\\"19.6\\\",\\\"19.7\\\",\\\"19.8\\\",\\\"19.9\\\",\\\"20.0\\\"]};\\n    var self = this;\\n    function AppViewModel() {\\n        for (var key in json_data) {\\n            var el = json_data[key];\\n            this[key] = Array.isArray(el) ? ko.observableArray(el) : ko.observable(el);\\n        }\\n        \\n        [this[\\\"formatted_val\\\"]=ko.computed(    function(){\\n        return this.formatted_vals()[parseInt(this.index())-(1)];\\n    }\\n,this)]\\n        [this[\\\"index\\\"].subscribe((function (val){!(this.valueFromJulia[\\\"index\\\"]) ? (WebIO.setval({\\\"id\\\":\\\"35\\\",\\\"name\\\":\\\"index\\\",\\\"type\\\":\\\"observable\\\",\\\"scope\\\":\\\"3444383680\\\"},val)) : undefined; return this.valueFromJulia[\\\"index\\\"]=false}),self),this[\\\"changes\\\"].subscribe((function (val){!(this.valueFromJulia[\\\"changes\\\"]) ? (WebIO.setval({\\\"id\\\":\\\"36\\\",\\\"name\\\":\\\"changes\\\",\\\"type\\\":\\\"observable\\\",\\\"scope\\\":\\\"3444383680\\\"},val)) : undefined; return this.valueFromJulia[\\\"changes\\\"]=false}),self)]\\n        \\n    }\\n    self.model = new AppViewModel();\\n    self.valueFromJulia = {};\\n    for (var key in json_data) {\\n        self.valueFromJulia[key] = false;\\n    }\\n    ko.applyBindings(self.model, self.dom);\\n}\\n);\\n    (WebIO.importBlock({\\\"data\\\":[{\\\"url\\\":\\\"\\/assetserver\\/0a8f371627acb0fbab7e7ff03e6794a95ee37ef5-knockout.js\\\",\\\"name\\\":\\\"knockout\\\",\\\"type\\\":\\\"js\\\"},{\\\"url\\\":\\\"\\/assetserver\\/9b3c694ae2b8b2559483df0ee4657f1f62c8c408-knockout_punches.js\\\",\\\"name\\\":\\\"knockout_punches\\\",\\\"type\\\":\\\"js\\\"}],\\\"type\\\":\\\"async_block\\\"})).then((imports) => handler.apply(this, imports));\\n}\\n\"],\"handlers\":{\"index\":[\"(function (val){return (val!=this.model[\\\"index\\\"]()) ? (this.valueFromJulia[\\\"index\\\"]=true, this.model[\\\"index\\\"](val)) : undefined})\"],\"changes\":[\"(function (val){return (val!=this.model[\\\"changes\\\"]()) ? (this.valueFromJulia[\\\"changes\\\"]=true, this.model[\\\"changes\\\"](val)) : undefined})\"]},\"observables\":{\"index\":{\"id\":\"35\",\"value\":201,\"sync\":true},\"changes\":{\"id\":\"36\",\"value\":0,\"sync\":false}},\"imports\":{\"data\":[{\"url\":\"\\/assetserver\\/0a8f371627acb0fbab7e7ff03e6794a95ee37ef5-knockout.js\",\"name\":\"knockout\",\"type\":\"js\"},{\"url\":\"\\/assetserver\\/9b3c694ae2b8b2559483df0ee4657f1f62c8c408-knockout_punches.js\",\"name\":\"knockout_punches\",\"type\":\"js\"},{\"url\":\"\\/assetserver\\/f88515f2eab9a880f440f4a02ad6bec39eab20f3-all.js\",\"name\":null,\"type\":\"js\"},{\"url\":\"\\/assetserver\\/1ca4083aec9453427e6ec123862050a8bb53b266-style.css\",\"name\":null,\"type\":\"css\"},{\"url\":\"\\/assetserver\\/9a1b433d0e3cd69e6f57207ad94f565eba9960c8-bulma_confined.min.css\",\"name\":null,\"type\":\"css\"}],\"type\":\"async_block\"}},\"type\":\"node\",\"children\":[{\"props\":{\"className\":\"interact-flex-row interact-widget\"},\"nodeType\":\"DOM\",\"instanceArgs\":{\"namespace\":\"html\",\"tag\":\"div\"},\"type\":\"node\",\"children\":[{\"props\":{\"className\":\"interact-flex-row-left\"},\"nodeType\":\"DOM\",\"instanceArgs\":{\"namespace\":\"html\",\"tag\":\"div\"},\"type\":\"node\",\"children\":[{\"props\":{\"style\":{\"padding\":\"5px 10px 0px 10px\"},\"className\":\"interact \"},\"nodeType\":\"DOM\",\"instanceArgs\":{\"namespace\":\"html\",\"tag\":\"label\"},\"type\":\"node\",\"children\":[\"Aceleración (m\\/s²)\"]}]},{\"props\":{\"className\":\"interact-flex-row-center\"},\"nodeType\":\"DOM\",\"instanceArgs\":{\"namespace\":\"html\",\"tag\":\"div\"},\"type\":\"node\",\"children\":[{\"props\":{\"style\":{},\"className\":\"slider slider is-fullwidth\",\"max\":401,\"attributes\":{\"orient\":\"horizontal\",\"data-bind\":\"numericValue: index, valueUpdate: 'input', event: {change: function (){this.changes(this.changes()+1)}}\",\"type\":\"range\"},\"step\":1,\"min\":1},\"nodeType\":\"DOM\",\"instanceArgs\":{\"namespace\":\"html\",\"tag\":\"input\"},\"type\":\"node\",\"children\":[]}]},{\"props\":{\"className\":\"interact-flex-row-right\"},\"nodeType\":\"DOM\",\"instanceArgs\":{\"namespace\":\"html\",\"tag\":\"div\"},\"type\":\"node\",\"children\":[{\"props\":{\"attributes\":{\"data-bind\":\"text: formatted_val\"}},\"nodeType\":\"DOM\",\"instanceArgs\":{\"namespace\":\"html\",\"tag\":\"p\"},\"type\":\"node\",\"children\":[]}]}]}]}]},{\"props\":{},\"nodeType\":\"Scope\",\"instanceArgs\":{\"id\":\"1439461048\",\"systemjs_options\":null,\"mount_callbacks\":[],\"handlers\":{},\"observables\":{\"obs-node\":{\"id\":\"40\",\"value\":{\"props\":{\"className\":\"interact-flex-row interact-widget\"},\"nodeType\":\"DOM\",\"instanceArgs\":{\"namespace\":\"html\",\"tag\":\"div\"},\"type\":\"node\",\"children\":[\"\"]},\"sync\":false}},\"imports\":{\"data\":[],\"type\":\"async_block\"}},\"type\":\"node\",\"children\":[{\"props\":{},\"nodeType\":\"ObservableNode\",\"instanceArgs\":{\"id\":\"40\",\"name\":\"obs-node\"},\"type\":\"node\",\"children\":[]}]}]},\n",
       "        window,\n",
       "    );\n",
       "    })()\n",
       "    </script>\n",
       "</div>\n"
      ],
      "text/plain": [
       "Node{WebIO.DOM}(WebIO.DOM(:html, :div), Any[Node{WebIO.DOM}(WebIO.DOM(:html, :div), Any[Scope(Node{WebIO.DOM}(WebIO.DOM(:html, :div), Any[Node{WebIO.DOM}(WebIO.DOM(:html, :div), Any[Node{WebIO.DOM}(WebIO.DOM(:html, :label), Any[\"Masa (kg)\"], Dict{Symbol, Any}(:style => Dict{Any, Any}(:padding => \"5px 10px 0px 10px\"), :className => \"interact \"))], Dict{Symbol, Any}(:className => \"interact-flex-row-left\")), Node{WebIO.DOM}(WebIO.DOM(:html, :div), Any[Node{WebIO.DOM}(WebIO.DOM(:html, :input), Any[], Dict{Symbol, Any}(:style => Dict{Any, Any}(), :className => \"slider slider is-fullwidth\", :max => 991, :attributes => Dict{Any, Any}(\"orient\" => \"horizontal\", Symbol(\"data-bind\") => \"numericValue: index, valueUpdate: 'input', event: {change: function (){this.changes(this.changes()+1)}}\", :type => \"range\"), :step => 1, :min => 1))], Dict{Symbol, Any}(:className => \"interact-flex-row-center\")), Node{WebIO.DOM}(WebIO.DOM(:html, :div), Any[Node{WebIO.DOM}(WebIO.DOM(:html, :p), Any[], Dict{Symbol, Any}(:attributes => Dict(\"data-bind\" => \"text: formatted_val\")))], Dict{Symbol, Any}(:className => \"interact-flex-row-right\"))], Dict{Symbol, Any}(:className => \"interact-flex-row interact-widget\")), Dict{String, Tuple{AbstractObservable, Union{Nothing, Bool}}}(\"index\" => (Observable{Any}(91), nothing), \"changes\" => (Observable(0), nothing)), Set{String}(), nothing, Asset[Asset(\"js\", \"knockout\", \"C:\\\\Users\\\\Work\\\\.julia\\\\packages\\\\Knockout\\\\HReiN\\\\src\\\\..\\\\assets\\\\knockout.js\"), Asset(\"js\", \"knockout_punches\", \"C:\\\\Users\\\\Work\\\\.julia\\\\packages\\\\Knockout\\\\HReiN\\\\src\\\\..\\\\assets\\\\knockout_punches.js\"), Asset(\"js\", nothing, \"C:\\\\Users\\\\Work\\\\.julia\\\\packages\\\\InteractBase\\\\LJXv3\\\\src\\\\..\\\\assets\\\\all.js\"), Asset(\"css\", nothing, \"C:\\\\Users\\\\Work\\\\.julia\\\\packages\\\\InteractBase\\\\LJXv3\\\\src\\\\..\\\\assets\\\\style.css\"), Asset(\"css\", nothing, \"C:\\\\Users\\\\Work\\\\.julia\\\\packages\\\\Interact\\\\PENUy\\\\src\\\\..\\\\assets\\\\bulma_confined.min.css\")], Dict{Any, Any}(\"index\" => Any[WebIO.JSString(\"(function (val){return (val!=this.model[\\\"index\\\"]()) ? (this.valueFromJulia[\\\"index\\\"]=true, this.model[\\\"index\\\"](val)) : undefined})\")], \"changes\" => Any[WebIO.JSString(\"(function (val){return (val!=this.model[\\\"changes\\\"]()) ? (this.valueFromJulia[\\\"changes\\\"]=true, this.model[\\\"changes\\\"](val)) : undefined})\")]), WebIO.ConnectionPool(Channel{Any}(32), Set{AbstractConnection}(), Base.GenericCondition{ReentrantLock}(Base.IntrusiveLinkedList{Task}(Task (runnable) @0x0b6bbea0, Task (runnable) @0x0b6bbea0), ReentrantLock(nothing, 0x00000000, 0x00, Base.GenericCondition{Base.Threads.SpinLock}(Base.IntrusiveLinkedList{Task}(nothing, nothing), Base.Threads.SpinLock(0)), (0, 4096)))), WebIO.JSString[WebIO.JSString(\"function () {\\n    var handler = (function (ko, koPunches) {\\n    ko.punches.enableAll();\\n    ko.bindingHandlers.numericValue = {\\n        init: function(element, valueAccessor, allBindings, data, context) {\\n            var stringified = ko.observable(ko.unwrap(valueAccessor()));\\n            stringified.subscribe(function(value) {\\n                var val = parseFloat(value);\\n                if (!isNaN(val)) {\\n                    valueAccessor()(val);\\n                }\\n            });\\n            valueAccessor().subscribe(function(value) {\\n                var str = JSON.stringify(value);\\n                if ((str == \\\"0\\\") && ([\\\"-0\\\", \\\"-0.\\\"].indexOf(stringified()) >= 0))\\n                     return;\\n                 if ([\\\"null\\\", \\\"\\\"].indexOf(str) >= 0)\\n                     return;\\n                stringified(str);\\n            });\\n            ko.applyBindingsToNode(\\n                element,\\n                {\\n                    value: stringified,\\n                    valueUpdate: allBindings.get('valueUpdate'),\\n                },\\n                context,\\n            );\\n        }\\n    };\\n    var json_data = {\\\"index\\\":WebIO.getval({\\\"id\\\":\\\"32\\\",\\\"name\\\":\\\"index\\\",\\\"type\\\":\\\"observable\\\",\\\"scope\\\":\\\"829123856\\\"}),\\\"changes\\\":WebIO.getval({\\\"id\\\":\\\"33\\\",\\\"name\\\":\\\"changes\\\",\\\"type\\\":\\\"observable\\\",\\\"scope\\\":\\\"829123856\\\"}),\\\"formatted_vals\\\":[\\\"1.0\\\",\\\"1.1\\\",\\\"1.2\\\",\\\"1.3\\\",\\\"1.4\\\",\\\"1.5\\\",\\\"1.6\\\",\\\"1.7\\\",\\\"1.8\\\",\\\"1.9\\\",\\\"2.0\\\",\\\"2.1\\\",\\\"2.2\\\",\\\"2.3\\\",\\\"2.4\\\",\\\"2.5\\\",\\\"2.6\\\",\\\"2.7\\\",\\\"2.8\\\",\\\"2.9\\\",\\\"3.0\\\",\\\"3.1\\\",\\\"3.2\\\",\\\"3.3\\\",\\\"3.4\\\",\\\"3.5\\\",\\\"3.6\\\",\\\"3.7\\\",\\\"3.8\\\",\\\"3.9\\\",\\\"4.0\\\",\\\"4.1\\\",\\\"4.2\\\",\\\"4.3\\\",\\\"4.4\\\",\\\"4.5\\\",\\\"4.6\\\",\\\"4.7\\\",\\\"4.8\\\",\\\"4.9\\\",\\\"5.0\\\",\\\"5.1\\\",\\\"5.2\\\",\\\"5.3\\\",\\\"5.4\\\",\\\"5.5\\\",\\\"5.6\\\",\\\"5.7\\\",\\\"5.8\\\",\\\"5.9\\\",\\\"6.0\\\",\\\"6.1\\\",\\\"6.2\\\",\\\"6.3\\\",\\\"6.4\\\",\\\"6.5\\\",\\\"6.6\\\",\\\"6.7\\\",\\\"6.8\\\",\\\"6.9\\\",\\\"7.0\\\",\\\"7.1\\\",\\\"7.2\\\",\\\"7.3\\\",\\\"7.4\\\",\\\"7.5\\\",\\\"7.6\\\",\\\"7.7\\\",\\\"7.8\\\",\\\"7.9\\\",\\\"8.0\\\",\\\"8.1\\\",\\\"8.2\\\",\\\"8.3\\\",\\\"8.4\\\",\\\"8.5\\\",\\\"8.6\\\",\\\"8.7\\\",\\\"8.8\\\",\\\"8.9\\\",\\\"9.0\\\",\\\"9.1\\\",\\\"9.2\\\",\\\"9.3\\\",\\\"9.4\\\",\\\"9.5\\\",\\\"9.6\\\",\\\"9.7\\\",\\\"9.8\\\",\\\"9.9\\\",\\\"10.0\\\",\\\"10.1\\\",\\\"10.2\\\",\\\"10.3\\\",\\\"10.4\\\",\\\"10.5\\\",\\\"10.6\\\",\\\"10.7\\\",\\\"10.8\\\",\\\"10.9\\\",\\\"11.0\\\",\\\"11.1\\\",\\\"11.2\\\",\\\"11.3\\\",\\\"11.4\\\",\\\"11.5\\\",\\\"11.6\\\",\\\"11.7\\\",\\\"11.8\\\",\\\"11.9\\\",\\\"12.0\\\",\\\"12.1\\\",\\\"12.2\\\",\\\"12.3\\\",\\\"12.4\\\",\\\"12.5\\\",\\\"12.6\\\",\\\"12.7\\\",\\\"12.8\\\",\\\"12.9\\\",\\\"13.0\\\",\\\"13.1\\\",\\\"13.2\\\",\\\"13.3\\\",\\\"13.4\\\",\\\"13.5\\\",\\\"13.6\\\",\\\"13.7\\\",\\\"13.8\\\",\\\"13.9\\\",\\\"14.0\\\",\\\"14.1\\\",\\\"14.2\\\",\\\"14.3\\\",\\\"14.4\\\",\\\"14.5\\\",\\\"14.6\\\",\\\"14.7\\\",\\\"14.8\\\",\\\"14.9\\\",\\\"15.0\\\",\\\"15.1\\\",\\\"15.2\\\",\\\"15.3\\\",\\\"15.4\\\",\\\"15.5\\\",\\\"15.6\\\",\\\"15.7\\\",\\\"15.8\\\",\\\"15.9\\\",\\\"16.0\\\",\\\"16.1\\\",\\\"16.2\\\",\\\"16.3\\\",\\\"16.4\\\",\\\"16.5\\\",\\\"16.6\\\",\\\"16.7\\\",\\\"16.8\\\",\\\"16.9\\\",\\\"17.0\\\",\\\"17.1\\\",\\\"17.2\\\",\\\"17.3\\\",\\\"17.4\\\",\\\"17.5\\\",\\\"17.6\\\",\\\"17.7\\\",\\\"17.8\\\",\\\"17.9\\\",\\\"18.0\\\",\\\"18.1\\\",\\\"18.2\\\",\\\"18.3\\\",\\\"18.4\\\",\\\"18.5\\\",\\\"18.6\\\",\\\"18.7\\\",\\\"18.8\\\",\\\"18.9\\\",\\\"19.0\\\",\\\"19.1\\\",\\\"19.2\\\",\\\"19.3\\\",\\\"19.4\\\",\\\"19.5\\\",\\\"19.6\\\",\\\"19.7\\\",\\\"19.8\\\",\\\"19.9\\\",\\\"20.0\\\",\\\"20.1\\\",\\\"20.2\\\",\\\"20.3\\\",\\\"20.4\\\",\\\"20.5\\\",\\\"20.6\\\",\\\"20.7\\\",\\\"20.8\\\",\\\"20.9\\\",\\\"21.0\\\",\\\"21.1\\\",\\\"21.2\\\",\\\"21.3\\\",\\\"21.4\\\",\\\"21.5\\\",\\\"21.6\\\",\\\"21.7\\\",\\\"21.8\\\",\\\"21.9\\\",\\\"22.0\\\",\\\"22.1\\\",\\\"22.2\\\",\\\"22.3\\\",\\\"22.4\\\",\\\"22.5\\\",\\\"22.6\\\",\\\"22.7\\\",\\\"22.8\\\",\\\"22.9\\\",\\\"23.0\\\",\\\"23.1\\\",\\\"23.2\\\",\\\"23.3\\\",\\\"23.4\\\",\\\"23.5\\\",\\\"23.6\\\",\\\"23.7\\\",\\\"23.8\\\",\\\"23.9\\\",\\\"24.0\\\",\\\"24.1\\\",\\\"24.2\\\",\\\"24.3\\\",\\\"24.4\\\",\\\"24.5\\\",\\\"24.6\\\",\\\"24.7\\\",\\\"24.8\\\",\\\"24.9\\\",\\\"25.0\\\",\\\"25.1\\\",\\\"25.2\\\",\\\"25.3\\\",\\\"25.4\\\",\\\"25.5\\\",\\\"25.6\\\",\\\"25.7\\\",\\\"25.8\\\",\\\"25.9\\\",\\\"26.0\\\",\\\"26.1\\\",\\\"26.2\\\",\\\"26.3\\\",\\\"26.4\\\",\\\"26.5\\\",\\\"26.6\\\",\\\"26.7\\\",\\\"26.8\\\",\\\"26.9\\\",\\\"27.0\\\",\\\"27.1\\\",\\\"27.2\\\",\\\"27.3\\\",\\\"27.4\\\",\\\"27.5\\\",\\\"27.6\\\",\\\"27.7\\\",\\\"27.8\\\",\\\"27.9\\\",\\\"28.0\\\",\\\"28.1\\\",\\\"28.2\\\",\\\"28.3\\\",\\\"28.4\\\",\\\"28.5\\\",\\\"28.6\\\",\\\"28.7\\\",\\\"28.8\\\",\\\"28.9\\\",\\\"29.0\\\",\\\"29.1\\\",\\\"29.2\\\",\\\"29.3\\\",\\\"29.4\\\",\\\"29.5\\\",\\\"29.6\\\",\\\"29.7\\\",\\\"29.8\\\",\\\"29.9\\\",\\\"30.0\\\",\\\"30.1\\\",\\\"30.2\\\",\\\"30.3\\\",\\\"30.4\\\",\\\"30.5\\\",\\\"30.6\\\",\\\"30.7\\\",\\\"30.8\\\",\\\"30.9\\\",\\\"31.0\\\",\\\"31.1\\\",\\\"31.2\\\",\\\"31.3\\\",\\\"31.4\\\",\\\"31.5\\\",\\\"31.6\\\",\\\"31.7\\\",\\\"31.8\\\",\\\"31.9\\\",\\\"32.0\\\",\\\"32.1\\\",\\\"32.2\\\",\\\"32.3\\\",\\\"32.4\\\",\\\"32.5\\\",\\\"32.6\\\",\\\"32.7\\\",\\\"32.8\\\",\\\"32.9\\\",\\\"33.0\\\",\\\"33.1\\\",\\\"33.2\\\",\\\"33.3\\\",\\\"33.4\\\",\\\"33.5\\\",\\\"33.6\\\",\\\"33.7\\\",\\\"33.8\\\",\\\"33.9\\\",\\\"34.0\\\",\\\"34.1\\\",\\\"34.2\\\",\\\"34.3\\\",\\\"34.4\\\",\\\"34.5\\\",\\\"34.6\\\",\\\"34.7\\\",\\\"34.8\\\",\\\"34.9\\\",\\\"35.0\\\",\\\"35.1\\\",\\\"35.2\\\",\\\"35.3\\\",\\\"35.4\\\",\\\"35.5\\\",\\\"35.6\\\",\\\"35.7\\\",\\\"35.8\\\",\\\"35.9\\\",\\\"36.0\\\",\\\"36.1\\\",\\\"36.2\\\",\\\"36.3\\\",\\\"36.4\\\",\\\"36.5\\\",\\\"36.6\\\",\\\"36.7\\\",\\\"36.8\\\",\\\"36.9\\\",\\\"37.0\\\",\\\"37.1\\\",\\\"37.2\\\",\\\"37.3\\\",\\\"37.4\\\",\\\"37.5\\\",\\\"37.6\\\",\\\"37.7\\\",\\\"37.8\\\",\\\"37.9\\\",\\\"38.0\\\",\\\"38.1\\\",\\\"38.2\\\",\\\"38.3\\\",\\\"38.4\\\",\\\"38.5\\\",\\\"38.6\\\",\\\"38.7\\\",\\\"38.8\\\",\\\"38.9\\\",\\\"39.0\\\",\\\"39.1\\\",\\\"39.2\\\",\\\"39.3\\\",\\\"39.4\\\",\\\"39.5\\\",\\\"39.6\\\",\\\"39.7\\\",\\\"39.8\\\",\\\"39.9\\\",\\\"40.0\\\",\\\"40.1\\\",\\\"40.2\\\",\\\"40.3\\\",\\\"40.4\\\",\\\"40.5\\\",\\\"40.6\\\",\\\"40.7\\\",\\\"40.8\\\",\\\"40.9\\\",\\\"41.0\\\",\\\"41.1\\\",\\\"41.2\\\",\\\"41.3\\\",\\\"41.4\\\",\\\"41.5\\\",\\\"41.6\\\",\\\"41.7\\\",\\\"41.8\\\",\\\"41.9\\\",\\\"42.0\\\",\\\"42.1\\\",\\\"42.2\\\",\\\"42.3\\\",\\\"42.4\\\",\\\"42.5\\\",\\\"42.6\\\",\\\"42.7\\\",\\\"42.8\\\",\\\"42.9\\\",\\\"43.0\\\",\\\"43.1\\\",\\\"43.2\\\",\\\"43.3\\\",\\\"43.4\\\",\\\"43.5\\\",\\\"43.6\\\",\\\"43.7\\\",\\\"43.8\\\",\\\"43.9\\\",\\\"44.0\\\",\\\"44.1\\\",\\\"44.2\\\",\\\"44.3\\\",\\\"44.4\\\",\\\"44.5\\\",\\\"44.6\\\",\\\"44.7\\\",\\\"44.8\\\",\\\"44.9\\\",\\\"45.0\\\",\\\"45.1\\\",\\\"45.2\\\",\\\"45.3\\\",\\\"45.4\\\",\\\"45.5\\\",\\\"45.6\\\",\\\"45.7\\\",\\\"45.8\\\",\\\"45.9\\\",\\\"46.0\\\",\\\"46.1\\\",\\\"46.2\\\",\\\"46.3\\\",\\\"46.4\\\",\\\"46.5\\\",\\\"46.6\\\",\\\"46.7\\\",\\\"46.8\\\",\\\"46.9\\\",\\\"47.0\\\",\\\"47.1\\\",\\\"47.2\\\",\\\"47.3\\\",\\\"47.4\\\",\\\"47.5\\\",\\\"47.6\\\",\\\"47.7\\\",\\\"47.8\\\",\\\"47.9\\\",\\\"48.0\\\",\\\"48.1\\\",\\\"48.2\\\",\\\"48.3\\\",\\\"48.4\\\",\\\"48.5\\\",\\\"48.6\\\",\\\"48.7\\\",\\\"48.8\\\",\\\"48.9\\\",\\\"49.0\\\",\\\"49.1\\\",\\\"49.2\\\",\\\"49.3\\\",\\\"49.4\\\",\\\"49.5\\\",\\\"49.6\\\",\\\"49.7\\\",\\\"49.8\\\",\\\"49.9\\\",\\\"50.0\\\",\\\"50.1\\\",\\\"50.2\\\",\\\"50.3\\\",\\\"50.4\\\",\\\"50.5\\\",\\\"50.6\\\",\\\"50.7\\\",\\\"50.8\\\",\\\"50.9\\\",\\\"51.0\\\",\\\"51.1\\\",\\\"51.2\\\",\\\"51.3\\\",\\\"51.4\\\",\\\"51.5\\\",\\\"51.6\\\",\\\"51.7\\\",\\\"51.8\\\",\\\"51.9\\\",\\\"52.0\\\",\\\"52.1\\\",\\\"52.2\\\",\\\"52.3\\\",\\\"52.4\\\",\\\"52.5\\\",\\\"52.6\\\",\\\"52.7\\\",\\\"52.8\\\",\\\"52.9\\\",\\\"53.0\\\",\\\"53.1\\\",\\\"53.2\\\",\\\"53.3\\\",\\\"53.4\\\",\\\"53.5\\\",\\\"53.6\\\",\\\"53.7\\\",\\\"53.8\\\",\\\"53.9\\\",\\\"54.0\\\",\\\"54.1\\\",\\\"54.2\\\",\\\"54.3\\\",\\\"54.4\\\",\\\"54.5\\\",\\\"54.6\\\",\\\"54.7\\\",\\\"54.8\\\",\\\"54.9\\\",\\\"55.0\\\",\\\"55.1\\\",\\\"55.2\\\",\\\"55.3\\\",\\\"55.4\\\",\\\"55.5\\\",\\\"55.6\\\",\\\"55.7\\\",\\\"55.8\\\",\\\"55.9\\\",\\\"56.0\\\",\\\"56.1\\\",\\\"56.2\\\",\\\"56.3\\\",\\\"56.4\\\",\\\"56.5\\\",\\\"56.6\\\",\\\"56.7\\\",\\\"56.8\\\",\\\"56.9\\\",\\\"57.0\\\",\\\"57.1\\\",\\\"57.2\\\",\\\"57.3\\\",\\\"57.4\\\",\\\"57.5\\\",\\\"57.6\\\",\\\"57.7\\\",\\\"57.8\\\",\\\"57.9\\\",\\\"58.0\\\",\\\"58.1\\\",\\\"58.2\\\",\\\"58.3\\\",\\\"58.4\\\",\\\"58.5\\\",\\\"58.6\\\",\\\"58.7\\\",\\\"58.8\\\",\\\"58.9\\\",\\\"59.0\\\",\\\"59.1\\\",\\\"59.2\\\",\\\"59.3\\\",\\\"59.4\\\",\\\"59.5\\\",\\\"59.6\\\",\\\"59.7\\\",\\\"59.8\\\",\\\"59.9\\\",\\\"60.0\\\",\\\"60.1\\\",\\\"60.2\\\",\\\"60.3\\\",\\\"60.4\\\",\\\"60.5\\\",\\\"60.6\\\",\\\"60.7\\\",\\\"60.8\\\",\\\"60.9\\\",\\\"61.0\\\",\\\"61.1\\\",\\\"61.2\\\",\\\"61.3\\\",\\\"61.4\\\",\\\"61.5\\\",\\\"61.6\\\",\\\"61.7\\\",\\\"61.8\\\",\\\"61.9\\\",\\\"62.0\\\",\\\"62.1\\\",\\\"62.2\\\",\\\"62.3\\\",\\\"62.4\\\",\\\"62.5\\\",\\\"62.6\\\",\\\"62.7\\\",\\\"62.8\\\",\\\"62.9\\\",\\\"63.0\\\",\\\"63.1\\\",\\\"63.2\\\",\\\"63.3\\\",\\\"63.4\\\",\\\"63.5\\\",\\\"63.6\\\",\\\"63.7\\\",\\\"63.8\\\",\\\"63.9\\\",\\\"64.0\\\",\\\"64.1\\\",\\\"64.2\\\",\\\"64.3\\\",\\\"64.4\\\",\\\"64.5\\\",\\\"64.6\\\",\\\"64.7\\\",\\\"64.8\\\",\\\"64.9\\\",\\\"65.0\\\",\\\"65.1\\\",\\\"65.2\\\",\\\"65.3\\\",\\\"65.4\\\",\\\"65.5\\\",\\\"65.6\\\",\\\"65.7\\\",\\\"65.8\\\",\\\"65.9\\\",\\\"66.0\\\",\\\"66.1\\\",\\\"66.2\\\",\\\"66.3\\\",\\\"66.4\\\",\\\"66.5\\\",\\\"66.6\\\",\\\"66.7\\\",\\\"66.8\\\",\\\"66.9\\\",\\\"67.0\\\",\\\"67.1\\\",\\\"67.2\\\",\\\"67.3\\\",\\\"67.4\\\",\\\"67.5\\\",\\\"67.6\\\",\\\"67.7\\\",\\\"67.8\\\",\\\"67.9\\\",\\\"68.0\\\",\\\"68.1\\\",\\\"68.2\\\",\\\"68.3\\\",\\\"68.4\\\",\\\"68.5\\\",\\\"68.6\\\",\\\"68.7\\\",\\\"68.8\\\",\\\"68.9\\\",\\\"69.0\\\",\\\"69.1\\\",\\\"69.2\\\",\\\"69.3\\\",\\\"69.4\\\",\\\"69.5\\\",\\\"69.6\\\",\\\"69.7\\\",\\\"69.8\\\",\\\"69.9\\\",\\\"70.0\\\",\\\"70.1\\\",\\\"70.2\\\",\\\"70.3\\\",\\\"70.4\\\",\\\"70.5\\\",\\\"70.6\\\",\\\"70.7\\\",\\\"70.8\\\",\\\"70.9\\\",\\\"71.0\\\",\\\"71.1\\\",\\\"71.2\\\",\\\"71.3\\\",\\\"71.4\\\",\\\"71.5\\\",\\\"71.6\\\",\\\"71.7\\\",\\\"71.8\\\",\\\"71.9\\\",\\\"72.0\\\",\\\"72.1\\\",\\\"72.2\\\",\\\"72.3\\\",\\\"72.4\\\",\\\"72.5\\\",\\\"72.6\\\",\\\"72.7\\\",\\\"72.8\\\",\\\"72.9\\\",\\\"73.0\\\",\\\"73.1\\\",\\\"73.2\\\",\\\"73.3\\\",\\\"73.4\\\",\\\"73.5\\\",\\\"73.6\\\",\\\"73.7\\\",\\\"73.8\\\",\\\"73.9\\\",\\\"74.0\\\",\\\"74.1\\\",\\\"74.2\\\",\\\"74.3\\\",\\\"74.4\\\",\\\"74.5\\\",\\\"74.6\\\",\\\"74.7\\\",\\\"74.8\\\",\\\"74.9\\\",\\\"75.0\\\",\\\"75.1\\\",\\\"75.2\\\",\\\"75.3\\\",\\\"75.4\\\",\\\"75.5\\\",\\\"75.6\\\",\\\"75.7\\\",\\\"75.8\\\",\\\"75.9\\\",\\\"76.0\\\",\\\"76.1\\\",\\\"76.2\\\",\\\"76.3\\\",\\\"76.4\\\",\\\"76.5\\\",\\\"76.6\\\",\\\"76.7\\\",\\\"76.8\\\",\\\"76.9\\\",\\\"77.0\\\",\\\"77.1\\\",\\\"77.2\\\",\\\"77.3\\\",\\\"77.4\\\",\\\"77.5\\\",\\\"77.6\\\",\\\"77.7\\\",\\\"77.8\\\",\\\"77.9\\\",\\\"78.0\\\",\\\"78.1\\\",\\\"78.2\\\",\\\"78.3\\\",\\\"78.4\\\",\\\"78.5\\\",\\\"78.6\\\",\\\"78.7\\\",\\\"78.8\\\",\\\"78.9\\\",\\\"79.0\\\",\\\"79.1\\\",\\\"79.2\\\",\\\"79.3\\\",\\\"79.4\\\",\\\"79.5\\\",\\\"79.6\\\",\\\"79.7\\\",\\\"79.8\\\",\\\"79.9\\\",\\\"80.0\\\",\\\"80.1\\\",\\\"80.2\\\",\\\"80.3\\\",\\\"80.4\\\",\\\"80.5\\\",\\\"80.6\\\",\\\"80.7\\\",\\\"80.8\\\",\\\"80.9\\\",\\\"81.0\\\",\\\"81.1\\\",\\\"81.2\\\",\\\"81.3\\\",\\\"81.4\\\",\\\"81.5\\\",\\\"81.6\\\",\\\"81.7\\\",\\\"81.8\\\",\\\"81.9\\\",\\\"82.0\\\",\\\"82.1\\\",\\\"82.2\\\",\\\"82.3\\\",\\\"82.4\\\",\\\"82.5\\\",\\\"82.6\\\",\\\"82.7\\\",\\\"82.8\\\",\\\"82.9\\\",\\\"83.0\\\",\\\"83.1\\\",\\\"83.2\\\",\\\"83.3\\\",\\\"83.4\\\",\\\"83.5\\\",\\\"83.6\\\",\\\"83.7\\\",\\\"83.8\\\",\\\"83.9\\\",\\\"84.0\\\",\\\"84.1\\\",\\\"84.2\\\",\\\"84.3\\\",\\\"84.4\\\",\\\"84.5\\\",\\\"84.6\\\",\\\"84.7\\\",\\\"84.8\\\",\\\"84.9\\\",\\\"85.0\\\",\\\"85.1\\\",\\\"85.2\\\",\\\"85.3\\\",\\\"85.4\\\",\\\"85.5\\\",\\\"85.6\\\",\\\"85.7\\\",\\\"85.8\\\",\\\"85.9\\\",\\\"86.0\\\",\\\"86.1\\\",\\\"86.2\\\",\\\"86.3\\\",\\\"86.4\\\",\\\"86.5\\\",\\\"86.6\\\",\\\"86.7\\\",\\\"86.8\\\",\\\"86.9\\\",\\\"87.0\\\",\\\"87.1\\\",\\\"87.2\\\",\\\"87.3\\\",\\\"87.4\\\",\\\"87.5\\\",\\\"87.6\\\",\\\"87.7\\\",\\\"87.8\\\",\\\"87.9\\\",\\\"88.0\\\",\\\"88.1\\\",\\\"88.2\\\",\\\"88.3\\\",\\\"88.4\\\",\\\"88.5\\\",\\\"88.6\\\",\\\"88.7\\\",\\\"88.8\\\",\\\"88.9\\\",\\\"89.0\\\",\\\"89.1\\\",\\\"89.2\\\",\\\"89.3\\\",\\\"89.4\\\",\\\"89.5\\\",\\\"89.6\\\",\\\"89.7\\\",\\\"89.8\\\",\\\"89.9\\\",\\\"90.0\\\",\\\"90.1\\\",\\\"90.2\\\",\\\"90.3\\\",\\\"90.4\\\",\\\"90.5\\\",\\\"90.6\\\",\\\"90.7\\\",\\\"90.8\\\",\\\"90.9\\\",\\\"91.0\\\",\\\"91.1\\\",\\\"91.2\\\",\\\"91.3\\\",\\\"91.4\\\",\\\"91.5\\\",\\\"91.6\\\",\\\"91.7\\\",\\\"91.8\\\",\\\"91.9\\\",\\\"92.0\\\",\\\"92.1\\\",\\\"92.2\\\",\\\"92.3\\\",\\\"92.4\\\",\\\"92.5\\\",\\\"92.6\\\",\\\"92.7\\\",\\\"92.8\\\",\\\"92.9\\\",\\\"93.0\\\",\\\"93.1\\\",\\\"93.2\\\",\\\"93.3\\\",\\\"93.4\\\",\\\"93.5\\\",\\\"93.6\\\",\\\"93.7\\\",\\\"93.8\\\",\\\"93.9\\\",\\\"94.0\\\",\\\"94.1\\\",\\\"94.2\\\",\\\"94.3\\\",\\\"94.4\\\",\\\"94.5\\\",\\\"94.6\\\",\\\"94.7\\\",\\\"94.8\\\",\\\"94.9\\\",\\\"95.0\\\",\\\"95.1\\\",\\\"95.2\\\",\\\"95.3\\\",\\\"95.4\\\",\\\"95.5\\\",\\\"95.6\\\",\\\"95.7\\\",\\\"95.8\\\",\\\"95.9\\\",\\\"96.0\\\",\\\"96.1\\\",\\\"96.2\\\",\\\"96.3\\\",\\\"96.4\\\",\\\"96.5\\\",\\\"96.6\\\",\\\"96.7\\\",\\\"96.8\\\",\\\"96.9\\\",\\\"97.0\\\",\\\"97.1\\\",\\\"97.2\\\",\\\"97.3\\\",\\\"97.4\\\",\\\"97.5\\\",\\\"97.6\\\",\\\"97.7\\\",\\\"97.8\\\",\\\"97.9\\\",\\\"98.0\\\",\\\"98.1\\\",\\\"98.2\\\",\\\"98.3\\\",\\\"98.4\\\",\\\"98.5\\\",\\\"98.6\\\",\\\"98.7\\\",\\\"98.8\\\",\\\"98.9\\\",\\\"99.0\\\",\\\"99.1\\\",\\\"99.2\\\",\\\"99.3\\\",\\\"99.4\\\",\\\"99.5\\\",\\\"99.6\\\",\\\"99.7\\\",\\\"99.8\\\",\\\"99.9\\\",\\\"100.0\\\"]};\\n    var self = this;\\n    function AppViewModel() {\\n        for (var key in json_data) {\\n            var el = json_data[key];\\n            this[key] = Array.isArray(el) ? ko.observableArray(el) : ko.observable(el);\\n        }\\n        \\n        [this[\\\"formatted_val\\\"]=ko.computed(    function(){\\n        return this.formatted_vals()[parseInt(this.index())-(1)];\\n    }\\n,this)]\\n        [this[\\\"index\\\"].subscribe((function (val){!(this.valueFromJulia[\\\"index\\\"]) ? (WebIO.setval({\\\"id\\\":\\\"32\\\",\\\"name\\\":\\\"index\\\",\\\"type\\\":\\\"observable\\\",\\\"scope\\\":\\\"829123856\\\"},val)) : undefined; return this.valueFromJulia[\\\"index\\\"]=false}),self),this[\\\"changes\\\"].subscribe((function (val){!(this.valueFromJulia[\\\"changes\\\"]) ? (WebIO.setval({\\\"id\\\":\\\"33\\\",\\\"name\\\":\\\"changes\\\",\\\"type\\\":\\\"observable\\\",\\\"scope\\\":\\\"829123856\\\"},val)) : undefined; return this.valueFromJulia[\\\"changes\\\"]=false}),self)]\\n        \\n    }\\n    self.model = new AppViewModel();\\n    self.valueFromJulia = {};\\n    for (var key in json_data) {\\n        self.valueFromJulia[key] = false;\\n    }\\n    ko.applyBindings(self.model, self.dom);\\n}\\n);\\n    (WebIO.importBlock({\\\"data\\\":[{\\\"url\\\":\\\"/assetserver/0a8f371627acb0fbab7e7ff03e6794a95ee37ef5-knockout.js\\\",\\\"name\\\":\\\"knockout\\\",\\\"type\\\":\\\"js\\\"},{\\\"url\\\":\\\"/assetserver/9b3c694ae2b8b2559483df0ee4657f1f62c8c408-knockout_punches.js\\\",\\\"name\\\":\\\"knockout_punches\\\",\\\"type\\\":\\\"js\\\"}],\\\"type\\\":\\\"async_block\\\"})).then((imports) => handler.apply(this, imports));\\n}\\n\")])], Dict{Symbol, Any}(:className => \"field interact-widget\")), Node{WebIO.DOM}(WebIO.DOM(:html, :div), Any[Scope(Node{WebIO.DOM}(WebIO.DOM(:html, :div), Any[Node{WebIO.DOM}(WebIO.DOM(:html, :div), Any[Node{WebIO.DOM}(WebIO.DOM(:html, :label), Any[\"Aceleración (m/s²)\"], Dict{Symbol, Any}(:style => Dict{Any, Any}(:padding => \"5px 10px 0px 10px\"), :className => \"interact \"))], Dict{Symbol, Any}(:className => \"interact-flex-row-left\")), Node{WebIO.DOM}(WebIO.DOM(:html, :div), Any[Node{WebIO.DOM}(WebIO.DOM(:html, :input), Any[], Dict{Symbol, Any}(:style => Dict{Any, Any}(), :className => \"slider slider is-fullwidth\", :max => 401, :attributes => Dict{Any, Any}(\"orient\" => \"horizontal\", Symbol(\"data-bind\") => \"numericValue: index, valueUpdate: 'input', event: {change: function (){this.changes(this.changes()+1)}}\", :type => \"range\"), :step => 1, :min => 1))], Dict{Symbol, Any}(:className => \"interact-flex-row-center\")), Node{WebIO.DOM}(WebIO.DOM(:html, :div), Any[Node{WebIO.DOM}(WebIO.DOM(:html, :p), Any[], Dict{Symbol, Any}(:attributes => Dict(\"data-bind\" => \"text: formatted_val\")))], Dict{Symbol, Any}(:className => \"interact-flex-row-right\"))], Dict{Symbol, Any}(:className => \"interact-flex-row interact-widget\")), Dict{String, Tuple{AbstractObservable, Union{Nothing, Bool}}}(\"index\" => (Observable{Any}(201), nothing), \"changes\" => (Observable(0), nothing)), Set{String}(), nothing, Asset[Asset(\"js\", \"knockout\", \"C:\\\\Users\\\\Work\\\\.julia\\\\packages\\\\Knockout\\\\HReiN\\\\src\\\\..\\\\assets\\\\knockout.js\"), Asset(\"js\", \"knockout_punches\", \"C:\\\\Users\\\\Work\\\\.julia\\\\packages\\\\Knockout\\\\HReiN\\\\src\\\\..\\\\assets\\\\knockout_punches.js\"), Asset(\"js\", nothing, \"C:\\\\Users\\\\Work\\\\.julia\\\\packages\\\\InteractBase\\\\LJXv3\\\\src\\\\..\\\\assets\\\\all.js\"), Asset(\"css\", nothing, \"C:\\\\Users\\\\Work\\\\.julia\\\\packages\\\\InteractBase\\\\LJXv3\\\\src\\\\..\\\\assets\\\\style.css\"), Asset(\"css\", nothing, \"C:\\\\Users\\\\Work\\\\.julia\\\\packages\\\\Interact\\\\PENUy\\\\src\\\\..\\\\assets\\\\bulma_confined.min.css\")], Dict{Any, Any}(\"index\" => Any[WebIO.JSString(\"(function (val){return (val!=this.model[\\\"index\\\"]()) ? (this.valueFromJulia[\\\"index\\\"]=true, this.model[\\\"index\\\"](val)) : undefined})\")], \"changes\" => Any[WebIO.JSString(\"(function (val){return (val!=this.model[\\\"changes\\\"]()) ? (this.valueFromJulia[\\\"changes\\\"]=true, this.model[\\\"changes\\\"](val)) : undefined})\")]), WebIO.ConnectionPool(Channel{Any}(32), Set{AbstractConnection}(), Base.GenericCondition{ReentrantLock}(Base.IntrusiveLinkedList{Task}(Task (runnable) @0x0b80c010, Task (runnable) @0x0b80c010), ReentrantLock(nothing, 0x00000000, 0x00, Base.GenericCondition{Base.Threads.SpinLock}(Base.IntrusiveLinkedList{Task}(nothing, nothing), Base.Threads.SpinLock(0)), (8, 191482896)))), WebIO.JSString[WebIO.JSString(\"function () {\\n    var handler = (function (ko, koPunches) {\\n    ko.punches.enableAll();\\n    ko.bindingHandlers.numericValue = {\\n        init: function(element, valueAccessor, allBindings, data, context) {\\n            var stringified = ko.observable(ko.unwrap(valueAccessor()));\\n            stringified.subscribe(function(value) {\\n                var val = parseFloat(value);\\n                if (!isNaN(val)) {\\n                    valueAccessor()(val);\\n                }\\n            });\\n            valueAccessor().subscribe(function(value) {\\n                var str = JSON.stringify(value);\\n                if ((str == \\\"0\\\") && ([\\\"-0\\\", \\\"-0.\\\"].indexOf(stringified()) >= 0))\\n                     return;\\n                 if ([\\\"null\\\", \\\"\\\"].indexOf(str) >= 0)\\n                     return;\\n                stringified(str);\\n            });\\n            ko.applyBindingsToNode(\\n                element,\\n                {\\n                    value: stringified,\\n                    valueUpdate: allBindings.get('valueUpdate'),\\n                },\\n                context,\\n            );\\n        }\\n    };\\n    var json_data = {\\\"index\\\":WebIO.getval({\\\"id\\\":\\\"35\\\",\\\"name\\\":\\\"index\\\",\\\"type\\\":\\\"observable\\\",\\\"scope\\\":\\\"3444383680\\\"}),\\\"changes\\\":WebIO.getval({\\\"id\\\":\\\"36\\\",\\\"name\\\":\\\"changes\\\",\\\"type\\\":\\\"observable\\\",\\\"scope\\\":\\\"3444383680\\\"}),\\\"formatted_vals\\\":[\\\"-20.0\\\",\\\"-19.9\\\",\\\"-19.8\\\",\\\"-19.7\\\",\\\"-19.6\\\",\\\"-19.5\\\",\\\"-19.4\\\",\\\"-19.3\\\",\\\"-19.2\\\",\\\"-19.1\\\",\\\"-19.0\\\",\\\"-18.9\\\",\\\"-18.8\\\",\\\"-18.7\\\",\\\"-18.6\\\",\\\"-18.5\\\",\\\"-18.4\\\",\\\"-18.3\\\",\\\"-18.2\\\",\\\"-18.1\\\",\\\"-18.0\\\",\\\"-17.9\\\",\\\"-17.8\\\",\\\"-17.7\\\",\\\"-17.6\\\",\\\"-17.5\\\",\\\"-17.4\\\",\\\"-17.3\\\",\\\"-17.2\\\",\\\"-17.1\\\",\\\"-17.0\\\",\\\"-16.9\\\",\\\"-16.8\\\",\\\"-16.7\\\",\\\"-16.6\\\",\\\"-16.5\\\",\\\"-16.4\\\",\\\"-16.3\\\",\\\"-16.2\\\",\\\"-16.1\\\",\\\"-16.0\\\",\\\"-15.9\\\",\\\"-15.8\\\",\\\"-15.7\\\",\\\"-15.6\\\",\\\"-15.5\\\",\\\"-15.4\\\",\\\"-15.3\\\",\\\"-15.2\\\",\\\"-15.1\\\",\\\"-15.0\\\",\\\"-14.9\\\",\\\"-14.8\\\",\\\"-14.7\\\",\\\"-14.6\\\",\\\"-14.5\\\",\\\"-14.4\\\",\\\"-14.3\\\",\\\"-14.2\\\",\\\"-14.1\\\",\\\"-14.0\\\",\\\"-13.9\\\",\\\"-13.8\\\",\\\"-13.7\\\",\\\"-13.6\\\",\\\"-13.5\\\",\\\"-13.4\\\",\\\"-13.3\\\",\\\"-13.2\\\",\\\"-13.1\\\",\\\"-13.0\\\",\\\"-12.9\\\",\\\"-12.8\\\",\\\"-12.7\\\",\\\"-12.6\\\",\\\"-12.5\\\",\\\"-12.4\\\",\\\"-12.3\\\",\\\"-12.2\\\",\\\"-12.1\\\",\\\"-12.0\\\",\\\"-11.9\\\",\\\"-11.8\\\",\\\"-11.7\\\",\\\"-11.6\\\",\\\"-11.5\\\",\\\"-11.4\\\",\\\"-11.3\\\",\\\"-11.2\\\",\\\"-11.1\\\",\\\"-11.0\\\",\\\"-10.9\\\",\\\"-10.8\\\",\\\"-10.7\\\",\\\"-10.6\\\",\\\"-10.5\\\",\\\"-10.4\\\",\\\"-10.3\\\",\\\"-10.2\\\",\\\"-10.1\\\",\\\"-10.0\\\",\\\"-9.9\\\",\\\"-9.8\\\",\\\"-9.7\\\",\\\"-9.6\\\",\\\"-9.5\\\",\\\"-9.4\\\",\\\"-9.3\\\",\\\"-9.2\\\",\\\"-9.1\\\",\\\"-9.0\\\",\\\"-8.9\\\",\\\"-8.8\\\",\\\"-8.7\\\",\\\"-8.6\\\",\\\"-8.5\\\",\\\"-8.4\\\",\\\"-8.3\\\",\\\"-8.2\\\",\\\"-8.1\\\",\\\"-8.0\\\",\\\"-7.9\\\",\\\"-7.8\\\",\\\"-7.7\\\",\\\"-7.6\\\",\\\"-7.5\\\",\\\"-7.4\\\",\\\"-7.3\\\",\\\"-7.2\\\",\\\"-7.1\\\",\\\"-7.0\\\",\\\"-6.9\\\",\\\"-6.8\\\",\\\"-6.7\\\",\\\"-6.6\\\",\\\"-6.5\\\",\\\"-6.4\\\",\\\"-6.3\\\",\\\"-6.2\\\",\\\"-6.1\\\",\\\"-6.0\\\",\\\"-5.9\\\",\\\"-5.8\\\",\\\"-5.7\\\",\\\"-5.6\\\",\\\"-5.5\\\",\\\"-5.4\\\",\\\"-5.3\\\",\\\"-5.2\\\",\\\"-5.1\\\",\\\"-5.0\\\",\\\"-4.9\\\",\\\"-4.8\\\",\\\"-4.7\\\",\\\"-4.6\\\",\\\"-4.5\\\",\\\"-4.4\\\",\\\"-4.3\\\",\\\"-4.2\\\",\\\"-4.1\\\",\\\"-4.0\\\",\\\"-3.9\\\",\\\"-3.8\\\",\\\"-3.7\\\",\\\"-3.6\\\",\\\"-3.5\\\",\\\"-3.4\\\",\\\"-3.3\\\",\\\"-3.2\\\",\\\"-3.1\\\",\\\"-3.0\\\",\\\"-2.9\\\",\\\"-2.8\\\",\\\"-2.7\\\",\\\"-2.6\\\",\\\"-2.5\\\",\\\"-2.4\\\",\\\"-2.3\\\",\\\"-2.2\\\",\\\"-2.1\\\",\\\"-2.0\\\",\\\"-1.9\\\",\\\"-1.8\\\",\\\"-1.7\\\",\\\"-1.6\\\",\\\"-1.5\\\",\\\"-1.4\\\",\\\"-1.3\\\",\\\"-1.2\\\",\\\"-1.1\\\",\\\"-1.0\\\",\\\"-0.9\\\",\\\"-0.8\\\",\\\"-0.7\\\",\\\"-0.6\\\",\\\"-0.5\\\",\\\"-0.4\\\",\\\"-0.3\\\",\\\"-0.2\\\",\\\"-0.1\\\",\\\"0.0\\\",\\\"0.1\\\",\\\"0.2\\\",\\\"0.3\\\",\\\"0.4\\\",\\\"0.5\\\",\\\"0.6\\\",\\\"0.7\\\",\\\"0.8\\\",\\\"0.9\\\",\\\"1.0\\\",\\\"1.1\\\",\\\"1.2\\\",\\\"1.3\\\",\\\"1.4\\\",\\\"1.5\\\",\\\"1.6\\\",\\\"1.7\\\",\\\"1.8\\\",\\\"1.9\\\",\\\"2.0\\\",\\\"2.1\\\",\\\"2.2\\\",\\\"2.3\\\",\\\"2.4\\\",\\\"2.5\\\",\\\"2.6\\\",\\\"2.7\\\",\\\"2.8\\\",\\\"2.9\\\",\\\"3.0\\\",\\\"3.1\\\",\\\"3.2\\\",\\\"3.3\\\",\\\"3.4\\\",\\\"3.5\\\",\\\"3.6\\\",\\\"3.7\\\",\\\"3.8\\\",\\\"3.9\\\",\\\"4.0\\\",\\\"4.1\\\",\\\"4.2\\\",\\\"4.3\\\",\\\"4.4\\\",\\\"4.5\\\",\\\"4.6\\\",\\\"4.7\\\",\\\"4.8\\\",\\\"4.9\\\",\\\"5.0\\\",\\\"5.1\\\",\\\"5.2\\\",\\\"5.3\\\",\\\"5.4\\\",\\\"5.5\\\",\\\"5.6\\\",\\\"5.7\\\",\\\"5.8\\\",\\\"5.9\\\",\\\"6.0\\\",\\\"6.1\\\",\\\"6.2\\\",\\\"6.3\\\",\\\"6.4\\\",\\\"6.5\\\",\\\"6.6\\\",\\\"6.7\\\",\\\"6.8\\\",\\\"6.9\\\",\\\"7.0\\\",\\\"7.1\\\",\\\"7.2\\\",\\\"7.3\\\",\\\"7.4\\\",\\\"7.5\\\",\\\"7.6\\\",\\\"7.7\\\",\\\"7.8\\\",\\\"7.9\\\",\\\"8.0\\\",\\\"8.1\\\",\\\"8.2\\\",\\\"8.3\\\",\\\"8.4\\\",\\\"8.5\\\",\\\"8.6\\\",\\\"8.7\\\",\\\"8.8\\\",\\\"8.9\\\",\\\"9.0\\\",\\\"9.1\\\",\\\"9.2\\\",\\\"9.3\\\",\\\"9.4\\\",\\\"9.5\\\",\\\"9.6\\\",\\\"9.7\\\",\\\"9.8\\\",\\\"9.9\\\",\\\"10.0\\\",\\\"10.1\\\",\\\"10.2\\\",\\\"10.3\\\",\\\"10.4\\\",\\\"10.5\\\",\\\"10.6\\\",\\\"10.7\\\",\\\"10.8\\\",\\\"10.9\\\",\\\"11.0\\\",\\\"11.1\\\",\\\"11.2\\\",\\\"11.3\\\",\\\"11.4\\\",\\\"11.5\\\",\\\"11.6\\\",\\\"11.7\\\",\\\"11.8\\\",\\\"11.9\\\",\\\"12.0\\\",\\\"12.1\\\",\\\"12.2\\\",\\\"12.3\\\",\\\"12.4\\\",\\\"12.5\\\",\\\"12.6\\\",\\\"12.7\\\",\\\"12.8\\\",\\\"12.9\\\",\\\"13.0\\\",\\\"13.1\\\",\\\"13.2\\\",\\\"13.3\\\",\\\"13.4\\\",\\\"13.5\\\",\\\"13.6\\\",\\\"13.7\\\",\\\"13.8\\\",\\\"13.9\\\",\\\"14.0\\\",\\\"14.1\\\",\\\"14.2\\\",\\\"14.3\\\",\\\"14.4\\\",\\\"14.5\\\",\\\"14.6\\\",\\\"14.7\\\",\\\"14.8\\\",\\\"14.9\\\",\\\"15.0\\\",\\\"15.1\\\",\\\"15.2\\\",\\\"15.3\\\",\\\"15.4\\\",\\\"15.5\\\",\\\"15.6\\\",\\\"15.7\\\",\\\"15.8\\\",\\\"15.9\\\",\\\"16.0\\\",\\\"16.1\\\",\\\"16.2\\\",\\\"16.3\\\",\\\"16.4\\\",\\\"16.5\\\",\\\"16.6\\\",\\\"16.7\\\",\\\"16.8\\\",\\\"16.9\\\",\\\"17.0\\\",\\\"17.1\\\",\\\"17.2\\\",\\\"17.3\\\",\\\"17.4\\\",\\\"17.5\\\",\\\"17.6\\\",\\\"17.7\\\",\\\"17.8\\\",\\\"17.9\\\",\\\"18.0\\\",\\\"18.1\\\",\\\"18.2\\\",\\\"18.3\\\",\\\"18.4\\\",\\\"18.5\\\",\\\"18.6\\\",\\\"18.7\\\",\\\"18.8\\\",\\\"18.9\\\",\\\"19.0\\\",\\\"19.1\\\",\\\"19.2\\\",\\\"19.3\\\",\\\"19.4\\\",\\\"19.5\\\",\\\"19.6\\\",\\\"19.7\\\",\\\"19.8\\\",\\\"19.9\\\",\\\"20.0\\\"]};\\n    var self = this;\\n    function AppViewModel() {\\n        for (var key in json_data) {\\n            var el = json_data[key];\\n            this[key] = Array.isArray(el) ? ko.observableArray(el) : ko.observable(el);\\n        }\\n        \\n        [this[\\\"formatted_val\\\"]=ko.computed(    function(){\\n        return this.formatted_vals()[parseInt(this.index())-(1)];\\n    }\\n,this)]\\n        [this[\\\"index\\\"].subscribe((function (val){!(this.valueFromJulia[\\\"index\\\"]) ? (WebIO.setval({\\\"id\\\":\\\"35\\\",\\\"name\\\":\\\"index\\\",\\\"type\\\":\\\"observable\\\",\\\"scope\\\":\\\"3444383680\\\"},val)) : undefined; return this.valueFromJulia[\\\"index\\\"]=false}),self),this[\\\"changes\\\"].subscribe((function (val){!(this.valueFromJulia[\\\"changes\\\"]) ? (WebIO.setval({\\\"id\\\":\\\"36\\\",\\\"name\\\":\\\"changes\\\",\\\"type\\\":\\\"observable\\\",\\\"scope\\\":\\\"3444383680\\\"},val)) : undefined; return this.valueFromJulia[\\\"changes\\\"]=false}),self)]\\n        \\n    }\\n    self.model = new AppViewModel();\\n    self.valueFromJulia = {};\\n    for (var key in json_data) {\\n        self.valueFromJulia[key] = false;\\n    }\\n    ko.applyBindings(self.model, self.dom);\\n}\\n);\\n    (WebIO.importBlock({\\\"data\\\":[{\\\"url\\\":\\\"/assetserver/0a8f371627acb0fbab7e7ff03e6794a95ee37ef5-knockout.js\\\",\\\"name\\\":\\\"knockout\\\",\\\"type\\\":\\\"js\\\"},{\\\"url\\\":\\\"/assetserver/9b3c694ae2b8b2559483df0ee4657f1f62c8c408-knockout_punches.js\\\",\\\"name\\\":\\\"knockout_punches\\\",\\\"type\\\":\\\"js\\\"}],\\\"type\\\":\\\"async_block\\\"})).then((imports) => handler.apply(this, imports));\\n}\\n\")])], Dict{Symbol, Any}(:className => \"field interact-widget\")), Observable(Node{WebIO.DOM}(WebIO.DOM(:html, :div), Any[nothing], Dict{Symbol, Any}(:className => \"interact-flex-row interact-widget\")))], Dict{Symbol, Any}())"
      ]
     },
     "execution_count": 7,
     "metadata": {
      "@webio": {
       "kernelId": "e45a16e9-16de-496e-8779-f2304b3311e3"
      }
     },
     "output_type": "execute_result"
    }
   ],
   "source": [
    "# Slider para la masa (kg)\n",
    "masa = slider(1:0.1:100, value=10, label=\"Masa (kg)\")\n",
    "\n",
    "# Slider para la aceleración (m/s^2)\n",
    "aceleracion = slider(-20:0.1:20, value=0, label=\"Aceleración (m/s²)\")\n",
    "\n",
    "# Función para calcular la fuerza según la segunda ley de Newton\n",
    "fuerza(m, a) = m * a\n",
    "\n",
    "# Layout de los widgets\n",
    "@manipulate for m in masa, a in aceleracion\n",
    "    display(md\"\"\"\n",
    "    ## Segunda Ley de Newton\n",
    "    - **Masa**: $m kg\n",
    "    - **Aceleración**: $a m/s²\n",
    "    - **Fuerza**: $(@sprintf(\"%.2f\", fuerza(m, a))) N\n",
    "    \"\"\")\n",
    "end\n"
   ]
  },
  {
   "cell_type": "markdown",
   "id": "b54a2fa1-4903-41b6-8633-c026fbfe0edd",
   "metadata": {},
   "source": [
    "#### Widget 3. Ley de Hooke (Fuerza Elástica)\n"
   ]
  },
  {
   "cell_type": "code",
   "execution_count": 8,
   "id": "e5afaedf-2962-49d9-bc7d-3ddcc727a1a6",
   "metadata": {
    "scrolled": true
   },
   "outputs": [
    {
     "data": {
      "text/markdown": [
       "## Ley de Hooke (Fuerza Elástica)\n",
       "\n",
       "  * **Constante Elástica**: 10.0 N/m\n",
       "  * **Deformación**: 0.0 m\n",
       "  * **Fuerza Elástica**: -0.00 N\n"
      ],
      "text/plain": [
       "\u001b[1m  Ley de Hooke (Fuerza Elástica)\u001b[22m\n",
       "\u001b[1m  ==============================\u001b[22m\n",
       "\n",
       "    •  \u001b[1mConstante Elástica\u001b[22m: 10.0 N/m\n",
       "\n",
       "    •  \u001b[1mDeformación\u001b[22m: 0.0 m\n",
       "\n",
       "    •  \u001b[1mFuerza Elástica\u001b[22m: -0.00 N"
      ]
     },
     "metadata": {},
     "output_type": "display_data"
    },
    {
     "data": {
      "application/vnd.webio.node+json": {
       "children": [
        {
         "children": [
          {
           "children": [
            {
             "children": [
              {
               "children": [
                {
                 "children": [
                  "Constante Elástica (N/m)"
                 ],
                 "instanceArgs": {
                  "namespace": "html",
                  "tag": "label"
                 },
                 "nodeType": "DOM",
                 "props": {
                  "className": "interact ",
                  "style": {
                   "padding": "5px 10px 0px 10px"
                  }
                 },
                 "type": "node"
                }
               ],
               "instanceArgs": {
                "namespace": "html",
                "tag": "div"
               },
               "nodeType": "DOM",
               "props": {
                "className": "interact-flex-row-left"
               },
               "type": "node"
              },
              {
               "children": [
                {
                 "children": [],
                 "instanceArgs": {
                  "namespace": "html",
                  "tag": "input"
                 },
                 "nodeType": "DOM",
                 "props": {
                  "attributes": {
                   "data-bind": "numericValue: index, valueUpdate: 'input', event: {change: function (){this.changes(this.changes()+1)}}",
                   "orient": "horizontal",
                   "type": "range"
                  },
                  "className": "slider slider is-fullwidth",
                  "max": 491,
                  "min": 1,
                  "step": 1,
                  "style": {}
                 },
                 "type": "node"
                }
               ],
               "instanceArgs": {
                "namespace": "html",
                "tag": "div"
               },
               "nodeType": "DOM",
               "props": {
                "className": "interact-flex-row-center"
               },
               "type": "node"
              },
              {
               "children": [
                {
                 "children": [],
                 "instanceArgs": {
                  "namespace": "html",
                  "tag": "p"
                 },
                 "nodeType": "DOM",
                 "props": {
                  "attributes": {
                   "data-bind": "text: formatted_val"
                  }
                 },
                 "type": "node"
                }
               ],
               "instanceArgs": {
                "namespace": "html",
                "tag": "div"
               },
               "nodeType": "DOM",
               "props": {
                "className": "interact-flex-row-right"
               },
               "type": "node"
              }
             ],
             "instanceArgs": {
              "namespace": "html",
              "tag": "div"
             },
             "nodeType": "DOM",
             "props": {
              "className": "interact-flex-row interact-widget"
             },
             "type": "node"
            }
           ],
           "instanceArgs": {
            "handlers": {
             "changes": [
              "(function (val){return (val!=this.model[\"changes\"]()) ? (this.valueFromJulia[\"changes\"]=true, this.model[\"changes\"](val)) : undefined})"
             ],
             "index": [
              "(function (val){return (val!=this.model[\"index\"]()) ? (this.valueFromJulia[\"index\"]=true, this.model[\"index\"](val)) : undefined})"
             ]
            },
            "id": "341639651",
            "imports": {
             "data": [
              {
               "name": "knockout",
               "type": "js",
               "url": "/assetserver/0a8f371627acb0fbab7e7ff03e6794a95ee37ef5-knockout.js"
              },
              {
               "name": "knockout_punches",
               "type": "js",
               "url": "/assetserver/9b3c694ae2b8b2559483df0ee4657f1f62c8c408-knockout_punches.js"
              },
              {
               "name": null,
               "type": "js",
               "url": "/assetserver/f88515f2eab9a880f440f4a02ad6bec39eab20f3-all.js"
              },
              {
               "name": null,
               "type": "css",
               "url": "/assetserver/1ca4083aec9453427e6ec123862050a8bb53b266-style.css"
              },
              {
               "name": null,
               "type": "css",
               "url": "/assetserver/9a1b433d0e3cd69e6f57207ad94f565eba9960c8-bulma_confined.min.css"
              }
             ],
             "type": "async_block"
            },
            "mount_callbacks": [
             "function () {\n    var handler = (function (ko, koPunches) {\n    ko.punches.enableAll();\n    ko.bindingHandlers.numericValue = {\n        init: function(element, valueAccessor, allBindings, data, context) {\n            var stringified = ko.observable(ko.unwrap(valueAccessor()));\n            stringified.subscribe(function(value) {\n                var val = parseFloat(value);\n                if (!isNaN(val)) {\n                    valueAccessor()(val);\n                }\n            });\n            valueAccessor().subscribe(function(value) {\n                var str = JSON.stringify(value);\n                if ((str == \"0\") && ([\"-0\", \"-0.\"].indexOf(stringified()) >= 0))\n                     return;\n                 if ([\"null\", \"\"].indexOf(str) >= 0)\n                     return;\n                stringified(str);\n            });\n            ko.applyBindingsToNode(\n                element,\n                {\n                    value: stringified,\n                    valueUpdate: allBindings.get('valueUpdate'),\n                },\n                context,\n            );\n        }\n    };\n    var json_data = {\"index\":WebIO.getval({\"id\":\"44\",\"name\":\"index\",\"type\":\"observable\",\"scope\":\"341639651\"}),\"changes\":WebIO.getval({\"id\":\"45\",\"name\":\"changes\",\"type\":\"observable\",\"scope\":\"341639651\"}),\"formatted_vals\":[\"1.0\",\"1.1\",\"1.2\",\"1.3\",\"1.4\",\"1.5\",\"1.6\",\"1.7\",\"1.8\",\"1.9\",\"2.0\",\"2.1\",\"2.2\",\"2.3\",\"2.4\",\"2.5\",\"2.6\",\"2.7\",\"2.8\",\"2.9\",\"3.0\",\"3.1\",\"3.2\",\"3.3\",\"3.4\",\"3.5\",\"3.6\",\"3.7\",\"3.8\",\"3.9\",\"4.0\",\"4.1\",\"4.2\",\"4.3\",\"4.4\",\"4.5\",\"4.6\",\"4.7\",\"4.8\",\"4.9\",\"5.0\",\"5.1\",\"5.2\",\"5.3\",\"5.4\",\"5.5\",\"5.6\",\"5.7\",\"5.8\",\"5.9\",\"6.0\",\"6.1\",\"6.2\",\"6.3\",\"6.4\",\"6.5\",\"6.6\",\"6.7\",\"6.8\",\"6.9\",\"7.0\",\"7.1\",\"7.2\",\"7.3\",\"7.4\",\"7.5\",\"7.6\",\"7.7\",\"7.8\",\"7.9\",\"8.0\",\"8.1\",\"8.2\",\"8.3\",\"8.4\",\"8.5\",\"8.6\",\"8.7\",\"8.8\",\"8.9\",\"9.0\",\"9.1\",\"9.2\",\"9.3\",\"9.4\",\"9.5\",\"9.6\",\"9.7\",\"9.8\",\"9.9\",\"10.0\",\"10.1\",\"10.2\",\"10.3\",\"10.4\",\"10.5\",\"10.6\",\"10.7\",\"10.8\",\"10.9\",\"11.0\",\"11.1\",\"11.2\",\"11.3\",\"11.4\",\"11.5\",\"11.6\",\"11.7\",\"11.8\",\"11.9\",\"12.0\",\"12.1\",\"12.2\",\"12.3\",\"12.4\",\"12.5\",\"12.6\",\"12.7\",\"12.8\",\"12.9\",\"13.0\",\"13.1\",\"13.2\",\"13.3\",\"13.4\",\"13.5\",\"13.6\",\"13.7\",\"13.8\",\"13.9\",\"14.0\",\"14.1\",\"14.2\",\"14.3\",\"14.4\",\"14.5\",\"14.6\",\"14.7\",\"14.8\",\"14.9\",\"15.0\",\"15.1\",\"15.2\",\"15.3\",\"15.4\",\"15.5\",\"15.6\",\"15.7\",\"15.8\",\"15.9\",\"16.0\",\"16.1\",\"16.2\",\"16.3\",\"16.4\",\"16.5\",\"16.6\",\"16.7\",\"16.8\",\"16.9\",\"17.0\",\"17.1\",\"17.2\",\"17.3\",\"17.4\",\"17.5\",\"17.6\",\"17.7\",\"17.8\",\"17.9\",\"18.0\",\"18.1\",\"18.2\",\"18.3\",\"18.4\",\"18.5\",\"18.6\",\"18.7\",\"18.8\",\"18.9\",\"19.0\",\"19.1\",\"19.2\",\"19.3\",\"19.4\",\"19.5\",\"19.6\",\"19.7\",\"19.8\",\"19.9\",\"20.0\",\"20.1\",\"20.2\",\"20.3\",\"20.4\",\"20.5\",\"20.6\",\"20.7\",\"20.8\",\"20.9\",\"21.0\",\"21.1\",\"21.2\",\"21.3\",\"21.4\",\"21.5\",\"21.6\",\"21.7\",\"21.8\",\"21.9\",\"22.0\",\"22.1\",\"22.2\",\"22.3\",\"22.4\",\"22.5\",\"22.6\",\"22.7\",\"22.8\",\"22.9\",\"23.0\",\"23.1\",\"23.2\",\"23.3\",\"23.4\",\"23.5\",\"23.6\",\"23.7\",\"23.8\",\"23.9\",\"24.0\",\"24.1\",\"24.2\",\"24.3\",\"24.4\",\"24.5\",\"24.6\",\"24.7\",\"24.8\",\"24.9\",\"25.0\",\"25.1\",\"25.2\",\"25.3\",\"25.4\",\"25.5\",\"25.6\",\"25.7\",\"25.8\",\"25.9\",\"26.0\",\"26.1\",\"26.2\",\"26.3\",\"26.4\",\"26.5\",\"26.6\",\"26.7\",\"26.8\",\"26.9\",\"27.0\",\"27.1\",\"27.2\",\"27.3\",\"27.4\",\"27.5\",\"27.6\",\"27.7\",\"27.8\",\"27.9\",\"28.0\",\"28.1\",\"28.2\",\"28.3\",\"28.4\",\"28.5\",\"28.6\",\"28.7\",\"28.8\",\"28.9\",\"29.0\",\"29.1\",\"29.2\",\"29.3\",\"29.4\",\"29.5\",\"29.6\",\"29.7\",\"29.8\",\"29.9\",\"30.0\",\"30.1\",\"30.2\",\"30.3\",\"30.4\",\"30.5\",\"30.6\",\"30.7\",\"30.8\",\"30.9\",\"31.0\",\"31.1\",\"31.2\",\"31.3\",\"31.4\",\"31.5\",\"31.6\",\"31.7\",\"31.8\",\"31.9\",\"32.0\",\"32.1\",\"32.2\",\"32.3\",\"32.4\",\"32.5\",\"32.6\",\"32.7\",\"32.8\",\"32.9\",\"33.0\",\"33.1\",\"33.2\",\"33.3\",\"33.4\",\"33.5\",\"33.6\",\"33.7\",\"33.8\",\"33.9\",\"34.0\",\"34.1\",\"34.2\",\"34.3\",\"34.4\",\"34.5\",\"34.6\",\"34.7\",\"34.8\",\"34.9\",\"35.0\",\"35.1\",\"35.2\",\"35.3\",\"35.4\",\"35.5\",\"35.6\",\"35.7\",\"35.8\",\"35.9\",\"36.0\",\"36.1\",\"36.2\",\"36.3\",\"36.4\",\"36.5\",\"36.6\",\"36.7\",\"36.8\",\"36.9\",\"37.0\",\"37.1\",\"37.2\",\"37.3\",\"37.4\",\"37.5\",\"37.6\",\"37.7\",\"37.8\",\"37.9\",\"38.0\",\"38.1\",\"38.2\",\"38.3\",\"38.4\",\"38.5\",\"38.6\",\"38.7\",\"38.8\",\"38.9\",\"39.0\",\"39.1\",\"39.2\",\"39.3\",\"39.4\",\"39.5\",\"39.6\",\"39.7\",\"39.8\",\"39.9\",\"40.0\",\"40.1\",\"40.2\",\"40.3\",\"40.4\",\"40.5\",\"40.6\",\"40.7\",\"40.8\",\"40.9\",\"41.0\",\"41.1\",\"41.2\",\"41.3\",\"41.4\",\"41.5\",\"41.6\",\"41.7\",\"41.8\",\"41.9\",\"42.0\",\"42.1\",\"42.2\",\"42.3\",\"42.4\",\"42.5\",\"42.6\",\"42.7\",\"42.8\",\"42.9\",\"43.0\",\"43.1\",\"43.2\",\"43.3\",\"43.4\",\"43.5\",\"43.6\",\"43.7\",\"43.8\",\"43.9\",\"44.0\",\"44.1\",\"44.2\",\"44.3\",\"44.4\",\"44.5\",\"44.6\",\"44.7\",\"44.8\",\"44.9\",\"45.0\",\"45.1\",\"45.2\",\"45.3\",\"45.4\",\"45.5\",\"45.6\",\"45.7\",\"45.8\",\"45.9\",\"46.0\",\"46.1\",\"46.2\",\"46.3\",\"46.4\",\"46.5\",\"46.6\",\"46.7\",\"46.8\",\"46.9\",\"47.0\",\"47.1\",\"47.2\",\"47.3\",\"47.4\",\"47.5\",\"47.6\",\"47.7\",\"47.8\",\"47.9\",\"48.0\",\"48.1\",\"48.2\",\"48.3\",\"48.4\",\"48.5\",\"48.6\",\"48.7\",\"48.8\",\"48.9\",\"49.0\",\"49.1\",\"49.2\",\"49.3\",\"49.4\",\"49.5\",\"49.6\",\"49.7\",\"49.8\",\"49.9\",\"50.0\"]};\n    var self = this;\n    function AppViewModel() {\n        for (var key in json_data) {\n            var el = json_data[key];\n            this[key] = Array.isArray(el) ? ko.observableArray(el) : ko.observable(el);\n        }\n        \n        [this[\"formatted_val\"]=ko.computed(    function(){\n        return this.formatted_vals()[parseInt(this.index())-(1)];\n    }\n,this)]\n        [this[\"index\"].subscribe((function (val){!(this.valueFromJulia[\"index\"]) ? (WebIO.setval({\"id\":\"44\",\"name\":\"index\",\"type\":\"observable\",\"scope\":\"341639651\"},val)) : undefined; return this.valueFromJulia[\"index\"]=false}),self),this[\"changes\"].subscribe((function (val){!(this.valueFromJulia[\"changes\"]) ? (WebIO.setval({\"id\":\"45\",\"name\":\"changes\",\"type\":\"observable\",\"scope\":\"341639651\"},val)) : undefined; return this.valueFromJulia[\"changes\"]=false}),self)]\n        \n    }\n    self.model = new AppViewModel();\n    self.valueFromJulia = {};\n    for (var key in json_data) {\n        self.valueFromJulia[key] = false;\n    }\n    ko.applyBindings(self.model, self.dom);\n}\n);\n    (WebIO.importBlock({\"data\":[{\"url\":\"/assetserver/0a8f371627acb0fbab7e7ff03e6794a95ee37ef5-knockout.js\",\"name\":\"knockout\",\"type\":\"js\"},{\"url\":\"/assetserver/9b3c694ae2b8b2559483df0ee4657f1f62c8c408-knockout_punches.js\",\"name\":\"knockout_punches\",\"type\":\"js\"}],\"type\":\"async_block\"})).then((imports) => handler.apply(this, imports));\n}\n"
            ],
            "observables": {
             "changes": {
              "id": "45",
              "sync": false,
              "value": 0
             },
             "index": {
              "id": "44",
              "sync": true,
              "value": 91
             }
            },
            "systemjs_options": null
           },
           "nodeType": "Scope",
           "props": {},
           "type": "node"
          }
         ],
         "instanceArgs": {
          "namespace": "html",
          "tag": "div"
         },
         "nodeType": "DOM",
         "props": {
          "className": "field interact-widget"
         },
         "type": "node"
        },
        {
         "children": [
          {
           "children": [
            {
             "children": [
              {
               "children": [
                {
                 "children": [
                  "Deformación (m)"
                 ],
                 "instanceArgs": {
                  "namespace": "html",
                  "tag": "label"
                 },
                 "nodeType": "DOM",
                 "props": {
                  "className": "interact ",
                  "style": {
                   "padding": "5px 10px 0px 10px"
                  }
                 },
                 "type": "node"
                }
               ],
               "instanceArgs": {
                "namespace": "html",
                "tag": "div"
               },
               "nodeType": "DOM",
               "props": {
                "className": "interact-flex-row-left"
               },
               "type": "node"
              },
              {
               "children": [
                {
                 "children": [],
                 "instanceArgs": {
                  "namespace": "html",
                  "tag": "input"
                 },
                 "nodeType": "DOM",
                 "props": {
                  "attributes": {
                   "data-bind": "numericValue: index, valueUpdate: 'input', event: {change: function (){this.changes(this.changes()+1)}}",
                   "orient": "horizontal",
                   "type": "range"
                  },
                  "className": "slider slider is-fullwidth",
                  "max": 201,
                  "min": 1,
                  "step": 1,
                  "style": {}
                 },
                 "type": "node"
                }
               ],
               "instanceArgs": {
                "namespace": "html",
                "tag": "div"
               },
               "nodeType": "DOM",
               "props": {
                "className": "interact-flex-row-center"
               },
               "type": "node"
              },
              {
               "children": [
                {
                 "children": [],
                 "instanceArgs": {
                  "namespace": "html",
                  "tag": "p"
                 },
                 "nodeType": "DOM",
                 "props": {
                  "attributes": {
                   "data-bind": "text: formatted_val"
                  }
                 },
                 "type": "node"
                }
               ],
               "instanceArgs": {
                "namespace": "html",
                "tag": "div"
               },
               "nodeType": "DOM",
               "props": {
                "className": "interact-flex-row-right"
               },
               "type": "node"
              }
             ],
             "instanceArgs": {
              "namespace": "html",
              "tag": "div"
             },
             "nodeType": "DOM",
             "props": {
              "className": "interact-flex-row interact-widget"
             },
             "type": "node"
            }
           ],
           "instanceArgs": {
            "handlers": {
             "changes": [
              "(function (val){return (val!=this.model[\"changes\"]()) ? (this.valueFromJulia[\"changes\"]=true, this.model[\"changes\"](val)) : undefined})"
             ],
             "index": [
              "(function (val){return (val!=this.model[\"index\"]()) ? (this.valueFromJulia[\"index\"]=true, this.model[\"index\"](val)) : undefined})"
             ]
            },
            "id": "3147495950",
            "imports": {
             "data": [
              {
               "name": "knockout",
               "type": "js",
               "url": "/assetserver/0a8f371627acb0fbab7e7ff03e6794a95ee37ef5-knockout.js"
              },
              {
               "name": "knockout_punches",
               "type": "js",
               "url": "/assetserver/9b3c694ae2b8b2559483df0ee4657f1f62c8c408-knockout_punches.js"
              },
              {
               "name": null,
               "type": "js",
               "url": "/assetserver/f88515f2eab9a880f440f4a02ad6bec39eab20f3-all.js"
              },
              {
               "name": null,
               "type": "css",
               "url": "/assetserver/1ca4083aec9453427e6ec123862050a8bb53b266-style.css"
              },
              {
               "name": null,
               "type": "css",
               "url": "/assetserver/9a1b433d0e3cd69e6f57207ad94f565eba9960c8-bulma_confined.min.css"
              }
             ],
             "type": "async_block"
            },
            "mount_callbacks": [
             "function () {\n    var handler = (function (ko, koPunches) {\n    ko.punches.enableAll();\n    ko.bindingHandlers.numericValue = {\n        init: function(element, valueAccessor, allBindings, data, context) {\n            var stringified = ko.observable(ko.unwrap(valueAccessor()));\n            stringified.subscribe(function(value) {\n                var val = parseFloat(value);\n                if (!isNaN(val)) {\n                    valueAccessor()(val);\n                }\n            });\n            valueAccessor().subscribe(function(value) {\n                var str = JSON.stringify(value);\n                if ((str == \"0\") && ([\"-0\", \"-0.\"].indexOf(stringified()) >= 0))\n                     return;\n                 if ([\"null\", \"\"].indexOf(str) >= 0)\n                     return;\n                stringified(str);\n            });\n            ko.applyBindingsToNode(\n                element,\n                {\n                    value: stringified,\n                    valueUpdate: allBindings.get('valueUpdate'),\n                },\n                context,\n            );\n        }\n    };\n    var json_data = {\"index\":WebIO.getval({\"id\":\"47\",\"name\":\"index\",\"type\":\"observable\",\"scope\":\"3147495950\"}),\"changes\":WebIO.getval({\"id\":\"48\",\"name\":\"changes\",\"type\":\"observable\",\"scope\":\"3147495950\"}),\"formatted_vals\":[\"-10.0\",\"-9.9\",\"-9.8\",\"-9.7\",\"-9.6\",\"-9.5\",\"-9.4\",\"-9.3\",\"-9.2\",\"-9.1\",\"-9.0\",\"-8.9\",\"-8.8\",\"-8.7\",\"-8.6\",\"-8.5\",\"-8.4\",\"-8.3\",\"-8.2\",\"-8.1\",\"-8.0\",\"-7.9\",\"-7.8\",\"-7.7\",\"-7.6\",\"-7.5\",\"-7.4\",\"-7.3\",\"-7.2\",\"-7.1\",\"-7.0\",\"-6.9\",\"-6.8\",\"-6.7\",\"-6.6\",\"-6.5\",\"-6.4\",\"-6.3\",\"-6.2\",\"-6.1\",\"-6.0\",\"-5.9\",\"-5.8\",\"-5.7\",\"-5.6\",\"-5.5\",\"-5.4\",\"-5.3\",\"-5.2\",\"-5.1\",\"-5.0\",\"-4.9\",\"-4.8\",\"-4.7\",\"-4.6\",\"-4.5\",\"-4.4\",\"-4.3\",\"-4.2\",\"-4.1\",\"-4.0\",\"-3.9\",\"-3.8\",\"-3.7\",\"-3.6\",\"-3.5\",\"-3.4\",\"-3.3\",\"-3.2\",\"-3.1\",\"-3.0\",\"-2.9\",\"-2.8\",\"-2.7\",\"-2.6\",\"-2.5\",\"-2.4\",\"-2.3\",\"-2.2\",\"-2.1\",\"-2.0\",\"-1.9\",\"-1.8\",\"-1.7\",\"-1.6\",\"-1.5\",\"-1.4\",\"-1.3\",\"-1.2\",\"-1.1\",\"-1.0\",\"-0.9\",\"-0.8\",\"-0.7\",\"-0.6\",\"-0.5\",\"-0.4\",\"-0.3\",\"-0.2\",\"-0.1\",\"0.0\",\"0.1\",\"0.2\",\"0.3\",\"0.4\",\"0.5\",\"0.6\",\"0.7\",\"0.8\",\"0.9\",\"1.0\",\"1.1\",\"1.2\",\"1.3\",\"1.4\",\"1.5\",\"1.6\",\"1.7\",\"1.8\",\"1.9\",\"2.0\",\"2.1\",\"2.2\",\"2.3\",\"2.4\",\"2.5\",\"2.6\",\"2.7\",\"2.8\",\"2.9\",\"3.0\",\"3.1\",\"3.2\",\"3.3\",\"3.4\",\"3.5\",\"3.6\",\"3.7\",\"3.8\",\"3.9\",\"4.0\",\"4.1\",\"4.2\",\"4.3\",\"4.4\",\"4.5\",\"4.6\",\"4.7\",\"4.8\",\"4.9\",\"5.0\",\"5.1\",\"5.2\",\"5.3\",\"5.4\",\"5.5\",\"5.6\",\"5.7\",\"5.8\",\"5.9\",\"6.0\",\"6.1\",\"6.2\",\"6.3\",\"6.4\",\"6.5\",\"6.6\",\"6.7\",\"6.8\",\"6.9\",\"7.0\",\"7.1\",\"7.2\",\"7.3\",\"7.4\",\"7.5\",\"7.6\",\"7.7\",\"7.8\",\"7.9\",\"8.0\",\"8.1\",\"8.2\",\"8.3\",\"8.4\",\"8.5\",\"8.6\",\"8.7\",\"8.8\",\"8.9\",\"9.0\",\"9.1\",\"9.2\",\"9.3\",\"9.4\",\"9.5\",\"9.6\",\"9.7\",\"9.8\",\"9.9\",\"10.0\"]};\n    var self = this;\n    function AppViewModel() {\n        for (var key in json_data) {\n            var el = json_data[key];\n            this[key] = Array.isArray(el) ? ko.observableArray(el) : ko.observable(el);\n        }\n        \n        [this[\"formatted_val\"]=ko.computed(    function(){\n        return this.formatted_vals()[parseInt(this.index())-(1)];\n    }\n,this)]\n        [this[\"index\"].subscribe((function (val){!(this.valueFromJulia[\"index\"]) ? (WebIO.setval({\"id\":\"47\",\"name\":\"index\",\"type\":\"observable\",\"scope\":\"3147495950\"},val)) : undefined; return this.valueFromJulia[\"index\"]=false}),self),this[\"changes\"].subscribe((function (val){!(this.valueFromJulia[\"changes\"]) ? (WebIO.setval({\"id\":\"48\",\"name\":\"changes\",\"type\":\"observable\",\"scope\":\"3147495950\"},val)) : undefined; return this.valueFromJulia[\"changes\"]=false}),self)]\n        \n    }\n    self.model = new AppViewModel();\n    self.valueFromJulia = {};\n    for (var key in json_data) {\n        self.valueFromJulia[key] = false;\n    }\n    ko.applyBindings(self.model, self.dom);\n}\n);\n    (WebIO.importBlock({\"data\":[{\"url\":\"/assetserver/0a8f371627acb0fbab7e7ff03e6794a95ee37ef5-knockout.js\",\"name\":\"knockout\",\"type\":\"js\"},{\"url\":\"/assetserver/9b3c694ae2b8b2559483df0ee4657f1f62c8c408-knockout_punches.js\",\"name\":\"knockout_punches\",\"type\":\"js\"}],\"type\":\"async_block\"})).then((imports) => handler.apply(this, imports));\n}\n"
            ],
            "observables": {
             "changes": {
              "id": "48",
              "sync": false,
              "value": 0
             },
             "index": {
              "id": "47",
              "sync": true,
              "value": 101
             }
            },
            "systemjs_options": null
           },
           "nodeType": "Scope",
           "props": {},
           "type": "node"
          }
         ],
         "instanceArgs": {
          "namespace": "html",
          "tag": "div"
         },
         "nodeType": "DOM",
         "props": {
          "className": "field interact-widget"
         },
         "type": "node"
        },
        {
         "children": [
          {
           "children": [],
           "instanceArgs": {
            "id": "54",
            "name": "obs-node"
           },
           "nodeType": "ObservableNode",
           "props": {},
           "type": "node"
          }
         ],
         "instanceArgs": {
          "handlers": {},
          "id": "3716844722",
          "imports": {
           "data": [],
           "type": "async_block"
          },
          "mount_callbacks": [],
          "observables": {
           "obs-node": {
            "id": "54",
            "sync": false,
            "value": {
             "children": [
              ""
             ],
             "instanceArgs": {
              "namespace": "html",
              "tag": "div"
             },
             "nodeType": "DOM",
             "props": {
              "className": "interact-flex-row interact-widget"
             },
             "type": "node"
            }
           }
          },
          "systemjs_options": null
         },
         "nodeType": "Scope",
         "props": {},
         "type": "node"
        }
       ],
       "instanceArgs": {
        "namespace": "html",
        "tag": "div"
       },
       "nodeType": "DOM",
       "props": {},
       "type": "node"
      },
      "text/html": [
       "<div\n",
       "    class=\"webio-mountpoint\"\n",
       "    data-webio-mountpoint=\"2151618060035701545\"\n",
       ">\n",
       "    <script>\n",
       "    (function(){\n",
       "    // Some integrations (namely, IJulia/Jupyter) use an alternate render pathway than\n",
       "    // just putting the html on the page. If WebIO isn't defined, then it's pretty likely\n",
       "    // that we're in one of those situations and the integration just isn't installed\n",
       "    // correctly.\n",
       "    if (typeof window.WebIO === \"undefined\") {\n",
       "        document\n",
       "            .querySelector('[data-webio-mountpoint=\"2151618060035701545\"]')\n",
       "            .innerHTML = (\n",
       "                '<div style=\"padding: 1em; background-color: #f8d6da; border: 1px solid #f5c6cb; font-weight: bold;\">' +\n",
       "                '<p><strong>WebIO not detected.</strong></p>' +\n",
       "                '<p>Please read ' +\n",
       "                '<a href=\"https://juliagizmos.github.io/WebIO.jl/latest/troubleshooting/not-detected/\" target=\"_blank\">the troubleshooting guide</a> ' +\n",
       "                'for more information on how to resolve this issue.</p>' +\n",
       "                '<p><a href=\"https://juliagizmos.github.io/WebIO.jl/latest/troubleshooting/not-detected/\" target=\"_blank\">https://juliagizmos.github.io/WebIO.jl/latest/troubleshooting/not-detected/</a></p>' +\n",
       "                '</div>'\n",
       "            );\n",
       "        return;\n",
       "    }\n",
       "    WebIO.mount(\n",
       "        document.querySelector('[data-webio-mountpoint=\"2151618060035701545\"]'),\n",
       "        {\"props\":{},\"nodeType\":\"DOM\",\"instanceArgs\":{\"namespace\":\"html\",\"tag\":\"div\"},\"type\":\"node\",\"children\":[{\"props\":{\"className\":\"field interact-widget\"},\"nodeType\":\"DOM\",\"instanceArgs\":{\"namespace\":\"html\",\"tag\":\"div\"},\"type\":\"node\",\"children\":[{\"props\":{},\"nodeType\":\"Scope\",\"instanceArgs\":{\"id\":\"341639651\",\"systemjs_options\":null,\"mount_callbacks\":[\"function () {\\n    var handler = (function (ko, koPunches) {\\n    ko.punches.enableAll();\\n    ko.bindingHandlers.numericValue = {\\n        init: function(element, valueAccessor, allBindings, data, context) {\\n            var stringified = ko.observable(ko.unwrap(valueAccessor()));\\n            stringified.subscribe(function(value) {\\n                var val = parseFloat(value);\\n                if (!isNaN(val)) {\\n                    valueAccessor()(val);\\n                }\\n            });\\n            valueAccessor().subscribe(function(value) {\\n                var str = JSON.stringify(value);\\n                if ((str == \\\"0\\\") && ([\\\"-0\\\", \\\"-0.\\\"].indexOf(stringified()) >= 0))\\n                     return;\\n                 if ([\\\"null\\\", \\\"\\\"].indexOf(str) >= 0)\\n                     return;\\n                stringified(str);\\n            });\\n            ko.applyBindingsToNode(\\n                element,\\n                {\\n                    value: stringified,\\n                    valueUpdate: allBindings.get('valueUpdate'),\\n                },\\n                context,\\n            );\\n        }\\n    };\\n    var json_data = {\\\"index\\\":WebIO.getval({\\\"id\\\":\\\"44\\\",\\\"name\\\":\\\"index\\\",\\\"type\\\":\\\"observable\\\",\\\"scope\\\":\\\"341639651\\\"}),\\\"changes\\\":WebIO.getval({\\\"id\\\":\\\"45\\\",\\\"name\\\":\\\"changes\\\",\\\"type\\\":\\\"observable\\\",\\\"scope\\\":\\\"341639651\\\"}),\\\"formatted_vals\\\":[\\\"1.0\\\",\\\"1.1\\\",\\\"1.2\\\",\\\"1.3\\\",\\\"1.4\\\",\\\"1.5\\\",\\\"1.6\\\",\\\"1.7\\\",\\\"1.8\\\",\\\"1.9\\\",\\\"2.0\\\",\\\"2.1\\\",\\\"2.2\\\",\\\"2.3\\\",\\\"2.4\\\",\\\"2.5\\\",\\\"2.6\\\",\\\"2.7\\\",\\\"2.8\\\",\\\"2.9\\\",\\\"3.0\\\",\\\"3.1\\\",\\\"3.2\\\",\\\"3.3\\\",\\\"3.4\\\",\\\"3.5\\\",\\\"3.6\\\",\\\"3.7\\\",\\\"3.8\\\",\\\"3.9\\\",\\\"4.0\\\",\\\"4.1\\\",\\\"4.2\\\",\\\"4.3\\\",\\\"4.4\\\",\\\"4.5\\\",\\\"4.6\\\",\\\"4.7\\\",\\\"4.8\\\",\\\"4.9\\\",\\\"5.0\\\",\\\"5.1\\\",\\\"5.2\\\",\\\"5.3\\\",\\\"5.4\\\",\\\"5.5\\\",\\\"5.6\\\",\\\"5.7\\\",\\\"5.8\\\",\\\"5.9\\\",\\\"6.0\\\",\\\"6.1\\\",\\\"6.2\\\",\\\"6.3\\\",\\\"6.4\\\",\\\"6.5\\\",\\\"6.6\\\",\\\"6.7\\\",\\\"6.8\\\",\\\"6.9\\\",\\\"7.0\\\",\\\"7.1\\\",\\\"7.2\\\",\\\"7.3\\\",\\\"7.4\\\",\\\"7.5\\\",\\\"7.6\\\",\\\"7.7\\\",\\\"7.8\\\",\\\"7.9\\\",\\\"8.0\\\",\\\"8.1\\\",\\\"8.2\\\",\\\"8.3\\\",\\\"8.4\\\",\\\"8.5\\\",\\\"8.6\\\",\\\"8.7\\\",\\\"8.8\\\",\\\"8.9\\\",\\\"9.0\\\",\\\"9.1\\\",\\\"9.2\\\",\\\"9.3\\\",\\\"9.4\\\",\\\"9.5\\\",\\\"9.6\\\",\\\"9.7\\\",\\\"9.8\\\",\\\"9.9\\\",\\\"10.0\\\",\\\"10.1\\\",\\\"10.2\\\",\\\"10.3\\\",\\\"10.4\\\",\\\"10.5\\\",\\\"10.6\\\",\\\"10.7\\\",\\\"10.8\\\",\\\"10.9\\\",\\\"11.0\\\",\\\"11.1\\\",\\\"11.2\\\",\\\"11.3\\\",\\\"11.4\\\",\\\"11.5\\\",\\\"11.6\\\",\\\"11.7\\\",\\\"11.8\\\",\\\"11.9\\\",\\\"12.0\\\",\\\"12.1\\\",\\\"12.2\\\",\\\"12.3\\\",\\\"12.4\\\",\\\"12.5\\\",\\\"12.6\\\",\\\"12.7\\\",\\\"12.8\\\",\\\"12.9\\\",\\\"13.0\\\",\\\"13.1\\\",\\\"13.2\\\",\\\"13.3\\\",\\\"13.4\\\",\\\"13.5\\\",\\\"13.6\\\",\\\"13.7\\\",\\\"13.8\\\",\\\"13.9\\\",\\\"14.0\\\",\\\"14.1\\\",\\\"14.2\\\",\\\"14.3\\\",\\\"14.4\\\",\\\"14.5\\\",\\\"14.6\\\",\\\"14.7\\\",\\\"14.8\\\",\\\"14.9\\\",\\\"15.0\\\",\\\"15.1\\\",\\\"15.2\\\",\\\"15.3\\\",\\\"15.4\\\",\\\"15.5\\\",\\\"15.6\\\",\\\"15.7\\\",\\\"15.8\\\",\\\"15.9\\\",\\\"16.0\\\",\\\"16.1\\\",\\\"16.2\\\",\\\"16.3\\\",\\\"16.4\\\",\\\"16.5\\\",\\\"16.6\\\",\\\"16.7\\\",\\\"16.8\\\",\\\"16.9\\\",\\\"17.0\\\",\\\"17.1\\\",\\\"17.2\\\",\\\"17.3\\\",\\\"17.4\\\",\\\"17.5\\\",\\\"17.6\\\",\\\"17.7\\\",\\\"17.8\\\",\\\"17.9\\\",\\\"18.0\\\",\\\"18.1\\\",\\\"18.2\\\",\\\"18.3\\\",\\\"18.4\\\",\\\"18.5\\\",\\\"18.6\\\",\\\"18.7\\\",\\\"18.8\\\",\\\"18.9\\\",\\\"19.0\\\",\\\"19.1\\\",\\\"19.2\\\",\\\"19.3\\\",\\\"19.4\\\",\\\"19.5\\\",\\\"19.6\\\",\\\"19.7\\\",\\\"19.8\\\",\\\"19.9\\\",\\\"20.0\\\",\\\"20.1\\\",\\\"20.2\\\",\\\"20.3\\\",\\\"20.4\\\",\\\"20.5\\\",\\\"20.6\\\",\\\"20.7\\\",\\\"20.8\\\",\\\"20.9\\\",\\\"21.0\\\",\\\"21.1\\\",\\\"21.2\\\",\\\"21.3\\\",\\\"21.4\\\",\\\"21.5\\\",\\\"21.6\\\",\\\"21.7\\\",\\\"21.8\\\",\\\"21.9\\\",\\\"22.0\\\",\\\"22.1\\\",\\\"22.2\\\",\\\"22.3\\\",\\\"22.4\\\",\\\"22.5\\\",\\\"22.6\\\",\\\"22.7\\\",\\\"22.8\\\",\\\"22.9\\\",\\\"23.0\\\",\\\"23.1\\\",\\\"23.2\\\",\\\"23.3\\\",\\\"23.4\\\",\\\"23.5\\\",\\\"23.6\\\",\\\"23.7\\\",\\\"23.8\\\",\\\"23.9\\\",\\\"24.0\\\",\\\"24.1\\\",\\\"24.2\\\",\\\"24.3\\\",\\\"24.4\\\",\\\"24.5\\\",\\\"24.6\\\",\\\"24.7\\\",\\\"24.8\\\",\\\"24.9\\\",\\\"25.0\\\",\\\"25.1\\\",\\\"25.2\\\",\\\"25.3\\\",\\\"25.4\\\",\\\"25.5\\\",\\\"25.6\\\",\\\"25.7\\\",\\\"25.8\\\",\\\"25.9\\\",\\\"26.0\\\",\\\"26.1\\\",\\\"26.2\\\",\\\"26.3\\\",\\\"26.4\\\",\\\"26.5\\\",\\\"26.6\\\",\\\"26.7\\\",\\\"26.8\\\",\\\"26.9\\\",\\\"27.0\\\",\\\"27.1\\\",\\\"27.2\\\",\\\"27.3\\\",\\\"27.4\\\",\\\"27.5\\\",\\\"27.6\\\",\\\"27.7\\\",\\\"27.8\\\",\\\"27.9\\\",\\\"28.0\\\",\\\"28.1\\\",\\\"28.2\\\",\\\"28.3\\\",\\\"28.4\\\",\\\"28.5\\\",\\\"28.6\\\",\\\"28.7\\\",\\\"28.8\\\",\\\"28.9\\\",\\\"29.0\\\",\\\"29.1\\\",\\\"29.2\\\",\\\"29.3\\\",\\\"29.4\\\",\\\"29.5\\\",\\\"29.6\\\",\\\"29.7\\\",\\\"29.8\\\",\\\"29.9\\\",\\\"30.0\\\",\\\"30.1\\\",\\\"30.2\\\",\\\"30.3\\\",\\\"30.4\\\",\\\"30.5\\\",\\\"30.6\\\",\\\"30.7\\\",\\\"30.8\\\",\\\"30.9\\\",\\\"31.0\\\",\\\"31.1\\\",\\\"31.2\\\",\\\"31.3\\\",\\\"31.4\\\",\\\"31.5\\\",\\\"31.6\\\",\\\"31.7\\\",\\\"31.8\\\",\\\"31.9\\\",\\\"32.0\\\",\\\"32.1\\\",\\\"32.2\\\",\\\"32.3\\\",\\\"32.4\\\",\\\"32.5\\\",\\\"32.6\\\",\\\"32.7\\\",\\\"32.8\\\",\\\"32.9\\\",\\\"33.0\\\",\\\"33.1\\\",\\\"33.2\\\",\\\"33.3\\\",\\\"33.4\\\",\\\"33.5\\\",\\\"33.6\\\",\\\"33.7\\\",\\\"33.8\\\",\\\"33.9\\\",\\\"34.0\\\",\\\"34.1\\\",\\\"34.2\\\",\\\"34.3\\\",\\\"34.4\\\",\\\"34.5\\\",\\\"34.6\\\",\\\"34.7\\\",\\\"34.8\\\",\\\"34.9\\\",\\\"35.0\\\",\\\"35.1\\\",\\\"35.2\\\",\\\"35.3\\\",\\\"35.4\\\",\\\"35.5\\\",\\\"35.6\\\",\\\"35.7\\\",\\\"35.8\\\",\\\"35.9\\\",\\\"36.0\\\",\\\"36.1\\\",\\\"36.2\\\",\\\"36.3\\\",\\\"36.4\\\",\\\"36.5\\\",\\\"36.6\\\",\\\"36.7\\\",\\\"36.8\\\",\\\"36.9\\\",\\\"37.0\\\",\\\"37.1\\\",\\\"37.2\\\",\\\"37.3\\\",\\\"37.4\\\",\\\"37.5\\\",\\\"37.6\\\",\\\"37.7\\\",\\\"37.8\\\",\\\"37.9\\\",\\\"38.0\\\",\\\"38.1\\\",\\\"38.2\\\",\\\"38.3\\\",\\\"38.4\\\",\\\"38.5\\\",\\\"38.6\\\",\\\"38.7\\\",\\\"38.8\\\",\\\"38.9\\\",\\\"39.0\\\",\\\"39.1\\\",\\\"39.2\\\",\\\"39.3\\\",\\\"39.4\\\",\\\"39.5\\\",\\\"39.6\\\",\\\"39.7\\\",\\\"39.8\\\",\\\"39.9\\\",\\\"40.0\\\",\\\"40.1\\\",\\\"40.2\\\",\\\"40.3\\\",\\\"40.4\\\",\\\"40.5\\\",\\\"40.6\\\",\\\"40.7\\\",\\\"40.8\\\",\\\"40.9\\\",\\\"41.0\\\",\\\"41.1\\\",\\\"41.2\\\",\\\"41.3\\\",\\\"41.4\\\",\\\"41.5\\\",\\\"41.6\\\",\\\"41.7\\\",\\\"41.8\\\",\\\"41.9\\\",\\\"42.0\\\",\\\"42.1\\\",\\\"42.2\\\",\\\"42.3\\\",\\\"42.4\\\",\\\"42.5\\\",\\\"42.6\\\",\\\"42.7\\\",\\\"42.8\\\",\\\"42.9\\\",\\\"43.0\\\",\\\"43.1\\\",\\\"43.2\\\",\\\"43.3\\\",\\\"43.4\\\",\\\"43.5\\\",\\\"43.6\\\",\\\"43.7\\\",\\\"43.8\\\",\\\"43.9\\\",\\\"44.0\\\",\\\"44.1\\\",\\\"44.2\\\",\\\"44.3\\\",\\\"44.4\\\",\\\"44.5\\\",\\\"44.6\\\",\\\"44.7\\\",\\\"44.8\\\",\\\"44.9\\\",\\\"45.0\\\",\\\"45.1\\\",\\\"45.2\\\",\\\"45.3\\\",\\\"45.4\\\",\\\"45.5\\\",\\\"45.6\\\",\\\"45.7\\\",\\\"45.8\\\",\\\"45.9\\\",\\\"46.0\\\",\\\"46.1\\\",\\\"46.2\\\",\\\"46.3\\\",\\\"46.4\\\",\\\"46.5\\\",\\\"46.6\\\",\\\"46.7\\\",\\\"46.8\\\",\\\"46.9\\\",\\\"47.0\\\",\\\"47.1\\\",\\\"47.2\\\",\\\"47.3\\\",\\\"47.4\\\",\\\"47.5\\\",\\\"47.6\\\",\\\"47.7\\\",\\\"47.8\\\",\\\"47.9\\\",\\\"48.0\\\",\\\"48.1\\\",\\\"48.2\\\",\\\"48.3\\\",\\\"48.4\\\",\\\"48.5\\\",\\\"48.6\\\",\\\"48.7\\\",\\\"48.8\\\",\\\"48.9\\\",\\\"49.0\\\",\\\"49.1\\\",\\\"49.2\\\",\\\"49.3\\\",\\\"49.4\\\",\\\"49.5\\\",\\\"49.6\\\",\\\"49.7\\\",\\\"49.8\\\",\\\"49.9\\\",\\\"50.0\\\"]};\\n    var self = this;\\n    function AppViewModel() {\\n        for (var key in json_data) {\\n            var el = json_data[key];\\n            this[key] = Array.isArray(el) ? ko.observableArray(el) : ko.observable(el);\\n        }\\n        \\n        [this[\\\"formatted_val\\\"]=ko.computed(    function(){\\n        return this.formatted_vals()[parseInt(this.index())-(1)];\\n    }\\n,this)]\\n        [this[\\\"index\\\"].subscribe((function (val){!(this.valueFromJulia[\\\"index\\\"]) ? (WebIO.setval({\\\"id\\\":\\\"44\\\",\\\"name\\\":\\\"index\\\",\\\"type\\\":\\\"observable\\\",\\\"scope\\\":\\\"341639651\\\"},val)) : undefined; return this.valueFromJulia[\\\"index\\\"]=false}),self),this[\\\"changes\\\"].subscribe((function (val){!(this.valueFromJulia[\\\"changes\\\"]) ? (WebIO.setval({\\\"id\\\":\\\"45\\\",\\\"name\\\":\\\"changes\\\",\\\"type\\\":\\\"observable\\\",\\\"scope\\\":\\\"341639651\\\"},val)) : undefined; return this.valueFromJulia[\\\"changes\\\"]=false}),self)]\\n        \\n    }\\n    self.model = new AppViewModel();\\n    self.valueFromJulia = {};\\n    for (var key in json_data) {\\n        self.valueFromJulia[key] = false;\\n    }\\n    ko.applyBindings(self.model, self.dom);\\n}\\n);\\n    (WebIO.importBlock({\\\"data\\\":[{\\\"url\\\":\\\"\\/assetserver\\/0a8f371627acb0fbab7e7ff03e6794a95ee37ef5-knockout.js\\\",\\\"name\\\":\\\"knockout\\\",\\\"type\\\":\\\"js\\\"},{\\\"url\\\":\\\"\\/assetserver\\/9b3c694ae2b8b2559483df0ee4657f1f62c8c408-knockout_punches.js\\\",\\\"name\\\":\\\"knockout_punches\\\",\\\"type\\\":\\\"js\\\"}],\\\"type\\\":\\\"async_block\\\"})).then((imports) => handler.apply(this, imports));\\n}\\n\"],\"handlers\":{\"index\":[\"(function (val){return (val!=this.model[\\\"index\\\"]()) ? (this.valueFromJulia[\\\"index\\\"]=true, this.model[\\\"index\\\"](val)) : undefined})\"],\"changes\":[\"(function (val){return (val!=this.model[\\\"changes\\\"]()) ? (this.valueFromJulia[\\\"changes\\\"]=true, this.model[\\\"changes\\\"](val)) : undefined})\"]},\"observables\":{\"index\":{\"id\":\"44\",\"value\":91,\"sync\":true},\"changes\":{\"id\":\"45\",\"value\":0,\"sync\":false}},\"imports\":{\"data\":[{\"url\":\"\\/assetserver\\/0a8f371627acb0fbab7e7ff03e6794a95ee37ef5-knockout.js\",\"name\":\"knockout\",\"type\":\"js\"},{\"url\":\"\\/assetserver\\/9b3c694ae2b8b2559483df0ee4657f1f62c8c408-knockout_punches.js\",\"name\":\"knockout_punches\",\"type\":\"js\"},{\"url\":\"\\/assetserver\\/f88515f2eab9a880f440f4a02ad6bec39eab20f3-all.js\",\"name\":null,\"type\":\"js\"},{\"url\":\"\\/assetserver\\/1ca4083aec9453427e6ec123862050a8bb53b266-style.css\",\"name\":null,\"type\":\"css\"},{\"url\":\"\\/assetserver\\/9a1b433d0e3cd69e6f57207ad94f565eba9960c8-bulma_confined.min.css\",\"name\":null,\"type\":\"css\"}],\"type\":\"async_block\"}},\"type\":\"node\",\"children\":[{\"props\":{\"className\":\"interact-flex-row interact-widget\"},\"nodeType\":\"DOM\",\"instanceArgs\":{\"namespace\":\"html\",\"tag\":\"div\"},\"type\":\"node\",\"children\":[{\"props\":{\"className\":\"interact-flex-row-left\"},\"nodeType\":\"DOM\",\"instanceArgs\":{\"namespace\":\"html\",\"tag\":\"div\"},\"type\":\"node\",\"children\":[{\"props\":{\"style\":{\"padding\":\"5px 10px 0px 10px\"},\"className\":\"interact \"},\"nodeType\":\"DOM\",\"instanceArgs\":{\"namespace\":\"html\",\"tag\":\"label\"},\"type\":\"node\",\"children\":[\"Constante Elástica (N\\/m)\"]}]},{\"props\":{\"className\":\"interact-flex-row-center\"},\"nodeType\":\"DOM\",\"instanceArgs\":{\"namespace\":\"html\",\"tag\":\"div\"},\"type\":\"node\",\"children\":[{\"props\":{\"style\":{},\"className\":\"slider slider is-fullwidth\",\"max\":491,\"attributes\":{\"orient\":\"horizontal\",\"data-bind\":\"numericValue: index, valueUpdate: 'input', event: {change: function (){this.changes(this.changes()+1)}}\",\"type\":\"range\"},\"step\":1,\"min\":1},\"nodeType\":\"DOM\",\"instanceArgs\":{\"namespace\":\"html\",\"tag\":\"input\"},\"type\":\"node\",\"children\":[]}]},{\"props\":{\"className\":\"interact-flex-row-right\"},\"nodeType\":\"DOM\",\"instanceArgs\":{\"namespace\":\"html\",\"tag\":\"div\"},\"type\":\"node\",\"children\":[{\"props\":{\"attributes\":{\"data-bind\":\"text: formatted_val\"}},\"nodeType\":\"DOM\",\"instanceArgs\":{\"namespace\":\"html\",\"tag\":\"p\"},\"type\":\"node\",\"children\":[]}]}]}]}]},{\"props\":{\"className\":\"field interact-widget\"},\"nodeType\":\"DOM\",\"instanceArgs\":{\"namespace\":\"html\",\"tag\":\"div\"},\"type\":\"node\",\"children\":[{\"props\":{},\"nodeType\":\"Scope\",\"instanceArgs\":{\"id\":\"3147495950\",\"systemjs_options\":null,\"mount_callbacks\":[\"function () {\\n    var handler = (function (ko, koPunches) {\\n    ko.punches.enableAll();\\n    ko.bindingHandlers.numericValue = {\\n        init: function(element, valueAccessor, allBindings, data, context) {\\n            var stringified = ko.observable(ko.unwrap(valueAccessor()));\\n            stringified.subscribe(function(value) {\\n                var val = parseFloat(value);\\n                if (!isNaN(val)) {\\n                    valueAccessor()(val);\\n                }\\n            });\\n            valueAccessor().subscribe(function(value) {\\n                var str = JSON.stringify(value);\\n                if ((str == \\\"0\\\") && ([\\\"-0\\\", \\\"-0.\\\"].indexOf(stringified()) >= 0))\\n                     return;\\n                 if ([\\\"null\\\", \\\"\\\"].indexOf(str) >= 0)\\n                     return;\\n                stringified(str);\\n            });\\n            ko.applyBindingsToNode(\\n                element,\\n                {\\n                    value: stringified,\\n                    valueUpdate: allBindings.get('valueUpdate'),\\n                },\\n                context,\\n            );\\n        }\\n    };\\n    var json_data = {\\\"index\\\":WebIO.getval({\\\"id\\\":\\\"47\\\",\\\"name\\\":\\\"index\\\",\\\"type\\\":\\\"observable\\\",\\\"scope\\\":\\\"3147495950\\\"}),\\\"changes\\\":WebIO.getval({\\\"id\\\":\\\"48\\\",\\\"name\\\":\\\"changes\\\",\\\"type\\\":\\\"observable\\\",\\\"scope\\\":\\\"3147495950\\\"}),\\\"formatted_vals\\\":[\\\"-10.0\\\",\\\"-9.9\\\",\\\"-9.8\\\",\\\"-9.7\\\",\\\"-9.6\\\",\\\"-9.5\\\",\\\"-9.4\\\",\\\"-9.3\\\",\\\"-9.2\\\",\\\"-9.1\\\",\\\"-9.0\\\",\\\"-8.9\\\",\\\"-8.8\\\",\\\"-8.7\\\",\\\"-8.6\\\",\\\"-8.5\\\",\\\"-8.4\\\",\\\"-8.3\\\",\\\"-8.2\\\",\\\"-8.1\\\",\\\"-8.0\\\",\\\"-7.9\\\",\\\"-7.8\\\",\\\"-7.7\\\",\\\"-7.6\\\",\\\"-7.5\\\",\\\"-7.4\\\",\\\"-7.3\\\",\\\"-7.2\\\",\\\"-7.1\\\",\\\"-7.0\\\",\\\"-6.9\\\",\\\"-6.8\\\",\\\"-6.7\\\",\\\"-6.6\\\",\\\"-6.5\\\",\\\"-6.4\\\",\\\"-6.3\\\",\\\"-6.2\\\",\\\"-6.1\\\",\\\"-6.0\\\",\\\"-5.9\\\",\\\"-5.8\\\",\\\"-5.7\\\",\\\"-5.6\\\",\\\"-5.5\\\",\\\"-5.4\\\",\\\"-5.3\\\",\\\"-5.2\\\",\\\"-5.1\\\",\\\"-5.0\\\",\\\"-4.9\\\",\\\"-4.8\\\",\\\"-4.7\\\",\\\"-4.6\\\",\\\"-4.5\\\",\\\"-4.4\\\",\\\"-4.3\\\",\\\"-4.2\\\",\\\"-4.1\\\",\\\"-4.0\\\",\\\"-3.9\\\",\\\"-3.8\\\",\\\"-3.7\\\",\\\"-3.6\\\",\\\"-3.5\\\",\\\"-3.4\\\",\\\"-3.3\\\",\\\"-3.2\\\",\\\"-3.1\\\",\\\"-3.0\\\",\\\"-2.9\\\",\\\"-2.8\\\",\\\"-2.7\\\",\\\"-2.6\\\",\\\"-2.5\\\",\\\"-2.4\\\",\\\"-2.3\\\",\\\"-2.2\\\",\\\"-2.1\\\",\\\"-2.0\\\",\\\"-1.9\\\",\\\"-1.8\\\",\\\"-1.7\\\",\\\"-1.6\\\",\\\"-1.5\\\",\\\"-1.4\\\",\\\"-1.3\\\",\\\"-1.2\\\",\\\"-1.1\\\",\\\"-1.0\\\",\\\"-0.9\\\",\\\"-0.8\\\",\\\"-0.7\\\",\\\"-0.6\\\",\\\"-0.5\\\",\\\"-0.4\\\",\\\"-0.3\\\",\\\"-0.2\\\",\\\"-0.1\\\",\\\"0.0\\\",\\\"0.1\\\",\\\"0.2\\\",\\\"0.3\\\",\\\"0.4\\\",\\\"0.5\\\",\\\"0.6\\\",\\\"0.7\\\",\\\"0.8\\\",\\\"0.9\\\",\\\"1.0\\\",\\\"1.1\\\",\\\"1.2\\\",\\\"1.3\\\",\\\"1.4\\\",\\\"1.5\\\",\\\"1.6\\\",\\\"1.7\\\",\\\"1.8\\\",\\\"1.9\\\",\\\"2.0\\\",\\\"2.1\\\",\\\"2.2\\\",\\\"2.3\\\",\\\"2.4\\\",\\\"2.5\\\",\\\"2.6\\\",\\\"2.7\\\",\\\"2.8\\\",\\\"2.9\\\",\\\"3.0\\\",\\\"3.1\\\",\\\"3.2\\\",\\\"3.3\\\",\\\"3.4\\\",\\\"3.5\\\",\\\"3.6\\\",\\\"3.7\\\",\\\"3.8\\\",\\\"3.9\\\",\\\"4.0\\\",\\\"4.1\\\",\\\"4.2\\\",\\\"4.3\\\",\\\"4.4\\\",\\\"4.5\\\",\\\"4.6\\\",\\\"4.7\\\",\\\"4.8\\\",\\\"4.9\\\",\\\"5.0\\\",\\\"5.1\\\",\\\"5.2\\\",\\\"5.3\\\",\\\"5.4\\\",\\\"5.5\\\",\\\"5.6\\\",\\\"5.7\\\",\\\"5.8\\\",\\\"5.9\\\",\\\"6.0\\\",\\\"6.1\\\",\\\"6.2\\\",\\\"6.3\\\",\\\"6.4\\\",\\\"6.5\\\",\\\"6.6\\\",\\\"6.7\\\",\\\"6.8\\\",\\\"6.9\\\",\\\"7.0\\\",\\\"7.1\\\",\\\"7.2\\\",\\\"7.3\\\",\\\"7.4\\\",\\\"7.5\\\",\\\"7.6\\\",\\\"7.7\\\",\\\"7.8\\\",\\\"7.9\\\",\\\"8.0\\\",\\\"8.1\\\",\\\"8.2\\\",\\\"8.3\\\",\\\"8.4\\\",\\\"8.5\\\",\\\"8.6\\\",\\\"8.7\\\",\\\"8.8\\\",\\\"8.9\\\",\\\"9.0\\\",\\\"9.1\\\",\\\"9.2\\\",\\\"9.3\\\",\\\"9.4\\\",\\\"9.5\\\",\\\"9.6\\\",\\\"9.7\\\",\\\"9.8\\\",\\\"9.9\\\",\\\"10.0\\\"]};\\n    var self = this;\\n    function AppViewModel() {\\n        for (var key in json_data) {\\n            var el = json_data[key];\\n            this[key] = Array.isArray(el) ? ko.observableArray(el) : ko.observable(el);\\n        }\\n        \\n        [this[\\\"formatted_val\\\"]=ko.computed(    function(){\\n        return this.formatted_vals()[parseInt(this.index())-(1)];\\n    }\\n,this)]\\n        [this[\\\"index\\\"].subscribe((function (val){!(this.valueFromJulia[\\\"index\\\"]) ? (WebIO.setval({\\\"id\\\":\\\"47\\\",\\\"name\\\":\\\"index\\\",\\\"type\\\":\\\"observable\\\",\\\"scope\\\":\\\"3147495950\\\"},val)) : undefined; return this.valueFromJulia[\\\"index\\\"]=false}),self),this[\\\"changes\\\"].subscribe((function (val){!(this.valueFromJulia[\\\"changes\\\"]) ? (WebIO.setval({\\\"id\\\":\\\"48\\\",\\\"name\\\":\\\"changes\\\",\\\"type\\\":\\\"observable\\\",\\\"scope\\\":\\\"3147495950\\\"},val)) : undefined; return this.valueFromJulia[\\\"changes\\\"]=false}),self)]\\n        \\n    }\\n    self.model = new AppViewModel();\\n    self.valueFromJulia = {};\\n    for (var key in json_data) {\\n        self.valueFromJulia[key] = false;\\n    }\\n    ko.applyBindings(self.model, self.dom);\\n}\\n);\\n    (WebIO.importBlock({\\\"data\\\":[{\\\"url\\\":\\\"\\/assetserver\\/0a8f371627acb0fbab7e7ff03e6794a95ee37ef5-knockout.js\\\",\\\"name\\\":\\\"knockout\\\",\\\"type\\\":\\\"js\\\"},{\\\"url\\\":\\\"\\/assetserver\\/9b3c694ae2b8b2559483df0ee4657f1f62c8c408-knockout_punches.js\\\",\\\"name\\\":\\\"knockout_punches\\\",\\\"type\\\":\\\"js\\\"}],\\\"type\\\":\\\"async_block\\\"})).then((imports) => handler.apply(this, imports));\\n}\\n\"],\"handlers\":{\"index\":[\"(function (val){return (val!=this.model[\\\"index\\\"]()) ? (this.valueFromJulia[\\\"index\\\"]=true, this.model[\\\"index\\\"](val)) : undefined})\"],\"changes\":[\"(function (val){return (val!=this.model[\\\"changes\\\"]()) ? (this.valueFromJulia[\\\"changes\\\"]=true, this.model[\\\"changes\\\"](val)) : undefined})\"]},\"observables\":{\"index\":{\"id\":\"47\",\"value\":101,\"sync\":true},\"changes\":{\"id\":\"48\",\"value\":0,\"sync\":false}},\"imports\":{\"data\":[{\"url\":\"\\/assetserver\\/0a8f371627acb0fbab7e7ff03e6794a95ee37ef5-knockout.js\",\"name\":\"knockout\",\"type\":\"js\"},{\"url\":\"\\/assetserver\\/9b3c694ae2b8b2559483df0ee4657f1f62c8c408-knockout_punches.js\",\"name\":\"knockout_punches\",\"type\":\"js\"},{\"url\":\"\\/assetserver\\/f88515f2eab9a880f440f4a02ad6bec39eab20f3-all.js\",\"name\":null,\"type\":\"js\"},{\"url\":\"\\/assetserver\\/1ca4083aec9453427e6ec123862050a8bb53b266-style.css\",\"name\":null,\"type\":\"css\"},{\"url\":\"\\/assetserver\\/9a1b433d0e3cd69e6f57207ad94f565eba9960c8-bulma_confined.min.css\",\"name\":null,\"type\":\"css\"}],\"type\":\"async_block\"}},\"type\":\"node\",\"children\":[{\"props\":{\"className\":\"interact-flex-row interact-widget\"},\"nodeType\":\"DOM\",\"instanceArgs\":{\"namespace\":\"html\",\"tag\":\"div\"},\"type\":\"node\",\"children\":[{\"props\":{\"className\":\"interact-flex-row-left\"},\"nodeType\":\"DOM\",\"instanceArgs\":{\"namespace\":\"html\",\"tag\":\"div\"},\"type\":\"node\",\"children\":[{\"props\":{\"style\":{\"padding\":\"5px 10px 0px 10px\"},\"className\":\"interact \"},\"nodeType\":\"DOM\",\"instanceArgs\":{\"namespace\":\"html\",\"tag\":\"label\"},\"type\":\"node\",\"children\":[\"Deformación (m)\"]}]},{\"props\":{\"className\":\"interact-flex-row-center\"},\"nodeType\":\"DOM\",\"instanceArgs\":{\"namespace\":\"html\",\"tag\":\"div\"},\"type\":\"node\",\"children\":[{\"props\":{\"style\":{},\"className\":\"slider slider is-fullwidth\",\"max\":201,\"attributes\":{\"orient\":\"horizontal\",\"data-bind\":\"numericValue: index, valueUpdate: 'input', event: {change: function (){this.changes(this.changes()+1)}}\",\"type\":\"range\"},\"step\":1,\"min\":1},\"nodeType\":\"DOM\",\"instanceArgs\":{\"namespace\":\"html\",\"tag\":\"input\"},\"type\":\"node\",\"children\":[]}]},{\"props\":{\"className\":\"interact-flex-row-right\"},\"nodeType\":\"DOM\",\"instanceArgs\":{\"namespace\":\"html\",\"tag\":\"div\"},\"type\":\"node\",\"children\":[{\"props\":{\"attributes\":{\"data-bind\":\"text: formatted_val\"}},\"nodeType\":\"DOM\",\"instanceArgs\":{\"namespace\":\"html\",\"tag\":\"p\"},\"type\":\"node\",\"children\":[]}]}]}]}]},{\"props\":{},\"nodeType\":\"Scope\",\"instanceArgs\":{\"id\":\"3715394742\",\"systemjs_options\":null,\"mount_callbacks\":[],\"handlers\":{},\"observables\":{\"obs-node\":{\"id\":\"52\",\"value\":{\"props\":{\"className\":\"interact-flex-row interact-widget\"},\"nodeType\":\"DOM\",\"instanceArgs\":{\"namespace\":\"html\",\"tag\":\"div\"},\"type\":\"node\",\"children\":[\"\"]},\"sync\":false}},\"imports\":{\"data\":[],\"type\":\"async_block\"}},\"type\":\"node\",\"children\":[{\"props\":{},\"nodeType\":\"ObservableNode\",\"instanceArgs\":{\"id\":\"52\",\"name\":\"obs-node\"},\"type\":\"node\",\"children\":[]}]}]},\n",
       "        window,\n",
       "    );\n",
       "    })()\n",
       "    </script>\n",
       "</div>\n"
      ],
      "text/plain": [
       "Node{WebIO.DOM}(WebIO.DOM(:html, :div), Any[Node{WebIO.DOM}(WebIO.DOM(:html, :div), Any[Scope(Node{WebIO.DOM}(WebIO.DOM(:html, :div), Any[Node{WebIO.DOM}(WebIO.DOM(:html, :div), Any[Node{WebIO.DOM}(WebIO.DOM(:html, :label), Any[\"Constante Elástica (N/m)\"], Dict{Symbol, Any}(:style => Dict{Any, Any}(:padding => \"5px 10px 0px 10px\"), :className => \"interact \"))], Dict{Symbol, Any}(:className => \"interact-flex-row-left\")), Node{WebIO.DOM}(WebIO.DOM(:html, :div), Any[Node{WebIO.DOM}(WebIO.DOM(:html, :input), Any[], Dict{Symbol, Any}(:style => Dict{Any, Any}(), :className => \"slider slider is-fullwidth\", :max => 491, :attributes => Dict{Any, Any}(\"orient\" => \"horizontal\", Symbol(\"data-bind\") => \"numericValue: index, valueUpdate: 'input', event: {change: function (){this.changes(this.changes()+1)}}\", :type => \"range\"), :step => 1, :min => 1))], Dict{Symbol, Any}(:className => \"interact-flex-row-center\")), Node{WebIO.DOM}(WebIO.DOM(:html, :div), Any[Node{WebIO.DOM}(WebIO.DOM(:html, :p), Any[], Dict{Symbol, Any}(:attributes => Dict(\"data-bind\" => \"text: formatted_val\")))], Dict{Symbol, Any}(:className => \"interact-flex-row-right\"))], Dict{Symbol, Any}(:className => \"interact-flex-row interact-widget\")), Dict{String, Tuple{AbstractObservable, Union{Nothing, Bool}}}(\"index\" => (Observable{Any}(91), nothing), \"changes\" => (Observable(0), nothing)), Set{String}(), nothing, Asset[Asset(\"js\", \"knockout\", \"C:\\\\Users\\\\Work\\\\.julia\\\\packages\\\\Knockout\\\\HReiN\\\\src\\\\..\\\\assets\\\\knockout.js\"), Asset(\"js\", \"knockout_punches\", \"C:\\\\Users\\\\Work\\\\.julia\\\\packages\\\\Knockout\\\\HReiN\\\\src\\\\..\\\\assets\\\\knockout_punches.js\"), Asset(\"js\", nothing, \"C:\\\\Users\\\\Work\\\\.julia\\\\packages\\\\InteractBase\\\\LJXv3\\\\src\\\\..\\\\assets\\\\all.js\"), Asset(\"css\", nothing, \"C:\\\\Users\\\\Work\\\\.julia\\\\packages\\\\InteractBase\\\\LJXv3\\\\src\\\\..\\\\assets\\\\style.css\"), Asset(\"css\", nothing, \"C:\\\\Users\\\\Work\\\\.julia\\\\packages\\\\Interact\\\\PENUy\\\\src\\\\..\\\\assets\\\\bulma_confined.min.css\")], Dict{Any, Any}(\"index\" => Any[WebIO.JSString(\"(function (val){return (val!=this.model[\\\"index\\\"]()) ? (this.valueFromJulia[\\\"index\\\"]=true, this.model[\\\"index\\\"](val)) : undefined})\")], \"changes\" => Any[WebIO.JSString(\"(function (val){return (val!=this.model[\\\"changes\\\"]()) ? (this.valueFromJulia[\\\"changes\\\"]=true, this.model[\\\"changes\\\"](val)) : undefined})\")]), WebIO.ConnectionPool(Channel{Any}(32), Set{AbstractConnection}(), Base.GenericCondition{ReentrantLock}(Base.IntrusiveLinkedList{Task}(Task (runnable) @0x2e742b20, Task (runnable) @0x2e742b20), ReentrantLock(nothing, 0x00000000, 0x00, Base.GenericCondition{Base.Threads.SpinLock}(Base.IntrusiveLinkedList{Task}(nothing, nothing), Base.Threads.SpinLock(0)), (8, 662770192)))), WebIO.JSString[WebIO.JSString(\"function () {\\n    var handler = (function (ko, koPunches) {\\n    ko.punches.enableAll();\\n    ko.bindingHandlers.numericValue = {\\n        init: function(element, valueAccessor, allBindings, data, context) {\\n            var stringified = ko.observable(ko.unwrap(valueAccessor()));\\n            stringified.subscribe(function(value) {\\n                var val = parseFloat(value);\\n                if (!isNaN(val)) {\\n                    valueAccessor()(val);\\n                }\\n            });\\n            valueAccessor().subscribe(function(value) {\\n                var str = JSON.stringify(value);\\n                if ((str == \\\"0\\\") && ([\\\"-0\\\", \\\"-0.\\\"].indexOf(stringified()) >= 0))\\n                     return;\\n                 if ([\\\"null\\\", \\\"\\\"].indexOf(str) >= 0)\\n                     return;\\n                stringified(str);\\n            });\\n            ko.applyBindingsToNode(\\n                element,\\n                {\\n                    value: stringified,\\n                    valueUpdate: allBindings.get('valueUpdate'),\\n                },\\n                context,\\n            );\\n        }\\n    };\\n    var json_data = {\\\"index\\\":WebIO.getval({\\\"id\\\":\\\"44\\\",\\\"name\\\":\\\"index\\\",\\\"type\\\":\\\"observable\\\",\\\"scope\\\":\\\"341639651\\\"}),\\\"changes\\\":WebIO.getval({\\\"id\\\":\\\"45\\\",\\\"name\\\":\\\"changes\\\",\\\"type\\\":\\\"observable\\\",\\\"scope\\\":\\\"341639651\\\"}),\\\"formatted_vals\\\":[\\\"1.0\\\",\\\"1.1\\\",\\\"1.2\\\",\\\"1.3\\\",\\\"1.4\\\",\\\"1.5\\\",\\\"1.6\\\",\\\"1.7\\\",\\\"1.8\\\",\\\"1.9\\\",\\\"2.0\\\",\\\"2.1\\\",\\\"2.2\\\",\\\"2.3\\\",\\\"2.4\\\",\\\"2.5\\\",\\\"2.6\\\",\\\"2.7\\\",\\\"2.8\\\",\\\"2.9\\\",\\\"3.0\\\",\\\"3.1\\\",\\\"3.2\\\",\\\"3.3\\\",\\\"3.4\\\",\\\"3.5\\\",\\\"3.6\\\",\\\"3.7\\\",\\\"3.8\\\",\\\"3.9\\\",\\\"4.0\\\",\\\"4.1\\\",\\\"4.2\\\",\\\"4.3\\\",\\\"4.4\\\",\\\"4.5\\\",\\\"4.6\\\",\\\"4.7\\\",\\\"4.8\\\",\\\"4.9\\\",\\\"5.0\\\",\\\"5.1\\\",\\\"5.2\\\",\\\"5.3\\\",\\\"5.4\\\",\\\"5.5\\\",\\\"5.6\\\",\\\"5.7\\\",\\\"5.8\\\",\\\"5.9\\\",\\\"6.0\\\",\\\"6.1\\\",\\\"6.2\\\",\\\"6.3\\\",\\\"6.4\\\",\\\"6.5\\\",\\\"6.6\\\",\\\"6.7\\\",\\\"6.8\\\",\\\"6.9\\\",\\\"7.0\\\",\\\"7.1\\\",\\\"7.2\\\",\\\"7.3\\\",\\\"7.4\\\",\\\"7.5\\\",\\\"7.6\\\",\\\"7.7\\\",\\\"7.8\\\",\\\"7.9\\\",\\\"8.0\\\",\\\"8.1\\\",\\\"8.2\\\",\\\"8.3\\\",\\\"8.4\\\",\\\"8.5\\\",\\\"8.6\\\",\\\"8.7\\\",\\\"8.8\\\",\\\"8.9\\\",\\\"9.0\\\",\\\"9.1\\\",\\\"9.2\\\",\\\"9.3\\\",\\\"9.4\\\",\\\"9.5\\\",\\\"9.6\\\",\\\"9.7\\\",\\\"9.8\\\",\\\"9.9\\\",\\\"10.0\\\",\\\"10.1\\\",\\\"10.2\\\",\\\"10.3\\\",\\\"10.4\\\",\\\"10.5\\\",\\\"10.6\\\",\\\"10.7\\\",\\\"10.8\\\",\\\"10.9\\\",\\\"11.0\\\",\\\"11.1\\\",\\\"11.2\\\",\\\"11.3\\\",\\\"11.4\\\",\\\"11.5\\\",\\\"11.6\\\",\\\"11.7\\\",\\\"11.8\\\",\\\"11.9\\\",\\\"12.0\\\",\\\"12.1\\\",\\\"12.2\\\",\\\"12.3\\\",\\\"12.4\\\",\\\"12.5\\\",\\\"12.6\\\",\\\"12.7\\\",\\\"12.8\\\",\\\"12.9\\\",\\\"13.0\\\",\\\"13.1\\\",\\\"13.2\\\",\\\"13.3\\\",\\\"13.4\\\",\\\"13.5\\\",\\\"13.6\\\",\\\"13.7\\\",\\\"13.8\\\",\\\"13.9\\\",\\\"14.0\\\",\\\"14.1\\\",\\\"14.2\\\",\\\"14.3\\\",\\\"14.4\\\",\\\"14.5\\\",\\\"14.6\\\",\\\"14.7\\\",\\\"14.8\\\",\\\"14.9\\\",\\\"15.0\\\",\\\"15.1\\\",\\\"15.2\\\",\\\"15.3\\\",\\\"15.4\\\",\\\"15.5\\\",\\\"15.6\\\",\\\"15.7\\\",\\\"15.8\\\",\\\"15.9\\\",\\\"16.0\\\",\\\"16.1\\\",\\\"16.2\\\",\\\"16.3\\\",\\\"16.4\\\",\\\"16.5\\\",\\\"16.6\\\",\\\"16.7\\\",\\\"16.8\\\",\\\"16.9\\\",\\\"17.0\\\",\\\"17.1\\\",\\\"17.2\\\",\\\"17.3\\\",\\\"17.4\\\",\\\"17.5\\\",\\\"17.6\\\",\\\"17.7\\\",\\\"17.8\\\",\\\"17.9\\\",\\\"18.0\\\",\\\"18.1\\\",\\\"18.2\\\",\\\"18.3\\\",\\\"18.4\\\",\\\"18.5\\\",\\\"18.6\\\",\\\"18.7\\\",\\\"18.8\\\",\\\"18.9\\\",\\\"19.0\\\",\\\"19.1\\\",\\\"19.2\\\",\\\"19.3\\\",\\\"19.4\\\",\\\"19.5\\\",\\\"19.6\\\",\\\"19.7\\\",\\\"19.8\\\",\\\"19.9\\\",\\\"20.0\\\",\\\"20.1\\\",\\\"20.2\\\",\\\"20.3\\\",\\\"20.4\\\",\\\"20.5\\\",\\\"20.6\\\",\\\"20.7\\\",\\\"20.8\\\",\\\"20.9\\\",\\\"21.0\\\",\\\"21.1\\\",\\\"21.2\\\",\\\"21.3\\\",\\\"21.4\\\",\\\"21.5\\\",\\\"21.6\\\",\\\"21.7\\\",\\\"21.8\\\",\\\"21.9\\\",\\\"22.0\\\",\\\"22.1\\\",\\\"22.2\\\",\\\"22.3\\\",\\\"22.4\\\",\\\"22.5\\\",\\\"22.6\\\",\\\"22.7\\\",\\\"22.8\\\",\\\"22.9\\\",\\\"23.0\\\",\\\"23.1\\\",\\\"23.2\\\",\\\"23.3\\\",\\\"23.4\\\",\\\"23.5\\\",\\\"23.6\\\",\\\"23.7\\\",\\\"23.8\\\",\\\"23.9\\\",\\\"24.0\\\",\\\"24.1\\\",\\\"24.2\\\",\\\"24.3\\\",\\\"24.4\\\",\\\"24.5\\\",\\\"24.6\\\",\\\"24.7\\\",\\\"24.8\\\",\\\"24.9\\\",\\\"25.0\\\",\\\"25.1\\\",\\\"25.2\\\",\\\"25.3\\\",\\\"25.4\\\",\\\"25.5\\\",\\\"25.6\\\",\\\"25.7\\\",\\\"25.8\\\",\\\"25.9\\\",\\\"26.0\\\",\\\"26.1\\\",\\\"26.2\\\",\\\"26.3\\\",\\\"26.4\\\",\\\"26.5\\\",\\\"26.6\\\",\\\"26.7\\\",\\\"26.8\\\",\\\"26.9\\\",\\\"27.0\\\",\\\"27.1\\\",\\\"27.2\\\",\\\"27.3\\\",\\\"27.4\\\",\\\"27.5\\\",\\\"27.6\\\",\\\"27.7\\\",\\\"27.8\\\",\\\"27.9\\\",\\\"28.0\\\",\\\"28.1\\\",\\\"28.2\\\",\\\"28.3\\\",\\\"28.4\\\",\\\"28.5\\\",\\\"28.6\\\",\\\"28.7\\\",\\\"28.8\\\",\\\"28.9\\\",\\\"29.0\\\",\\\"29.1\\\",\\\"29.2\\\",\\\"29.3\\\",\\\"29.4\\\",\\\"29.5\\\",\\\"29.6\\\",\\\"29.7\\\",\\\"29.8\\\",\\\"29.9\\\",\\\"30.0\\\",\\\"30.1\\\",\\\"30.2\\\",\\\"30.3\\\",\\\"30.4\\\",\\\"30.5\\\",\\\"30.6\\\",\\\"30.7\\\",\\\"30.8\\\",\\\"30.9\\\",\\\"31.0\\\",\\\"31.1\\\",\\\"31.2\\\",\\\"31.3\\\",\\\"31.4\\\",\\\"31.5\\\",\\\"31.6\\\",\\\"31.7\\\",\\\"31.8\\\",\\\"31.9\\\",\\\"32.0\\\",\\\"32.1\\\",\\\"32.2\\\",\\\"32.3\\\",\\\"32.4\\\",\\\"32.5\\\",\\\"32.6\\\",\\\"32.7\\\",\\\"32.8\\\",\\\"32.9\\\",\\\"33.0\\\",\\\"33.1\\\",\\\"33.2\\\",\\\"33.3\\\",\\\"33.4\\\",\\\"33.5\\\",\\\"33.6\\\",\\\"33.7\\\",\\\"33.8\\\",\\\"33.9\\\",\\\"34.0\\\",\\\"34.1\\\",\\\"34.2\\\",\\\"34.3\\\",\\\"34.4\\\",\\\"34.5\\\",\\\"34.6\\\",\\\"34.7\\\",\\\"34.8\\\",\\\"34.9\\\",\\\"35.0\\\",\\\"35.1\\\",\\\"35.2\\\",\\\"35.3\\\",\\\"35.4\\\",\\\"35.5\\\",\\\"35.6\\\",\\\"35.7\\\",\\\"35.8\\\",\\\"35.9\\\",\\\"36.0\\\",\\\"36.1\\\",\\\"36.2\\\",\\\"36.3\\\",\\\"36.4\\\",\\\"36.5\\\",\\\"36.6\\\",\\\"36.7\\\",\\\"36.8\\\",\\\"36.9\\\",\\\"37.0\\\",\\\"37.1\\\",\\\"37.2\\\",\\\"37.3\\\",\\\"37.4\\\",\\\"37.5\\\",\\\"37.6\\\",\\\"37.7\\\",\\\"37.8\\\",\\\"37.9\\\",\\\"38.0\\\",\\\"38.1\\\",\\\"38.2\\\",\\\"38.3\\\",\\\"38.4\\\",\\\"38.5\\\",\\\"38.6\\\",\\\"38.7\\\",\\\"38.8\\\",\\\"38.9\\\",\\\"39.0\\\",\\\"39.1\\\",\\\"39.2\\\",\\\"39.3\\\",\\\"39.4\\\",\\\"39.5\\\",\\\"39.6\\\",\\\"39.7\\\",\\\"39.8\\\",\\\"39.9\\\",\\\"40.0\\\",\\\"40.1\\\",\\\"40.2\\\",\\\"40.3\\\",\\\"40.4\\\",\\\"40.5\\\",\\\"40.6\\\",\\\"40.7\\\",\\\"40.8\\\",\\\"40.9\\\",\\\"41.0\\\",\\\"41.1\\\",\\\"41.2\\\",\\\"41.3\\\",\\\"41.4\\\",\\\"41.5\\\",\\\"41.6\\\",\\\"41.7\\\",\\\"41.8\\\",\\\"41.9\\\",\\\"42.0\\\",\\\"42.1\\\",\\\"42.2\\\",\\\"42.3\\\",\\\"42.4\\\",\\\"42.5\\\",\\\"42.6\\\",\\\"42.7\\\",\\\"42.8\\\",\\\"42.9\\\",\\\"43.0\\\",\\\"43.1\\\",\\\"43.2\\\",\\\"43.3\\\",\\\"43.4\\\",\\\"43.5\\\",\\\"43.6\\\",\\\"43.7\\\",\\\"43.8\\\",\\\"43.9\\\",\\\"44.0\\\",\\\"44.1\\\",\\\"44.2\\\",\\\"44.3\\\",\\\"44.4\\\",\\\"44.5\\\",\\\"44.6\\\",\\\"44.7\\\",\\\"44.8\\\",\\\"44.9\\\",\\\"45.0\\\",\\\"45.1\\\",\\\"45.2\\\",\\\"45.3\\\",\\\"45.4\\\",\\\"45.5\\\",\\\"45.6\\\",\\\"45.7\\\",\\\"45.8\\\",\\\"45.9\\\",\\\"46.0\\\",\\\"46.1\\\",\\\"46.2\\\",\\\"46.3\\\",\\\"46.4\\\",\\\"46.5\\\",\\\"46.6\\\",\\\"46.7\\\",\\\"46.8\\\",\\\"46.9\\\",\\\"47.0\\\",\\\"47.1\\\",\\\"47.2\\\",\\\"47.3\\\",\\\"47.4\\\",\\\"47.5\\\",\\\"47.6\\\",\\\"47.7\\\",\\\"47.8\\\",\\\"47.9\\\",\\\"48.0\\\",\\\"48.1\\\",\\\"48.2\\\",\\\"48.3\\\",\\\"48.4\\\",\\\"48.5\\\",\\\"48.6\\\",\\\"48.7\\\",\\\"48.8\\\",\\\"48.9\\\",\\\"49.0\\\",\\\"49.1\\\",\\\"49.2\\\",\\\"49.3\\\",\\\"49.4\\\",\\\"49.5\\\",\\\"49.6\\\",\\\"49.7\\\",\\\"49.8\\\",\\\"49.9\\\",\\\"50.0\\\"]};\\n    var self = this;\\n    function AppViewModel() {\\n        for (var key in json_data) {\\n            var el = json_data[key];\\n            this[key] = Array.isArray(el) ? ko.observableArray(el) : ko.observable(el);\\n        }\\n        \\n        [this[\\\"formatted_val\\\"]=ko.computed(    function(){\\n        return this.formatted_vals()[parseInt(this.index())-(1)];\\n    }\\n,this)]\\n        [this[\\\"index\\\"].subscribe((function (val){!(this.valueFromJulia[\\\"index\\\"]) ? (WebIO.setval({\\\"id\\\":\\\"44\\\",\\\"name\\\":\\\"index\\\",\\\"type\\\":\\\"observable\\\",\\\"scope\\\":\\\"341639651\\\"},val)) : undefined; return this.valueFromJulia[\\\"index\\\"]=false}),self),this[\\\"changes\\\"].subscribe((function (val){!(this.valueFromJulia[\\\"changes\\\"]) ? (WebIO.setval({\\\"id\\\":\\\"45\\\",\\\"name\\\":\\\"changes\\\",\\\"type\\\":\\\"observable\\\",\\\"scope\\\":\\\"341639651\\\"},val)) : undefined; return this.valueFromJulia[\\\"changes\\\"]=false}),self)]\\n        \\n    }\\n    self.model = new AppViewModel();\\n    self.valueFromJulia = {};\\n    for (var key in json_data) {\\n        self.valueFromJulia[key] = false;\\n    }\\n    ko.applyBindings(self.model, self.dom);\\n}\\n);\\n    (WebIO.importBlock({\\\"data\\\":[{\\\"url\\\":\\\"/assetserver/0a8f371627acb0fbab7e7ff03e6794a95ee37ef5-knockout.js\\\",\\\"name\\\":\\\"knockout\\\",\\\"type\\\":\\\"js\\\"},{\\\"url\\\":\\\"/assetserver/9b3c694ae2b8b2559483df0ee4657f1f62c8c408-knockout_punches.js\\\",\\\"name\\\":\\\"knockout_punches\\\",\\\"type\\\":\\\"js\\\"}],\\\"type\\\":\\\"async_block\\\"})).then((imports) => handler.apply(this, imports));\\n}\\n\")])], Dict{Symbol, Any}(:className => \"field interact-widget\")), Node{WebIO.DOM}(WebIO.DOM(:html, :div), Any[Scope(Node{WebIO.DOM}(WebIO.DOM(:html, :div), Any[Node{WebIO.DOM}(WebIO.DOM(:html, :div), Any[Node{WebIO.DOM}(WebIO.DOM(:html, :label), Any[\"Deformación (m)\"], Dict{Symbol, Any}(:style => Dict{Any, Any}(:padding => \"5px 10px 0px 10px\"), :className => \"interact \"))], Dict{Symbol, Any}(:className => \"interact-flex-row-left\")), Node{WebIO.DOM}(WebIO.DOM(:html, :div), Any[Node{WebIO.DOM}(WebIO.DOM(:html, :input), Any[], Dict{Symbol, Any}(:style => Dict{Any, Any}(), :className => \"slider slider is-fullwidth\", :max => 201, :attributes => Dict{Any, Any}(\"orient\" => \"horizontal\", Symbol(\"data-bind\") => \"numericValue: index, valueUpdate: 'input', event: {change: function (){this.changes(this.changes()+1)}}\", :type => \"range\"), :step => 1, :min => 1))], Dict{Symbol, Any}(:className => \"interact-flex-row-center\")), Node{WebIO.DOM}(WebIO.DOM(:html, :div), Any[Node{WebIO.DOM}(WebIO.DOM(:html, :p), Any[], Dict{Symbol, Any}(:attributes => Dict(\"data-bind\" => \"text: formatted_val\")))], Dict{Symbol, Any}(:className => \"interact-flex-row-right\"))], Dict{Symbol, Any}(:className => \"interact-flex-row interact-widget\")), Dict{String, Tuple{AbstractObservable, Union{Nothing, Bool}}}(\"index\" => (Observable{Any}(101), nothing), \"changes\" => (Observable(0), nothing)), Set{String}(), nothing, Asset[Asset(\"js\", \"knockout\", \"C:\\\\Users\\\\Work\\\\.julia\\\\packages\\\\Knockout\\\\HReiN\\\\src\\\\..\\\\assets\\\\knockout.js\"), Asset(\"js\", \"knockout_punches\", \"C:\\\\Users\\\\Work\\\\.julia\\\\packages\\\\Knockout\\\\HReiN\\\\src\\\\..\\\\assets\\\\knockout_punches.js\"), Asset(\"js\", nothing, \"C:\\\\Users\\\\Work\\\\.julia\\\\packages\\\\InteractBase\\\\LJXv3\\\\src\\\\..\\\\assets\\\\all.js\"), Asset(\"css\", nothing, \"C:\\\\Users\\\\Work\\\\.julia\\\\packages\\\\InteractBase\\\\LJXv3\\\\src\\\\..\\\\assets\\\\style.css\"), Asset(\"css\", nothing, \"C:\\\\Users\\\\Work\\\\.julia\\\\packages\\\\Interact\\\\PENUy\\\\src\\\\..\\\\assets\\\\bulma_confined.min.css\")], Dict{Any, Any}(\"index\" => Any[WebIO.JSString(\"(function (val){return (val!=this.model[\\\"index\\\"]()) ? (this.valueFromJulia[\\\"index\\\"]=true, this.model[\\\"index\\\"](val)) : undefined})\")], \"changes\" => Any[WebIO.JSString(\"(function (val){return (val!=this.model[\\\"changes\\\"]()) ? (this.valueFromJulia[\\\"changes\\\"]=true, this.model[\\\"changes\\\"](val)) : undefined})\")]), WebIO.ConnectionPool(Channel{Any}(32), Set{AbstractConnection}(), Base.GenericCondition{ReentrantLock}(Base.IntrusiveLinkedList{Task}(Task (runnable) @0x2e742bf0, Task (runnable) @0x2e742bf0), ReentrantLock(nothing, 0x00000000, 0x00, Base.GenericCondition{Base.Threads.SpinLock}(Base.IntrusiveLinkedList{Task}(nothing, nothing), Base.Threads.SpinLock(0)), (0, 662869040)))), WebIO.JSString[WebIO.JSString(\"function () {\\n    var handler = (function (ko, koPunches) {\\n    ko.punches.enableAll();\\n    ko.bindingHandlers.numericValue = {\\n        init: function(element, valueAccessor, allBindings, data, context) {\\n            var stringified = ko.observable(ko.unwrap(valueAccessor()));\\n            stringified.subscribe(function(value) {\\n                var val = parseFloat(value);\\n                if (!isNaN(val)) {\\n                    valueAccessor()(val);\\n                }\\n            });\\n            valueAccessor().subscribe(function(value) {\\n                var str = JSON.stringify(value);\\n                if ((str == \\\"0\\\") && ([\\\"-0\\\", \\\"-0.\\\"].indexOf(stringified()) >= 0))\\n                     return;\\n                 if ([\\\"null\\\", \\\"\\\"].indexOf(str) >= 0)\\n                     return;\\n                stringified(str);\\n            });\\n            ko.applyBindingsToNode(\\n                element,\\n                {\\n                    value: stringified,\\n                    valueUpdate: allBindings.get('valueUpdate'),\\n                },\\n                context,\\n            );\\n        }\\n    };\\n    var json_data = {\\\"index\\\":WebIO.getval({\\\"id\\\":\\\"47\\\",\\\"name\\\":\\\"index\\\",\\\"type\\\":\\\"observable\\\",\\\"scope\\\":\\\"3147495950\\\"}),\\\"changes\\\":WebIO.getval({\\\"id\\\":\\\"48\\\",\\\"name\\\":\\\"changes\\\",\\\"type\\\":\\\"observable\\\",\\\"scope\\\":\\\"3147495950\\\"}),\\\"formatted_vals\\\":[\\\"-10.0\\\",\\\"-9.9\\\",\\\"-9.8\\\",\\\"-9.7\\\",\\\"-9.6\\\",\\\"-9.5\\\",\\\"-9.4\\\",\\\"-9.3\\\",\\\"-9.2\\\",\\\"-9.1\\\",\\\"-9.0\\\",\\\"-8.9\\\",\\\"-8.8\\\",\\\"-8.7\\\",\\\"-8.6\\\",\\\"-8.5\\\",\\\"-8.4\\\",\\\"-8.3\\\",\\\"-8.2\\\",\\\"-8.1\\\",\\\"-8.0\\\",\\\"-7.9\\\",\\\"-7.8\\\",\\\"-7.7\\\",\\\"-7.6\\\",\\\"-7.5\\\",\\\"-7.4\\\",\\\"-7.3\\\",\\\"-7.2\\\",\\\"-7.1\\\",\\\"-7.0\\\",\\\"-6.9\\\",\\\"-6.8\\\",\\\"-6.7\\\",\\\"-6.6\\\",\\\"-6.5\\\",\\\"-6.4\\\",\\\"-6.3\\\",\\\"-6.2\\\",\\\"-6.1\\\",\\\"-6.0\\\",\\\"-5.9\\\",\\\"-5.8\\\",\\\"-5.7\\\",\\\"-5.6\\\",\\\"-5.5\\\",\\\"-5.4\\\",\\\"-5.3\\\",\\\"-5.2\\\",\\\"-5.1\\\",\\\"-5.0\\\",\\\"-4.9\\\",\\\"-4.8\\\",\\\"-4.7\\\",\\\"-4.6\\\",\\\"-4.5\\\",\\\"-4.4\\\",\\\"-4.3\\\",\\\"-4.2\\\",\\\"-4.1\\\",\\\"-4.0\\\",\\\"-3.9\\\",\\\"-3.8\\\",\\\"-3.7\\\",\\\"-3.6\\\",\\\"-3.5\\\",\\\"-3.4\\\",\\\"-3.3\\\",\\\"-3.2\\\",\\\"-3.1\\\",\\\"-3.0\\\",\\\"-2.9\\\",\\\"-2.8\\\",\\\"-2.7\\\",\\\"-2.6\\\",\\\"-2.5\\\",\\\"-2.4\\\",\\\"-2.3\\\",\\\"-2.2\\\",\\\"-2.1\\\",\\\"-2.0\\\",\\\"-1.9\\\",\\\"-1.8\\\",\\\"-1.7\\\",\\\"-1.6\\\",\\\"-1.5\\\",\\\"-1.4\\\",\\\"-1.3\\\",\\\"-1.2\\\",\\\"-1.1\\\",\\\"-1.0\\\",\\\"-0.9\\\",\\\"-0.8\\\",\\\"-0.7\\\",\\\"-0.6\\\",\\\"-0.5\\\",\\\"-0.4\\\",\\\"-0.3\\\",\\\"-0.2\\\",\\\"-0.1\\\",\\\"0.0\\\",\\\"0.1\\\",\\\"0.2\\\",\\\"0.3\\\",\\\"0.4\\\",\\\"0.5\\\",\\\"0.6\\\",\\\"0.7\\\",\\\"0.8\\\",\\\"0.9\\\",\\\"1.0\\\",\\\"1.1\\\",\\\"1.2\\\",\\\"1.3\\\",\\\"1.4\\\",\\\"1.5\\\",\\\"1.6\\\",\\\"1.7\\\",\\\"1.8\\\",\\\"1.9\\\",\\\"2.0\\\",\\\"2.1\\\",\\\"2.2\\\",\\\"2.3\\\",\\\"2.4\\\",\\\"2.5\\\",\\\"2.6\\\",\\\"2.7\\\",\\\"2.8\\\",\\\"2.9\\\",\\\"3.0\\\",\\\"3.1\\\",\\\"3.2\\\",\\\"3.3\\\",\\\"3.4\\\",\\\"3.5\\\",\\\"3.6\\\",\\\"3.7\\\",\\\"3.8\\\",\\\"3.9\\\",\\\"4.0\\\",\\\"4.1\\\",\\\"4.2\\\",\\\"4.3\\\",\\\"4.4\\\",\\\"4.5\\\",\\\"4.6\\\",\\\"4.7\\\",\\\"4.8\\\",\\\"4.9\\\",\\\"5.0\\\",\\\"5.1\\\",\\\"5.2\\\",\\\"5.3\\\",\\\"5.4\\\",\\\"5.5\\\",\\\"5.6\\\",\\\"5.7\\\",\\\"5.8\\\",\\\"5.9\\\",\\\"6.0\\\",\\\"6.1\\\",\\\"6.2\\\",\\\"6.3\\\",\\\"6.4\\\",\\\"6.5\\\",\\\"6.6\\\",\\\"6.7\\\",\\\"6.8\\\",\\\"6.9\\\",\\\"7.0\\\",\\\"7.1\\\",\\\"7.2\\\",\\\"7.3\\\",\\\"7.4\\\",\\\"7.5\\\",\\\"7.6\\\",\\\"7.7\\\",\\\"7.8\\\",\\\"7.9\\\",\\\"8.0\\\",\\\"8.1\\\",\\\"8.2\\\",\\\"8.3\\\",\\\"8.4\\\",\\\"8.5\\\",\\\"8.6\\\",\\\"8.7\\\",\\\"8.8\\\",\\\"8.9\\\",\\\"9.0\\\",\\\"9.1\\\",\\\"9.2\\\",\\\"9.3\\\",\\\"9.4\\\",\\\"9.5\\\",\\\"9.6\\\",\\\"9.7\\\",\\\"9.8\\\",\\\"9.9\\\",\\\"10.0\\\"]};\\n    var self = this;\\n    function AppViewModel() {\\n        for (var key in json_data) {\\n            var el = json_data[key];\\n            this[key] = Array.isArray(el) ? ko.observableArray(el) : ko.observable(el);\\n        }\\n        \\n        [this[\\\"formatted_val\\\"]=ko.computed(    function(){\\n        return this.formatted_vals()[parseInt(this.index())-(1)];\\n    }\\n,this)]\\n        [this[\\\"index\\\"].subscribe((function (val){!(this.valueFromJulia[\\\"index\\\"]) ? (WebIO.setval({\\\"id\\\":\\\"47\\\",\\\"name\\\":\\\"index\\\",\\\"type\\\":\\\"observable\\\",\\\"scope\\\":\\\"3147495950\\\"},val)) : undefined; return this.valueFromJulia[\\\"index\\\"]=false}),self),this[\\\"changes\\\"].subscribe((function (val){!(this.valueFromJulia[\\\"changes\\\"]) ? (WebIO.setval({\\\"id\\\":\\\"48\\\",\\\"name\\\":\\\"changes\\\",\\\"type\\\":\\\"observable\\\",\\\"scope\\\":\\\"3147495950\\\"},val)) : undefined; return this.valueFromJulia[\\\"changes\\\"]=false}),self)]\\n        \\n    }\\n    self.model = new AppViewModel();\\n    self.valueFromJulia = {};\\n    for (var key in json_data) {\\n        self.valueFromJulia[key] = false;\\n    }\\n    ko.applyBindings(self.model, self.dom);\\n}\\n);\\n    (WebIO.importBlock({\\\"data\\\":[{\\\"url\\\":\\\"/assetserver/0a8f371627acb0fbab7e7ff03e6794a95ee37ef5-knockout.js\\\",\\\"name\\\":\\\"knockout\\\",\\\"type\\\":\\\"js\\\"},{\\\"url\\\":\\\"/assetserver/9b3c694ae2b8b2559483df0ee4657f1f62c8c408-knockout_punches.js\\\",\\\"name\\\":\\\"knockout_punches\\\",\\\"type\\\":\\\"js\\\"}],\\\"type\\\":\\\"async_block\\\"})).then((imports) => handler.apply(this, imports));\\n}\\n\")])], Dict{Symbol, Any}(:className => \"field interact-widget\")), Observable(Node{WebIO.DOM}(WebIO.DOM(:html, :div), Any[nothing], Dict{Symbol, Any}(:className => \"interact-flex-row interact-widget\")))], Dict{Symbol, Any}())"
      ]
     },
     "execution_count": 8,
     "metadata": {
      "@webio": {
       "kernelId": "e45a16e9-16de-496e-8779-f2304b3311e3"
      }
     },
     "output_type": "execute_result"
    }
   ],
   "source": [
    "# Slider para la constante elástica (N/m)\n",
    "constante_elastica = slider(1:0.1:50, value=10, label=\"Constante Elástica (N/m)\")\n",
    "\n",
    "# Slider para la deformación (m)\n",
    "deformacion = slider(-10:0.1:10, value=0, label=\"Deformación (m)\")\n",
    "\n",
    "# Función para calcular la fuerza elástica según la ley de Hooke\n",
    "fuerza_elastica(k, x) = -k * x\n",
    "\n",
    "# Layout de los widgets\n",
    "@manipulate for k in constante_elastica, x in deformacion\n",
    "    display(md\"\"\"\n",
    "    ## Ley de Hooke (Fuerza Elástica)\n",
    "    - **Constante Elástica**: $k N/m\n",
    "    - **Deformación**: $x m\n",
    "    - **Fuerza Elástica**: $(@sprintf(\"%.2f\", fuerza_elastica(k, x))) N\n",
    "    \"\"\")\n",
    "end\n"
   ]
  },
  {
   "cell_type": "markdown",
   "id": "f5312cb7-155c-47ab-a95e-04fb45c0193b",
   "metadata": {},
   "source": [
    "### Conclusiones\n",
    "\n",
    "En este proyecto, he utilizado Julia y Jupyter Notebook para crear simulaciones interactivas de conceptos físicos clave. Mediante el uso de widgets proporcionados por los paquetes WebIO e Interact, he explorado el Movimiento Rectilíneo Uniforme (MRU), la Segunda Ley de Newton y la Ley de Hooke. Estos widgets permiten a los usuarios ajustar parámetros como la velocidad, tiempo, masa, aceleración, constante elástica y deformación, observando cómo estos cambios afectan los resultados físicos simulados en tiempo real.\n",
    "\n",
    "Este enfoque no solo facilita la comprensión teórica de los principios físicos, sino que también fomenta un aprendizaje activo y experimental. La capacidad de interactuar directamente con los modelos físicos mejora significativamente la experiencia educativa, proporcionando una plataforma dinámica para la enseñanza y el aprendizaje de la física.\n",
    "\n",
    "Con futuras mejoras en la integración de widgets y la expansión de las funcionalidades de Julia en entornos como Jupyter Notebook, se pueden crear aún más herramientas interactivas y educativas para explorar y entender diversos fenómenos físicos de manera intuitiva y efectiva."
   ]
  }
 ],
 "metadata": {
  "kernelspec": {
   "display_name": "Julia 1.10.4",
   "language": "julia",
   "name": "julia-1.10"
  },
  "language_info": {
   "file_extension": ".jl",
   "mimetype": "application/julia",
   "name": "julia",
   "version": "1.10.4"
  }
 },
 "nbformat": 4,
 "nbformat_minor": 5
}
