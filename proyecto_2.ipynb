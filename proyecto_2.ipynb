{
 "cells": [
  {
   "cell_type": "markdown",
   "id": "a9068654-fdc2-429a-a867-b13e4c1cbea8",
   "metadata": {},
   "source": [
    "# Simulación de propagación de enfermedades infecciosas\n",
    "\n",
    "## Algoritmos: \n",
    "**Método de Monte Carlo y Método de Diferencias Finitas**\n",
    "\n",
    "\n",
    "### Resumen\n",
    "\n",
    "Este proyecto simula la propagación de una enfermedad infecciosa en una población utilizando dos algoritmos: el Método de Monte Carlo y el Método de Diferencias Finitas. Se compararán la precisión y la eficiencia de ambos métodos en diferentes escenarios de contagio y recuperación.\n",
    "\n",
    "### Introducción\n",
    "\n",
    "La propagación de enfermedades infecciosas en una población es un problema complejo que puede ser modelado matemáticamente. En este proyecto, se utilizan dos métodos diferentes para modelar esta propagación: el Método de Monte Carlo y el Método de Diferencias Finitas. Ambos métodos tienen sus propias ventajas y desventajas, y se compararán en términos de precisión y eficiencia.\n",
    "\n",
    "### Objetivos\n",
    "\n",
    "El objetivo principal del proyecto es comparar la efectividad y eficiencia de ambos métodos en la modelización de la propagación de enfermedades infecciosas. Se busca entender cómo cada método maneja la dinámica de contagio y recuperación, y evaluar cuál método puede ser más apropiado en diferentes contextos y escenarios epidemiológicos.\n",
    "\n",
    "\n",
    "Autor: **Ing. Leon**\n"
   ]
  },
  {
   "cell_type": "code",
   "execution_count": 25,
   "id": "c7a7f84c-1f74-4418-8e66-890516078335",
   "metadata": {},
   "outputs": [
    {
     "name": "stderr",
     "output_type": "stream",
     "text": [
      "\u001b[32m\u001b[1m   Resolving\u001b[22m\u001b[39m package versions...\n",
      "\u001b[32m\u001b[1m  No Changes\u001b[22m\u001b[39m to `C:\\Users\\Work\\.julia\\environments\\v1.10\\Project.toml`\n",
      "\u001b[32m\u001b[1m  No Changes\u001b[22m\u001b[39m to `C:\\Users\\Work\\.julia\\environments\\v1.10\\Manifest.toml`\n"
     ]
    }
   ],
   "source": [
    "using Pkg\n",
    "Pkg.add(\"UnicodePlots\")\n"
   ]
  },
  {
   "cell_type": "code",
   "execution_count": 26,
   "id": "1647404f-80cf-4184-ba79-24747f7852bc",
   "metadata": {},
   "outputs": [
    {
     "name": "stderr",
     "output_type": "stream",
     "text": [
      "\u001b[32m\u001b[1m   Resolving\u001b[22m\u001b[39m package versions...\n",
      "\u001b[32m\u001b[1m  No Changes\u001b[22m\u001b[39m to `C:\\Users\\Work\\.julia\\environments\\v1.10\\Project.toml`\n",
      "\u001b[32m\u001b[1m  No Changes\u001b[22m\u001b[39m to `C:\\Users\\Work\\.julia\\environments\\v1.10\\Manifest.toml`\n"
     ]
    }
   ],
   "source": [
    "# Instalación de UnicodePlots si no está instalado\n",
    "\n",
    "import Pkg\n",
    "Pkg.add(\"UnicodePlots\")\n"
   ]
  },
  {
   "cell_type": "code",
   "execution_count": 20,
   "id": "e1063bbe-2276-4819-ba84-2013936471a1",
   "metadata": {},
   "outputs": [],
   "source": [
    "# Cargar el paquete UnicodePlots\n",
    "using UnicodePlots"
   ]
  },
  {
   "cell_type": "code",
   "execution_count": 24,
   "id": "23483b9e-4f02-4752-b4f3-cf49f723388a",
   "metadata": {},
   "outputs": [
    {
     "data": {
      "text/plain": [
       "                  \u001b[97;1mComparación de Métodos: Monte Carlo vs Diferencias Finitas\u001b[0m \n",
       "                  \u001b[38;5;8m┌────────────────────────────────────────┐\u001b[0m \n",
       "              \u001b[38;5;8m100\u001b[0m \u001b[38;5;8m│\u001b[0m\u001b[38;5;4m⠠\u001b[0m\u001b[38;5;4m⠤\u001b[0m\u001b[38;5;4m⡀\u001b[0m⠀⠀⠀⠀⠀⠀⠀⠀⠀⠀⠀⠀⠀⠀⠀⠀⠀⠀⠀⠀⠀⠀⠀⠀⠀⠀⠀⠀⠀⠀⠀⠀⠀⠀⠀⠀⠀\u001b[38;5;8m│\u001b[0m \u001b[38;5;8m\u001b[0m\n",
       "                 \u001b[38;5;8m\u001b[0m \u001b[38;5;8m│\u001b[0m⠀⠀\u001b[38;5;4m⠈\u001b[0m\u001b[38;5;4m⠱\u001b[0m\u001b[38;5;4m⣀\u001b[0m⠀⠀⠀⠀⠀⠀⠀⠀⠀⠀⠀⠀⠀⠀⠀⠀⠀⠀⠀⠀⠀⠀⠀⠀⠀⠀⠀⠀⠀⠀⠀⠀⠀⠀⠀\u001b[38;5;8m│\u001b[0m \u001b[38;5;8m\u001b[0m\n",
       "                 \u001b[38;5;8m\u001b[0m \u001b[38;5;8m│\u001b[0m⠀⠀⠀⠀⠀\u001b[38;5;4m⠓\u001b[0m\u001b[38;5;4m⠢\u001b[0m\u001b[38;5;4m⠤\u001b[0m\u001b[38;5;4m⢄\u001b[0m\u001b[38;5;4m⣀\u001b[0m\u001b[38;5;4m⡀\u001b[0m⠀⠀⠀⠀⠀⠀⠀⠀⠀⠀⠀⠀⠀⠀⠀⠀⠀⠀⠀⠀⠀⠀⠀⠀⠀⠀⠀⠀⠀\u001b[38;5;8m│\u001b[0m \u001b[38;5;8m\u001b[0m\n",
       "                 \u001b[38;5;8m\u001b[0m \u001b[38;5;8m│\u001b[0m⠀⠀⠀⠀⠀⠀⠀⠀⠀⠀\u001b[38;5;4m⠈\u001b[0m\u001b[38;5;4m⢢\u001b[0m\u001b[38;5;4m⡀\u001b[0m⠀⠀⠀⠀⠀⠀⠀⠀⠀⠀⠀⠀⠀⠀⠀⠀⠀⠀⠀⠀⠀⠀⠀⠀⠀⠀⠀\u001b[38;5;8m│\u001b[0m \u001b[38;5;8m\u001b[0m\n",
       "                 \u001b[38;5;8m\u001b[0m \u001b[38;5;8m│\u001b[0m⠀⠀⠀⠀⠀⠀⠀⠀⠀⠀⠀⠀\u001b[38;5;4m⠱\u001b[0m\u001b[38;5;4m⢄\u001b[0m\u001b[38;5;4m⡀\u001b[0m⠀⠀⠀⠀⠀⠀⠀⠀⠀⠀⠀⠀⠀⠀⠀⠀⠀⠀⠀⠀⠀⠀⠀⠀⠀\u001b[38;5;8m│\u001b[0m \u001b[38;5;8m\u001b[0m\n",
       "                 \u001b[38;5;8m\u001b[0m \u001b[38;5;8m│\u001b[0m⠀⠀⠀⠀⠀⠀⠀⠀⠀⠀⠀⠀⠀⠀\u001b[38;5;4m⠉\u001b[0m\u001b[38;5;4m⠑\u001b[0m\u001b[38;5;4m⠒\u001b[0m\u001b[38;5;4m⠤\u001b[0m\u001b[38;5;4m⡀\u001b[0m⠀⠀⠀⠀⠀⠀⠀⠀⠀⠀⠀⠀⠀⠀⠀⠀⠀⠀⠀⠀⠀\u001b[38;5;8m│\u001b[0m \u001b[38;5;8m\u001b[0m\n",
       "                 \u001b[38;5;8m\u001b[0m \u001b[38;5;8m│\u001b[0m⠀⠀⠀⠀⠀⠀⠀⠀⠀⠀⠀⠀⠀⠀⠀⠀⠀⠀\u001b[38;5;4m⠑\u001b[0m\u001b[38;5;4m⠤\u001b[0m\u001b[38;5;4m⠤\u001b[0m\u001b[38;5;4m⡀\u001b[0m⠀⠀⠀⠀⠀⠀⠀⠀⠀⠀⠀⠀⠀⠀⠀⠀⠀⠀\u001b[38;5;8m│\u001b[0m \u001b[38;5;8m\u001b[0m\n",
       "   Infectados    \u001b[38;5;8m\u001b[0m \u001b[38;5;8m│\u001b[0m⠀⠀⠀⠀⠀⠀⠀⠀⠀⠀⠀⠀⠀⠀⠀⠀⠀⠀⠀⠀⠀\u001b[38;5;4m⠉\u001b[0m\u001b[38;5;4m⠑\u001b[0m\u001b[38;5;4m⠤\u001b[0m\u001b[38;5;4m⢤\u001b[0m\u001b[38;5;4m⡀\u001b[0m⠀⠀⠀⠀⠀⠀⠀⠀⠀⠀⠀⠀⠀⠀\u001b[38;5;8m│\u001b[0m \u001b[38;5;8m\u001b[0m\n",
       "                 \u001b[38;5;8m\u001b[0m \u001b[38;5;8m│\u001b[0m⠀⠀⠀⠀⠀⠀⠀⠀⠀⠀⠀⠀⠀⠀⠀⠀⠀⠀⠀⠀⠀⠀⠀⠀⠀\u001b[38;5;4m⠈\u001b[0m\u001b[38;5;4m⠑\u001b[0m\u001b[38;5;4m⠢\u001b[0m\u001b[38;5;4m⠤\u001b[0m\u001b[38;5;4m⡀\u001b[0m⠀⠀⠀⠀⠀⠀⠀⠀⠀⠀\u001b[38;5;8m│\u001b[0m \u001b[38;5;8m\u001b[0m\n",
       "                 \u001b[38;5;8m\u001b[0m \u001b[38;5;8m│\u001b[0m⠀⠀⠀⠀⠀⠀⠀⠀⠀⠀⠀⠀⠀⠀⠀⠀⠀⠀⠀⠀⠀⠀⠀⠀⠀⠀⠀⠀⠀\u001b[38;5;4m⠈\u001b[0m\u001b[38;5;4m⠱\u001b[0m\u001b[38;5;4m⡀\u001b[0m⠀⠀⠀⠀⠀⠀⠀⠀\u001b[38;5;8m│\u001b[0m \u001b[38;5;8m\u001b[0m\n",
       "                 \u001b[38;5;8m\u001b[0m \u001b[38;5;8m│\u001b[0m⠀⠀⠀⠀⠀⠀⠀⠀⠀⠀⠀⠀⠀⠀⠀⠀⠀⠀⠀⠀⠀⠀⠀⠀⠀⠀⠀⠀⠀⠀⠀\u001b[38;5;4m⠈\u001b[0m\u001b[38;5;4m⠱\u001b[0m\u001b[38;5;4m⢄\u001b[0m⠀⠀⠀⠀⠀⠀\u001b[38;5;8m│\u001b[0m \u001b[38;5;8m\u001b[0m\n",
       "                 \u001b[38;5;8m\u001b[0m \u001b[38;5;8m│\u001b[0m⠀⠀⠀⠀⠀⠀⠀⠀⠀⠀⠀⠀⠀⠀⠀⠀⠀⠀⠀⠀⠀⠀⠀⠀⠀⠀⠀⠀⠀⠀⠀⠀⠀\u001b[38;5;4m⠈\u001b[0m\u001b[38;5;4m⠢\u001b[0m\u001b[38;5;4m⠤\u001b[0m\u001b[38;5;4m⢄\u001b[0m⠀⠀⠀\u001b[38;5;8m│\u001b[0m \u001b[38;5;8m\u001b[0m\n",
       "                 \u001b[38;5;8m\u001b[0m \u001b[38;5;8m│\u001b[0m⠀⠀⠀⠀⠀⠀⠀⠀⠀⠀⠀⠀⠀⠀⠀⠀⠀⠀⠀⠀⠀⠀⠀⠀⠀⠀⠀⠀⠀⠀⠀⠀⠀⠀⠀⠀\u001b[38;5;4m⠈\u001b[0m\u001b[38;5;4m⠹\u001b[0m\u001b[38;5;4m⡀\u001b[0m⠀\u001b[38;5;8m│\u001b[0m \u001b[38;5;8m\u001b[0m\n",
       "                 \u001b[38;5;8m\u001b[0m \u001b[38;5;8m│\u001b[0m⠀⠀⠀⠀⠀⠀⠀⠀⠀⠀⠀⠀⠀⠀⠀⠀⠀⠀⠀⠀⠀⠀⠀⠀⠀⠀⠀⠀⠀⠀⠀⠀⠀⠀⠀⠀⠀⠀\u001b[38;5;4m⠉\u001b[0m\u001b[38;5;4m⠑\u001b[0m\u001b[38;5;8m│\u001b[0m \u001b[38;5;8m\u001b[0m\n",
       "               \u001b[38;5;8m50\u001b[0m \u001b[38;5;8m│\u001b[0m⠀⠀⠀⠀⠀⠀⠀⠀⠀⠀⠀⠀⠀⠀⠀⠀⠀⠀⠀⠀⠀⠀⠀⠀⠀⠀⠀⠀⠀⠀⠀⠀⠀⠀⠀⠀⠀⠀⠀⠀\u001b[38;5;8m│\u001b[0m \u001b[38;5;8m\u001b[0m\n",
       "                  \u001b[38;5;8m└────────────────────────────────────────┘\u001b[0m \n",
       "                  ⠀\u001b[38;5;8m0\u001b[0m⠀⠀⠀⠀⠀⠀⠀⠀⠀⠀⠀⠀⠀⠀⠀⠀⠀⠀\u001b[38;5;8m\u001b[0m⠀⠀⠀⠀⠀⠀⠀⠀⠀⠀⠀⠀⠀⠀⠀⠀⠀⠀⠀\u001b[38;5;8m50\u001b[0m⠀ \n",
       "                  ⠀⠀⠀⠀⠀⠀⠀⠀⠀⠀⠀⠀⠀⠀⠀⠀⠀⠀Tiempo⠀⠀⠀⠀⠀⠀⠀⠀⠀⠀⠀⠀⠀⠀⠀⠀⠀⠀ "
      ]
     },
     "metadata": {},
     "output_type": "display_data"
    }
   ],
   "source": [
    "using Random\n",
    "using UnicodePlots\n",
    "\n",
    "# Función de simulación Monte Carlo\n",
    "function monte_carlo_simulation(population_size, initial_infected, infection_prob, recovery_prob, steps)\n",
    "    population = fill(0, population_size)\n",
    "    population[1:initial_infected] .= 1\n",
    "\n",
    "    infected_history = []\n",
    "\n",
    "    for step in 1:steps\n",
    "        for i in 1:population_size\n",
    "            if population[i] == 1\n",
    "                for j in 1:population_size\n",
    "                    if population[j] == 0 && rand() < infection_prob\n",
    "                        population[j] = 1\n",
    "                    end\n",
    "                end\n",
    "                if rand() < recovery_prob\n",
    "                    population[i] = 2\n",
    "                end\n",
    "            end\n",
    "        end\n",
    "        push!(infected_history, count(x -> x == 1, population))\n",
    "    end\n",
    "\n",
    "    return infected_history\n",
    "end\n",
    "\n",
    "# Función de simulación de Diferencias Finitas\n",
    "function finite_difference_simulation(population_size, initial_infected, infection_rate, recovery_rate, steps)\n",
    "    susceptible = population_size - initial_infected\n",
    "    infected = initial_infected\n",
    "    recovered = 0\n",
    "\n",
    "    infected_history = []\n",
    "\n",
    "    for step in 1:steps\n",
    "        new_infected = infection_rate * susceptible * infected / population_size\n",
    "        new_recovered = recovery_rate * infected\n",
    "\n",
    "        susceptible -= new_infected\n",
    "        infected += new_infected - new_recovered\n",
    "        recovered += new_recovered\n",
    "\n",
    "        push!(infected_history, infected)\n",
    "    end\n",
    "\n",
    "    return infected_history\n",
    "end\n",
    "\n",
    "# Parámetros para la simulación\n",
    "population_size = 100\n",
    "initial_infected = 5\n",
    "infection_prob = 0.05\n",
    "recovery_prob = 0.01\n",
    "steps = 50\n",
    "\n",
    "# Ejecución de las simulaciones\n",
    "infected_history_mc = monte_carlo_simulation(population_size, initial_infected, infection_prob, recovery_prob, steps)\n",
    "infected_history_fd = finite_difference_simulation(population_size, initial_infected, infection_prob, recovery_prob, steps)\n",
    "\n",
    "# Creación del gráfico utilizando UnicodePlots\n",
    "x = 1:steps\n",
    "plot_mc = lineplot(x, infected_history_mc, title=\"Comparación de Métodos: Monte Carlo vs Diferencias Finitas\", xlabel=\"Tiempo\", ylabel=\"Infectados\", color=:blue)\n",
    "lineplot!(plot_mc, x, infected_history_fd, color=:green)\n",
    "\n",
    "# Mostrar el gráfico\n",
    "display(plot_mc)\n"
   ]
  },
  {
   "cell_type": "markdown",
   "id": "6da5feb7-3328-45a8-b5c9-2d72140cbcef",
   "metadata": {},
   "source": [
    "**Conclusiónes**\n",
    "\n",
    "La simulación de la propagación de enfermedades infecciosas mediante el Método de Monte Carlo y el Método de Diferencias Finitas representa un enfoque fundamental en la investigación epidemiológica y la salud pública. Ambos métodos ofrecen herramientas poderosas para modelar dinámicas complejas de contagio y recuperación dentro de una población.\n",
    "\n",
    "El Método de Monte Carlo, al simular el proceso estocástico de contagio y recuperación, permite explorar una amplia gama de escenarios epidemiológicos y evaluar la propagación bajo condiciones variables y factores de riesgo dinámicos. Por otro lado, el Método de Diferencias Finitas, al discretizar y resolver las ecuaciones diferenciales que describen la dinámica de la enfermedad, proporciona una perspectiva determinista y detallada de cómo las variables clave, como las tasas de infección y recuperación, evolucionan en el tiempo.\n",
    "\n",
    "La comparación entre estos métodos revela sus respectivas fortalezas y limitaciones en términos de precisión, eficiencia computacional y aplicabilidad a diferentes contextos epidemiológicos. Estos modelos matemáticos no solo son esenciales para comprender la propagación de enfermedades infecciosas, sino también para informar políticas de salud pública, estrategias de mitigación y planificación de recursos en la gestión de brotes epidémicos y pandémicos.\n",
    "\n",
    "En resumen, la integración de métodos computacionales avanzados en el estudio de enfermedades infecciosas no solo amplía nuestro conocimiento teórico, sino que también capacita a los investigadores y profesionales de la salud para tomar decisiones informadas y proactivas en la prevención y control de enfermedades a nivel global."
   ]
  }
 ],
 "metadata": {
  "kernelspec": {
   "display_name": "Julia 1.10.4",
   "language": "julia",
   "name": "julia-1.10"
  },
  "language_info": {
   "file_extension": ".jl",
   "mimetype": "application/julia",
   "name": "julia",
   "version": "1.10.4"
  }
 },
 "nbformat": 4,
 "nbformat_minor": 5
}
