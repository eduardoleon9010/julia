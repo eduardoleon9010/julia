{
 "cells": [
  {
   "cell_type": "markdown",
   "id": "b7c1f597-ace2-4731-8e88-63180c64c412",
   "metadata": {},
   "source": [
    "# Proyecto: Base de Datos de Experimentos de Física Clásica y Moderna\n",
    "\n",
    "\n",
    "Este proyecto tiene como objetivo crear una base de datos en Julia que recopile datos de distintos experimentos de física, tanto clásicos como modernos. La base de datos incluye datos históricos, como los experimentos de Galileo y Newton, así como datos modernos de experimentos realizados en instalaciones como el LHC en el CERN. Esta herramienta es útil tanto para estudiantes de física como para investigadores, ofreciendo una referencia centralizada y accesible.\n",
    "\n",
    "Autor: **Ing. Leon, E**\n",
    "\n",
    "**Estructura del cuaderno**\n",
    "\n",
    "1. Instalación y configuración\n",
    "2. Creación y conexion de la Base de Datos\n",
    "3. Inserción de datos\n",
    "4. Consulta de datos\n",
    "5. Funciones de Inserción y Consulta\n",
    "6. Guardar y cerrar la conexión"
   ]
  },
  {
   "cell_type": "markdown",
   "id": "3dc436f1-09ba-44d9-8853-80ad18de2bd0",
   "metadata": {},
   "source": [
    "### 1. Instalacion y configuracion"
   ]
  },
  {
   "cell_type": "code",
   "execution_count": 18,
   "id": "cba57b25-e15a-4559-a754-075b025e6d47",
   "metadata": {},
   "outputs": [
    {
     "name": "stderr",
     "output_type": "stream",
     "text": [
      "\u001b[32m\u001b[1m   Resolving\u001b[22m\u001b[39m package versions...\n",
      "\u001b[32m\u001b[1m  No Changes\u001b[22m\u001b[39m to `C:\\Users\\Work\\.julia\\environments\\v1.10\\Project.toml`\n",
      "\u001b[32m\u001b[1m  No Changes\u001b[22m\u001b[39m to `C:\\Users\\Work\\.julia\\environments\\v1.10\\Manifest.toml`\n",
      "\u001b[32m\u001b[1m   Resolving\u001b[22m\u001b[39m package versions...\n",
      "\u001b[32m\u001b[1m  No Changes\u001b[22m\u001b[39m to `C:\\Users\\Work\\.julia\\environments\\v1.10\\Project.toml`\n",
      "\u001b[32m\u001b[1m  No Changes\u001b[22m\u001b[39m to `C:\\Users\\Work\\.julia\\environments\\v1.10\\Manifest.toml`\n",
      "\u001b[32m\u001b[1m   Resolving\u001b[22m\u001b[39m package versions...\n",
      "\u001b[32m\u001b[1m  No Changes\u001b[22m\u001b[39m to `C:\\Users\\Work\\.julia\\environments\\v1.10\\Project.toml`\n",
      "\u001b[32m\u001b[1m  No Changes\u001b[22m\u001b[39m to `C:\\Users\\Work\\.julia\\environments\\v1.10\\Manifest.toml`\n"
     ]
    }
   ],
   "source": [
    "# --------------------------------------------------\n",
    "# Instalación y Configuración de Paquetes\n",
    "# --------------------------------------------------\n",
    "\n",
    "# `Pkg` es el gestor de paquetes de Julia. Se usa para instalar y gestionar paquetes adicionales.\n",
    "using Pkg\n",
    "\n",
    "# Instala el paquete `SQLite` que proporciona funciones para interactuar con bases de datos SQLite.\n",
    "Pkg.add(\"SQLite\")\n",
    "\n",
    "# Instala el paquete `DataFrames` que proporciona estructuras de datos similares a las tablas de datos en R o Python (pandas).\n",
    "Pkg.add(\"DataFrames\")\n",
    "\n",
    "# Instala el paquete `DBInterface` que es una interfaz común para diferentes bases de datos.\n",
    "Pkg.add(\"DBInterface\")\n",
    "\n",
    "# --------------------------------------------------\n",
    "# Importación de Paquetes\n",
    "# --------------------------------------------------\n",
    "\n",
    "# `SQLite` proporciona funciones y macros para interactuar con bases de datos SQLite.\n",
    "using SQLite\n",
    "\n",
    "# `DataFrames` proporciona la estructura de datos DataFrame, que es útil para manipular y analizar datos tabulares.\n",
    "using DataFrames\n"
   ]
  },
  {
   "cell_type": "markdown",
   "id": "6fd7d3e1-88f3-43bc-98c4-1d8c8d9a7390",
   "metadata": {},
   "source": [
    "### 2. Creación y conexion de la Base de Datos"
   ]
  },
  {
   "cell_type": "code",
   "execution_count": 22,
   "id": "e3f36422-8fda-4f94-b5c7-c9dc5b615e59",
   "metadata": {},
   "outputs": [
    {
     "data": {
      "text/plain": [
       "101"
      ]
     },
     "execution_count": 22,
     "metadata": {},
     "output_type": "execute_result"
    }
   ],
   "source": [
    "using SQLite\n",
    "\n",
    "# --------------------------------------------------\n",
    "# Conexión a la Base de Datos\n",
    "# --------------------------------------------------\n",
    "\n",
    "# Conecta o crea una nueva base de datos SQLite llamada \"experimentos_fisica.db\".\n",
    "# Si el archivo no existe, SQLite lo crea automáticamente.\n",
    "db = SQLite.DB(\"experimentos_fisica.db\")\n",
    "\n",
    "# --------------------------------------------------\n",
    "# Creación de las Tablas\n",
    "# --------------------------------------------------\n",
    "\n",
    "# Crea la tabla \"Experimentos\" si no existe. Esta tabla almacena información general sobre cada experimento.\n",
    "SQLite.execute(db, \"\"\"\n",
    "    CREATE TABLE IF NOT EXISTS Experimentos (\n",
    "        id INTEGER PRIMARY KEY,    -- Identificador único para cada experimento\n",
    "        nombre TEXT,               -- Nombre del experimento\n",
    "        año INTEGER,               -- Año en que se realizó el experimento\n",
    "        descripción TEXT,          -- Descripción del experimento\n",
    "        tipo TEXT,                 -- Tipo de experimento (Clásico o Moderno)\n",
    "        investigador_id INTEGER,   -- Identificador del investigador principal\n",
    "        institución_id INTEGER     -- Identificador de la institución donde se realizó el experimento\n",
    "    )\n",
    "\"\"\")\n",
    "\n",
    "# Crea la tabla \"Datos\" si no existe. Esta tabla almacena datos específicos de los experimentos.\n",
    "SQLite.execute(db, \"\"\"\n",
    "    CREATE TABLE IF NOT EXISTS Datos (\n",
    "        id INTEGER PRIMARY KEY,    -- Identificador único para cada dato\n",
    "        experimento_id INTEGER,    -- Identificador del experimento al que pertenece el dato\n",
    "        variable TEXT,             -- Nombre de la variable medida\n",
    "        valor REAL,                -- Valor medido de la variable\n",
    "        unidad TEXT,               -- Unidad de medida del valor\n",
    "        FOREIGN KEY (experimento_id) REFERENCES Experimentos(id)  -- Clave foránea que referencia a la tabla \"Experimentos\"\n",
    "    )\n",
    "\"\"\")\n",
    "\n",
    "# Crea la tabla \"Investigadores\" si no existe. Esta tabla almacena información sobre los investigadores.\n",
    "SQLite.execute(db, \"\"\"\n",
    "    CREATE TABLE IF NOT EXISTS Investigadores (\n",
    "        id INTEGER PRIMARY KEY,    -- Identificador único para cada investigador\n",
    "        nombre TEXT,               -- Nombre del investigador\n",
    "        nacionalidad TEXT,         -- Nacionalidad del investigador\n",
    "        fecha_nacimiento DATE,     -- Fecha de nacimiento del investigador\n",
    "        fecha_fallecimiento DATE   -- Fecha de fallecimiento del investigador (si aplica)\n",
    "    )\n",
    "\"\"\")\n",
    "\n",
    "# Crea la tabla \"Instituciones\" si no existe. Esta tabla almacena información sobre las instituciones.\n",
    "SQLite.execute(db, \"\"\"\n",
    "    CREATE TABLE IF NOT EXISTS Instituciones (\n",
    "        id INTEGER PRIMARY KEY,    -- Identificador único para cada institución\n",
    "        nombre TEXT,               -- Nombre de la institución\n",
    "        país TEXT,                 -- País donde se encuentra la institución\n",
    "        ciudad TEXT                -- Ciudad donde se encuentra la institución\n",
    "    )\n",
    "\"\"\")\n",
    "\n"
   ]
  },
  {
   "cell_type": "markdown",
   "id": "6f22aac4-c063-4339-9189-54e20de7679b",
   "metadata": {},
   "source": [
    "### 3. Inserción de datos"
   ]
  },
  {
   "cell_type": "code",
   "execution_count": 23,
   "id": "6c2234af-d169-48da-a869-d20ee8c70404",
   "metadata": {},
   "outputs": [
    {
     "data": {
      "text/plain": [
       "101"
      ]
     },
     "execution_count": 23,
     "metadata": {},
     "output_type": "execute_result"
    }
   ],
   "source": [
    "# --------------------------------------------------\n",
    "# Inserción de Datos Ejemplo\n",
    "# --------------------------------------------------\n",
    "\n",
    "# Inserta un investigador en la tabla \"Investigadores\".\n",
    "# Datos: Isaac Newton, nacionalidad inglés, fecha de nacimiento 4 de enero de 1643, fecha de fallecimiento 31 de marzo de 1727.\n",
    "SQLite.execute(db, \"INSERT INTO Investigadores (nombre, nacionalidad, fecha_nacimiento, fecha_fallecimiento) VALUES ('Isaac Newton', 'Inglés', '1643-01-04', '1727-03-31')\")\n",
    "\n",
    "# Inserta una institución en la tabla \"Instituciones\".\n",
    "# Datos: Universidad de Cambridge, ubicada en Cambridge, Reino Unido.\n",
    "SQLite.execute(db, \"INSERT INTO Instituciones (nombre, país, ciudad) VALUES ('Universidad de Cambridge', 'Reino Unido', 'Cambridge')\")\n",
    "\n",
    "# Inserta un experimento en la tabla \"Experimentos\".\n",
    "# Datos: Ley de Gravitación Universal, año 1687, descripción del experimento, tipo clásico, realizado por el investigador con ID 1 en la institución con ID 1.\n",
    "SQLite.execute(db, \"INSERT INTO Experimentos (nombre, año, descripción, tipo, investigador_id, institución_id) VALUES ('Ley de Gravitación Universal', 1687, 'Formulación de la ley de la gravitación universal', 'Clásico', 1, 1)\")\n",
    "\n",
    "# Inserta un dato en la tabla \"Datos\".\n",
    "# Datos: ID del experimento 1, variable 'Constante Gravitacional', valor 6.67430e-11, unidad 'm^3 kg^-1 s^-2'.\n",
    "SQLite.execute(db, \"INSERT INTO Datos (experimento_id, variable, valor, unidad) VALUES (1, 'Constante Gravitacional', 6.67430e-11, 'm^3 kg^-1 s^-2')\")\n"
   ]
  },
  {
   "cell_type": "markdown",
   "id": "ddcfdd16-d312-4688-9806-b45fc3937fd0",
   "metadata": {},
   "source": [
    "### 4. Consulta de datos"
   ]
  },
  {
   "cell_type": "code",
   "execution_count": 24,
   "id": "ad9652fe-0b10-469e-a19e-a047c3b51813",
   "metadata": {
    "scrolled": true
   },
   "outputs": [
    {
     "name": "stdout",
     "output_type": "stream",
     "text": [
      "\u001b[1m5×7 DataFrame\u001b[0m\n",
      "\u001b[1m Row \u001b[0m│\u001b[1m id    \u001b[0m\u001b[1m nombre                       \u001b[0m\u001b[1m año   \u001b[0m\u001b[1m descripción                       \u001b[0m\u001b[1m tipo    \u001b[0m\u001b[1m investigador_id \u001b[0m\u001b[1m institución_id \u001b[0m\n",
      "     │\u001b[90m Int64 \u001b[0m\u001b[90m String                       \u001b[0m\u001b[90m Int64 \u001b[0m\u001b[90m String                            \u001b[0m\u001b[90m String  \u001b[0m\u001b[90m Int64           \u001b[0m\u001b[90m Int64          \u001b[0m\n",
      "─────┼─────────────────────────────────────────────────────────────────────────────────────────────────────────────────────────\n",
      "   1 │     1  Ley de Gravitación Universal   1687  Formulación de la ley de la grav…  Clásico                1               1\n",
      "   2 │     2  Ley de Gravitación Universal   1687  Formulación de la ley de la grav…  Clásico                1               1\n",
      "   3 │     3  Ley de Gravitación Universal   1687  Formulación de la ley de la grav…  Clásico                1               1\n",
      "   4 │     4  Ley de Gravitación Universal   1687  Formulación de la ley de la grav…  Clásico                1               1\n",
      "   5 │     5  Ley de Gravitación Universal   1687  Formulación de la ley de la grav…  Clásico                1               1\n"
     ]
    }
   ],
   "source": [
    "# --------------------------------------------------\n",
    "# Importación de Paquetes\n",
    "# --------------------------------------------------\n",
    "\n",
    "using DataFrames\n",
    "using DBInterface\n",
    "\n",
    "# --------------------------------------------------\n",
    "# Consulta de Datos\n",
    "# --------------------------------------------------\n",
    "\n",
    "# Consultar datos de la tabla \"Experimentos\".\n",
    "# DBInterface.execute ejecuta la consulta SQL y devuelve los resultados.\n",
    "# Los resultados se convierten en un DataFrame para facilitar la manipulación y el análisis de los datos.\n",
    "experimentos = DBInterface.execute(db, \"SELECT * FROM Experimentos\") |> DataFrame\n",
    "\n",
    "# Mostrar los datos del DataFrame en la salida.\n",
    "println(experimentos)\n",
    "\n"
   ]
  },
  {
   "cell_type": "markdown",
   "id": "6ab97a8b-2e78-4702-a491-b595a0a5afdf",
   "metadata": {},
   "source": [
    "### 5. Funciones de Inserción y Consulta"
   ]
  },
  {
   "cell_type": "code",
   "execution_count": 32,
   "id": "dbc67e2c-e6a3-4433-ac55-f27be8a44e24",
   "metadata": {},
   "outputs": [
    {
     "name": "stdout",
     "output_type": "stream",
     "text": [
      "\u001b[1m4×5 DataFrame\u001b[0m\n",
      "\u001b[1m Row \u001b[0m│\u001b[1m id    \u001b[0m\u001b[1m nombre          \u001b[0m\u001b[1m nacionalidad \u001b[0m\u001b[1m fecha_nacimiento \u001b[0m\u001b[1m fecha_fallecimiento \u001b[0m\n",
      "     │\u001b[90m Int64 \u001b[0m\u001b[90m String          \u001b[0m\u001b[90m String       \u001b[0m\u001b[90m String           \u001b[0m\u001b[90m String              \u001b[0m\n",
      "─────┼─────────────────────────────────────────────────────────────────────────────\n",
      "   1 │     1  Albert Einstein  Alemán        1879-03-14        1955-04-18\n",
      "   2 │     2  Albert Einstein  Alemán        1879-03-14        1955-04-18\n",
      "   3 │     3  Isaac Newton     Inglés        1643-01-04        1727-03-31\n",
      "   4 │     4  Albert Einstein  Alemán        1879-03-14        1955-04-18\n"
     ]
    }
   ],
   "source": [
    "# Función para insertar un investigador\n",
    "function insertar_investigador(db, nombre, nacionalidad, fecha_nacimiento, fecha_fallecimiento)\n",
    "    SQLite.execute(db, \"INSERT INTO Investigadores (nombre, nacionalidad, fecha_nacimiento, fecha_fallecimiento) VALUES (?, ?, ?, ?)\", \n",
    "                   (nombre, nacionalidad, fecha_nacimiento, fecha_fallecimiento))\n",
    "end\n",
    "\n",
    "# Función para consultar investigadores\n",
    "function consultar_investigadores(db)\n",
    "    investigadores = DBInterface.execute(db, \"SELECT * FROM Investigadores\") |> DataFrame\n",
    "    return investigadores\n",
    "end\n",
    "\n",
    "# Ejemplo de uso de las funciones\n",
    "insertar_investigador(db, \"Albert Einstein\", \"Alemán\", \"1879-03-14\", \"1955-04-18\")\n",
    "investigadores = consultar_investigadores(db)\n",
    "println(investigadores)\n"
   ]
  },
  {
   "cell_type": "markdown",
   "id": "f16532ca-d6ec-4df1-93dd-45f11706cebf",
   "metadata": {},
   "source": [
    "### 6. Guardar y cerrar la conexión"
   ]
  },
  {
   "cell_type": "code",
   "execution_count": 33,
   "id": "cc61ca2f-03ef-4b96-bb42-cb6d8849e93c",
   "metadata": {},
   "outputs": [],
   "source": [
    "# Cerrar la conexión a la base de datos\n",
    "SQLite.close(db)\n"
   ]
  },
  {
   "cell_type": "code",
   "execution_count": null,
   "id": "9f9d9759-9d57-466f-aba2-3abe83044e4e",
   "metadata": {},
   "outputs": [],
   "source": []
  }
 ],
 "metadata": {
  "kernelspec": {
   "display_name": "Julia 1.10.4",
   "language": "julia",
   "name": "julia-1.10"
  },
  "language_info": {
   "file_extension": ".jl",
   "mimetype": "application/julia",
   "name": "julia",
   "version": "1.10.4"
  }
 },
 "nbformat": 4,
 "nbformat_minor": 5
}
